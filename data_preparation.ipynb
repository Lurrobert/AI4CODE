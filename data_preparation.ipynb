{
 "cells": [
  {
   "cell_type": "markdown",
   "metadata": {
    "tags": []
   },
   "source": [
    "# Intro"
   ]
  },
  {
   "cell_type": "markdown",
   "metadata": {
    "tags": []
   },
   "source": [
    "## loading required data and libs"
   ]
  },
  {
   "cell_type": "raw",
   "metadata": {
    "jupyter": {
     "outputs_hidden": true
    },
    "tags": []
   },
   "source": [
    "! pip install kaggle\n",
    "! mkdir ~/.kaggle\n",
    "! cp \"environment/kaggle.json\" ~/.kaggle/\n",
    "! chmod 600 ~/.kaggle/kaggle.json\n",
    "! kaggle competitions download -c AI4Code\n",
    "! mkdir data\n",
    "! unzip -n AI4Code.zip -d data"
   ]
  },
  {
   "cell_type": "raw",
   "metadata": {
    "tags": []
   },
   "source": [
    "! pip install -U spacy\n",
    "! pip install -U -r environment/requirenments.txt\n",
    "! pip install -U sentence-transformers\n",
    "! pip install torch torchvision torchaudio --extra-index-url https://download.pytorch.org/whl/cpu\n",
    "! python -m spacy download en_core_web_lg\n",
    "! python -m spacy download en_core_web_sm\n",
    "!pip install contextualSpellCheck\n",
    "!pip install autocorrect\n",
    "!pip install emoji"
   ]
  },
  {
   "cell_type": "markdown",
   "metadata": {
    "tags": []
   },
   "source": [
    "## importing"
   ]
  },
  {
   "cell_type": "code",
   "execution_count": 2,
   "metadata": {
    "tags": []
   },
   "outputs": [],
   "source": [
    "import warnings\n",
    "import gc\n",
    "from pandas.core.common import SettingWithCopyWarning\n",
    "warnings.simplefilter(action='ignore', category=FutureWarning)\n",
    "warnings.simplefilter(action=\"ignore\", category=SettingWithCopyWarning)\n",
    "\n",
    "from autocorrect import Speller\n",
    "import json\n",
    "import inspect\n",
    "from pathlib import Path\n",
    "from bs4 import BeautifulSoup\n",
    "import pandas as pd\n",
    "from tqdm.auto import tqdm\n",
    "import numpy as np\n",
    "from scipy import spatial\n",
    "import matplotlib.pyplot as plt\n",
    "from sentence_transformers import SentenceTransformer, util\n",
    "import torch\n",
    "import tokenize\n",
    "from tokenize import TokenError\n",
    "import io\n",
    "tqdm.pandas()\n",
    "pd.set_option('display.max_colwidth', -1)\n",
    "import torch\n",
    "from sentence_transformers import util\n",
    "\n",
    "import nltk\n",
    "import re\n",
    "import string\n",
    "import emoji\n",
    "\n",
    "import numpy as np\n",
    "import pandas as pd\n",
    "from scipy import sparse\n",
    "import scipy\n",
    "from sklearn.pipeline import Pipeline\n",
    "import sys\n",
    "import textwrap\n",
    "import wandb\n",
    "import spacy\n",
    "import contextualSpellCheck\n",
    "from sklearn.preprocessing import FunctionTransformer\n",
    "\n",
    "from sklearn.model_selection import GroupShuffleSplit\n",
    "from sklearn.feature_extraction.text import TfidfVectorizer\n",
    "from bisect import bisect\n",
    "from time import time\n",
    "\n",
    "pd.options.display.width = 180\n",
    "pd.options.display.max_colwidth = 120\n",
    "\n",
    "data_dir = Path('data/')\n",
    "sys.path.append(str('AI4Code'))\n",
    "%load_ext autoreload\n",
    "%autoreload 2"
   ]
  },
  {
   "cell_type": "markdown",
   "metadata": {
    "tags": []
   },
   "source": [
    "# utils"
   ]
  },
  {
   "cell_type": "markdown",
   "metadata": {
    "tags": []
   },
   "source": [
    "## Metric"
   ]
  },
  {
   "cell_type": "code",
   "execution_count": 3,
   "metadata": {
    "tags": []
   },
   "outputs": [],
   "source": [
    "def count_inversions(a):\n",
    "    inversions = 0\n",
    "    sorted_so_far = []\n",
    "    for i, u in enumerate(a):\n",
    "        j = bisect(sorted_so_far, u)\n",
    "        inversions += i - j\n",
    "        sorted_so_far.insert(j, u)\n",
    "    return inversions\n",
    "\n",
    "\n",
    "def kendall_tau(ground_truth, predictions):\n",
    "    total_inversions = 0\n",
    "    total_2max = 0  # twice the maximum possible inversions across all instances\n",
    "    for gt, pred in zip(ground_truth, predictions):\n",
    "        ranks = [gt.index(x) for x in pred]  # rank predicted order in terms of ground truth\n",
    "        total_inversions += count_inversions(ranks)\n",
    "        n = len(gt)\n",
    "        total_2max += n * (n - 1)\n",
    "    return 1 - 4 * total_inversions / total_2max\n"
   ]
  },
  {
   "cell_type": "markdown",
   "metadata": {
    "tags": []
   },
   "source": [
    "## reading"
   ]
  },
  {
   "cell_type": "code",
   "execution_count": 4,
   "metadata": {
    "tags": []
   },
   "outputs": [],
   "source": [
    "def get_ranks(base, derived):\n",
    "    return [base.index(d) for d in derived]\n",
    "\n",
    "def read_train_data(data_dir, NUM_TRAIN = 10000, OFFSET=0):\n",
    "    def read_notebook(path):\n",
    "        return (\n",
    "            pd.read_json(\n",
    "                path,\n",
    "                dtype={'cell_type': 'category', 'source': 'str'})\n",
    "            .assign(id=path.stem)  # final path component\n",
    "            .rename_axis('cell_id')\n",
    "        )\n",
    "\n",
    "    paths_train = list((data_dir / 'train').glob('*.json'))[OFFSET:NUM_TRAIN]\n",
    "    notebooks_train = [\n",
    "      read_notebook(path) for path in tqdm(paths_train, desc='Train NBs')\n",
    "    ]\n",
    "    df = (\n",
    "      pd.concat(notebooks_train)\n",
    "      .set_index('id', append=True)\n",
    "      .swaplevel()\n",
    "      .sort_index(level='id', sort_remaining=False)\n",
    "    )\n",
    "    return df\n",
    "\n",
    "def get_df_orders_and_ranks(df, data_dir):\n",
    "    # train orders\n",
    "    df_orders = pd.read_csv(\n",
    "      data_dir / 'train_orders.csv',\n",
    "      index_col='id',\n",
    "      squeeze=True,\n",
    "    ).str.split()  # cell_ids str -> list\n",
    "\n",
    "\n",
    "    df_orders_ = df_orders.to_frame().join(\n",
    "      # reset only one index out of many -> \"cell_id\"; make a list out of cells in train data\n",
    "      df.reset_index('cell_id').groupby('id')['cell_id'].apply(list),\n",
    "      how='right',\n",
    "    )\n",
    "\n",
    "    ranks = {}\n",
    "    for id_, cell_order, cell_id in df_orders_.itertuples():\n",
    "        ranks[id_] = {'cell_id': cell_id, 'rank': get_ranks(cell_order, cell_id)}\n",
    "\n",
    "    df_ranks = (\n",
    "      pd.DataFrame\n",
    "      .from_dict(ranks, orient='index')\n",
    "      .rename_axis('id')\n",
    "      .apply(pd.Series.explode)\n",
    "      .set_index('cell_id', append=True)\n",
    "    )\n",
    "    # now we have\n",
    "    # id cell_id rank\n",
    "    return df_orders, df_ranks\n",
    "\n",
    "\n",
    "def get_ancestors(data_dir, ids):\n",
    "    # Split, keeping notebooks with a common origin (ancestor_id) together\n",
    "    df_ancestors = pd.read_csv(data_dir / 'train_ancestors.csv', index_col='id')\n",
    "    return df_ancestors.loc[ids, 'ancestor_id']"
   ]
  },
  {
   "cell_type": "markdown",
   "metadata": {
    "tags": []
   },
   "source": [
    "## text utils"
   ]
  },
  {
   "cell_type": "code",
   "execution_count": 5,
   "metadata": {
    "tags": []
   },
   "outputs": [],
   "source": [
    "spell = Speller(fast=True)\n",
    "def correct_spelling(text):\n",
    "    if text:\n",
    "        return spell(text)\n",
    "    else:\n",
    "        return text\n",
    "        \n",
    "\n",
    "def clean_text(text):\n",
    "    '''Make text lowercase, remove square brackets, replace links with \"link\" ,\n",
    "    and remove words containing numbers with \"number\".'''\n",
    "    if not text:\n",
    "        return ''\n",
    "    text = text.lower()\n",
    "    text = ' '.join(text.split())\n",
    "    text = re.sub('<.*?>+', ' ', text)\n",
    "    text = text.replace('[' , ' ')\n",
    "    text = text.replace(']' , ' ')\n",
    "    text = re.sub('http.?://\\S+|www\\.\\S+', 'link', text)\n",
    "    # text = re.sub('[%s]' % re.escape(string.punctuation), ' ', text)\n",
    "    text = re.sub('\\n', '. ', text)\n",
    "    text = re.sub('\\w*\\d\\w*', 'number', text)\n",
    "    text = re.sub(' +', ' ', text)\n",
    "    text = text.strip()\n",
    "    return text\n",
    "\n",
    "def text_preprocessing(text):\n",
    "    \"\"\"\n",
    "    Cleaning and parsing the text.\n",
    "\n",
    "    \"\"\"\n",
    "    tokenizer = nltk.tokenize.RegexpTokenizer(r'\\w+')\n",
    "    nopunc = clean_text(text)\n",
    "    tokenized_text = tokenizer.tokenize(nopunc)\n",
    "    combined_text = ' '.join(tokenized_text)\n",
    "    return combined_text\n",
    "\n",
    "\n",
    "image_pattern = r'(!\\[([^\\]]*)\\]\\((.*?)\\s*(\"(?:.*[^\"])\")?\\s*\\))'\n",
    "def replace_image_with_label(text):\n",
    "    matches = re.findall(image_pattern, text)\n",
    "    for match in matches:\n",
    "        if match[1]:\n",
    "            result = text_preprocessing(' '.join(match[1].split('.')[:-1]))\n",
    "            result = \"image link \" + ' '.join(result.split(\"_\"))\n",
    "        else:\n",
    "            result = \"image link \"\n",
    "        text = text.replace(match[0], result)\n",
    "    return text_preprocessing(text)\n",
    "\n",
    "\n",
    "def clean_code(text):\n",
    "    '''Make text lowercase, remove text in square brackets,remove links,remove punctuation\n",
    "    and remove words containing numbers.'''\n",
    "    text = text.replace('[', ' ').replace(']', ' ').replace('(', ' ')\\\n",
    "    .replace(')', ' ').replace('{', ' ').replace('}', ' ').replace('=', ' ').replace(',', ' ')\n",
    "    text = text.lower()\n",
    "    text = text.replace('_', ' ')\n",
    "    text = text.replace('\\n', ' ')\n",
    "    text = text.replace('.', ' ')\n",
    "    text = re.sub(r'\".*\"', ' ', text)\n",
    "    text = re.sub(r\"'.*'\", ' ', text)\n",
    "    text = re.sub(\"^\\d+\\s|\\s\\d+\\s|\\s\\d+$\", ' ', text)\n",
    "    text = re.sub(' +', ' ', text)\n",
    "    text = text.strip()\n",
    "    return text\n",
    "\n",
    "def code_preprocessing(text):\n",
    "    \"\"\"\n",
    "    Cleaning and parsing the text.\n",
    "    \"\"\"\n",
    "    tokenizer = nltk.tokenize.RegexpTokenizer(r'\\w+')\n",
    "    nopunc = clean_code(text)\n",
    "    tokenized_text = tokenizer.tokenize(nopunc)\n",
    "    combined_text = ' '.join(tokenized_text)\n",
    "    return combined_text"
   ]
  },
  {
   "cell_type": "markdown",
   "metadata": {
    "tags": []
   },
   "source": [
    "# Reading"
   ]
  },
  {
   "cell_type": "code",
   "execution_count": 6,
   "metadata": {
    "tags": []
   },
   "outputs": [
    {
     "data": {
      "application/vnd.jupyter.widget-view+json": {
       "model_id": "35cc19727bd84801896e4c09432de467",
       "version_major": 2,
       "version_minor": 0
      },
      "text/plain": [
       "HBox(children=(FloatProgress(value=0.0, description='Train NBs', max=500.0, style=ProgressStyle(description_wi…"
      ]
     },
     "metadata": {},
     "output_type": "display_data"
    },
    {
     "name": "stdout",
     "output_type": "stream",
     "text": [
      "\n",
      "Df shape is (23461, 2)\n"
     ]
    }
   ],
   "source": [
    "# example pipeline work\n",
    "df = read_train_data(data_dir, NUM_TRAIN=500)\n",
    "df_orders, df_ranks = get_df_orders_and_ranks(df, data_dir)\n",
    "\n",
    "print(f\"Df shape is {df.shape}\")"
   ]
  },
  {
   "cell_type": "markdown",
   "metadata": {
    "tags": []
   },
   "source": [
    "# Feature Engineering"
   ]
  },
  {
   "cell_type": "markdown",
   "metadata": {
    "tags": []
   },
   "source": [
    "## Small features"
   ]
  },
  {
   "cell_type": "markdown",
   "metadata": {
    "tags": []
   },
   "source": [
    "### additional load"
   ]
  },
  {
   "cell_type": "code",
   "execution_count": 40,
   "metadata": {
    "tags": []
   },
   "outputs": [],
   "source": [
    "def load_entities(unload=False):\n",
    "    global ner\n",
    "    if not unload:\n",
    "        ner = spacy.load(\"en_core_web_sm\")\n",
    "    else:\n",
    "        del ner\n",
    "\n",
    "def load_ml_glossary(unload=False):\n",
    "    global embedder, terms, corpus_embeddings\n",
    "    if not unload:\n",
    "        embedder = SentenceTransformer('all-MiniLM-L6-v2')\n",
    "        ml_glossary = pd.read_csv(\"machine_learning_glossary_terms.csv\")\n",
    "        # sentences we will be searching through\n",
    "        corpus = np.array(ml_glossary['definition'])\n",
    "        terms = np.array(ml_glossary['term'])\n",
    "        corpus_embeddings = embedder.encode(corpus, convert_to_tensor=True)\n",
    "    else:\n",
    "        del embedder, corpus_embeddings\n",
    "        gc.collect()"
   ]
  },
  {
   "cell_type": "markdown",
   "metadata": {
    "tags": []
   },
   "source": [
    "### general implementations"
   ]
  },
  {
   "cell_type": "code",
   "execution_count": 70,
   "metadata": {
    "tags": []
   },
   "outputs": [],
   "source": [
    "additional_load = {\n",
    "    \"collect_entities\": load_entities,\n",
    "    \"get_top_glossary_terms\": load_ml_glossary\n",
    "}\n",
    "\n",
    "def prepare_data(df, func, new_column, on_column='source'):\n",
    "    tic = time()\n",
    "    func_name = func.__name__\n",
    "    print(f\"{func_name} on {on_column} -> {new_column} column\")\n",
    "    if func_name in additional_load:\n",
    "        additional_load[func_name]()\n",
    "    df[new_column] = df.progress_apply(lambda x: func(x[on_column]), axis=1)\n",
    "    if func_name in additional_load:\n",
    "        additional_load[func_name](unload=True)\n",
    "    toc = time()\n",
    "    print(f\"COMPLETION TIME = {toc-tic:.1f} s\")\n",
    "    print(\"-\"*25+\">\")\n",
    "    print(\"\\n\")\n",
    "    return df\n",
    "\n",
    "def prepare_data_with_vector(df, func, new_column, on_column='source'):\n",
    "    tic = time()\n",
    "    func_name = func.__name__\n",
    "    if func_name in additional_load:\n",
    "        additional_load[func_name]()\n",
    "    print(f\"{func.__name__} on {on_column} -> {new_column} column ...\")\n",
    "    vector = df.progress_apply(lambda x: func(x[on_column]), axis=1).values\n",
    "    if func_name in additional_load:\n",
    "        additional_load[func_name](unload=True)\n",
    "    new_columns = [f\"{new_column}_{x}\" for x in range(len(vector[0]))]\n",
    "    vector_df = pd.DataFrame(np.row_stack(vector), columns=new_columns)  \n",
    "    # todo return vector and the stack them\n",
    "    df = pd.concat([df, vector_df], ignore_index=False, axis=1)\n",
    "    \n",
    "    toc = time()\n",
    "    print(f\"COMPLETION TIME = {toc-tic:.1f} s\")\n",
    "    print(\"-\"*25+\">\")\n",
    "    print(\"\\n\")\n",
    "    return df"
   ]
  },
  {
   "cell_type": "markdown",
   "metadata": {
    "tags": []
   },
   "source": [
    "### tokenizing python"
   ]
  },
  {
   "cell_type": "code",
   "execution_count": 71,
   "metadata": {
    "tags": []
   },
   "outputs": [],
   "source": [
    "def tokenize_python_code_names(text):\n",
    "    try:\n",
    "        code_text = tokenize.generate_tokens(io.StringIO(text).readline)\n",
    "        strings = [tok.string for tok in code_text if tok.type==1]\n",
    "    except Exception:\n",
    "        return None # Error happened\n",
    "    return ' '.join(strings)\n",
    "\n",
    "def tokenize_python_code_comments(text):\n",
    "    try:\n",
    "        code_text = tokenize.generate_tokens(io.StringIO(text).readline)\n",
    "        strings = [tok.string for tok in code_text if tok.type==55]\n",
    "    except Exception:\n",
    "        return None # Error happened\n",
    "    return ' '.join(strings)"
   ]
  },
  {
   "cell_type": "markdown",
   "metadata": {
    "tags": []
   },
   "source": [
    "### lemming"
   ]
  },
  {
   "cell_type": "code",
   "execution_count": 72,
   "metadata": {
    "tags": []
   },
   "outputs": [],
   "source": [
    "lem = nltk.stem.wordnet.WordNetLemmatizer()  # lemmatizer  \n",
    "def lemm_sentence(text):\n",
    "    lst_txt = [lem.lemmatize(word) for word in text.split()]\n",
    "    return ' '.join(lst_txt)"
   ]
  },
  {
   "cell_type": "markdown",
   "metadata": {
    "tags": []
   },
   "source": [
    "### entities"
   ]
  },
  {
   "cell_type": "code",
   "execution_count": 73,
   "metadata": {
    "tags": []
   },
   "outputs": [],
   "source": [
    "def collect_entities(text):\n",
    "    \"Named Entity Recognition\"\n",
    "    rs = ner(text)\n",
    "    labels = []\n",
    "    for r in rs.ents:\n",
    "        labels.append(r.label_)\n",
    "    return ' '.join(labels)"
   ]
  },
  {
   "cell_type": "markdown",
   "metadata": {
    "tags": []
   },
   "source": [
    "### heading order"
   ]
  },
  {
   "cell_type": "code",
   "execution_count": 74,
   "metadata": {
    "tags": []
   },
   "outputs": [],
   "source": [
    "def get_hedding_order(text) -> int:\n",
    "    \"\"\" Get heading order \"\"\"\n",
    "    text = text.strip()\n",
    "    heading_number = text.split(\" \")[0].count(\"#\")\n",
    "    if len(text.split(\" \")[0]) != heading_number or not heading_number:\n",
    "        return None\n",
    "    return heading_number"
   ]
  },
  {
   "cell_type": "markdown",
   "metadata": {
    "tags": []
   },
   "source": [
    "### TFID"
   ]
  },
  {
   "cell_type": "code",
   "execution_count": 75,
   "metadata": {
    "tags": []
   },
   "outputs": [],
   "source": [
    "def convert_to_TfidfVector(df, max_features=100):\n",
    "    tfidf = TfidfVectorizer(min_df=0.01, max_features=max_features)\n",
    "    return tfidf, tfidf.fit_transform(df.astype(str))\n"
   ]
  },
  {
   "cell_type": "markdown",
   "metadata": {
    "tags": []
   },
   "source": [
    "## ALPHA 1 todo list\n"
   ]
  },
  {
   "cell_type": "raw",
   "metadata": {},
   "source": [
    "# todo collect the list of tags in machine learning and find it among the most popular words"
   ]
  },
  {
   "cell_type": "markdown",
   "metadata": {
    "tags": []
   },
   "source": [
    "## Machine Learning glossary feature"
   ]
  },
  {
   "cell_type": "code",
   "execution_count": 76,
   "metadata": {
    "tags": []
   },
   "outputs": [],
   "source": [
    "# better do not vector but words and the put them to TFID\n",
    "top_k=5\n",
    "def get_top_glossary_terms(query):\n",
    "    output_vector = np.zeros((len(terms)))\n",
    "    query_embedding = embedder.encode(query, convert_to_tensor=True)\n",
    "    hits = util.semantic_search(query_embedding, corpus_embeddings, top_k=top_k, query_chunk_size=500)\n",
    "    # todo add threshold 0.5? mb\n",
    "    output_vector[[hit['corpus_id'] for hit in hits[0]]] = [hit['score'] for hit in hits[0]]\n",
    "    return output_vector\n",
    "# Adds len(terms) = 249 columns to dataset"
   ]
  },
  {
   "cell_type": "markdown",
   "metadata": {
    "tags": []
   },
   "source": [
    "# Pipeline"
   ]
  },
  {
   "cell_type": "markdown",
   "metadata": {},
   "source": [
    "## markdown pipeline"
   ]
  },
  {
   "cell_type": "code",
   "execution_count": 77,
   "metadata": {
    "tags": []
   },
   "outputs": [],
   "source": [
    "markdowns_pipeline = Pipeline([    \n",
    "    ('Heading order', FunctionTransformer(\n",
    "         func=prepare_data,\n",
    "         kw_args={\n",
    "             'func': get_hedding_order,\n",
    "             'new_column': \"heading_order\",\n",
    "             'on_column': \"source\"})),\n",
    "    \n",
    "    ('Replacing image with label', FunctionTransformer(\n",
    "         func=prepare_data,\n",
    "         kw_args={\n",
    "             'func': replace_image_with_label,\n",
    "             'new_column': \"source\",\n",
    "             'on_column': \"source\"})),\n",
    "    \n",
    "    ('Clearing and parsing source', FunctionTransformer(\n",
    "         func=prepare_data,\n",
    "         kw_args={\n",
    "             'func': text_preprocessing,\n",
    "             'new_column': \"source_clean\",\n",
    "             'on_column': \"source\"})),\n",
    "    \n",
    "    ('Spelling', FunctionTransformer(\n",
    "         func=prepare_data,\n",
    "         kw_args={\n",
    "             'func': correct_spelling,\n",
    "             'new_column': \"source_clean\",\n",
    "             'on_column': \"source_clean\"})),\n",
    "    \n",
    "    ('Entities', FunctionTransformer(\n",
    "         func=prepare_data,\n",
    "         kw_args={\n",
    "         'func': collect_entities,\n",
    "         'new_column': \"entities\",\n",
    "         'on_column': \"source_clean\"})),\n",
    "    \n",
    "    ('ML glossary feature', FunctionTransformer(\n",
    "         func=prepare_data_with_vector,\n",
    "         kw_args={\n",
    "             'func': get_top_glossary_terms,\n",
    "             'new_column': \"glossary_ml_terms\",\n",
    "             'on_column': \"source_clean\"})),\n",
    "\n",
    "##### COMMENT FOR BERT\n",
    "    ('Lemmatizing sentences', FunctionTransformer(\n",
    "         func=prepare_data,\n",
    "         kw_args={\n",
    "             'func': lemm_sentence,\n",
    "             'new_column': \"source_clean\",\n",
    "             'on_column': \"source_clean\"})),\n",
    "])"
   ]
  },
  {
   "cell_type": "markdown",
   "metadata": {},
   "source": [
    "## code pipeline"
   ]
  },
  {
   "cell_type": "markdown",
   "metadata": {
    "tags": []
   },
   "source": [
    "### code comments pipeline"
   ]
  },
  {
   "cell_type": "code",
   "execution_count": 78,
   "metadata": {
    "tags": []
   },
   "outputs": [],
   "source": [
    "code_comments_sub_pipeline = Pipeline([\n",
    "    \n",
    "    ('[comments] Extracting code comments', FunctionTransformer(\n",
    "         func=prepare_data,\n",
    "         kw_args={\n",
    "             'func': tokenize_python_code_comments,\n",
    "             'new_column': \"code_comments\",\n",
    "             'on_column': \"source\"})),\n",
    "    \n",
    "    ('[comments] Clearing and parsing code comments', FunctionTransformer(\n",
    "         func=prepare_data,\n",
    "         kw_args={\n",
    "             'func': text_preprocessing,\n",
    "             'new_column': \"code_comments\",\n",
    "             'on_column': \"code_comments\"})),\n",
    "    \n",
    "    ('[comments] Correcting spelling', FunctionTransformer(\n",
    "         func=prepare_data,\n",
    "         kw_args={\n",
    "             'func': correct_spelling,\n",
    "             'new_column': \"code_comments\",\n",
    "             'on_column': \"code_comments\"})),\n",
    "    \n",
    "    ('[comments] Lemmatizing code comments', FunctionTransformer(\n",
    "         func=prepare_data,\n",
    "         kw_args={\n",
    "             'func': lemm_sentence,\n",
    "             'new_column': \"code_comments\",\n",
    "             'on_column': \"code_comments\"})),\n",
    "        # todo make comments statistics and implement it if column is not empty\n",
    "    \n",
    "    ('[comments] Len of code comments', FunctionTransformer(\n",
    "         func=prepare_data,\n",
    "         kw_args={\n",
    "             'func': lambda x: len(str(x).split()),\n",
    "             'new_column': \"len_of_code_comments\",\n",
    "             'on_column': \"code_comments\"})),\n",
    "])"
   ]
  },
  {
   "cell_type": "markdown",
   "metadata": {},
   "source": [
    "### code pipeline"
   ]
  },
  {
   "cell_type": "code",
   "execution_count": 79,
   "metadata": {
    "tags": []
   },
   "outputs": [],
   "source": [
    "code_pipeline = Pipeline([\n",
    "    ('Clearing and parsing source', FunctionTransformer(\n",
    "         func=prepare_data,\n",
    "         kw_args={\n",
    "             'func': code_preprocessing,\n",
    "             'new_column': \"source_clean\",  # TODO maybe even remove it or leave the same. check on gridsearch later\n",
    "             'on_column': \"source\"})),\n",
    "    \n",
    "    ('Extacting code names', FunctionTransformer(\n",
    "         func=prepare_data,\n",
    "         kw_args={\n",
    "             'func': tokenize_python_code_names,\n",
    "             'new_column': \"python_code_names\",\n",
    "             'on_column': \"source\"})),\n",
    "    \n",
    "    ('Comments', code_comments_sub_pipeline)\n",
    "])"
   ]
  },
  {
   "cell_type": "markdown",
   "metadata": {},
   "source": [
    "## counting features pipe"
   ]
  },
  {
   "cell_type": "code",
   "execution_count": 80,
   "metadata": {
    "tags": []
   },
   "outputs": [],
   "source": [
    "stats_pipeline = Pipeline([\n",
    "    ('Length', FunctionTransformer(\n",
    "         func=prepare_data,\n",
    "         kw_args={\n",
    "             'func': lambda x: len(str(x).split()),\n",
    "             'new_column': \"text_len\",\n",
    "             'on_column': \"source_clean\"})),\n",
    "    ('Word count', FunctionTransformer(\n",
    "         func=prepare_data,\n",
    "         kw_args={\n",
    "             'func': lambda x: len(str(x)),\n",
    "             'new_column': \"text_word_count\",\n",
    "             'on_column': \"source_clean\"})),\n",
    "\n",
    "])"
   ]
  },
  {
   "cell_type": "markdown",
   "metadata": {},
   "source": [
    "## Pipeline helper func"
   ]
  },
  {
   "cell_type": "code",
   "execution_count": 81,
   "metadata": {
    "tags": []
   },
   "outputs": [],
   "source": [
    "def preprocess_data(df):\n",
    "    df['index_col'] = range(1, len(df) + 1)  # to merge later\n",
    "    \n",
    "    # splitting on markdown and code\n",
    "    markdowns = df[df['cell_type'] == 'markdown'].reset_index()\n",
    "    codes = df[df['cell_type'] == 'code'].reset_index()\n",
    "\n",
    "    print(f\"Df shape is {df.shape} markdowns {markdowns.shape} code {codes.shape}\")\n",
    "    \n",
    "    markdowns = markdowns_pipeline.fit_transform(markdowns)\n",
    "    markdowns = stats_pipeline.fit_transform(markdowns)\n",
    "    codes = code_pipeline.fit_transform(codes)\n",
    "    codes = stats_pipeline.fit_transform(codes)\n",
    "    \n",
    "    # setting rank\n",
    "    codes['rank'] = codes.groupby(['id', 'cell_type']).cumcount().to_numpy() + 1\n",
    "    markdowns['rank'] = 0\n",
    "\n",
    "    # Stacking back together\n",
    "    df = pd.concat([codes, markdowns]).set_index(['id', 'cell_id', 'index_col'])\n",
    "    \n",
    "    return df"
   ]
  },
  {
   "cell_type": "markdown",
   "metadata": {
    "tags": []
   },
   "source": [
    "# Running"
   ]
  },
  {
   "cell_type": "code",
   "execution_count": 82,
   "metadata": {
    "collapsed": true,
    "jupyter": {
     "outputs_hidden": true
    },
    "tags": []
   },
   "outputs": [
    {
     "ename": "ValueError",
     "evalue": "cannot insert index_col, already exists",
     "output_type": "error",
     "traceback": [
      "\u001b[0;31m---------------------------------------------------------------------------\u001b[0m",
      "\u001b[0;31mValueError\u001b[0m                                Traceback (most recent call last)",
      "\u001b[0;32m<ipython-input-82-05557109ae11>\u001b[0m in \u001b[0;36m<module>\u001b[0;34m\u001b[0m\n\u001b[0;32m----> 1\u001b[0;31m \u001b[0mdf\u001b[0m \u001b[0;34m=\u001b[0m \u001b[0mpreprocess_data\u001b[0m\u001b[0;34m(\u001b[0m\u001b[0mdf\u001b[0m\u001b[0;34m)\u001b[0m\u001b[0;34m\u001b[0m\u001b[0;34m\u001b[0m\u001b[0m\n\u001b[0m",
      "\u001b[0;32m<ipython-input-81-952b004f451a>\u001b[0m in \u001b[0;36mpreprocess_data\u001b[0;34m(df)\u001b[0m\n\u001b[1;32m      3\u001b[0m \u001b[0;34m\u001b[0m\u001b[0m\n\u001b[1;32m      4\u001b[0m     \u001b[0;31m# splitting on markdown and code\u001b[0m\u001b[0;34m\u001b[0m\u001b[0;34m\u001b[0m\u001b[0;34m\u001b[0m\u001b[0m\n\u001b[0;32m----> 5\u001b[0;31m     \u001b[0mmarkdowns\u001b[0m \u001b[0;34m=\u001b[0m \u001b[0mdf\u001b[0m\u001b[0;34m[\u001b[0m\u001b[0mdf\u001b[0m\u001b[0;34m[\u001b[0m\u001b[0;34m'cell_type'\u001b[0m\u001b[0;34m]\u001b[0m \u001b[0;34m==\u001b[0m \u001b[0;34m'markdown'\u001b[0m\u001b[0;34m]\u001b[0m\u001b[0;34m.\u001b[0m\u001b[0mreset_index\u001b[0m\u001b[0;34m(\u001b[0m\u001b[0;34m)\u001b[0m\u001b[0;34m\u001b[0m\u001b[0;34m\u001b[0m\u001b[0m\n\u001b[0m\u001b[1;32m      6\u001b[0m     \u001b[0mcodes\u001b[0m \u001b[0;34m=\u001b[0m \u001b[0mdf\u001b[0m\u001b[0;34m[\u001b[0m\u001b[0mdf\u001b[0m\u001b[0;34m[\u001b[0m\u001b[0;34m'cell_type'\u001b[0m\u001b[0;34m]\u001b[0m \u001b[0;34m==\u001b[0m \u001b[0;34m'code'\u001b[0m\u001b[0;34m]\u001b[0m\u001b[0;34m.\u001b[0m\u001b[0mreset_index\u001b[0m\u001b[0;34m(\u001b[0m\u001b[0;34m)\u001b[0m\u001b[0;34m\u001b[0m\u001b[0;34m\u001b[0m\u001b[0m\n\u001b[1;32m      7\u001b[0m \u001b[0;34m\u001b[0m\u001b[0m\n",
      "\u001b[0;32m/opt/conda/lib/python3.7/site-packages/pandas/core/frame.py\u001b[0m in \u001b[0;36mreset_index\u001b[0;34m(self, level, drop, inplace, col_level, col_fill)\u001b[0m\n\u001b[1;32m   4707\u001b[0m                 \u001b[0;31m# to ndarray and maybe infer different dtype\u001b[0m\u001b[0;34m\u001b[0m\u001b[0;34m\u001b[0m\u001b[0;34m\u001b[0m\u001b[0m\n\u001b[1;32m   4708\u001b[0m                 \u001b[0mlevel_values\u001b[0m \u001b[0;34m=\u001b[0m \u001b[0m_maybe_casted_values\u001b[0m\u001b[0;34m(\u001b[0m\u001b[0mlev\u001b[0m\u001b[0;34m,\u001b[0m \u001b[0mlab\u001b[0m\u001b[0;34m)\u001b[0m\u001b[0;34m\u001b[0m\u001b[0;34m\u001b[0m\u001b[0m\n\u001b[0;32m-> 4709\u001b[0;31m                 \u001b[0mnew_obj\u001b[0m\u001b[0;34m.\u001b[0m\u001b[0minsert\u001b[0m\u001b[0;34m(\u001b[0m\u001b[0;36m0\u001b[0m\u001b[0;34m,\u001b[0m \u001b[0mname\u001b[0m\u001b[0;34m,\u001b[0m \u001b[0mlevel_values\u001b[0m\u001b[0;34m)\u001b[0m\u001b[0;34m\u001b[0m\u001b[0;34m\u001b[0m\u001b[0m\n\u001b[0m\u001b[1;32m   4710\u001b[0m \u001b[0;34m\u001b[0m\u001b[0m\n\u001b[1;32m   4711\u001b[0m         \u001b[0mnew_obj\u001b[0m\u001b[0;34m.\u001b[0m\u001b[0mindex\u001b[0m \u001b[0;34m=\u001b[0m \u001b[0mnew_index\u001b[0m\u001b[0;34m\u001b[0m\u001b[0;34m\u001b[0m\u001b[0m\n",
      "\u001b[0;32m/opt/conda/lib/python3.7/site-packages/pandas/core/frame.py\u001b[0m in \u001b[0;36minsert\u001b[0;34m(self, loc, column, value, allow_duplicates)\u001b[0m\n\u001b[1;32m   3589\u001b[0m         \u001b[0mself\u001b[0m\u001b[0;34m.\u001b[0m\u001b[0m_ensure_valid_index\u001b[0m\u001b[0;34m(\u001b[0m\u001b[0mvalue\u001b[0m\u001b[0;34m)\u001b[0m\u001b[0;34m\u001b[0m\u001b[0;34m\u001b[0m\u001b[0m\n\u001b[1;32m   3590\u001b[0m         \u001b[0mvalue\u001b[0m \u001b[0;34m=\u001b[0m \u001b[0mself\u001b[0m\u001b[0;34m.\u001b[0m\u001b[0m_sanitize_column\u001b[0m\u001b[0;34m(\u001b[0m\u001b[0mcolumn\u001b[0m\u001b[0;34m,\u001b[0m \u001b[0mvalue\u001b[0m\u001b[0;34m,\u001b[0m \u001b[0mbroadcast\u001b[0m\u001b[0;34m=\u001b[0m\u001b[0;32mFalse\u001b[0m\u001b[0;34m)\u001b[0m\u001b[0;34m\u001b[0m\u001b[0;34m\u001b[0m\u001b[0m\n\u001b[0;32m-> 3591\u001b[0;31m         \u001b[0mself\u001b[0m\u001b[0;34m.\u001b[0m\u001b[0m_data\u001b[0m\u001b[0;34m.\u001b[0m\u001b[0minsert\u001b[0m\u001b[0;34m(\u001b[0m\u001b[0mloc\u001b[0m\u001b[0;34m,\u001b[0m \u001b[0mcolumn\u001b[0m\u001b[0;34m,\u001b[0m \u001b[0mvalue\u001b[0m\u001b[0;34m,\u001b[0m \u001b[0mallow_duplicates\u001b[0m\u001b[0;34m=\u001b[0m\u001b[0mallow_duplicates\u001b[0m\u001b[0;34m)\u001b[0m\u001b[0;34m\u001b[0m\u001b[0;34m\u001b[0m\u001b[0m\n\u001b[0m\u001b[1;32m   3592\u001b[0m \u001b[0;34m\u001b[0m\u001b[0m\n\u001b[1;32m   3593\u001b[0m     \u001b[0;32mdef\u001b[0m \u001b[0massign\u001b[0m\u001b[0;34m(\u001b[0m\u001b[0mself\u001b[0m\u001b[0;34m,\u001b[0m \u001b[0;34m**\u001b[0m\u001b[0mkwargs\u001b[0m\u001b[0;34m)\u001b[0m\u001b[0;34m:\u001b[0m\u001b[0;34m\u001b[0m\u001b[0;34m\u001b[0m\u001b[0m\n",
      "\u001b[0;32m/opt/conda/lib/python3.7/site-packages/pandas/core/internals/managers.py\u001b[0m in \u001b[0;36minsert\u001b[0;34m(self, loc, item, value, allow_duplicates)\u001b[0m\n\u001b[1;32m   1171\u001b[0m         \u001b[0;32mif\u001b[0m \u001b[0;32mnot\u001b[0m \u001b[0mallow_duplicates\u001b[0m \u001b[0;32mand\u001b[0m \u001b[0mitem\u001b[0m \u001b[0;32min\u001b[0m \u001b[0mself\u001b[0m\u001b[0;34m.\u001b[0m\u001b[0mitems\u001b[0m\u001b[0;34m:\u001b[0m\u001b[0;34m\u001b[0m\u001b[0;34m\u001b[0m\u001b[0m\n\u001b[1;32m   1172\u001b[0m             \u001b[0;31m# Should this be a different kind of error??\u001b[0m\u001b[0;34m\u001b[0m\u001b[0;34m\u001b[0m\u001b[0;34m\u001b[0m\u001b[0m\n\u001b[0;32m-> 1173\u001b[0;31m             \u001b[0;32mraise\u001b[0m \u001b[0mValueError\u001b[0m\u001b[0;34m(\u001b[0m\u001b[0;34m\"cannot insert {}, already exists\"\u001b[0m\u001b[0;34m.\u001b[0m\u001b[0mformat\u001b[0m\u001b[0;34m(\u001b[0m\u001b[0mitem\u001b[0m\u001b[0;34m)\u001b[0m\u001b[0;34m)\u001b[0m\u001b[0;34m\u001b[0m\u001b[0;34m\u001b[0m\u001b[0m\n\u001b[0m\u001b[1;32m   1174\u001b[0m \u001b[0;34m\u001b[0m\u001b[0m\n\u001b[1;32m   1175\u001b[0m         \u001b[0;32mif\u001b[0m \u001b[0;32mnot\u001b[0m \u001b[0misinstance\u001b[0m\u001b[0;34m(\u001b[0m\u001b[0mloc\u001b[0m\u001b[0;34m,\u001b[0m \u001b[0mint\u001b[0m\u001b[0;34m)\u001b[0m\u001b[0;34m:\u001b[0m\u001b[0;34m\u001b[0m\u001b[0;34m\u001b[0m\u001b[0m\n",
      "\u001b[0;31mValueError\u001b[0m: cannot insert index_col, already exists"
     ]
    }
   ],
   "source": [
    "df = preprocess_data(df)"
   ]
  },
  {
   "cell_type": "raw",
   "metadata": {},
   "source": [
    "df.to_csv(\"after_pipe.csv\") \n",
    "# load previosly saved df"
   ]
  },
  {
   "cell_type": "markdown",
   "metadata": {},
   "source": [
    "# Training"
   ]
  },
  {
   "cell_type": "markdown",
   "metadata": {},
   "source": [
    "## splitting"
   ]
  },
  {
   "cell_type": "code",
   "execution_count": 53,
   "metadata": {},
   "outputs": [],
   "source": [
    "NVALID = 0.1\n",
    "\n",
    "ids = df.index.unique('id')\n",
    "ancestors = get_ancestors(data_dir, ids)\n",
    "splitter = GroupShuffleSplit(n_splits=1, test_size=NVALID, random_state=0)\n",
    "ids_train, ids_valid = next(splitter.split(ids, groups=ancestors)) \n",
    "ids_train, ids_valid = ids[ids_train], ids[ids_valid]\n",
    "df_train = df.loc[ids_train, :].sort_index(level='index_col')\n",
    "df_valid = df.loc[ids_valid, :].sort_index(level='index_col')"
   ]
  },
  {
   "cell_type": "markdown",
   "metadata": {},
   "source": [
    "## transforming"
   ]
  },
  {
   "cell_type": "code",
   "execution_count": 54,
   "metadata": {},
   "outputs": [],
   "source": [
    "TFID_FEATURES = {\n",
    "    'entities': None,\n",
    "    # \"glossary_ml_terms\": None,\n",
    "    \"python_code_names\": None,\n",
    "    \"code_comments\": None,\n",
    "    \"source_clean\": None,\n",
    "} # todo gridsearch"
   ]
  },
  {
   "cell_type": "code",
   "execution_count": 55,
   "metadata": {},
   "outputs": [],
   "source": [
    "terms_cols = [x for x in df.columns if x.startswith(\"glossary_ml_terms\")]"
   ]
  },
  {
   "cell_type": "code",
   "execution_count": 56,
   "metadata": {},
   "outputs": [
    {
     "data": {
      "text/plain": [
       "125"
      ]
     },
     "execution_count": 56,
     "metadata": {},
     "output_type": "execute_result"
    }
   ],
   "source": [
    "gc.collect()"
   ]
  },
  {
   "cell_type": "code",
   "execution_count": 57,
   "metadata": {},
   "outputs": [],
   "source": [
    "terms_vals = scipy.sparse.csr_matrix(df_train[terms_cols].fillna(0.0).values)"
   ]
  },
  {
   "cell_type": "code",
   "execution_count": 58,
   "metadata": {},
   "outputs": [
    {
     "data": {
      "application/vnd.jupyter.widget-view+json": {
       "model_id": "b8a1527f9e0f4b3a84eef879b601e090",
       "version_major": 2,
       "version_minor": 0
      },
      "text/plain": [
       "HBox(children=(FloatProgress(value=0.0, max=4.0), HTML(value='')))"
      ]
     },
     "metadata": {},
     "output_type": "display_data"
    },
    {
     "name": "stdout",
     "output_type": "stream",
     "text": [
      "New entities vector TFID (42429, 7)\n",
      "New python_code_names vector TFID (42429, 104)\n",
      "New code_comments vector TFID (42429, 35)\n",
      "New source_clean vector TFID (42429, 214)\n",
      "\n"
     ]
    }
   ],
   "source": [
    "tfid_transformers = {}\n",
    "vector_shapes = []\n",
    "X_train = np.array([])\n",
    "for feature, max_n in tqdm(TFID_FEATURES.items()):\n",
    "    tfid_tr, tfid_vector = convert_to_TfidfVector(df_train[feature], max_n)\n",
    "    vector_shapes.extend(tfid_vector.shape[1]*[feature])\n",
    "    print(f\"New {feature} vector TFID {tfid_vector.shape}\")\n",
    "    tfid_transformers[feature] = tfid_tr\n",
    "    if not X_train.shape[0]:\n",
    "        X_train = tfid_vector\n",
    "    else:\n",
    "        X_train = sparse.hstack((X_train, tfid_vector))\n",
    "\n",
    "X_train = sparse.hstack((\n",
    "    X_train, \n",
    "    np.where(\n",
    "        df_train['cell_type'] == 'code',\n",
    "        df_train.groupby(['id', 'cell_type']).cumcount().to_numpy() + 1,\n",
    "        0,\n",
    "    ).reshape(-1, 1)\n",
    "    ))"
   ]
  },
  {
   "cell_type": "code",
   "execution_count": 59,
   "metadata": {},
   "outputs": [],
   "source": [
    "X_train = sparse.hstack((\n",
    "    X_train, \n",
    "    terms_vals\n",
    "    ))"
   ]
  },
  {
   "cell_type": "code",
   "execution_count": 68,
   "metadata": {},
   "outputs": [],
   "source": [
    "# Rank of each cell within the notebook\n",
    "y_train = df_ranks.loc[ids_train].to_numpy()\n",
    "# Number of cells in each notebook\n",
    "groups = df_ranks.loc[ids_train].groupby('id').size().to_numpy()"
   ]
  },
  {
   "cell_type": "code",
   "execution_count": 116,
   "metadata": {
    "collapsed": true,
    "jupyter": {
     "outputs_hidden": true
    },
    "tags": []
   },
   "outputs": [
    {
     "data": {
      "text/plain": [
       "XGBRanker(base_score=0.5, booster='gbtree', callbacks=None, colsample_bylevel=1,\n",
       "          colsample_bynode=1, colsample_bytree=1, early_stopping_rounds=None,\n",
       "          enable_categorical=False, eval_metric=None, gamma=0, gpu_id=-1,\n",
       "          grow_policy='depthwise', importance_type=None,\n",
       "          interaction_constraints='', learning_rate=0.300000012, max_bin=256,\n",
       "          max_cat_to_onehot=4, max_delta_step=0, max_depth=6, max_leaves=0,\n",
       "          min_child_weight=10, missing=nan, monotone_constraints='()',\n",
       "          n_estimators=100, n_jobs=0, num_parallel_tree=1,\n",
       "          objective='rank:pairwise', predictor='auto', random_state=0,\n",
       "          reg_alpha=0, ...)"
      ]
     },
     "execution_count": 116,
     "metadata": {},
     "output_type": "execute_result"
    }
   ],
   "source": [
    "from xgboost import XGBRanker\n",
    "\n",
    "model = XGBRanker(\n",
    "    min_child_weight=10,\n",
    "    subsample=0.5,\n",
    "    tree_method='hist',\n",
    ")\n",
    "model.fit(X_train, y_train, group=groups)"
   ]
  },
  {
   "cell_type": "code",
   "execution_count": 70,
   "metadata": {},
   "outputs": [
    {
     "data": {
      "application/vnd.jupyter.widget-view+json": {
       "model_id": "7d7978392663446abea25f2c5226101b",
       "version_major": 2,
       "version_minor": 0
      },
      "text/plain": [
       "HBox(children=(FloatProgress(value=0.0, max=4.0), HTML(value='')))"
      ]
     },
     "metadata": {},
     "output_type": "display_data"
    },
    {
     "name": "stdout",
     "output_type": "stream",
     "text": [
      "\n"
     ]
    }
   ],
   "source": [
    "X_valid = np.array([])\n",
    "for feature, _ in tqdm(TFID_FEATURES.items()):\n",
    "    transformer = tfid_transformers[feature]\n",
    "    tfid_vector = transformer.transform(df_valid[feature].astype('str'))\n",
    "    if not X_valid.shape[0]:\n",
    "        X_valid = tfid_vector\n",
    "    else:\n",
    "        X_valid = sparse.hstack((X_valid, tfid_vector))\n",
    "\n",
    "X_valid = sparse.hstack((\n",
    "    X_valid, \n",
    "    np.where(\n",
    "        df_valid['cell_type'] == 'code',\n",
    "        df_valid.groupby(['id', 'cell_type']).cumcount().to_numpy() + 1,\n",
    "        0,\n",
    "    ).reshape(-1, 1)\n",
    "    ))"
   ]
  },
  {
   "cell_type": "code",
   "execution_count": 71,
   "metadata": {},
   "outputs": [],
   "source": [
    "terms_vals = scipy.sparse.csr_matrix(df_valid[terms_cols].fillna(0.0).values)\n",
    "X_valid = sparse.hstack((\n",
    "    X_valid, \n",
    "    terms_vals\n",
    "    ))"
   ]
  },
  {
   "cell_type": "code",
   "execution_count": 117,
   "metadata": {},
   "outputs": [],
   "source": [
    "y_valid = df_orders.loc[ids_valid]"
   ]
  },
  {
   "cell_type": "code",
   "execution_count": 118,
   "metadata": {},
   "outputs": [],
   "source": [
    "y_pred = pd.DataFrame({'rank': model.predict(X_valid)}, index=df_valid.index)\n",
    "y_pred = (\n",
    "    y_pred\n",
    "    .sort_values(['id', 'rank'])  # Sort the cells in each notebook by their rank.\n",
    "                                  # The cell_ids are now in the order the model predicted.\n",
    "    .reset_index('cell_id')  # Convert the cell_id index into a column.\n",
    "    .groupby('id')['cell_id'].apply(list)  # Group the cell_ids for each notebook into a list.\n",
    ")"
   ]
  },
  {
   "cell_type": "code",
   "execution_count": 119,
   "metadata": {},
   "outputs": [
    {
     "data": {
      "text/plain": [
       "0.283291481553023"
      ]
     },
     "execution_count": 119,
     "metadata": {},
     "output_type": "execute_result"
    }
   ],
   "source": [
    "y_dummy = df_valid.reset_index('cell_id').groupby('id')['cell_id'].apply(list)\n",
    "kendall_tau(y_valid, y_dummy) "
   ]
  },
  {
   "cell_type": "code",
   "execution_count": 120,
   "metadata": {},
   "outputs": [
    {
     "data": {
      "text/plain": [
       "0.39578134054471703"
      ]
     },
     "execution_count": 120,
     "metadata": {},
     "output_type": "execute_result"
    }
   ],
   "source": [
    "kendall_tau(y_valid, y_pred)\n",
    "# 0.395 on 1k"
   ]
  },
  {
   "cell_type": "code",
   "execution_count": 89,
   "metadata": {},
   "outputs": [
    {
     "data": {
      "text/plain": [
       "0.3743558045199923"
      ]
     },
     "execution_count": 89,
     "metadata": {},
     "output_type": "execute_result"
    }
   ],
   "source": [
    "kendall_tau(y_valid, y_pred) # 0.39"
   ]
  },
  {
   "cell_type": "code",
   "execution_count": null,
   "metadata": {},
   "outputs": [],
   "source": []
  },
  {
   "cell_type": "code",
   "execution_count": 121,
   "metadata": {},
   "outputs": [],
   "source": [
    "vector_shapes.extend(terms_cols)\n",
    "\n",
    "vector_shapes = np.array(vector_shapes)\n",
    "\n",
    "features_importance = model.feature_importances_[:-1]"
   ]
  },
  {
   "cell_type": "code",
   "execution_count": 122,
   "metadata": {
    "collapsed": true,
    "jupyter": {
     "outputs_hidden": true
    },
    "tags": []
   },
   "outputs": [
    {
     "name": "stdout",
     "output_type": "stream",
     "text": [
      "feature vector glossary_ml_terms_0 \n",
      "validation -> 0.016306407749652863\n",
      "------------------------------\n",
      "feature vector glossary_ml_terms_71 \n",
      "dashboard -> 0.005712929181754589\n",
      "------------------------------\n",
      "feature vector glossary_ml_terms_39 \n",
      "adam_optimization -> 0.0053808619268238544\n",
      "------------------------------\n",
      "feature vector source_clean \n",
      "kaggle -> 0.005372083745896816\n",
      "------------------------------\n",
      "feature vector source_clean \n",
      "link -> 0.005234787240624428\n",
      "------------------------------\n",
      "feature vector source_clean \n",
      "missing -> 0.005044576246291399\n",
      "------------------------------\n",
      "feature vector source_clean \n",
      "out -> 0.005032229702919722\n",
      "------------------------------\n",
      "feature vector glossary_ml_terms_212 \n",
      "independent_variable -> 0.004935173783451319\n",
      "------------------------------\n",
      "feature vector glossary_ml_terms_153 \n",
      "response_variable -> 0.004728739615529776\n",
      "------------------------------\n",
      "feature vector glossary_ml_terms_136 \n",
      "ordinal_variable -> 0.004659112077206373\n",
      "------------------------------\n",
      "feature vector glossary_ml_terms_72 \n",
      "dbscan -> 0.004592064302414656\n",
      "------------------------------\n",
      "feature vector source_clean \n",
      "notebook -> 0.004560662433505058\n",
      "------------------------------\n",
      "feature vector glossary_ml_terms_159 \n",
      "spatial_temporal_reasoning -> 0.004516594111919403\n",
      "------------------------------\n",
      "feature vector glossary_ml_terms_90 \n",
      "ggplot2 -> 0.004498551599681377\n",
      "------------------------------\n",
      "feature vector glossary_ml_terms_93 \n",
      "gradient_descent -> 0.004459896590560675\n",
      "------------------------------\n",
      "feature vector glossary_ml_terms_238 \n",
      "optimizing_for_response_rate -> 0.0043992712162435055\n",
      "------------------------------\n",
      "feature vector glossary_ml_terms_9 \n",
      "Quick, Unbiased, Efficient Statistical Tree algorithm\n",
      "(QUEST) -> 0.004376329947263002\n",
      "------------------------------\n",
      "feature vector glossary_ml_terms_208 \n",
      "predictive_maintenance -> 0.0042726327665150166\n",
      "------------------------------\n",
      "feature vector source_clean \n",
      "also -> 0.004253946710377932\n",
      "------------------------------\n",
      "feature vector glossary_ml_terms_158 \n",
      "smote -> 0.0042108637280762196\n",
      "------------------------------\n",
      "feature vector glossary_ml_terms_74 \n",
      "descriptive_statistics -> 0.004195813555270433\n",
      "------------------------------\n",
      "feature vector source_clean \n",
      "best -> 0.004171708598732948\n",
      "------------------------------\n",
      "feature vector source_clean \n",
      "first -> 0.004167480859905481\n",
      "------------------------------\n",
      "feature vector glossary_ml_terms_55 \n",
      "concordant_discordant_ratio -> 0.004160747863352299\n",
      "------------------------------\n",
      "feature vector glossary_ml_terms_134 \n",
      "one_shot_learning -> 0.0041274866089224815\n",
      "------------------------------\n",
      "feature vector source_clean \n",
      "result -> 0.0040791830979287624\n",
      "------------------------------\n",
      "feature vector source_clean \n",
      "error -> 0.004058461636304855\n",
      "------------------------------\n",
      "feature vector glossary_ml_terms_229 \n",
      "pairing_test -> 0.004046528600156307\n",
      "------------------------------\n",
      "feature vector glossary_ml_terms_21 \n",
      "linear regression -> 0.003990857396274805\n",
      "------------------------------\n",
      "feature vector glossary_ml_terms_193 \n",
      "real_time_deployment -> 0.003984482958912849\n",
      "------------------------------\n",
      "feature vector glossary_ml_terms_29 \n",
      "data quality -> 0.003941861446946859\n",
      "------------------------------\n",
      "feature vector source_clean \n",
      "model -> 0.003936899825930595\n",
      "------------------------------\n",
      "feature vector glossary_ml_terms_149 \n",
      "recommendation_engine -> 0.0038898135535418987\n",
      "------------------------------\n",
      "feature vector glossary_ml_terms_49 \n",
      "bootstrapping -> 0.003882001619786024\n",
      "------------------------------\n",
      "feature vector glossary_ml_terms_23 \n",
      "heat map -> 0.003870702814310789\n",
      "------------------------------\n",
      "feature vector glossary_ml_terms_111 \n",
      "logistic_regression -> 0.003840838558971882\n",
      "------------------------------\n",
      "feature vector glossary_ml_terms_52 \n",
      "business_intelligence -> 0.0038394546136260033\n",
      "------------------------------\n",
      "feature vector glossary_ml_terms_99 \n",
      "hyperparameter -> 0.003837746335193515\n",
      "------------------------------\n",
      "feature vector glossary_ml_terms_128 \n",
      "naive_bayes -> 0.0038230896461755037\n",
      "------------------------------\n",
      "feature vector glossary_ml_terms_148 \n",
      "pytorch -> 0.003791745053604245\n",
      "------------------------------\n",
      "feature vector glossary_ml_terms_195 \n",
      "the_data_effect -> 0.003779466962441802\n",
      "------------------------------\n",
      "feature vector glossary_ml_terms_80 \n",
      "early_stopping -> 0.0037702121771872044\n",
      "------------------------------\n",
      "feature vector glossary_ml_terms_152 \n",
      "residual -> 0.0037388403434306383\n",
      "------------------------------\n",
      "feature vector glossary_ml_terms_7 \n",
      "regression tree algorithm -> 0.0037308880127966404\n",
      "------------------------------\n",
      "feature vector glossary_ml_terms_141 \n",
      "pattern_recognition -> 0.003729256335645914\n",
      "------------------------------\n",
      "feature vector glossary_ml_terms_43 \n",
      "bar_chart -> 0.0037029762752354145\n",
      "------------------------------\n",
      "feature vector glossary_ml_terms_61 \n",
      "cosine_similarity -> 0.00366881862282753\n",
      "------------------------------\n",
      "feature vector source_clean \n",
      "you -> 0.0035971004981547594\n",
      "------------------------------\n",
      "feature vector glossary_ml_terms_36 \n",
      "batch scoring -> 0.003578473348170519\n",
      "------------------------------\n",
      "feature vector glossary_ml_terms_244 \n",
      "explainable_machine_learning -> 0.003573119640350342\n",
      "------------------------------\n",
      "feature vector source_clean \n",
      "id -> 0.0035658699925988913\n",
      "------------------------------\n",
      "feature vector source_clean \n",
      "predict -> 0.003547854721546173\n",
      "------------------------------\n",
      "feature vector source_clean \n",
      "some -> 0.00354440207593143\n",
      "------------------------------\n",
      "feature vector source_clean \n",
      "same -> 0.003513349685817957\n",
      "------------------------------\n",
      "feature vector glossary_ml_terms_197 \n",
      "churn_modeling -> 0.0035094975028187037\n",
      "------------------------------\n",
      "feature vector glossary_ml_terms_65 \n",
      "cross_validation -> 0.0034922449849545956\n",
      "------------------------------\n",
      "feature vector source_clean \n",
      "regression -> 0.003487419569864869\n",
      "------------------------------\n",
      "feature vector source_clean \n",
      "how -> 0.003486370900645852\n",
      "------------------------------\n",
      "feature vector source_clean \n",
      "many -> 0.003462303662672639\n",
      "------------------------------\n",
      "feature vector glossary_ml_terms_185 \n",
      "unsupervised_machine_learning -> 0.0034603492822498083\n",
      "------------------------------\n",
      "feature vector glossary_ml_terms_67 \n",
      "data_science -> 0.003458646358922124\n",
      "------------------------------\n",
      "feature vector glossary_ml_terms_50 \n",
      "box_plot -> 0.0034541101194918156\n",
      "------------------------------\n",
      "feature vector glossary_ml_terms_163 \n",
      "statistics -> 0.0034265166614204645\n",
      "------------------------------\n",
      "feature vector glossary_ml_terms_121 \n",
      "ml_as_a_service_(mlaas) -> 0.003405796829611063\n",
      "------------------------------\n",
      "feature vector source_clean \n",
      "analysis -> 0.0033971110824495554\n",
      "------------------------------\n",
      "feature vector source_clean \n",
      "other -> 0.0033794643823057413\n",
      "------------------------------\n",
      "feature vector source_clean \n",
      "see -> 0.003368632635101676\n",
      "------------------------------\n",
      "feature vector source_clean \n",
      "add -> 0.0033627874217927456\n",
      "------------------------------\n",
      "feature vector glossary_ml_terms_192 \n",
      "offline_deployment -> 0.003359573893249035\n",
      "------------------------------\n",
      "feature vector glossary_ml_terms_75 \n",
      "dependent_variable -> 0.0033360894303768873\n",
      "------------------------------\n",
      "feature vector glossary_ml_terms_156 \n",
      "rotational_invariance -> 0.003334341337904334\n",
      "------------------------------\n",
      "feature vector glossary_ml_terms_102 \n",
      "imputation -> 0.0033094147220253944\n",
      "------------------------------\n",
      "feature vector glossary_ml_terms_240 \n",
      "protected_class -> 0.0033053583465516567\n",
      "------------------------------\n",
      "feature vector glossary_ml_terms_164 \n",
      "stochastic_gradient_descent -> 0.0033029362093657255\n",
      "------------------------------\n",
      "feature vector glossary_ml_terms_120 \n",
      "mis -> 0.0032684362959116697\n",
      "------------------------------\n",
      "feature vector glossary_ml_terms_79 \n",
      "dummy_variable -> 0.0032584501896053553\n",
      "------------------------------\n",
      "feature vector glossary_ml_terms_177 \n",
      "z_test -> 0.003226826898753643\n",
      "------------------------------\n",
      "feature vector source_clean \n",
      "word -> 0.0032093895133584738\n",
      "------------------------------\n",
      "feature vector glossary_ml_terms_30 \n",
      "cross-validation -> 0.003208893584087491\n",
      "------------------------------\n",
      "feature vector glossary_ml_terms_53 \n",
      "autoregression -> 0.0032004318200051785\n",
      "------------------------------\n",
      "feature vector glossary_ml_terms_188 \n",
      "machine_learning_application -> 0.003199884667992592\n",
      "------------------------------\n",
      "feature vector source_clean \n",
      "or -> 0.003188784932717681\n",
      "------------------------------\n",
      "feature vector glossary_ml_terms_179 \n",
      "predictive_analytics -> 0.0031447464134544134\n",
      "------------------------------\n",
      "feature vector glossary_ml_terms_227 \n",
      "profit_curve -> 0.003133974736556411\n",
      "------------------------------\n",
      "feature vector glossary_ml_terms_27 \n",
      "data visualization -> 0.003129372838884592\n",
      "------------------------------\n",
      "feature vector glossary_ml_terms_189 \n",
      "deployment -> 0.003111032536253333\n",
      "------------------------------\n",
      "feature vector glossary_ml_terms_232 \n",
      "kpi -> 0.0031095994636416435\n",
      "------------------------------\n",
      "feature vector glossary_ml_terms_206 \n",
      "predictive_policing -> 0.0031095328740775585\n",
      "------------------------------\n",
      "feature vector glossary_ml_terms_63 \n",
      "covariance -> 0.003093244507908821\n",
      "------------------------------\n",
      "feature vector source_clean \n",
      "now -> 0.0030858225654810667\n",
      "------------------------------\n",
      "feature vector glossary_ml_terms_96 \n",
      "hive -> 0.0030704892706125975\n",
      "------------------------------\n",
      "feature vector glossary_ml_terms_209 \n",
      "image_classification -> 0.003064861288294196\n",
      "------------------------------\n",
      "feature vector entities \n",
      "person -> 0.0030493123922497034\n",
      "------------------------------\n",
      "feature vector glossary_ml_terms_226 \n",
      "gains_curve -> 0.003029352519661188\n",
      "------------------------------\n",
      "feature vector glossary_ml_terms_76 \n",
      "degree_of_freedom -> 0.0030286679975688457\n",
      "------------------------------\n",
      "feature vector glossary_ml_terms_247 \n",
      "predatory_micro_targeting -> 0.003027863334864378\n",
      "------------------------------\n",
      "feature vector glossary_ml_terms_167 \n",
      "torch -> 0.0030158213339746\n",
      "------------------------------\n",
      "feature vector glossary_ml_terms_187 \n",
      "data_science_/_big_data_/_analytics_/_data_mining -> 0.0030139582231640816\n",
      "------------------------------\n",
      "feature vector source_clean \n",
      "only -> 0.0030108175706118345\n",
      "------------------------------\n",
      "feature vector glossary_ml_terms_82 \n",
      "etl -> 0.0029689385555684566\n",
      "------------------------------\n",
      "feature vector source_clean \n",
      "top -> 0.002965689869597554\n",
      "------------------------------\n",
      "feature vector glossary_ml_terms_35 \n",
      "Bayesian network -> 0.0029564714059233665\n",
      "------------------------------\n",
      "feature vector glossary_ml_terms_201 \n",
      "fraud_detection -> 0.0029482641257345676\n",
      "------------------------------\n",
      "feature vector source_clean \n",
      "an -> 0.0029480205848813057\n",
      "------------------------------\n",
      "feature vector glossary_ml_terms_143 \n",
      "pig -> 0.002947236644104123\n",
      "------------------------------\n",
      "feature vector glossary_ml_terms_68 \n",
      "database -> 0.0029279610607773066\n",
      "------------------------------\n",
      "feature vector python_code_names \n",
      "describe -> 0.002927306806668639\n",
      "------------------------------\n",
      "feature vector glossary_ml_terms_81 \n",
      "eda -> 0.0029188119806349277\n",
      "------------------------------\n",
      "feature vector source_clean \n",
      "do -> 0.002909547183662653\n",
      "------------------------------\n",
      "feature vector source_clean \n",
      "which -> 0.002898240927606821\n",
      "------------------------------\n",
      "feature vector source_clean \n",
      "cv -> 0.002897974569350481\n",
      "------------------------------\n",
      "feature vector code_comments \n",
      "this -> 0.0028949195984750986\n",
      "------------------------------\n",
      "feature vector source_clean \n",
      "our -> 0.002889147726818919\n",
      "------------------------------\n",
      "feature vector glossary_ml_terms_145 \n",
      "principal_component_analysis_(pca) -> 0.002885828958824277\n",
      "------------------------------\n",
      "feature vector glossary_ml_terms_169 \n",
      "true_negative -> 0.0028665445279330015\n",
      "------------------------------\n",
      "feature vector glossary_ml_terms_58 \n",
      "convergence -> 0.00285791396163404\n",
      "------------------------------\n",
      "feature vector source_clean \n",
      "column -> 0.0028543376829475164\n",
      "------------------------------\n",
      "feature vector glossary_ml_terms_33 \n",
      "classification and regression tree algorithm -> 0.0028510536067187786\n",
      "------------------------------\n",
      "feature vector source_clean \n",
      "rate -> 0.002848283154889941\n",
      "------------------------------\n",
      "feature vector glossary_ml_terms_37 \n",
      "association -> 0.002848139265552163\n",
      "------------------------------\n",
      "feature vector source_clean \n",
      "data -> 0.0028356430120766163\n",
      "------------------------------\n",
      "feature vector entities \n",
      "ordinal -> 0.0028137871995568275\n",
      "------------------------------\n",
      "feature vector source_clean \n",
      "python -> 0.002804085612297058\n",
      "------------------------------\n",
      "feature vector source_clean \n",
      "dataset -> 0.002793681574985385\n",
      "------------------------------\n",
      "feature vector python_code_names \n",
      "isnull -> 0.002782539464533329\n",
      "------------------------------\n",
      "feature vector glossary_ml_terms_114 \n",
      "mapreduce -> 0.00276037841103971\n",
      "------------------------------\n",
      "feature vector glossary_ml_terms_194 \n",
      "the_prediction_effect -> 0.002756125293672085\n",
      "------------------------------\n",
      "feature vector glossary_ml_terms_28 \n",
      "data set -> 0.002732759341597557\n",
      "------------------------------\n",
      "feature vector source_clean \n",
      "price -> 0.002726880135014653\n",
      "------------------------------\n",
      "feature vector glossary_ml_terms_155 \n",
      "root_mean_squared_error_(rmse) -> 0.002725086407735944\n",
      "------------------------------\n",
      "feature vector glossary_ml_terms_151 \n",
      "regularization -> 0.002705731661990285\n",
      "------------------------------\n",
      "feature vector glossary_ml_terms_115 \n",
      "market_basket_analysis -> 0.0027043300215154886\n",
      "------------------------------\n",
      "feature vector glossary_ml_terms_66 \n",
      "data_mining -> 0.002682659076526761\n",
      "------------------------------\n",
      "feature vector source_clean \n",
      "validation -> 0.002658036071807146\n",
      "------------------------------\n",
      "feature vector glossary_ml_terms_147 \n",
      "python -> 0.0026575466617941856\n",
      "------------------------------\n",
      "feature vector glossary_ml_terms_34 \n",
      "binomial logistic regression -> 0.0026560837868601084\n",
      "------------------------------\n",
      "feature vector glossary_ml_terms_122 \n",
      "mode -> 0.0026396040339022875\n",
      "------------------------------\n",
      "feature vector source_clean \n",
      "num -> 0.002621912630274892\n",
      "------------------------------\n",
      "feature vector source_clean \n",
      "more -> 0.002608782146126032\n",
      "------------------------------\n",
      "feature vector source_clean \n",
      "max -> 0.0026045844424515963\n",
      "------------------------------\n",
      "feature vector source_clean \n",
      "so -> 0.002599607687443495\n",
      "------------------------------\n",
      "feature vector entities \n",
      "gpe -> 0.0025963878724724054\n",
      "------------------------------\n",
      "feature vector source_clean \n",
      "example -> 0.0025877521838992834\n",
      "------------------------------\n",
      "feature vector source_clean \n",
      "here -> 0.0025816482957452536\n",
      "------------------------------\n",
      "feature vector glossary_ml_terms_60 \n",
      "correlation -> 0.0025713532231748104\n",
      "------------------------------\n",
      "feature vector source_clean \n",
      "accuracy -> 0.002563280751928687\n",
      "------------------------------\n",
      "feature vector source_clean \n",
      "age -> 0.0025621040258556604\n",
      "------------------------------\n",
      "feature vector python_code_names \n",
      "y_pred -> 0.0025452501140534878\n",
      "------------------------------\n",
      "feature vector source_clean \n",
      "most -> 0.002544335788115859\n",
      "------------------------------\n",
      "feature vector entities \n",
      "date -> 0.002541866386309266\n",
      "------------------------------\n",
      "feature vector source_clean \n",
      "distribution -> 0.002534668892621994\n",
      "------------------------------\n",
      "feature vector glossary_ml_terms_14 \n",
      "online scoring -> 0.0025297063402831554\n",
      "------------------------------\n",
      "feature vector source_clean \n",
      "col -> 0.002529011107981205\n",
      "------------------------------\n",
      "feature vector source_clean \n",
      "any -> 0.0025278578978031874\n",
      "------------------------------\n",
      "feature vector glossary_ml_terms_89 \n",
      "gated_recurrent_unit_(gru) -> 0.002520219888538122\n",
      "------------------------------\n",
      "feature vector glossary_ml_terms_85 \n",
      "false_positive -> 0.0025110698770731688\n",
      "------------------------------\n",
      "feature vector python_code_names \n",
      "col -> 0.0024924143217504025\n",
      "------------------------------\n",
      "feature vector glossary_ml_terms_230 \n",
      "auc -> 0.0024821592960506678\n",
      "------------------------------\n",
      "feature vector source_clean \n",
      "each -> 0.002459251321852207\n",
      "------------------------------\n",
      "feature vector source_clean \n",
      "title -> 0.0024570836685597897\n",
      "------------------------------\n",
      "feature vector glossary_ml_terms_110 \n",
      "log_loss -> 0.0024471876677125692\n",
      "------------------------------\n",
      "feature vector glossary_ml_terms_109 \n",
      "line_chart -> 0.00241706776432693\n",
      "------------------------------\n",
      "feature vector source_clean \n",
      "unique -> 0.0023790989071130753\n",
      "------------------------------\n",
      "feature vector glossary_ml_terms_138 \n",
      "overfitting -> 0.002362394705414772\n",
      "------------------------------\n",
      "feature vector glossary_ml_terms_108 \n",
      "labeled_data -> 0.0023581141140311956\n",
      "------------------------------\n",
      "feature vector glossary_ml_terms_196 \n",
      "response_modeling -> 0.002345023211091757\n",
      "------------------------------\n",
      "feature vector python_code_names \n",
      "range -> 0.002337341895326972\n",
      "------------------------------\n",
      "feature vector source_clean \n",
      "load -> 0.0023360669147223234\n",
      "------------------------------\n",
      "feature vector source_clean \n",
      "like -> 0.00232564564794302\n",
      "------------------------------\n",
      "feature vector source_clean \n",
      "step -> 0.0023092760238796473\n",
      "------------------------------\n",
      "feature vector source_clean \n",
      "create -> 0.002306784503161907\n",
      "------------------------------\n",
      "feature vector glossary_ml_terms_98 \n",
      "holt_winters_forecasting -> 0.0023053407203406096\n",
      "------------------------------\n",
      "feature vector source_clean \n",
      "used -> 0.0022969855926930904\n",
      "------------------------------\n",
      "feature vector glossary_ml_terms_231 \n",
      "roc -> 0.0022848567459732294\n",
      "------------------------------\n",
      "feature vector source_clean \n",
      "them -> 0.002281982684507966\n",
      "------------------------------\n",
      "feature vector glossary_ml_terms_38 \n",
      "accuracy -> 0.002279066015034914\n",
      "------------------------------\n",
      "feature vector glossary_ml_terms_223 \n",
      "decision_boundaries -> 0.0022687301971018314\n",
      "------------------------------\n",
      "feature vector code_comments \n",
      "column -> 0.0022613948676735163\n",
      "------------------------------\n",
      "feature vector python_code_names \n",
      "predict -> 0.0022599410731345415\n",
      "------------------------------\n",
      "feature vector python_code_names \n",
      "copy -> 0.002243210095912218\n",
      "------------------------------\n",
      "feature vector glossary_ml_terms_162 \n",
      "standard_error -> 0.0022320065181702375\n",
      "------------------------------\n",
      "feature vector glossary_ml_terms_119 \n",
      "median -> 0.002229847479611635\n",
      "------------------------------\n",
      "feature vector python_code_names \n",
      "size -> 0.0022232213523238897\n",
      "------------------------------\n",
      "feature vector source_clean \n",
      "score -> 0.002188245067372918\n",
      "------------------------------\n",
      "feature vector glossary_ml_terms_31 \n",
      "Cox regression algorithm -> 0.0021818887908011675\n",
      "------------------------------\n",
      "feature vector glossary_ml_terms_83 \n",
      "factor_analysis -> 0.0021808184683322906\n",
      "------------------------------\n",
      "feature vector source_clean \n",
      "using -> 0.0021789653692394495\n",
      "------------------------------\n",
      "feature vector glossary_ml_terms_47 \n",
      "binary_variable -> 0.002176785608753562\n",
      "------------------------------\n",
      "feature vector python_code_names \n",
      "title -> 0.002174974884837866\n",
      "------------------------------\n",
      "feature vector source_clean \n",
      "fit -> 0.0021606069058179855\n",
      "------------------------------\n",
      "feature vector glossary_ml_terms_51 \n",
      "business_analytics -> 0.0021448819898068905\n",
      "------------------------------\n",
      "feature vector source_clean \n",
      "be -> 0.002142843557521701\n",
      "------------------------------\n",
      "feature vector entities \n",
      "cardinal -> 0.0021254417952150106\n",
      "------------------------------\n",
      "feature vector source_clean \n",
      "batch -> 0.0021226569078862667\n",
      "------------------------------\n",
      "feature vector source_clean \n",
      "test -> 0.0021190375555306673\n",
      "------------------------------\n",
      "feature vector glossary_ml_terms_234 \n",
      "is_possible_to_estimate_a_priori -> 0.002113285241648555\n",
      "------------------------------\n",
      "feature vector glossary_ml_terms_3 \n",
      "training -> 0.0021114840637892485\n",
      "------------------------------\n",
      "feature vector glossary_ml_terms_228 \n",
      "misclassification_cost -> 0.00209833518601954\n",
      "------------------------------\n",
      "feature vector code_comments \n",
      "value -> 0.002095577772706747\n",
      "------------------------------\n",
      "feature vector source_clean \n",
      "confusion -> 0.0020926636643707752\n",
      "------------------------------\n",
      "feature vector python_code_names \n",
      "append -> 0.0020730565302073956\n",
      "------------------------------\n",
      "feature vector source_clean \n",
      "new -> 0.0020663507748395205\n",
      "------------------------------\n",
      "feature vector glossary_ml_terms_154 \n",
      "roc_auc -> 0.002049048198387027\n",
      "------------------------------\n",
      "feature vector glossary_ml_terms_173 \n",
      "t_test -> 0.0020452409517019987\n",
      "------------------------------\n",
      "feature vector glossary_ml_terms_25 \n",
      "decision tree algorithm -> 0.0020303837954998016\n",
      "------------------------------\n",
      "feature vector glossary_ml_terms_126 \n",
      "multivariate_analysis -> 0.0020272890105843544\n",
      "------------------------------\n",
      "feature vector source_clean \n",
      "time -> 0.002027190290391445\n",
      "------------------------------\n",
      "feature vector glossary_ml_terms_129 \n",
      "natural_language_processing -> 0.002025763737037778\n",
      "------------------------------\n",
      "feature vector glossary_ml_terms_105 \n",
      "iteration -> 0.0020197199191898108\n",
      "------------------------------\n",
      "feature vector code_comments \n",
      "with -> 0.0020160849671810865\n",
      "------------------------------\n",
      "feature vector source_clean \n",
      "ax -> 0.00201570731587708\n",
      "------------------------------\n",
      "feature vector source_clean \n",
      "append -> 0.0020138125400990248\n",
      "------------------------------\n",
      "feature vector glossary_ml_terms_220 \n",
      "uplift_modeling_predictive_modeling -> 0.0020077363587915897\n",
      "------------------------------\n",
      "feature vector glossary_ml_terms_180 \n",
      "predictive_model -> 0.0020036809146404266\n",
      "------------------------------\n",
      "feature vector source_clean \n",
      "display -> 0.0019993723835796118\n",
      "------------------------------\n",
      "feature vector code_comments \n",
      "it -> 0.001992761390283704\n",
      "------------------------------\n",
      "feature vector source_clean \n",
      "loss -> 0.0019925350788980722\n",
      "------------------------------\n",
      "feature vector entities \n",
      "org -> 0.001992373261600733\n",
      "------------------------------\n",
      "feature vector glossary_ml_terms_216 \n",
      "demographic_data -> 0.001981183420866728\n",
      "------------------------------\n",
      "feature vector glossary_ml_terms_124 \n",
      "monte_carlo_simluation -> 0.001978538231924176\n",
      "------------------------------\n",
      "feature vector python_code_names \n",
      "ylabel -> 0.001975047867745161\n",
      "------------------------------\n",
      "feature vector python_code_names \n",
      "inplace -> 0.0019746681209653616\n",
      "------------------------------\n",
      "feature vector python_code_names \n",
      "train -> 0.001965251751244068\n",
      "------------------------------\n",
      "feature vector glossary_ml_terms_86 \n",
      "feature_reduction -> 0.001960559980943799\n",
      "------------------------------\n",
      "feature vector source_clean \n",
      "sklearn -> 0.001957998378202319\n",
      "------------------------------\n",
      "feature vector python_code_names \n",
      "pyplot -> 0.0019555664621293545\n",
      "------------------------------\n",
      "feature vector source_clean \n",
      "matrix -> 0.0019516623578965664\n",
      "------------------------------\n",
      "feature vector source_clean \n",
      "if -> 0.001950302510522306\n",
      "------------------------------\n",
      "feature vector python_code_names \n",
      "plot -> 0.0019502324284985662\n",
      "------------------------------\n",
      "feature vector python_code_names \n",
      "dataset -> 0.0019446895457804203\n",
      "------------------------------\n",
      "feature vector python_code_names \n",
      "model -> 0.0019423135090619326\n",
      "------------------------------\n",
      "feature vector glossary_ml_terms_130 \n",
      "nosql -> 0.0019401796162128448\n",
      "------------------------------\n",
      "feature vector source_clean \n",
      "pred -> 0.0019315503304824233\n",
      "------------------------------\n",
      "feature vector source_clean \n",
      "labels -> 0.001907155616208911\n",
      "------------------------------\n",
      "feature vector source_clean \n",
      "fig -> 0.0018940296722576022\n",
      "------------------------------\n",
      "feature vector python_code_names \n",
      "split -> 0.001888210535980761\n",
      "------------------------------\n",
      "feature vector glossary_ml_terms_54 \n",
      "computer_vision -> 0.0018842238932847977\n",
      "------------------------------\n",
      "feature vector glossary_ml_terms_91 \n",
      "go -> 0.001881820964626968\n",
      "------------------------------\n",
      "feature vector glossary_ml_terms_171 \n",
      "type_i_error -> 0.0018792966147884727\n",
      "------------------------------\n",
      "feature vector python_code_names \n",
      "df -> 0.0018730555893853307\n",
      "------------------------------\n",
      "feature vector source_clean \n",
      "value -> 0.0018687844276428223\n",
      "------------------------------\n",
      "feature vector source_clean \n",
      "can -> 0.0018682320369407535\n",
      "------------------------------\n",
      "feature vector glossary_ml_terms_17 \n",
      "model building -> 0.0018582841148599982\n",
      "------------------------------\n",
      "feature vector glossary_ml_terms_4 \n",
      "testing -> 0.0018580324249342084\n",
      "------------------------------\n",
      "feature vector glossary_ml_terms_217 \n",
      "behavioral_data -> 0.0018579972675070167\n",
      "------------------------------\n",
      "feature vector python_code_names \n",
      "color -> 0.0018547277431935072\n",
      "------------------------------\n",
      "feature vector source_clean \n",
      "plot -> 0.0018529595108702779\n",
      "------------------------------\n",
      "feature vector source_clean \n",
      "output -> 0.0018452914664521813\n",
      "------------------------------\n",
      "feature vector source_clean \n",
      "no -> 0.001840865472331643\n",
      "------------------------------\n",
      "feature vector source_clean \n",
      "will -> 0.0018365061841905117\n",
      "------------------------------\n",
      "feature vector source_clean \n",
      "year -> 0.0018210153793916106\n",
      "------------------------------\n",
      "feature vector glossary_ml_terms_10 \n",
      "probability -> 0.0018134349957108498\n",
      "------------------------------\n",
      "feature vector source_clean \n",
      "make -> 0.0018011280335485935\n",
      "------------------------------\n",
      "feature vector source_clean \n",
      "label -> 0.0018003388540819287\n",
      "------------------------------\n",
      "feature vector source_clean \n",
      "this -> 0.0017899498343467712\n",
      "------------------------------\n",
      "feature vector source_clean \n",
      "false -> 0.0017813232261687517\n",
      "------------------------------\n",
      "feature vector source_clean \n",
      "sns -> 0.0017809863202273846\n",
      "------------------------------\n",
      "feature vector glossary_ml_terms_170 \n",
      "true_positive -> 0.0017784432275220752\n",
      "------------------------------\n",
      "feature vector glossary_ml_terms_183 \n",
      "labeled_data_training_data -> 0.0017739926697686315\n",
      "------------------------------\n",
      "feature vector source_clean \n",
      "variable -> 0.00176629435736686\n",
      "------------------------------\n",
      "feature vector source_clean \n",
      "ha -> 0.0017586909234523773\n",
      "------------------------------\n",
      "feature vector glossary_ml_terms_137 \n",
      "outlier -> 0.0017584513407200575\n",
      "------------------------------\n",
      "feature vector code_comments \n",
      "will -> 0.001741712330840528\n",
      "------------------------------\n",
      "feature vector glossary_ml_terms_94 \n",
      "hadoop -> 0.001730986637994647\n",
      "------------------------------\n",
      "feature vector python_code_names \n",
      "path -> 0.0017292846459895372\n",
      "------------------------------\n",
      "feature vector source_clean \n",
      "get -> 0.0017169754719361663\n",
      "------------------------------\n",
      "feature vector python_code_names \n",
      "cmap -> 0.0017120070988312364\n",
      "------------------------------\n",
      "feature vector source_clean \n",
      "apply -> 0.0017027423018589616\n",
      "------------------------------\n",
      "feature vector source_clean \n",
      "np -> 0.0016993589233607054\n",
      "------------------------------\n",
      "feature vector glossary_ml_terms_199 \n",
      "credit_scoring -> 0.0016853843117132783\n",
      "------------------------------\n",
      "feature vector python_code_names \n",
      "data -> 0.0016818594885990024\n",
      "------------------------------\n",
      "feature vector glossary_ml_terms_242 \n",
      "machine_bias -> 0.0016814154805615544\n",
      "------------------------------\n",
      "feature vector source_clean \n",
      "file -> 0.001675583072938025\n",
      "------------------------------\n",
      "feature vector glossary_ml_terms_166 \n",
      "tokenization -> 0.0016724667511880398\n",
      "------------------------------\n",
      "feature vector glossary_ml_terms_245 \n",
      "model_transparency -> 0.001671390957199037\n",
      "------------------------------\n",
      "feature vector glossary_ml_terms_56 \n",
      "confidence_interval -> 0.0016620911192148924\n",
      "------------------------------\n",
      "feature vector python_code_names \n",
      "train_df -> 0.0016610994935035706\n",
      "------------------------------\n",
      "feature vector python_code_names \n",
      "ax -> 0.0016462564235553145\n",
      "------------------------------\n",
      "feature vector source_clean \n",
      "function -> 0.0016404205234721303\n",
      "------------------------------\n",
      "feature vector source_clean \n",
      "inplace -> 0.0016361779998987913\n",
      "------------------------------\n",
      "feature vector glossary_ml_terms_248 \n",
      "the_coded_gaze -> 0.0016179131343960762\n",
      "------------------------------\n",
      "feature vector glossary_ml_terms_146 \n",
      "p_value -> 0.0016135904006659985\n",
      "------------------------------\n",
      "feature vector python_code_names \n",
      "fontsize -> 0.0016090755816549063\n",
      "------------------------------\n",
      "feature vector glossary_ml_terms_191 \n",
      "decision_support -> 0.0016021985793486238\n",
      "------------------------------\n",
      "feature vector source_clean \n",
      "final -> 0.0015933760441839695\n",
      "------------------------------\n",
      "feature vector source_clean \n",
      "that -> 0.0015918760327622294\n",
      "------------------------------\n",
      "feature vector source_clean \n",
      "list -> 0.0015885489992797375\n",
      "------------------------------\n",
      "feature vector source_clean \n",
      "range -> 0.0015875016106292605\n",
      "------------------------------\n",
      "feature vector source_clean \n",
      "random -> 0.001587413251399994\n",
      "------------------------------\n",
      "feature vector source_clean \n",
      "use -> 0.00158269377425313\n",
      "------------------------------\n",
      "feature vector glossary_ml_terms_203 \n",
      "ad_targeting -> 0.0015675077447667718\n",
      "------------------------------\n",
      "feature vector python_code_names \n",
      "ascending -> 0.0015663900412619114\n",
      "------------------------------\n",
      "feature vector source_clean \n",
      "train -> 0.001565976650454104\n",
      "------------------------------\n",
      "feature vector source_clean \n",
      "return -> 0.0015577094163745642\n",
      "------------------------------\n",
      "feature vector glossary_ml_terms_219 \n",
      "feature_selection -> 0.0015559298917651176\n",
      "------------------------------\n",
      "feature vector source_clean \n",
      "show -> 0.0015514055266976357\n",
      "------------------------------\n",
      "feature vector source_clean \n",
      "csv -> 0.0015502114547416568\n",
      "------------------------------\n",
      "feature vector source_clean \n",
      "with -> 0.00154744868632406\n",
      "------------------------------\n",
      "feature vector source_clean \n",
      "input -> 0.0015472632367163897\n",
      "------------------------------\n",
      "feature vector source_clean \n",
      "index -> 0.0015468500787392259\n",
      "------------------------------\n",
      "feature vector python_code_names \n",
      "for -> 0.0015365798026323318\n",
      "------------------------------\n",
      "feature vector source_clean \n",
      "on -> 0.0015332474140450358\n",
      "------------------------------\n",
      "feature vector source_clean \n",
      "feature -> 0.0015282992972061038\n",
      "------------------------------\n",
      "feature vector source_clean \n",
      "are -> 0.0015254402533173561\n",
      "------------------------------\n",
      "feature vector python_code_names \n",
      "sort_values -> 0.0015197083121165633\n",
      "------------------------------\n",
      "feature vector source_clean \n",
      "is -> 0.0015191661659628153\n",
      "------------------------------\n",
      "feature vector source_clean \n",
      "linear -> 0.0015169150428846478\n",
      "------------------------------\n",
      "feature vector source_clean \n",
      "counts -> 0.001516609569080174\n",
      "------------------------------\n",
      "feature vector python_code_names \n",
      "values -> 0.001516050542704761\n",
      "------------------------------\n",
      "feature vector source_clean \n",
      "for -> 0.0015110953245311975\n",
      "------------------------------\n",
      "feature vector source_clean \n",
      "of -> 0.0015072955284267664\n",
      "------------------------------\n",
      "feature vector source_clean \n",
      "figure -> 0.0015032461378723383\n",
      "------------------------------\n",
      "feature vector python_code_names \n",
      "show -> 0.0015009600901976228\n",
      "------------------------------\n",
      "feature vector python_code_names \n",
      "list -> 0.0014944338472560048\n",
      "------------------------------\n",
      "feature vector source_clean \n",
      "let -> 0.0014930664328858256\n",
      "------------------------------\n",
      "feature vector python_code_names \n",
      "apply -> 0.001490807393565774\n",
      "------------------------------\n",
      "feature vector source_clean \n",
      "all -> 0.0014899799134582281\n",
      "------------------------------\n",
      "feature vector python_code_names \n",
      "imshow -> 0.0014889718731865287\n",
      "------------------------------\n",
      "feature vector python_code_names \n",
      "str -> 0.0014861655654385686\n",
      "------------------------------\n",
      "feature vector source_clean \n",
      "sum -> 0.0014843178214505315\n",
      "------------------------------\n",
      "feature vector source_clean \n",
      "df -> 0.0014758734032511711\n",
      "------------------------------\n",
      "feature vector source_clean \n",
      "by -> 0.0014728934038430452\n",
      "------------------------------\n",
      "feature vector glossary_ml_terms_168 \n",
      "transfer_learning -> 0.0014726845547556877\n",
      "------------------------------\n",
      "feature vector code_comments \n",
      "data -> 0.001467126072384417\n",
      "------------------------------\n",
      "feature vector python_code_names \n",
      "loc -> 0.0014647877542302012\n",
      "------------------------------\n",
      "feature vector source_clean \n",
      "and -> 0.0014491607435047626\n",
      "------------------------------\n",
      "feature vector glossary_ml_terms_40 \n",
      "apache_spark -> 0.0014489792520180345\n",
      "------------------------------\n",
      "feature vector source_clean \n",
      "there -> 0.0014420924708247185\n",
      "------------------------------\n",
      "feature vector python_code_names \n",
      "columns -> 0.0014410114381462336\n",
      "------------------------------\n",
      "feature vector glossary_ml_terms_1 \n",
      "unrefined model -> 0.0014403671957552433\n",
      "------------------------------\n",
      "feature vector source_clean \n",
      "number -> 0.001439305953681469\n",
      "------------------------------\n",
      "feature vector python_code_names \n",
      "value_counts -> 0.0014365093084052205\n",
      "------------------------------\n",
      "feature vector source_clean \n",
      "preprocessing -> 0.0014229746302589774\n",
      "------------------------------\n",
      "feature vector python_code_names \n",
      "len -> 0.00142085540574044\n",
      "------------------------------\n",
      "feature vector python_code_names \n",
      "sns -> 0.0014142390573397279\n",
      "------------------------------\n",
      "feature vector python_code_names \n",
      "text -> 0.00141394033562392\n",
      "------------------------------\n",
      "feature vector python_code_names \n",
      "import -> 0.0014078703243285418\n",
      "------------------------------\n",
      "feature vector source_clean \n",
      "features -> 0.0014052652986720204\n",
      "------------------------------\n",
      "feature vector python_code_names \n",
      "if -> 0.0013928060652688146\n",
      "------------------------------\n",
      "feature vector code_comments \n",
      "from -> 0.0013923232909291983\n",
      "------------------------------\n",
      "feature vector python_code_names \n",
      "drop -> 0.001390227465890348\n",
      "------------------------------\n",
      "feature vector python_code_names \n",
      "figsize -> 0.0013870825059711933\n",
      "------------------------------\n",
      "feature vector source_clean \n",
      "pd -> 0.001381924725137651\n",
      "------------------------------\n",
      "feature vector source_clean \n",
      "figsize -> 0.001378518296405673\n",
      "------------------------------\n",
      "feature vector python_code_names \n",
      "train_data -> 0.0013770540244877338\n",
      "------------------------------\n",
      "feature vector code_comments \n",
      "test -> 0.0013764383038505912\n",
      "------------------------------\n",
      "feature vector source_clean \n",
      "loc -> 0.0013734097592532635\n",
      "------------------------------\n",
      "feature vector glossary_ml_terms_211 \n",
      "predictive_goal -> 0.0013732768129557371\n",
      "------------------------------\n",
      "feature vector glossary_ml_terms_181 \n",
      "n_individual -> 0.0013607700821012259\n",
      "------------------------------\n",
      "feature vector source_clean \n",
      "columns -> 0.001358174835331738\n",
      "------------------------------\n",
      "feature vector source_clean \n",
      "path -> 0.0013577251229435205\n",
      "------------------------------\n",
      "feature vector glossary_ml_terms_132 \n",
      "normalization -> 0.001355145825073123\n",
      "------------------------------\n",
      "feature vector source_clean \n",
      "to -> 0.0013546079862862825\n",
      "------------------------------\n",
      "feature vector python_code_names \n",
      "fit -> 0.0013496262254193425\n",
      "------------------------------\n",
      "feature vector python_code_names \n",
      "x_test -> 0.0013441652990877628\n",
      "------------------------------\n",
      "feature vector source_clean \n",
      "true -> 0.001343411160632968\n",
      "------------------------------\n",
      "feature vector source_clean \n",
      "import -> 0.0013370459200814366\n",
      "------------------------------\n",
      "feature vector source_clean \n",
      "we -> 0.001331849955022335\n",
      "------------------------------\n",
      "feature vector python_code_names \n",
      "x_train -> 0.001323804841376841\n",
      "------------------------------\n",
      "feature vector python_code_names \n",
      "return -> 0.0013210419565439224\n",
      "------------------------------\n",
      "feature vector python_code_names \n",
      "dataframe -> 0.0013197551015764475\n",
      "------------------------------\n",
      "feature vector python_code_names \n",
      "false -> 0.0013176666107028723\n",
      "------------------------------\n",
      "feature vector python_code_names \n",
      "fig -> 0.0013092505978420377\n",
      "------------------------------\n",
      "feature vector glossary_ml_terms_172 \n",
      "type_ii_error -> 0.0012937618885189295\n",
      "------------------------------\n",
      "feature vector source_clean \n",
      "into -> 0.0012934013502672315\n",
      "------------------------------\n",
      "feature vector python_code_names \n",
      "index -> 0.0012923061149194837\n",
      "------------------------------\n",
      "feature vector source_clean \n",
      "class -> 0.0012910979567095637\n",
      "------------------------------\n",
      "feature vector source_clean \n",
      "at -> 0.0012870486825704575\n",
      "------------------------------\n",
      "feature vector python_code_names \n",
      "test -> 0.0012843667063862085\n",
      "------------------------------\n",
      "feature vector python_code_names \n",
      "np -> 0.0012604567455127835\n",
      "------------------------------\n",
      "feature vector source_clean \n",
      "from -> 0.0012531070969998837\n",
      "------------------------------\n",
      "feature vector python_code_names \n",
      "lambda -> 0.0012501688906922936\n",
      "------------------------------\n",
      "feature vector python_code_names \n",
      "label -> 0.0012489573564380407\n",
      "------------------------------\n",
      "feature vector glossary_ml_terms_190 \n",
      "decision_automation -> 0.0012419294798746705\n",
      "------------------------------\n",
      "feature vector source_clean \n",
      "mean -> 0.0012363312998786569\n",
      "------------------------------\n",
      "feature vector source_clean \n",
      "it -> 0.0012329757446423173\n",
      "------------------------------\n",
      "feature vector python_code_names \n",
      "legend -> 0.0012303140247240663\n",
      "------------------------------\n",
      "feature vector glossary_ml_terms_77 \n",
      "dimensionality_reduction -> 0.0012271006125956774\n",
      "------------------------------\n",
      "feature vector source_clean \n",
      "groupby -> 0.0012249764986336231\n",
      "------------------------------\n",
      "feature vector python_code_names \n",
      "plt -> 0.0012077196734026074\n",
      "------------------------------\n",
      "feature vector code_comments \n",
      "and -> 0.0011925837025046349\n",
      "------------------------------\n",
      "feature vector glossary_ml_terms_241 \n",
      "discriminatory_model -> 0.0011874389601871371\n",
      "------------------------------\n",
      "feature vector code_comments \n",
      "number -> 0.0011873035691678524\n",
      "------------------------------\n",
      "feature vector source_clean \n",
      "dataframe -> 0.0011799463536590338\n",
      "------------------------------\n",
      "feature vector python_code_names \n",
      "iloc -> 0.0011797993211075664\n",
      "------------------------------\n",
      "feature vector source_clean \n",
      "values -> 0.0011792548466473818\n",
      "------------------------------\n",
      "feature vector python_code_names \n",
      "metrics -> 0.0011785413371399045\n",
      "------------------------------\n",
      "feature vector code_comments \n",
      "is -> 0.001169094117358327\n",
      "------------------------------\n",
      "feature vector source_clean \n",
      "head -> 0.0011537853861227632\n",
      "------------------------------\n",
      "feature vector source_clean \n",
      "set -> 0.0011411134619265795\n",
      "------------------------------\n",
      "feature vector source_clean \n",
      "image -> 0.0011359085328876972\n",
      "------------------------------\n",
      "feature vector source_clean \n",
      "isnull -> 0.0011314927833154798\n",
      "------------------------------\n",
      "feature vector glossary_ml_terms_87 \n",
      "flume -> 0.0011260133469477296\n",
      "------------------------------\n",
      "feature vector source_clean \n",
      "def -> 0.0011259092716500163\n",
      "------------------------------\n",
      "feature vector python_code_names \n",
      "in -> 0.0011255774879828095\n",
      "------------------------------\n",
      "feature vector python_code_names \n",
      "sum -> 0.001121720764786005\n",
      "------------------------------\n",
      "feature vector source_clean \n",
      "table -> 0.001111589721404016\n",
      "------------------------------\n",
      "feature vector python_code_names \n",
      "figure -> 0.001098458538763225\n",
      "------------------------------\n",
      "feature vector source_clean \n",
      "axis -> 0.0010969274444505572\n",
      "------------------------------\n",
      "feature vector python_code_names \n",
      "read_csv -> 0.0010910710552707314\n",
      "------------------------------\n",
      "feature vector code_comments \n",
      "all -> 0.0010906425304710865\n",
      "------------------------------\n",
      "feature vector python_code_names \n",
      "from -> 0.0010883375070989132\n",
      "------------------------------\n",
      "feature vector source_clean \n",
      "the -> 0.0010493374429643154\n",
      "------------------------------\n",
      "feature vector source_clean \n",
      "training -> 0.0010417932644486427\n",
      "------------------------------\n",
      "feature vector code_comments \n",
      "to -> 0.0010414085118100047\n",
      "------------------------------\n",
      "feature vector python_code_names \n",
      "true -> 0.0010410200338810682\n",
      "------------------------------\n",
      "feature vector glossary_ml_terms_69 \n",
      "dataframe -> 0.0010337064741179347\n",
      "------------------------------\n",
      "feature vector source_clean \n",
      "print -> 0.001031956635415554\n",
      "------------------------------\n",
      "feature vector source_clean \n",
      "shape -> 0.0010249415645375848\n",
      "------------------------------\n",
      "feature vector python_code_names \n",
      "head -> 0.001014644862152636\n",
      "------------------------------\n",
      "feature vector source_clean \n",
      "in -> 0.0010145466076210141\n",
      "------------------------------\n",
      "feature vector code_comments \n",
      "model -> 0.0010102881351485848\n",
      "------------------------------\n",
      "feature vector python_code_names \n",
      "axis -> 0.0010054103331640363\n",
      "------------------------------\n",
      "feature vector code_comments \n",
      "list -> 0.0009983344934880733\n",
      "------------------------------\n",
      "feature vector python_code_names \n",
      "groupby -> 0.0009862175211310387\n",
      "------------------------------\n",
      "feature vector source_clean \n",
      "split -> 0.0009757500374689698\n",
      "------------------------------\n",
      "feature vector code_comments \n",
      "of -> 0.0009356533410027623\n",
      "------------------------------\n",
      "feature vector python_code_names \n",
      "def -> 0.0008980240672826767\n",
      "------------------------------\n",
      "feature vector python_code_names \n",
      "shape -> 0.0008978588739410043\n",
      "------------------------------\n",
      "feature vector python_code_names \n",
      "pd -> 0.000895101111382246\n",
      "------------------------------\n",
      "feature vector python_code_names \n",
      "random_state -> 0.0008929639006964862\n",
      "------------------------------\n",
      "feature vector source_clean \n",
      "os -> 0.0008805913385003805\n",
      "------------------------------\n",
      "feature vector python_code_names \n",
      "print -> 0.0008776640170253813\n",
      "------------------------------\n",
      "feature vector source_clean \n",
      "than -> 0.0008772742585279047\n",
      "------------------------------\n",
      "feature vector python_code_names \n",
      "as -> 0.0008584195747971535\n",
      "------------------------------\n",
      "feature vector python_code_names \n",
      "os -> 0.0008306889794766903\n",
      "------------------------------\n",
      "feature vector source_clean \n",
      "val -> 0.00082910101627931\n",
      "------------------------------\n",
      "feature vector source_clean \n",
      "plt -> 0.0008278816239908338\n",
      "------------------------------\n",
      "feature vector source_clean \n",
      "size -> 0.000819484586827457\n",
      "------------------------------\n",
      "feature vector python_code_names \n",
      "xlabel -> 0.0008186984341591597\n",
      "------------------------------\n",
      "feature vector code_comments \n",
      "the -> 0.0008108200272545218\n",
      "------------------------------\n",
      "feature vector python_code_names \n",
      "model_selection -> 0.0008034125785343349\n",
      "------------------------------\n",
      "feature vector python_code_names \n",
      "y_test -> 0.00079496786929667\n",
      "------------------------------\n",
      "feature vector source_clean \n",
      "target -> 0.0007937658810988069\n",
      "------------------------------\n",
      "feature vector source_clean \n",
      "read -> 0.000755522632971406\n",
      "------------------------------\n",
      "feature vector glossary_ml_terms_139 \n",
      "pandas -> 0.0007549882284365594\n",
      "------------------------------\n",
      "feature vector python_code_names \n",
      "pandas -> 0.0007280503632500768\n",
      "------------------------------\n",
      "feature vector glossary_ml_terms_243 \n",
      "ground_truth. -> 0.0007164666894823313\n",
      "------------------------------\n",
      "feature vector python_code_names \n",
      "y_train -> 0.0007130114827305079\n",
      "------------------------------\n",
      "feature vector glossary_ml_terms_133 \n",
      "numpy -> 0.0007090349681675434\n",
      "------------------------------\n",
      "feature vector source_clean \n",
      "pandas -> 0.0006978574092499912\n",
      "------------------------------\n",
      "feature vector source_clean \n",
      "prediction -> 0.0006921064341440797\n",
      "------------------------------\n",
      "feature vector entities \n",
      "nan -> 0.0006235036416910589\n",
      "------------------------------\n",
      "feature vector source_clean \n",
      "drop -> 0.0006083844345994294\n",
      "------------------------------\n",
      "feature vector glossary_ml_terms_165 \n",
      "tensorflow -> 0.0005716949817724526\n",
      "------------------------------\n",
      "feature vector glossary_ml_terms_200 \n",
      "insurance_pricing_and_selection -> 0.0005428330041468143\n",
      "------------------------------\n",
      "feature vector glossary_ml_terms_184 \n",
      "supervised_machine_learning_machine_learning -> 0.0004455843009054661\n",
      "------------------------------\n",
      "feature vector python_code_names \n",
      "accuracy_score -> 0.00037137657636776567\n",
      "------------------------------\n",
      "feature vector glossary_ml_terms_210 \n",
      "data_preparation -> 0.0003651343868114054\n",
      "------------------------------\n",
      "feature vector source_clean \n",
      "selection -> 0.0003155431186314672\n",
      "------------------------------\n",
      "feature vector source_clean \n",
      "classification -> 0.00024241683422587812\n",
      "------------------------------\n",
      "feature vector source_clean \n",
      "metrics -> 0.00016447865345980972\n",
      "------------------------------\n",
      "feature vector glossary_ml_terms_127 \n",
      "multivariate_regression -> 0.00016263878205791116\n",
      "------------------------------\n",
      "feature vector python_code_names \n",
      "matplotlib -> 0.0001480139180785045\n",
      "------------------------------\n",
      "feature vector source_clean \n",
      "describe -> 0.00012128637172281742\n",
      "------------------------------\n",
      "feature vector glossary_ml_terms_84 \n",
      "false_negative -> 0.0\n",
      "------------------------------\n",
      "feature vector code_comments \n",
      "create -> 0.0\n",
      "------------------------------\n",
      "feature vector code_comments \n",
      "csv -> 0.0\n",
      "------------------------------\n",
      "feature vector code_comments \n",
      "are -> 0.0\n",
      "------------------------------\n",
      "feature vector python_code_names \n",
      "none -> 0.0\n",
      "------------------------------\n",
      "feature vector code_comments \n",
      "feature -> 0.0\n",
      "------------------------------\n",
      "feature vector python_code_names \n",
      "preprocessing -> 0.0\n",
      "------------------------------\n",
      "feature vector python_code_names \n",
      "image -> 0.0\n",
      "------------------------------\n",
      "feature vector glossary_ml_terms_97 \n",
      "holdout_sample -> 0.0\n",
      "------------------------------\n",
      "feature vector glossary_ml_terms_95 \n",
      "hidden_markov_model -> 0.0\n",
      "------------------------------\n",
      "feature vector code_comments \n",
      "by -> 0.0\n",
      "------------------------------\n",
      "feature vector glossary_ml_terms_92 \n",
      "goodness_of_fit -> 0.0\n",
      "------------------------------\n",
      "feature vector python_code_names \n",
      "nan -> 0.0\n",
      "------------------------------\n",
      "feature vector glossary_ml_terms_78 \n",
      "dplyr -> 0.0\n",
      "------------------------------\n",
      "feature vector python_code_names \n",
      "sklearn -> 0.0\n",
      "------------------------------\n",
      "feature vector glossary_ml_terms_88 \n",
      "f_score -> 0.0\n",
      "------------------------------\n",
      "feature vector python_code_names \n",
      "subplots -> 0.0\n",
      "------------------------------\n",
      "feature vector glossary_ml_terms_8 \n",
      "regression -> 0.0\n",
      "------------------------------\n",
      "feature vector python_code_names \n",
      "int -> 0.0\n",
      "------------------------------\n",
      "feature vector python_code_names \n",
      "mean -> 0.0\n",
      "------------------------------\n",
      "feature vector python_code_names \n",
      "join -> 0.0\n",
      "------------------------------\n",
      "feature vector python_code_names \n",
      "else -> 0.0\n",
      "------------------------------\n",
      "feature vector python_code_names \n",
      "astype -> 0.0\n",
      "------------------------------\n",
      "feature vector python_code_names \n",
      "keras -> 0.0\n",
      "------------------------------\n",
      "feature vector python_code_names \n",
      "seaborn -> 0.0\n",
      "------------------------------\n",
      "feature vector python_code_names \n",
      "kind -> 0.0\n",
      "------------------------------\n",
      "feature vector python_code_names \n",
      "labels -> 0.0\n",
      "------------------------------\n",
      "feature vector python_code_names \n",
      "reset_index -> 0.0\n",
      "------------------------------\n",
      "feature vector python_code_names \n",
      "train_test_split -> 0.0\n",
      "------------------------------\n",
      "feature vector python_code_names \n",
      "format -> 0.0\n",
      "------------------------------\n",
      "feature vector code_comments \n",
      "file -> 0.0\n",
      "------------------------------\n",
      "feature vector python_code_names \n",
      "numpy -> 0.0\n",
      "------------------------------\n",
      "feature vector glossary_ml_terms_157 \n",
      "scala -> 0.0\n",
      "------------------------------\n",
      "feature vector code_comments \n",
      "for -> 0.0\n",
      "------------------------------\n",
      "feature vector glossary_ml_terms_222 \n",
      "deduction -> 0.0\n",
      "------------------------------\n",
      "feature vector glossary_ml_terms_103 \n",
      "inferential_statistics -> 0.0\n",
      "------------------------------\n",
      "feature vector glossary_ml_terms_198 \n",
      "workforce_churn_modeling -> 0.0\n",
      "------------------------------\n",
      "feature vector glossary_ml_terms_101 \n",
      "hypothesis -> 0.0\n",
      "------------------------------\n",
      "feature vector glossary_ml_terms_100 \n",
      "hyperplane -> 0.0\n",
      "------------------------------\n",
      "feature vector glossary_ml_terms_2 \n",
      "transformation -> 0.0\n",
      "------------------------------\n",
      "feature vector glossary_ml_terms_20 \n",
      "linear regression model -> 0.0\n",
      "------------------------------\n",
      "feature vector source_clean \n",
      "what -> 0.0\n",
      "------------------------------\n",
      "feature vector glossary_ml_terms_202 \n",
      "product_recommendations -> 0.0\n",
      "------------------------------\n",
      "feature vector glossary_ml_terms_204 \n",
      "non_profit_fundraising -> 0.0\n",
      "------------------------------\n",
      "feature vector source_clean \n",
      "type -> 0.0\n",
      "------------------------------\n",
      "feature vector source_clean \n",
      "transform -> 0.0\n",
      "------------------------------\n",
      "feature vector source_clean \n",
      "total -> 0.0\n",
      "------------------------------\n",
      "feature vector glossary_ml_terms_205 \n",
      "algorithmic_trading -> 0.0\n",
      "------------------------------\n",
      "feature vector glossary_ml_terms_207 \n",
      "fault_detection -> 0.0\n",
      "------------------------------\n",
      "feature vector source_clean \n",
      "these -> 0.0\n",
      "------------------------------\n",
      "feature vector source_clean \n",
      "text -> 0.0\n",
      "------------------------------\n",
      "feature vector source_clean \n",
      "subplots -> 0.0\n",
      "------------------------------\n",
      "feature vector source_clean \n",
      "state -> 0.0\n",
      "------------------------------\n",
      "feature vector source_clean \n",
      "sort -> 0.0\n",
      "------------------------------\n",
      "feature vector glossary_ml_terms_213 \n",
      "binary_classifier. -> 0.0\n",
      "------------------------------\n",
      "feature vector glossary_ml_terms_214 \n",
      "positive_and_negative_examples. -> 0.0\n",
      "------------------------------\n",
      "feature vector glossary_ml_terms_215 \n",
      "test_data -> 0.0\n",
      "------------------------------\n",
      "feature vector source_clean \n",
      "seaborn -> 0.0\n",
      "------------------------------\n",
      "feature vector source_clean \n",
      "sample -> 0.0\n",
      "------------------------------\n",
      "feature vector glossary_ml_terms_218 \n",
      "derived_variable -> 0.0\n",
      "------------------------------\n",
      "feature vector glossary_ml_terms_22 \n",
      "histogram -> 0.0\n",
      "------------------------------\n",
      "feature vector source_clean \n",
      "pyplot -> 0.0\n",
      "------------------------------\n",
      "feature vector glossary_ml_terms_104 \n",
      "iqr -> 0.0\n",
      "------------------------------\n",
      "feature vector glossary_ml_terms_106 \n",
      "julia -> 0.0\n",
      "------------------------------\n",
      "feature vector glossary_ml_terms_107 \n",
      "keras -> 0.0\n",
      "------------------------------\n",
      "feature vector glossary_ml_terms_13 \n",
      "partition -> 0.0\n",
      "------------------------------\n",
      "feature vector glossary_ml_terms_160 \n",
      "standard_deviation -> 0.0\n",
      "------------------------------\n",
      "feature vector glossary_ml_terms_161 \n",
      "standardization -> 0.0\n",
      "------------------------------\n",
      "feature vector glossary_ml_terms_150 \n",
      "regression_spline -> 0.0\n",
      "------------------------------\n",
      "feature vector glossary_ml_terms_15 \n",
      "neural network -> 0.0\n",
      "------------------------------\n",
      "feature vector glossary_ml_terms_144 \n",
      "predictor_variable -> 0.0\n",
      "------------------------------\n",
      "feature vector glossary_ml_terms_142 \n",
      "pie_chart -> 0.0\n",
      "------------------------------\n",
      "feature vector glossary_ml_terms_140 \n",
      "parameters -> 0.0\n",
      "------------------------------\n",
      "feature vector glossary_ml_terms_174 \n",
      "underfitting -> 0.0\n",
      "------------------------------\n",
      "feature vector glossary_ml_terms_175 \n",
      "univariate_analysis -> 0.0\n",
      "------------------------------\n",
      "feature vector glossary_ml_terms_135 \n",
      "oozie -> 0.0\n",
      "------------------------------\n",
      "feature vector glossary_ml_terms_176 \n",
      "nan -> 0.0\n",
      "------------------------------\n",
      "feature vector glossary_ml_terms_131 \n",
      "nominal_variable -> 0.0\n",
      "------------------------------\n",
      "feature vector glossary_ml_terms_178 \n",
      "zookeeper -> 0.0\n",
      "------------------------------\n",
      "feature vector glossary_ml_terms_11 \n",
      "Predictive Model Markup Language (PMML) -> 0.0\n",
      "------------------------------\n",
      "feature vector glossary_ml_terms_125 \n",
      "multi_class_classification -> 0.0\n",
      "------------------------------\n",
      "feature vector glossary_ml_terms_123 \n",
      "model_selection -> 0.0\n",
      "------------------------------\n",
      "feature vector glossary_ml_terms_18 \n",
      "misclassification cost -> 0.0\n",
      "------------------------------\n",
      "feature vector glossary_ml_terms_12 \n",
      "predictive analytics -> 0.0\n",
      "------------------------------\n",
      "feature vector glossary_ml_terms_182 \n",
      "training_data -> 0.0\n",
      "------------------------------\n",
      "feature vector glossary_ml_terms_118 \n",
      "mean -> 0.0\n",
      "------------------------------\n",
      "feature vector glossary_ml_terms_117 \n",
      "maximum_likelihood_estimation -> 0.0\n",
      "------------------------------\n",
      "feature vector glossary_ml_terms_116 \n",
      "market_mix_modeling -> 0.0\n",
      "------------------------------\n",
      "feature vector glossary_ml_terms_113 \n",
      "mahout -> 0.0\n",
      "------------------------------\n",
      "feature vector glossary_ml_terms_112 \n",
      "long_short_term_memory_(lstm) -> 0.0\n",
      "------------------------------\n",
      "feature vector glossary_ml_terms_186 \n",
      "forecasting -> 0.0\n",
      "------------------------------\n",
      "feature vector glossary_ml_terms_19 \n",
      "logistic regression -> 0.0\n",
      "------------------------------\n",
      "feature vector glossary_ml_terms_221 \n",
      "induction -> 0.0\n",
      "------------------------------\n",
      "feature vector glossary_ml_terms_224 \n",
      "automl -> 0.0\n",
      "------------------------------\n",
      "feature vector code_comments \n",
      "get -> 0.0\n",
      "------------------------------\n",
      "feature vector glossary_ml_terms_225 \n",
      "lift -> 0.0\n",
      "------------------------------\n",
      "feature vector source_clean \n",
      "count -> 0.0\n",
      "------------------------------\n",
      "feature vector source_clean \n",
      "copy -> 0.0\n",
      "------------------------------\n",
      "feature vector source_clean \n",
      "color -> 0.0\n",
      "------------------------------\n",
      "feature vector source_clean \n",
      "check -> 0.0\n",
      "------------------------------\n",
      "feature vector source_clean \n",
      "categorical -> 0.0\n",
      "------------------------------\n",
      "feature vector source_clean \n",
      "but -> 0.0\n",
      "------------------------------\n",
      "feature vector source_clean \n",
      "between -> 0.0\n",
      "------------------------------\n",
      "feature vector source_clean \n",
      "based -> 0.0\n",
      "------------------------------\n",
      "feature vector source_clean \n",
      "as -> 0.0\n",
      "------------------------------\n",
      "feature vector source_clean \n",
      "array -> 0.0\n",
      "------------------------------\n",
      "feature vector glossary_ml_terms_57 \n",
      "continuous_variable -> 0.0\n",
      "------------------------------\n",
      "feature vector glossary_ml_terms_59 \n",
      "convex_function -> 0.0\n",
      "------------------------------\n",
      "feature vector glossary_ml_terms_6 \n",
      "score -> 0.0\n",
      "------------------------------\n",
      "feature vector glossary_ml_terms_62 \n",
      "cost_function -> 0.0\n",
      "------------------------------\n",
      "feature vector glossary_ml_terms_64 \n",
      "cross_entropy -> 0.0\n",
      "------------------------------\n",
      "feature vector glossary_ml_terms_70 \n",
      "dataset -> 0.0\n",
      "------------------------------\n",
      "feature vector source_clean \n",
      "above -> 0.0\n",
      "------------------------------\n",
      "feature vector code_comments \n",
      "we -> 0.0\n",
      "------------------------------\n",
      "feature vector code_comments \n",
      "using -> 0.0\n",
      "------------------------------\n",
      "feature vector code_comments \n",
      "train -> 0.0\n",
      "------------------------------\n",
      "feature vector glossary_ml_terms_73 \n",
      "decision_boundary -> 0.0\n",
      "------------------------------\n",
      "feature vector code_comments \n",
      "that -> 0.0\n",
      "------------------------------\n",
      "feature vector code_comments \n",
      "pd -> 0.0\n",
      "------------------------------\n",
      "feature vector code_comments \n",
      "nan -> 0.0\n",
      "------------------------------\n",
      "feature vector code_comments \n",
      "input -> 0.0\n",
      "------------------------------\n",
      "feature vector code_comments \n",
      "in -> 0.0\n",
      "------------------------------\n",
      "feature vector code_comments \n",
      "image -> 0.0\n",
      "------------------------------\n",
      "feature vector glossary_ml_terms_5 \n",
      "script -> 0.0\n",
      "------------------------------\n",
      "feature vector glossary_ml_terms_48 \n",
      "boosting -> 0.0\n",
      "------------------------------\n",
      "feature vector glossary_ml_terms_46 \n",
      "big_data -> 0.0\n",
      "------------------------------\n",
      "feature vector source_clean \n",
      "look -> 0.0\n",
      "------------------------------\n",
      "feature vector glossary_ml_terms_233 \n",
      "strategic_objective -> 0.0\n",
      "------------------------------\n",
      "feature vector source_clean \n",
      "one -> 0.0\n",
      "------------------------------\n",
      "feature vector source_clean \n",
      "numpy -> 0.0\n",
      "------------------------------\n",
      "feature vector glossary_ml_terms_235 \n",
      "p_hacking -> 0.0\n",
      "------------------------------\n",
      "feature vector glossary_ml_terms_236 \n",
      "the_accuracy_fallacy -> 0.0\n",
      "------------------------------\n",
      "feature vector glossary_ml_terms_237 \n",
      "presuming_that_correlation_implies_causation -> 0.0\n",
      "------------------------------\n",
      "feature vector source_clean \n",
      "not -> 0.0\n",
      "------------------------------\n",
      "feature vector source_clean \n",
      "none -> 0.0\n",
      "------------------------------\n",
      "feature vector source_clean \n",
      "name -> 0.0\n",
      "------------------------------\n",
      "feature vector glossary_ml_terms_239 \n",
      "data_leak -> 0.0\n",
      "------------------------------\n",
      "feature vector glossary_ml_terms_24 \n",
      "evaluate -> 0.0\n",
      "------------------------------\n",
      "feature vector source_clean \n",
      "matplotlib -> 0.0\n",
      "------------------------------\n",
      "feature vector glossary_ml_terms_246 \n",
      "the_right_to_explanation -> 0.0\n",
      "------------------------------\n",
      "feature vector source_clean \n",
      "different -> 0.0\n",
      "------------------------------\n",
      "feature vector source_clean \n",
      "len -> 0.0\n",
      "------------------------------\n",
      "feature vector source_clean \n",
      "learning -> 0.0\n",
      "------------------------------\n",
      "feature vector glossary_ml_terms_26 \n",
      "decision list -> 0.0\n",
      "------------------------------\n",
      "feature vector source_clean \n",
      "info -> 0.0\n",
      "------------------------------\n",
      "feature vector source_clean \n",
      "img -> 0.0\n",
      "------------------------------\n",
      "feature vector glossary_ml_terms_32 \n",
      "confidence score -> 0.0\n",
      "------------------------------\n",
      "feature vector source_clean \n",
      "have -> 0.0\n",
      "------------------------------\n",
      "feature vector glossary_ml_terms_16 \n",
      "multinomial logistic regression -> 0.0\n",
      "------------------------------\n",
      "feature vector glossary_ml_terms_41 \n",
      "backpropogation -> 0.0\n",
      "------------------------------\n",
      "feature vector glossary_ml_terms_42 \n",
      "bagging -> 0.0\n",
      "------------------------------\n",
      "feature vector glossary_ml_terms_44 \n",
      "bayesian_statistics -> 0.0\n",
      "------------------------------\n",
      "feature vector glossary_ml_terms_45 \n",
      "bias_variance_trade_off -> 0.0\n",
      "------------------------------\n",
      "feature vector source_clean \n",
      "format -> 0.0\n",
      "------------------------------\n"
     ]
    }
   ],
   "source": [
    "k=10000\n",
    "position_shift = 0\n",
    "for x in features_importance.argsort()[-k:][::-1]:\n",
    "    feature_name = vector_shapes[x]\n",
    "    print(f\"feature vector {feature_name} \")\n",
    "    position_shift = np.where(vector_shapes == feature_name)[0][0]\n",
    "    if \"ml_terms\" in feature_name:\n",
    "        print(\n",
    "            f\"{terms[int(feature_name.split('_')[-1])]} -> {model.feature_importances_[x]}\"\n",
    "        )\n",
    "    else:\n",
    "        print(\n",
    "            f\"{tfid_transformers[feature_name].get_feature_names()[x-position_shift]} -> \\\n",
    "{model.feature_importances_[x]}\"\n",
    "        )\n",
    "    print(\"-\"*30)"
   ]
  },
  {
   "cell_type": "code",
   "execution_count": null,
   "metadata": {},
   "outputs": [],
   "source": []
  }
 ],
 "metadata": {
  "instance_type": "ml.t3.medium",
  "kernelspec": {
   "display_name": "Python 3 (Data Science)",
   "language": "python",
   "name": "python3__SAGEMAKER_INTERNAL__arn:aws:sagemaker:eu-central-1:936697816551:image/datascience-1.0"
  },
  "language_info": {
   "codemirror_mode": {
    "name": "ipython",
    "version": 3
   },
   "file_extension": ".py",
   "mimetype": "text/x-python",
   "name": "python",
   "nbconvert_exporter": "python",
   "pygments_lexer": "ipython3",
   "version": "3.7.10"
  },
  "toc-autonumbering": true,
  "toc-showcode": false,
  "toc-showmarkdowntxt": false,
  "toc-showtags": false,
  "widgets": {
   "application/vnd.jupyter.widget-state+json": {
    "state": {
     "017398907c1244fdace0f6618b2d991d": {
      "model_module": "@jupyter-widgets/base",
      "model_module_version": "1.2.0",
      "model_name": "LayoutModel",
      "state": {}
     },
     "0251448ce1a44be1ba1aed1596bccddf": {
      "model_module": "@jupyter-widgets/controls",
      "model_module_version": "1.5.0",
      "model_name": "ProgressStyleModel",
      "state": {
       "description_width": "initial"
      }
     },
     "02659ab372d14abcaa4b13c49974cf92": {
      "model_module": "@jupyter-widgets/controls",
      "model_module_version": "1.5.0",
      "model_name": "HTMLModel",
      "state": {
       "layout": "IPY_MODEL_63dc9dbdfee04e36bd5afe5fcd6aac3a",
       "style": "IPY_MODEL_0bb7229930534e248e66cc4bf9e41207",
       "value": " 8272/8272 [00:04&lt;00:00, 1884.49it/s]"
      }
     },
     "02d46bf680774366b80cdf2de0c47127": {
      "model_module": "@jupyter-widgets/controls",
      "model_module_version": "1.5.0",
      "model_name": "HBoxModel",
      "state": {
       "children": [
        "IPY_MODEL_aab0fb848f9a4ee89c28a913e90e39f2",
        "IPY_MODEL_68c96e56cb224c3cb00738dff3310dea"
       ],
       "layout": "IPY_MODEL_9ca08eb3a5d44140a7881cad423aecfb"
      }
     },
     "02eed6a3d23146e3b9dad73f5a91c6de": {
      "model_module": "@jupyter-widgets/base",
      "model_module_version": "1.2.0",
      "model_name": "LayoutModel",
      "state": {}
     },
     "0349453d92e54056b77ece6a396c36de": {
      "model_module": "@jupyter-widgets/base",
      "model_module_version": "1.2.0",
      "model_name": "LayoutModel",
      "state": {}
     },
     "035d5b3ea47c41ec94e3556d9187e350": {
      "model_module": "@jupyter-widgets/controls",
      "model_module_version": "1.5.0",
      "model_name": "ProgressStyleModel",
      "state": {
       "description_width": "initial"
      }
     },
     "043cf62d100742e19bcbdfb3b9e71641": {
      "model_module": "@jupyter-widgets/base",
      "model_module_version": "1.2.0",
      "model_name": "LayoutModel",
      "state": {}
     },
     "05bf0316cb9b424a8a4d5ce4e0f474a9": {
      "model_module": "@jupyter-widgets/controls",
      "model_module_version": "1.5.0",
      "model_name": "FloatProgressModel",
      "state": {
       "bar_style": "success",
       "description": "100%",
       "layout": "IPY_MODEL_22e8c963d92e40e68a90acefcfe4a057",
       "max": 8272,
       "style": "IPY_MODEL_31632777fdeb4e288fa7aab0db5b7408",
       "value": 8272
      }
     },
     "065fa1fecb9240b7b2cf6b8f9c3c8260": {
      "model_module": "@jupyter-widgets/controls",
      "model_module_version": "1.5.0",
      "model_name": "HTMLModel",
      "state": {
       "layout": "IPY_MODEL_e32d8ab94f6e499c9a3c2daa10278ad1",
       "style": "IPY_MODEL_6b7498601f9247d1acab1093dd4f6942",
       "value": " 8272/8272 [01:44&lt;00:00, 79.32it/s]"
      }
     },
     "0664c6a24c51463da62a4dcba0e8ea67": {
      "model_module": "@jupyter-widgets/controls",
      "model_module_version": "1.5.0",
      "model_name": "HBoxModel",
      "state": {
       "children": [
        "IPY_MODEL_b484d17f656f4f15889895a82665214e",
        "IPY_MODEL_6dde76ecadbe47c48dfad3d794108258"
       ],
       "layout": "IPY_MODEL_95ab66ff2e0d4f2790af7e9c95b1df0d"
      }
     },
     "06a27497686c437a97c94c532143e29f": {
      "model_module": "@jupyter-widgets/controls",
      "model_module_version": "1.5.0",
      "model_name": "HBoxModel",
      "state": {
       "children": [
        "IPY_MODEL_9718f50eec2747bfa11529dc4044f970",
        "IPY_MODEL_bc736d8ff6564ba5a6b84fe0a4d3eaa3"
       ],
       "layout": "IPY_MODEL_2e6f42fb65734043b86ebb5858dce9b7"
      }
     },
     "06a795d3609f4e1496a56002c9da6d2c": {
      "model_module": "@jupyter-widgets/base",
      "model_module_version": "1.2.0",
      "model_name": "LayoutModel",
      "state": {}
     },
     "08c985040b4547df9b162fbe51e383cd": {
      "model_module": "@jupyter-widgets/controls",
      "model_module_version": "1.5.0",
      "model_name": "HTMLModel",
      "state": {
       "layout": "IPY_MODEL_a748d715fd7b48d2ab50ac13053c17ea",
       "style": "IPY_MODEL_cd97b4c0979846e7a4f7a6b977c91bc2",
       "value": " 15189/15189 [00:04&lt;00:00, 3312.75it/s]"
      }
     },
     "0945bf5c181a482ca186c714c9c758b9": {
      "model_module": "@jupyter-widgets/base",
      "model_module_version": "1.2.0",
      "model_name": "LayoutModel",
      "state": {}
     },
     "094e04190bfe41f8b5e0fd6cc74509af": {
      "model_module": "@jupyter-widgets/controls",
      "model_module_version": "1.5.0",
      "model_name": "DescriptionStyleModel",
      "state": {
       "description_width": ""
      }
     },
     "099b6f82fb144976aa13d746a44186a6": {
      "model_module": "@jupyter-widgets/base",
      "model_module_version": "1.2.0",
      "model_name": "LayoutModel",
      "state": {}
     },
     "09eb964a19d54c99a48970bb90c7402e": {
      "model_module": "@jupyter-widgets/controls",
      "model_module_version": "1.5.0",
      "model_name": "ProgressStyleModel",
      "state": {
       "description_width": "initial"
      }
     },
     "0a21f5c8359649ac99c52ea8890be3c4": {
      "model_module": "@jupyter-widgets/controls",
      "model_module_version": "1.5.0",
      "model_name": "HTMLModel",
      "state": {
       "layout": "IPY_MODEL_6dcb1190c7264bf7ad38bbbf94beb498",
       "style": "IPY_MODEL_4a20fa97a9b443f4b36d428e11a3dff3",
       "value": " 15189/15189 [2:17:42&lt;00:00,  1.84it/s]"
      }
     },
     "0a7d2c0a90104b0bbe72086440909922": {
      "model_module": "@jupyter-widgets/base",
      "model_module_version": "1.2.0",
      "model_name": "LayoutModel",
      "state": {}
     },
     "0b189c57efff461881df723e217ba104": {
      "model_module": "@jupyter-widgets/base",
      "model_module_version": "1.2.0",
      "model_name": "LayoutModel",
      "state": {}
     },
     "0b6774c9c381490394f5384b36cdcfd0": {
      "model_module": "@jupyter-widgets/controls",
      "model_module_version": "1.5.0",
      "model_name": "HBoxModel",
      "state": {
       "children": [
        "IPY_MODEL_30bfba7e43d04ad49fb0a5fffc4196f0",
        "IPY_MODEL_a203ea4f571c4feaa9d35678b72b6e55"
       ],
       "layout": "IPY_MODEL_63f19ba51be04bef8624a5a5527e3eb4"
      }
     },
     "0bb7229930534e248e66cc4bf9e41207": {
      "model_module": "@jupyter-widgets/controls",
      "model_module_version": "1.5.0",
      "model_name": "DescriptionStyleModel",
      "state": {
       "description_width": ""
      }
     },
     "0c314bba6fcb411f9430ae23041812ce": {
      "model_module": "@jupyter-widgets/base",
      "model_module_version": "1.2.0",
      "model_name": "LayoutModel",
      "state": {}
     },
     "0c655219ed62478ab6b41e885f06c351": {
      "model_module": "@jupyter-widgets/base",
      "model_module_version": "1.2.0",
      "model_name": "LayoutModel",
      "state": {}
     },
     "0d93a718882e4cc9829404ff63cac29f": {
      "model_module": "@jupyter-widgets/controls",
      "model_module_version": "1.5.0",
      "model_name": "HBoxModel",
      "state": {
       "children": [
        "IPY_MODEL_75155abfb2ec47fda8115e8516a3386f",
        "IPY_MODEL_834415e8d2dd4d0084c9d4e73a1320b1"
       ],
       "layout": "IPY_MODEL_b087d353494743acbd3e2dfe3e1f8509"
      }
     },
     "0f519ccf1e9649c9a2bc7d1935a17b51": {
      "model_module": "@jupyter-widgets/controls",
      "model_module_version": "1.5.0",
      "model_name": "FloatProgressModel",
      "state": {
       "bar_style": "success",
       "description": "100%",
       "layout": "IPY_MODEL_f8a99f0a824d4223948b3ddd91afbf64",
       "max": 15189,
       "style": "IPY_MODEL_66ccf0beca534192bce01fbf0319562f",
       "value": 15189
      }
     },
     "118e8ece2960435dab25adfbadb64e24": {
      "model_module": "@jupyter-widgets/controls",
      "model_module_version": "1.5.0",
      "model_name": "ProgressStyleModel",
      "state": {
       "description_width": "initial"
      }
     },
     "1190712f6d8c4f2587d9cb47fcd7e680": {
      "model_module": "@jupyter-widgets/controls",
      "model_module_version": "1.5.0",
      "model_name": "HTMLModel",
      "state": {
       "layout": "IPY_MODEL_4cd06c740fb0403e84e6ddfdf864805f",
       "style": "IPY_MODEL_63dd17b88a284c1eb05a0d370eb36c0d",
       "value": " 15189/15189 [00:05&lt;00:00, 2931.57it/s]"
      }
     },
     "1223318e55f849d0bbb015f4aeba5173": {
      "model_module": "@jupyter-widgets/base",
      "model_module_version": "1.2.0",
      "model_name": "LayoutModel",
      "state": {}
     },
     "122f2ae9c163415cb3ebc1e36b141a80": {
      "model_module": "@jupyter-widgets/base",
      "model_module_version": "1.2.0",
      "model_name": "LayoutModel",
      "state": {}
     },
     "125f62358cff43ef90bc57ba688ebaef": {
      "model_module": "@jupyter-widgets/controls",
      "model_module_version": "1.5.0",
      "model_name": "HBoxModel",
      "state": {
       "children": [
        "IPY_MODEL_61647844a1404d92bf24de7cf8b69225",
        "IPY_MODEL_6ce3cd85dd7241f083b29ec93e464413"
       ],
       "layout": "IPY_MODEL_7fd577ff363d4c3693162bea09533ab9"
      }
     },
     "128b5ac5d0c9430e9d620312e9bfaa5d": {
      "model_module": "@jupyter-widgets/controls",
      "model_module_version": "1.5.0",
      "model_name": "DescriptionStyleModel",
      "state": {
       "description_width": ""
      }
     },
     "12cdbbde363e4b1e9a1c43dd51ce0906": {
      "model_module": "@jupyter-widgets/controls",
      "model_module_version": "1.5.0",
      "model_name": "ProgressStyleModel",
      "state": {
       "description_width": "initial"
      }
     },
     "12e2dd652f7443fd838e5b5bb5625647": {
      "model_module": "@jupyter-widgets/base",
      "model_module_version": "1.2.0",
      "model_name": "LayoutModel",
      "state": {}
     },
     "12f512899668438ab957b6f2191f263c": {
      "model_module": "@jupyter-widgets/base",
      "model_module_version": "1.2.0",
      "model_name": "LayoutModel",
      "state": {}
     },
     "146d552f6e334cceb3f2d018204e4be4": {
      "model_module": "@jupyter-widgets/controls",
      "model_module_version": "1.5.0",
      "model_name": "DescriptionStyleModel",
      "state": {
       "description_width": ""
      }
     },
     "14dbc95b7aeb440183787aab7a094005": {
      "model_module": "@jupyter-widgets/controls",
      "model_module_version": "1.5.0",
      "model_name": "HBoxModel",
      "state": {
       "children": [
        "IPY_MODEL_f39541b651bb427f8925abf5476caa92",
        "IPY_MODEL_e66f381a4eb54b5b894d041769f23575"
       ],
       "layout": "IPY_MODEL_ff211cc18ce84ec6a35451993455c013"
      }
     },
     "151c7d5160ae467d839fa56d5f8df25b": {
      "model_module": "@jupyter-widgets/base",
      "model_module_version": "1.2.0",
      "model_name": "LayoutModel",
      "state": {}
     },
     "159eae77eee646b5ba69d9862ce2fd02": {
      "model_module": "@jupyter-widgets/controls",
      "model_module_version": "1.5.0",
      "model_name": "DescriptionStyleModel",
      "state": {
       "description_width": ""
      }
     },
     "174eb371d3ec4fec90170a365039dd7b": {
      "model_module": "@jupyter-widgets/controls",
      "model_module_version": "1.5.0",
      "model_name": "HTMLModel",
      "state": {
       "layout": "IPY_MODEL_f6cce616f6c442cfbab4408d3a60d81e",
       "style": "IPY_MODEL_96296f271ac04457936c14592651065b",
       "value": " 8272/8272 [00:00&lt;00:00, 11815.00it/s]"
      }
     },
     "1750ebcddd4148e2be019be8423563ef": {
      "model_module": "@jupyter-widgets/controls",
      "model_module_version": "1.5.0",
      "model_name": "HTMLModel",
      "state": {
       "layout": "IPY_MODEL_51fcf3fe88f045d0bd3dc3274e2e1f8b",
       "style": "IPY_MODEL_b1a7e0e3a8584fe19faecf26cd8097f3",
       "value": " 15189/15189 [00:00&lt;00:00, 25849.77it/s]"
      }
     },
     "17bee364b9514286ad5181802645ae84": {
      "model_module": "@jupyter-widgets/controls",
      "model_module_version": "1.5.0",
      "model_name": "ProgressStyleModel",
      "state": {
       "description_width": "initial"
      }
     },
     "18033221875c49c195aeef0b1c109cdf": {
      "model_module": "@jupyter-widgets/controls",
      "model_module_version": "1.5.0",
      "model_name": "DescriptionStyleModel",
      "state": {
       "description_width": ""
      }
     },
     "18907cb9b2af488899680c95cb884ac3": {
      "model_module": "@jupyter-widgets/base",
      "model_module_version": "1.2.0",
      "model_name": "LayoutModel",
      "state": {}
     },
     "194982bd893f47acb19ace16aecf8f0d": {
      "model_module": "@jupyter-widgets/base",
      "model_module_version": "1.2.0",
      "model_name": "LayoutModel",
      "state": {}
     },
     "19952ace92eb449a87ccd856a5d12d66": {
      "model_module": "@jupyter-widgets/controls",
      "model_module_version": "1.5.0",
      "model_name": "ProgressStyleModel",
      "state": {
       "description_width": "initial"
      }
     },
     "1a0cfddd155143e2ae772032a57c5102": {
      "model_module": "@jupyter-widgets/base",
      "model_module_version": "1.2.0",
      "model_name": "LayoutModel",
      "state": {}
     },
     "1a92c0c602b546d1949c7f6d5c06e533": {
      "model_module": "@jupyter-widgets/base",
      "model_module_version": "1.2.0",
      "model_name": "LayoutModel",
      "state": {}
     },
     "1a98d70815814029ab1ea2c5576f4675": {
      "model_module": "@jupyter-widgets/base",
      "model_module_version": "1.2.0",
      "model_name": "LayoutModel",
      "state": {}
     },
     "1ad0809cc6334efdb69bd724ce8b868d": {
      "model_module": "@jupyter-widgets/base",
      "model_module_version": "1.2.0",
      "model_name": "LayoutModel",
      "state": {}
     },
     "1afcd12cf0e24e21bc946c274c40bfc8": {
      "model_module": "@jupyter-widgets/controls",
      "model_module_version": "1.5.0",
      "model_name": "FloatProgressModel",
      "state": {
       "bar_style": "success",
       "description": "100%",
       "layout": "IPY_MODEL_f7c936cc47e74b4dae7b7c8a2bf8d128",
       "max": 8272,
       "style": "IPY_MODEL_eb3164225d474ae58696f1375ae865aa",
       "value": 8272
      }
     },
     "1b1f638b54bc4fb984e0af5c2c94100c": {
      "model_module": "@jupyter-widgets/controls",
      "model_module_version": "1.5.0",
      "model_name": "ProgressStyleModel",
      "state": {
       "description_width": "initial"
      }
     },
     "1bb7902660cb47a69220804a330ab81e": {
      "model_module": "@jupyter-widgets/base",
      "model_module_version": "1.2.0",
      "model_name": "LayoutModel",
      "state": {}
     },
     "1bc5067245674829bcae82a2b0b14928": {
      "model_module": "@jupyter-widgets/base",
      "model_module_version": "1.2.0",
      "model_name": "LayoutModel",
      "state": {}
     },
     "1c1c2657cf8f4e5999a106d4b18e60e5": {
      "model_module": "@jupyter-widgets/controls",
      "model_module_version": "1.5.0",
      "model_name": "FloatProgressModel",
      "state": {
       "bar_style": "success",
       "description": "100%",
       "layout": "IPY_MODEL_122f2ae9c163415cb3ebc1e36b141a80",
       "max": 8272,
       "style": "IPY_MODEL_c09116e7314b413dae1f84a13f75d4fb",
       "value": 8272
      }
     },
     "1c26faf55385431a9c03cceb36b95542": {
      "model_module": "@jupyter-widgets/controls",
      "model_module_version": "1.5.0",
      "model_name": "ProgressStyleModel",
      "state": {
       "description_width": "initial"
      }
     },
     "1cbbf5cf00f248edb56b596d45e13794": {
      "model_module": "@jupyter-widgets/controls",
      "model_module_version": "1.5.0",
      "model_name": "HBoxModel",
      "state": {
       "children": [
        "IPY_MODEL_822c07513cf448e0b6e2161ca1ef8d6f",
        "IPY_MODEL_2d8cc73c022648e3bdf1be291c3e373d"
       ],
       "layout": "IPY_MODEL_eb13b0dd95f9498f9bf9b1fc6ceb1639"
      }
     },
     "1d5eeafe5a2d460e950ffaf53fed7bab": {
      "model_module": "@jupyter-widgets/controls",
      "model_module_version": "1.5.0",
      "model_name": "FloatProgressModel",
      "state": {
       "bar_style": "success",
       "description": "100%",
       "layout": "IPY_MODEL_d30b19ae55da41ecb480c673545e2e60",
       "max": 8272,
       "style": "IPY_MODEL_ffb79d085d8b4490b0a99c7e85925478",
       "value": 8272
      }
     },
     "1da4ef51148d481295fdc8bcd5446248": {
      "model_module": "@jupyter-widgets/controls",
      "model_module_version": "1.5.0",
      "model_name": "HBoxModel",
      "state": {
       "children": [
        "IPY_MODEL_1d5eeafe5a2d460e950ffaf53fed7bab",
        "IPY_MODEL_f4d6d503d6c14d4898234e949cdfe395"
       ],
       "layout": "IPY_MODEL_18907cb9b2af488899680c95cb884ac3"
      }
     },
     "1db98acfb82342c280a557d6a5a0e58a": {
      "model_module": "@jupyter-widgets/controls",
      "model_module_version": "1.5.0",
      "model_name": "DescriptionStyleModel",
      "state": {
       "description_width": ""
      }
     },
     "1e9942814f504e21bb23b9d589f63e9c": {
      "model_module": "@jupyter-widgets/controls",
      "model_module_version": "1.5.0",
      "model_name": "ProgressStyleModel",
      "state": {
       "description_width": "initial"
      }
     },
     "217b68e37cb64ac0bd4981721dc68844": {
      "model_module": "@jupyter-widgets/controls",
      "model_module_version": "1.5.0",
      "model_name": "ProgressStyleModel",
      "state": {
       "description_width": "initial"
      }
     },
     "21d025a13e6c4882ade212ba3d925442": {
      "model_module": "@jupyter-widgets/controls",
      "model_module_version": "1.5.0",
      "model_name": "HBoxModel",
      "state": {
       "children": [
        "IPY_MODEL_5e47759a1c5042e2b25b1b7d042a0b3d",
        "IPY_MODEL_2e9b672a5b474c7494cbf44b444e0888"
       ],
       "layout": "IPY_MODEL_d0b9295d769e4adbb7fbda3632685897"
      }
     },
     "225f4b0094a64c1a82c957f982bbf47a": {
      "model_module": "@jupyter-widgets/controls",
      "model_module_version": "1.5.0",
      "model_name": "HBoxModel",
      "state": {
       "children": [
        "IPY_MODEL_436eba80352f44abbe87441b4f0bfdb0",
        "IPY_MODEL_991f6499395b490c8320d5e724ca2aaf"
       ],
       "layout": "IPY_MODEL_85a0527ca1b94d3ebd9ed42a51ee0eba"
      }
     },
     "22a247d36e5e4a099591c048a1140fd6": {
      "model_module": "@jupyter-widgets/base",
      "model_module_version": "1.2.0",
      "model_name": "LayoutModel",
      "state": {}
     },
     "22e8c963d92e40e68a90acefcfe4a057": {
      "model_module": "@jupyter-widgets/base",
      "model_module_version": "1.2.0",
      "model_name": "LayoutModel",
      "state": {}
     },
     "231a3604296242c7ae13006bfc09d04c": {
      "model_module": "@jupyter-widgets/base",
      "model_module_version": "1.2.0",
      "model_name": "LayoutModel",
      "state": {}
     },
     "234a2ed8d44e435199c456f839818330": {
      "model_module": "@jupyter-widgets/controls",
      "model_module_version": "1.5.0",
      "model_name": "DescriptionStyleModel",
      "state": {
       "description_width": ""
      }
     },
     "2372437a16b04ea197180895699cc1a5": {
      "model_module": "@jupyter-widgets/base",
      "model_module_version": "1.2.0",
      "model_name": "LayoutModel",
      "state": {}
     },
     "238104a4b41d4596b5f900e9570343be": {
      "model_module": "@jupyter-widgets/controls",
      "model_module_version": "1.5.0",
      "model_name": "HBoxModel",
      "state": {
       "children": [
        "IPY_MODEL_ee6be2ee375c4e29baec6e4ce0ce414a",
        "IPY_MODEL_7160ec2048384e0a89aea5aaebfd4611"
       ],
       "layout": "IPY_MODEL_7cb7c0a743ea476baad141529d3a4011"
      }
     },
     "2454bae2fc7d42a684d368cc6ea237df": {
      "model_module": "@jupyter-widgets/controls",
      "model_module_version": "1.5.0",
      "model_name": "HTMLModel",
      "state": {
       "layout": "IPY_MODEL_da78c861933c4174afe1e6279d5af93c",
       "style": "IPY_MODEL_aa7522ec3dfb437785c69abd2eecc944",
       "value": " 8272/8272 [02:06&lt;00:00, 65.35it/s]"
      }
     },
     "2455936cb9474fb6956f21649b8c5c72": {
      "model_module": "@jupyter-widgets/base",
      "model_module_version": "1.2.0",
      "model_name": "LayoutModel",
      "state": {}
     },
     "24d61e2b4a9d4371a600ad20e1c0553f": {
      "model_module": "@jupyter-widgets/controls",
      "model_module_version": "1.5.0",
      "model_name": "DescriptionStyleModel",
      "state": {
       "description_width": ""
      }
     },
     "25627919321243e3aff8cc39b71059e7": {
      "model_module": "@jupyter-widgets/controls",
      "model_module_version": "1.5.0",
      "model_name": "HBoxModel",
      "state": {
       "children": [
        "IPY_MODEL_ab1dba9cb6f2403db9d3a374edd7f503",
        "IPY_MODEL_79ae6c53a1a44a4b8606bae4adb1626b"
       ],
       "layout": "IPY_MODEL_2e7f83d701f84ec0b13faca20a16625b"
      }
     },
     "25ca6cc2bdbe4fd0b2277e5b23fa6969": {
      "model_module": "@jupyter-widgets/controls",
      "model_module_version": "1.5.0",
      "model_name": "ProgressStyleModel",
      "state": {
       "description_width": "initial"
      }
     },
     "25fa22815a1a4e6f87b377780c798352": {
      "model_module": "@jupyter-widgets/controls",
      "model_module_version": "1.5.0",
      "model_name": "HBoxModel",
      "state": {
       "children": [
        "IPY_MODEL_e92b28cbda2a442b899dd387a432a2ff",
        "IPY_MODEL_1190712f6d8c4f2587d9cb47fcd7e680"
       ],
       "layout": "IPY_MODEL_ff6a0b5123394ca9a4f924ff9e19c11f"
      }
     },
     "269e510341504dca929a4e699c15d673": {
      "model_module": "@jupyter-widgets/base",
      "model_module_version": "1.2.0",
      "model_name": "LayoutModel",
      "state": {}
     },
     "27cbada8a47a4beda96fefd9c63073a1": {
      "model_module": "@jupyter-widgets/base",
      "model_module_version": "1.2.0",
      "model_name": "LayoutModel",
      "state": {}
     },
     "292b826614ca45d9b621d76a04e358cb": {
      "model_module": "@jupyter-widgets/controls",
      "model_module_version": "1.5.0",
      "model_name": "ProgressStyleModel",
      "state": {
       "description_width": "initial"
      }
     },
     "2968b039e1994d0d8b90d2c554b9a2df": {
      "model_module": "@jupyter-widgets/base",
      "model_module_version": "1.2.0",
      "model_name": "LayoutModel",
      "state": {}
     },
     "29c9c6e5df1b46609116d8a11c5f2045": {
      "model_module": "@jupyter-widgets/controls",
      "model_module_version": "1.5.0",
      "model_name": "FloatProgressModel",
      "state": {
       "bar_style": "success",
       "description": "100%",
       "layout": "IPY_MODEL_96d9d0e1ee994d8fb03a30e70db79743",
       "max": 8272,
       "style": "IPY_MODEL_bc293d1388cb478ca1c474cd74332664",
       "value": 8272
      }
     },
     "2a16a179704a4500a81e487153e1dc5e": {
      "model_module": "@jupyter-widgets/controls",
      "model_module_version": "1.5.0",
      "model_name": "FloatProgressModel",
      "state": {
       "bar_style": "success",
       "description": "100%",
       "layout": "IPY_MODEL_3331e5d731c7445395254fad2e3d4575",
       "max": 8272,
       "style": "IPY_MODEL_9ff5ca0923f14304acd9c7fcc3854423",
       "value": 8272
      }
     },
     "2a53206e4ee949d1920e048c27875787": {
      "model_module": "@jupyter-widgets/controls",
      "model_module_version": "1.5.0",
      "model_name": "ProgressStyleModel",
      "state": {
       "description_width": "initial"
      }
     },
     "2c9cfa0f12474e6782b9a8425c86f497": {
      "model_module": "@jupyter-widgets/controls",
      "model_module_version": "1.5.0",
      "model_name": "ProgressStyleModel",
      "state": {
       "description_width": "initial"
      }
     },
     "2d1c97b1df994a64b37a9e3274bfb2ee": {
      "model_module": "@jupyter-widgets/base",
      "model_module_version": "1.2.0",
      "model_name": "LayoutModel",
      "state": {}
     },
     "2d1ca2062df042c1a6f38698f87f60f1": {
      "model_module": "@jupyter-widgets/controls",
      "model_module_version": "1.5.0",
      "model_name": "DescriptionStyleModel",
      "state": {
       "description_width": ""
      }
     },
     "2d8cc73c022648e3bdf1be291c3e373d": {
      "model_module": "@jupyter-widgets/controls",
      "model_module_version": "1.5.0",
      "model_name": "HTMLModel",
      "state": {
       "layout": "IPY_MODEL_12f512899668438ab957b6f2191f263c",
       "style": "IPY_MODEL_478245a7d7284f98b0f8feb0e1a9b6e0",
       "value": " 2/8272 [2:28:02&lt;10203:04:03, 4441.48s/it]"
      }
     },
     "2e6f42fb65734043b86ebb5858dce9b7": {
      "model_module": "@jupyter-widgets/base",
      "model_module_version": "1.2.0",
      "model_name": "LayoutModel",
      "state": {}
     },
     "2e7f83d701f84ec0b13faca20a16625b": {
      "model_module": "@jupyter-widgets/base",
      "model_module_version": "1.2.0",
      "model_name": "LayoutModel",
      "state": {}
     },
     "2e9b672a5b474c7494cbf44b444e0888": {
      "model_module": "@jupyter-widgets/controls",
      "model_module_version": "1.5.0",
      "model_name": "HTMLModel",
      "state": {
       "layout": "IPY_MODEL_76140769d5fa4c2b846f8deb2ebe0d7e",
       "style": "IPY_MODEL_3a6e5ca0fdc64e9fb8cfe387e8b110ce",
       "value": " 8272/8272 [04:39&lt;00:00, 29.55it/s]"
      }
     },
     "306f8a149787444096776ab8baff8a7a": {
      "model_module": "@jupyter-widgets/controls",
      "model_module_version": "1.5.0",
      "model_name": "ProgressStyleModel",
      "state": {
       "description_width": "initial"
      }
     },
     "307447b7e0ab497f8a3f17f59d83756b": {
      "model_module": "@jupyter-widgets/base",
      "model_module_version": "1.2.0",
      "model_name": "LayoutModel",
      "state": {}
     },
     "30bfba7e43d04ad49fb0a5fffc4196f0": {
      "model_module": "@jupyter-widgets/controls",
      "model_module_version": "1.5.0",
      "model_name": "FloatProgressModel",
      "state": {
       "bar_style": "danger",
       "description": "  0%",
       "layout": "IPY_MODEL_d6a116dea59d4a979ff509b1bdf3a994",
       "max": 8272,
       "style": "IPY_MODEL_9447beba9a254f85b34c534e55c2d32f",
       "value": 2
      }
     },
     "30da138da0ca4bebb2d358bdf3137bd1": {
      "model_module": "@jupyter-widgets/base",
      "model_module_version": "1.2.0",
      "model_name": "LayoutModel",
      "state": {}
     },
     "311710ceb43b45f08b9b095d34094744": {
      "model_module": "@jupyter-widgets/base",
      "model_module_version": "1.2.0",
      "model_name": "LayoutModel",
      "state": {}
     },
     "31632777fdeb4e288fa7aab0db5b7408": {
      "model_module": "@jupyter-widgets/controls",
      "model_module_version": "1.5.0",
      "model_name": "ProgressStyleModel",
      "state": {
       "description_width": "initial"
      }
     },
     "3166d888839e43aba4ca544d0aeb8c1b": {
      "model_module": "@jupyter-widgets/base",
      "model_module_version": "1.2.0",
      "model_name": "LayoutModel",
      "state": {}
     },
     "31c1696a626d445f9153e48219020527": {
      "model_module": "@jupyter-widgets/controls",
      "model_module_version": "1.5.0",
      "model_name": "FloatProgressModel",
      "state": {
       "bar_style": "success",
       "description": "100%",
       "layout": "IPY_MODEL_666e127a17254783a4b469d79eab31b5",
       "max": 8272,
       "style": "IPY_MODEL_737026a8051d4badaa275af241477146",
       "value": 8272
      }
     },
     "31fecd5b086140e7878b65879cc7a38f": {
      "model_module": "@jupyter-widgets/controls",
      "model_module_version": "1.5.0",
      "model_name": "DescriptionStyleModel",
      "state": {
       "description_width": ""
      }
     },
     "32b609def18a4bd4a0985fb5253c81a8": {
      "model_module": "@jupyter-widgets/base",
      "model_module_version": "1.2.0",
      "model_name": "LayoutModel",
      "state": {}
     },
     "3331e5d731c7445395254fad2e3d4575": {
      "model_module": "@jupyter-widgets/base",
      "model_module_version": "1.2.0",
      "model_name": "LayoutModel",
      "state": {}
     },
     "3356598f5fe8453dbdd31cc7343369cb": {
      "model_module": "@jupyter-widgets/controls",
      "model_module_version": "1.5.0",
      "model_name": "HBoxModel",
      "state": {
       "children": [
        "IPY_MODEL_522cc1e4649345be940e91d6328980f8",
        "IPY_MODEL_eeaad89b36c945b8af2c07bb25493e84"
       ],
       "layout": "IPY_MODEL_9f85160fb5df4935b19339b8d69644c0"
      }
     },
     "3588757773254af4980c32df05c8d754": {
      "model_module": "@jupyter-widgets/base",
      "model_module_version": "1.2.0",
      "model_name": "LayoutModel",
      "state": {}
     },
     "35b14f3a90864bf385ab5ed1d57e2106": {
      "model_module": "@jupyter-widgets/base",
      "model_module_version": "1.2.0",
      "model_name": "LayoutModel",
      "state": {}
     },
     "35cc19727bd84801896e4c09432de467": {
      "model_module": "@jupyter-widgets/controls",
      "model_module_version": "1.5.0",
      "model_name": "HBoxModel",
      "state": {
       "children": [
        "IPY_MODEL_a7ab9b96f41647fc997ecb38b5b138c9",
        "IPY_MODEL_83e6198e297f4cfdae3d316eb15ad391"
       ],
       "layout": "IPY_MODEL_4b544f4487464f0d9a27ede03a2e7be0"
      }
     },
     "35da572c7e624fa48f287aa0cb3861c5": {
      "model_module": "@jupyter-widgets/controls",
      "model_module_version": "1.5.0",
      "model_name": "ProgressStyleModel",
      "state": {
       "description_width": "initial"
      }
     },
     "3669fba1e5224d4b93c5b80e2f765619": {
      "model_module": "@jupyter-widgets/controls",
      "model_module_version": "1.5.0",
      "model_name": "ProgressStyleModel",
      "state": {
       "description_width": "initial"
      }
     },
     "3809290a10214dac87b15fa88d1f1310": {
      "model_module": "@jupyter-widgets/base",
      "model_module_version": "1.2.0",
      "model_name": "LayoutModel",
      "state": {}
     },
     "3819260908804f599f7aa753bc4968a0": {
      "model_module": "@jupyter-widgets/base",
      "model_module_version": "1.2.0",
      "model_name": "LayoutModel",
      "state": {}
     },
     "38d42cde600a4c3ab6fad9641b46713a": {
      "model_module": "@jupyter-widgets/base",
      "model_module_version": "1.2.0",
      "model_name": "LayoutModel",
      "state": {}
     },
     "39100316060c4224835ab0eefe3fd573": {
      "model_module": "@jupyter-widgets/controls",
      "model_module_version": "1.5.0",
      "model_name": "DescriptionStyleModel",
      "state": {
       "description_width": ""
      }
     },
     "392768448141423fba2a8eb374e3513d": {
      "model_module": "@jupyter-widgets/controls",
      "model_module_version": "1.5.0",
      "model_name": "HTMLModel",
      "state": {
       "layout": "IPY_MODEL_d16b1436c5364f0686efc6e03fb8a5b5",
       "style": "IPY_MODEL_c36aa353e0e14e7bb4164767a77dc944",
       "value": " 8272/8272 [00:01&lt;00:00, 4487.73it/s]"
      }
     },
     "39fd14065ffa41249a774a6823993b44": {
      "model_module": "@jupyter-widgets/controls",
      "model_module_version": "1.5.0",
      "model_name": "HBoxModel",
      "state": {
       "children": [
        "IPY_MODEL_5c206159025244359fc3a0e65610f5f3",
        "IPY_MODEL_174eb371d3ec4fec90170a365039dd7b"
       ],
       "layout": "IPY_MODEL_3588757773254af4980c32df05c8d754"
      }
     },
     "3a6e5ca0fdc64e9fb8cfe387e8b110ce": {
      "model_module": "@jupyter-widgets/controls",
      "model_module_version": "1.5.0",
      "model_name": "DescriptionStyleModel",
      "state": {
       "description_width": ""
      }
     },
     "3bc26f33f63f4509bef6b7144dd557ba": {
      "model_module": "@jupyter-widgets/controls",
      "model_module_version": "1.5.0",
      "model_name": "HTMLModel",
      "state": {
       "layout": "IPY_MODEL_b701b13ca4b24a0a88d1f83bec1c02ed",
       "style": "IPY_MODEL_18033221875c49c195aeef0b1c109cdf",
       "value": " 8272/8272 [04:51&lt;00:00, 28.39it/s]"
      }
     },
     "3df76d1b19fb46c4aa3058711455d6fd": {
      "model_module": "@jupyter-widgets/controls",
      "model_module_version": "1.5.0",
      "model_name": "HBoxModel",
      "state": {
       "children": [
        "IPY_MODEL_31c1696a626d445f9153e48219020527",
        "IPY_MODEL_b8578234f6704f5195466d9b3ae34988"
       ],
       "layout": "IPY_MODEL_c3a00c923f594e27a6e1dab010fd1898"
      }
     },
     "3e8ae7da31da4ac689967cb57e4e88d6": {
      "model_module": "@jupyter-widgets/base",
      "model_module_version": "1.2.0",
      "model_name": "LayoutModel",
      "state": {}
     },
     "418f00f3770d4a55ab6e26fc7c615ef2": {
      "model_module": "@jupyter-widgets/controls",
      "model_module_version": "1.5.0",
      "model_name": "HTMLModel",
      "state": {
       "layout": "IPY_MODEL_1a98d70815814029ab1ea2c5576f4675",
       "style": "IPY_MODEL_8582024337af4bf9b8b12568f7a618f1",
       "value": " 15189/15189 [2:17:45&lt;00:00,  1.84it/s]"
      }
     },
     "42f8da3e09cb46d6a99e140875558733": {
      "model_module": "@jupyter-widgets/controls",
      "model_module_version": "1.5.0",
      "model_name": "DescriptionStyleModel",
      "state": {
       "description_width": ""
      }
     },
     "431c56736ed4459ba1eb28381880110e": {
      "model_module": "@jupyter-widgets/base",
      "model_module_version": "1.2.0",
      "model_name": "LayoutModel",
      "state": {}
     },
     "436eba80352f44abbe87441b4f0bfdb0": {
      "model_module": "@jupyter-widgets/controls",
      "model_module_version": "1.5.0",
      "model_name": "FloatProgressModel",
      "state": {
       "bar_style": "success",
       "description": "100%",
       "layout": "IPY_MODEL_5c75914067a047219bf472a38d151e49",
       "max": 15189,
       "style": "IPY_MODEL_9a4ebc49eefc4d8cafcc6ad315d8d928",
       "value": 15189
      }
     },
     "454ae1e198384aa8b1c182161ef7c7ce": {
      "model_module": "@jupyter-widgets/controls",
      "model_module_version": "1.5.0",
      "model_name": "DescriptionStyleModel",
      "state": {
       "description_width": ""
      }
     },
     "458e04c5ec65442b9aa7feac1567c017": {
      "model_module": "@jupyter-widgets/controls",
      "model_module_version": "1.5.0",
      "model_name": "HTMLModel",
      "state": {
       "layout": "IPY_MODEL_27cbada8a47a4beda96fefd9c63073a1",
       "style": "IPY_MODEL_fd2ead7245704cb1a4539cf4f849d786",
       "value": " 8272/8272 [00:01&lt;00:00, 6371.91it/s]"
      }
     },
     "45c0e777d73d4cbbbcc00f724b993d98": {
      "model_module": "@jupyter-widgets/base",
      "model_module_version": "1.2.0",
      "model_name": "LayoutModel",
      "state": {}
     },
     "46e969b64f814ef888545f8ef0745864": {
      "model_module": "@jupyter-widgets/controls",
      "model_module_version": "1.5.0",
      "model_name": "ProgressStyleModel",
      "state": {
       "description_width": "initial"
      }
     },
     "4742f2b561904558986473c365ac4b80": {
      "model_module": "@jupyter-widgets/base",
      "model_module_version": "1.2.0",
      "model_name": "LayoutModel",
      "state": {}
     },
     "478245a7d7284f98b0f8feb0e1a9b6e0": {
      "model_module": "@jupyter-widgets/controls",
      "model_module_version": "1.5.0",
      "model_name": "DescriptionStyleModel",
      "state": {
       "description_width": ""
      }
     },
     "4903bcd7a1e64872a3e4fd164eeb4719": {
      "model_module": "@jupyter-widgets/base",
      "model_module_version": "1.2.0",
      "model_name": "LayoutModel",
      "state": {}
     },
     "4a20fa97a9b443f4b36d428e11a3dff3": {
      "model_module": "@jupyter-widgets/controls",
      "model_module_version": "1.5.0",
      "model_name": "DescriptionStyleModel",
      "state": {
       "description_width": ""
      }
     },
     "4ae5f4bc622747858eaa70c8286ff829": {
      "model_module": "@jupyter-widgets/controls",
      "model_module_version": "1.5.0",
      "model_name": "HTMLModel",
      "state": {
       "layout": "IPY_MODEL_687895a274454db8a009dd14665e98b5",
       "style": "IPY_MODEL_69adb351539148e4a7d8dc976af4c642",
       "value": " 8272/8272 [02:02&lt;00:00, 67.76it/s]"
      }
     },
     "4b544f4487464f0d9a27ede03a2e7be0": {
      "model_module": "@jupyter-widgets/base",
      "model_module_version": "1.2.0",
      "model_name": "LayoutModel",
      "state": {}
     },
     "4b9729d6d59f43aa94edac333af6923a": {
      "model_module": "@jupyter-widgets/base",
      "model_module_version": "1.2.0",
      "model_name": "LayoutModel",
      "state": {}
     },
     "4c8683d595794bc2ba688610ef8fa9ff": {
      "model_module": "@jupyter-widgets/base",
      "model_module_version": "1.2.0",
      "model_name": "LayoutModel",
      "state": {}
     },
     "4cb131de36a74c9b92775b6063eec4aa": {
      "model_module": "@jupyter-widgets/controls",
      "model_module_version": "1.5.0",
      "model_name": "DescriptionStyleModel",
      "state": {
       "description_width": ""
      }
     },
     "4cd06c740fb0403e84e6ddfdf864805f": {
      "model_module": "@jupyter-widgets/base",
      "model_module_version": "1.2.0",
      "model_name": "LayoutModel",
      "state": {}
     },
     "4eac1e6bc6ca48eb9e252be67a02bf7c": {
      "model_module": "@jupyter-widgets/controls",
      "model_module_version": "1.5.0",
      "model_name": "ProgressStyleModel",
      "state": {
       "description_width": "initial"
      }
     },
     "4ebd026085d44c3dabbc2a543015010f": {
      "model_module": "@jupyter-widgets/controls",
      "model_module_version": "1.5.0",
      "model_name": "DescriptionStyleModel",
      "state": {
       "description_width": ""
      }
     },
     "5057b7a1d0f34be6baf4702f54a204d2": {
      "model_module": "@jupyter-widgets/controls",
      "model_module_version": "1.5.0",
      "model_name": "ProgressStyleModel",
      "state": {
       "description_width": "initial"
      }
     },
     "51fcf3fe88f045d0bd3dc3274e2e1f8b": {
      "model_module": "@jupyter-widgets/base",
      "model_module_version": "1.2.0",
      "model_name": "LayoutModel",
      "state": {}
     },
     "522cc1e4649345be940e91d6328980f8": {
      "model_module": "@jupyter-widgets/controls",
      "model_module_version": "1.5.0",
      "model_name": "FloatProgressModel",
      "state": {
       "bar_style": "success",
       "description": "100%",
       "layout": "IPY_MODEL_c38bb01d9c6346899e39b04246d444a1",
       "max": 8272,
       "style": "IPY_MODEL_d755818817f24aceb0c283534943d45d",
       "value": 8272
      }
     },
     "524552fc73bb457880ffa4c6752e992a": {
      "model_module": "@jupyter-widgets/controls",
      "model_module_version": "1.5.0",
      "model_name": "HTMLModel",
      "state": {
       "layout": "IPY_MODEL_12e2dd652f7443fd838e5b5bb5625647",
       "style": "IPY_MODEL_42f8da3e09cb46d6a99e140875558733",
       "value": " 8272/8272 [00:01&lt;00:00, 6102.83it/s]"
      }
     },
     "524780fae6394134aca044c1a69f99ee": {
      "model_module": "@jupyter-widgets/controls",
      "model_module_version": "1.5.0",
      "model_name": "HTMLModel",
      "state": {
       "layout": "IPY_MODEL_82d394b50a7c4351944f634882555517",
       "style": "IPY_MODEL_c556924dfb6b485584e5d40e2154537c",
       "value": " 8272/8272 [04:47&lt;00:00, 28.80it/s]"
      }
     },
     "528f64b48e72423a8d0abcf024975270": {
      "model_module": "@jupyter-widgets/controls",
      "model_module_version": "1.5.0",
      "model_name": "HTMLModel",
      "state": {
       "layout": "IPY_MODEL_93f29f8a84f544baa4c395742756b0c3",
       "style": "IPY_MODEL_7f52d18b90f445f7982d9a554b4024bd",
       "value": " 8272/8272 [01:42&lt;00:00, 80.96it/s]"
      }
     },
     "52fb56a26c2d42978c1ee7ffa9a77106": {
      "model_module": "@jupyter-widgets/controls",
      "model_module_version": "1.5.0",
      "model_name": "FloatProgressModel",
      "state": {
       "bar_style": "success",
       "description": "100%",
       "layout": "IPY_MODEL_2968b039e1994d0d8b90d2c554b9a2df",
       "max": 8272,
       "style": "IPY_MODEL_766f9829a43a4347a334bbcf39fc18e6",
       "value": 8272
      }
     },
     "53e1d2f87524442db62631aaee65ff01": {
      "model_module": "@jupyter-widgets/controls",
      "model_module_version": "1.5.0",
      "model_name": "ProgressStyleModel",
      "state": {
       "description_width": "initial"
      }
     },
     "546dfbc73a4a48b8a229978d5b178aee": {
      "model_module": "@jupyter-widgets/controls",
      "model_module_version": "1.5.0",
      "model_name": "FloatProgressModel",
      "state": {
       "bar_style": "success",
       "description": "100%",
       "layout": "IPY_MODEL_deb11c670282491c9774ce78cd353dc3",
       "max": 8272,
       "style": "IPY_MODEL_5057b7a1d0f34be6baf4702f54a204d2",
       "value": 8272
      }
     },
     "5470f44e40ac44b7a7dbe6d48b925c23": {
      "model_module": "@jupyter-widgets/controls",
      "model_module_version": "1.5.0",
      "model_name": "HBoxModel",
      "state": {
       "children": [
        "IPY_MODEL_f803fbaf35b84aa499510160b82363b7",
        "IPY_MODEL_528f64b48e72423a8d0abcf024975270"
       ],
       "layout": "IPY_MODEL_b71187d0c9fd4519a203f62e4af09663"
      }
     },
     "54d4734449474a589b680d4c30102f75": {
      "model_module": "@jupyter-widgets/controls",
      "model_module_version": "1.5.0",
      "model_name": "HBoxModel",
      "state": {
       "children": [
        "IPY_MODEL_6975e53b35d041ccb91ee469fbc6be6a",
        "IPY_MODEL_1750ebcddd4148e2be019be8423563ef"
       ],
       "layout": "IPY_MODEL_f00a99bf0e354ac9869ece5bd51a360b"
      }
     },
     "555651b02b2e46d38f2dd1485ee9e81c": {
      "model_module": "@jupyter-widgets/base",
      "model_module_version": "1.2.0",
      "model_name": "LayoutModel",
      "state": {}
     },
     "57789823126b4a02af76f2aa190d54a7": {
      "model_module": "@jupyter-widgets/controls",
      "model_module_version": "1.5.0",
      "model_name": "ProgressStyleModel",
      "state": {
       "description_width": "initial"
      }
     },
     "586dd00a5fa6426093cab54d7623087a": {
      "model_module": "@jupyter-widgets/base",
      "model_module_version": "1.2.0",
      "model_name": "LayoutModel",
      "state": {}
     },
     "5924bbac5ccf49038a23006d2a071393": {
      "model_module": "@jupyter-widgets/controls",
      "model_module_version": "1.5.0",
      "model_name": "HTMLModel",
      "state": {
       "layout": "IPY_MODEL_c090fa6773314d52ba72265b1cdd063e",
       "style": "IPY_MODEL_234a2ed8d44e435199c456f839818330",
       "value": " 8272/8272 [00:01&lt;00:00, 5113.12it/s]"
      }
     },
     "598f22af2fa84fe0970b5010de08a5bf": {
      "model_module": "@jupyter-widgets/controls",
      "model_module_version": "1.5.0",
      "model_name": "ProgressStyleModel",
      "state": {
       "description_width": "initial"
      }
     },
     "59c0449b28d14700a010c1d947fa8f41": {
      "model_module": "@jupyter-widgets/controls",
      "model_module_version": "1.5.0",
      "model_name": "ProgressStyleModel",
      "state": {
       "description_width": "initial"
      }
     },
     "5a8b0890ed31449192a40bb509153dde": {
      "model_module": "@jupyter-widgets/controls",
      "model_module_version": "1.5.0",
      "model_name": "FloatProgressModel",
      "state": {
       "bar_style": "success",
       "description": "100%",
       "layout": "IPY_MODEL_c9c94d29a30a4dbfaaeaa99231dacd51",
       "max": 15189,
       "style": "IPY_MODEL_c971a7bd8b3e43d6ae46aa712f628588",
       "value": 15189
      }
     },
     "5bb02b856dc346899dcf2f6a0badf8ad": {
      "model_module": "@jupyter-widgets/controls",
      "model_module_version": "1.5.0",
      "model_name": "HBoxModel",
      "state": {
       "children": [
        "IPY_MODEL_d6bd7ae5a8984d3292c99c5a912e89b9",
        "IPY_MODEL_db7670dc4f9e435ca7cec5ef286ff06f"
       ],
       "layout": "IPY_MODEL_e9bcf0b8377f4dceb3875611ecea0084"
      }
     },
     "5c206159025244359fc3a0e65610f5f3": {
      "model_module": "@jupyter-widgets/controls",
      "model_module_version": "1.5.0",
      "model_name": "FloatProgressModel",
      "state": {
       "bar_style": "success",
       "description": "100%",
       "layout": "IPY_MODEL_3819260908804f599f7aa753bc4968a0",
       "max": 8272,
       "style": "IPY_MODEL_12cdbbde363e4b1e9a1c43dd51ce0906",
       "value": 8272
      }
     },
     "5c75914067a047219bf472a38d151e49": {
      "model_module": "@jupyter-widgets/base",
      "model_module_version": "1.2.0",
      "model_name": "LayoutModel",
      "state": {}
     },
     "5e0adba63c344d87b8418864dd3aa55d": {
      "model_module": "@jupyter-widgets/controls",
      "model_module_version": "1.5.0",
      "model_name": "HTMLModel",
      "state": {
       "layout": "IPY_MODEL_194982bd893f47acb19ace16aecf8f0d",
       "style": "IPY_MODEL_82d7da3d365c424b940338a7ab918471",
       "value": " 8272/8272 [00:01&lt;00:00, 4254.87it/s]"
      }
     },
     "5e47759a1c5042e2b25b1b7d042a0b3d": {
      "model_module": "@jupyter-widgets/controls",
      "model_module_version": "1.5.0",
      "model_name": "FloatProgressModel",
      "state": {
       "bar_style": "success",
       "description": "100%",
       "layout": "IPY_MODEL_1a92c0c602b546d1949c7f6d5c06e533",
       "max": 8272,
       "style": "IPY_MODEL_75511d43cf2d4a1d8c4a0da2a5ea7719",
       "value": 8272
      }
     },
     "5e8f7dae2118412dad30268d1ff5b52b": {
      "model_module": "@jupyter-widgets/base",
      "model_module_version": "1.2.0",
      "model_name": "LayoutModel",
      "state": {}
     },
     "5ebd3a9864034dfb956d0f9355b2945a": {
      "model_module": "@jupyter-widgets/controls",
      "model_module_version": "1.5.0",
      "model_name": "HBoxModel",
      "state": {
       "children": [
        "IPY_MODEL_bc75d92e210041ef877fca5112275d9e",
        "IPY_MODEL_524552fc73bb457880ffa4c6752e992a"
       ],
       "layout": "IPY_MODEL_d4971d4bd52b4b368f26e8e56954a787"
      }
     },
     "606e983adcf04a719cdc2190e6b393a2": {
      "model_module": "@jupyter-widgets/controls",
      "model_module_version": "1.5.0",
      "model_name": "DescriptionStyleModel",
      "state": {
       "description_width": ""
      }
     },
     "606ecda40571488a8f322c981ce79508": {
      "model_module": "@jupyter-widgets/controls",
      "model_module_version": "1.5.0",
      "model_name": "ProgressStyleModel",
      "state": {
       "description_width": "initial"
      }
     },
     "61647844a1404d92bf24de7cf8b69225": {
      "model_module": "@jupyter-widgets/controls",
      "model_module_version": "1.5.0",
      "model_name": "FloatProgressModel",
      "state": {
       "bar_style": "success",
       "description": "100%",
       "layout": "IPY_MODEL_4903bcd7a1e64872a3e4fd164eeb4719",
       "max": 8272,
       "style": "IPY_MODEL_25ca6cc2bdbe4fd0b2277e5b23fa6969",
       "value": 8272
      }
     },
     "63732eb199074cfab0d43b7565bbf6fd": {
      "model_module": "@jupyter-widgets/controls",
      "model_module_version": "1.5.0",
      "model_name": "FloatProgressModel",
      "state": {
       "bar_style": "success",
       "description": "100%",
       "layout": "IPY_MODEL_043cf62d100742e19bcbdfb3b9e71641",
       "max": 8272,
       "style": "IPY_MODEL_1b1f638b54bc4fb984e0af5c2c94100c",
       "value": 8272
      }
     },
     "63dc9dbdfee04e36bd5afe5fcd6aac3a": {
      "model_module": "@jupyter-widgets/base",
      "model_module_version": "1.2.0",
      "model_name": "LayoutModel",
      "state": {}
     },
     "63dd17b88a284c1eb05a0d370eb36c0d": {
      "model_module": "@jupyter-widgets/controls",
      "model_module_version": "1.5.0",
      "model_name": "DescriptionStyleModel",
      "state": {
       "description_width": ""
      }
     },
     "63f19ba51be04bef8624a5a5527e3eb4": {
      "model_module": "@jupyter-widgets/base",
      "model_module_version": "1.2.0",
      "model_name": "LayoutModel",
      "state": {}
     },
     "64f2a8950e6d4080af654cee5cbbbde4": {
      "model_module": "@jupyter-widgets/base",
      "model_module_version": "1.2.0",
      "model_name": "LayoutModel",
      "state": {}
     },
     "65adc277ec4341b9a17aefbb4c891491": {
      "model_module": "@jupyter-widgets/controls",
      "model_module_version": "1.5.0",
      "model_name": "FloatProgressModel",
      "state": {
       "bar_style": "success",
       "description": "100%",
       "layout": "IPY_MODEL_30da138da0ca4bebb2d358bdf3137bd1",
       "max": 15189,
       "style": "IPY_MODEL_2a53206e4ee949d1920e048c27875787",
       "value": 15189
      }
     },
     "666e127a17254783a4b469d79eab31b5": {
      "model_module": "@jupyter-widgets/base",
      "model_module_version": "1.2.0",
      "model_name": "LayoutModel",
      "state": {}
     },
     "669730b4fd9145f28d5e25488d2ad52a": {
      "model_module": "@jupyter-widgets/controls",
      "model_module_version": "1.5.0",
      "model_name": "HTMLModel",
      "state": {
       "layout": "IPY_MODEL_3166d888839e43aba4ca544d0aeb8c1b",
       "style": "IPY_MODEL_ab79b61374c64ec5a0af06da2c5d1d31",
       "value": " 8272/8272 [00:03&lt;00:00, 2230.23it/s]"
      }
     },
     "66ccf0beca534192bce01fbf0319562f": {
      "model_module": "@jupyter-widgets/controls",
      "model_module_version": "1.5.0",
      "model_name": "ProgressStyleModel",
      "state": {
       "description_width": "initial"
      }
     },
     "687895a274454db8a009dd14665e98b5": {
      "model_module": "@jupyter-widgets/base",
      "model_module_version": "1.2.0",
      "model_name": "LayoutModel",
      "state": {}
     },
     "68c96e56cb224c3cb00738dff3310dea": {
      "model_module": "@jupyter-widgets/controls",
      "model_module_version": "1.5.0",
      "model_name": "HTMLModel",
      "state": {
       "layout": "IPY_MODEL_e0651c9431cd4d638262532956d5ece9",
       "style": "IPY_MODEL_146d552f6e334cceb3f2d018204e4be4",
       "value": " 8272/8272 [00:04&lt;00:00, 1809.31it/s]"
      }
     },
     "6975e53b35d041ccb91ee469fbc6be6a": {
      "model_module": "@jupyter-widgets/controls",
      "model_module_version": "1.5.0",
      "model_name": "FloatProgressModel",
      "state": {
       "bar_style": "success",
       "description": "100%",
       "layout": "IPY_MODEL_8bfe7aa481f04e1e90d62b59b8ac2454",
       "max": 15189,
       "style": "IPY_MODEL_59c0449b28d14700a010c1d947fa8f41",
       "value": 15189
      }
     },
     "69adb351539148e4a7d8dc976af4c642": {
      "model_module": "@jupyter-widgets/controls",
      "model_module_version": "1.5.0",
      "model_name": "DescriptionStyleModel",
      "state": {
       "description_width": ""
      }
     },
     "69fdbda7933a4e8087d732f8c35f06c2": {
      "model_module": "@jupyter-widgets/controls",
      "model_module_version": "1.5.0",
      "model_name": "HTMLModel",
      "state": {
       "layout": "IPY_MODEL_e3c4b608abf746d7a7fe03b1ec51a1c5",
       "style": "IPY_MODEL_7d0971ea2ff54c09a3091c6e2eb02817",
       "value": " 8272/8272 [00:01&lt;00:00, 5325.27it/s]"
      }
     },
     "6b7498601f9247d1acab1093dd4f6942": {
      "model_module": "@jupyter-widgets/controls",
      "model_module_version": "1.5.0",
      "model_name": "DescriptionStyleModel",
      "state": {
       "description_width": ""
      }
     },
     "6ccc5f2561cc4142993aaa68ba31c6a5": {
      "model_module": "@jupyter-widgets/base",
      "model_module_version": "1.2.0",
      "model_name": "LayoutModel",
      "state": {}
     },
     "6ce3cd85dd7241f083b29ec93e464413": {
      "model_module": "@jupyter-widgets/controls",
      "model_module_version": "1.5.0",
      "model_name": "HTMLModel",
      "state": {
       "layout": "IPY_MODEL_e5e7102af1784b16b5acae067f40eec0",
       "style": "IPY_MODEL_2d1ca2062df042c1a6f38698f87f60f1",
       "value": " 8272/8272 [00:05&lt;00:00, 1447.17it/s]"
      }
     },
     "6cff1f4859e44d2fbe89a8fff1fc43e2": {
      "model_module": "@jupyter-widgets/controls",
      "model_module_version": "1.5.0",
      "model_name": "HBoxModel",
      "state": {
       "children": [
        "IPY_MODEL_9f8752473d8d4017a6a4b6c758bbea55",
        "IPY_MODEL_392768448141423fba2a8eb374e3513d"
       ],
       "layout": "IPY_MODEL_0a7d2c0a90104b0bbe72086440909922"
      }
     },
     "6dcb1190c7264bf7ad38bbbf94beb498": {
      "model_module": "@jupyter-widgets/base",
      "model_module_version": "1.2.0",
      "model_name": "LayoutModel",
      "state": {}
     },
     "6dde76ecadbe47c48dfad3d794108258": {
      "model_module": "@jupyter-widgets/controls",
      "model_module_version": "1.5.0",
      "model_name": "HTMLModel",
      "state": {
       "layout": "IPY_MODEL_b0e6524f601b484ab3054548e57af6f3",
       "style": "IPY_MODEL_39100316060c4224835ab0eefe3fd573",
       "value": " 8272/8272 [00:00&lt;00:00, 11129.35it/s]"
      }
     },
     "6ef0aa7586124a6caa0edb33ee8a5cfe": {
      "model_module": "@jupyter-widgets/base",
      "model_module_version": "1.2.0",
      "model_name": "LayoutModel",
      "state": {}
     },
     "6f7b8c0c29dd4cfcb0b4c8f1182dfe7e": {
      "model_module": "@jupyter-widgets/controls",
      "model_module_version": "1.5.0",
      "model_name": "HBoxModel",
      "state": {
       "children": [
        "IPY_MODEL_887ab641e9cc431a9f1aa6e88e12d2c6",
        "IPY_MODEL_02659ab372d14abcaa4b13c49974cf92"
       ],
       "layout": "IPY_MODEL_bfd3476cc4924cb1b63d795f38551b1b"
      }
     },
     "71234ac1be544cfa9919a78a0c466df5": {
      "model_module": "@jupyter-widgets/controls",
      "model_module_version": "1.5.0",
      "model_name": "HTMLModel",
      "state": {
       "layout": "IPY_MODEL_1a0cfddd155143e2ae772032a57c5102",
       "style": "IPY_MODEL_1db98acfb82342c280a557d6a5a0e58a",
       "value": " 8272/8272 [18:19&lt;00:00,  7.52it/s]"
      }
     },
     "7160ec2048384e0a89aea5aaebfd4611": {
      "model_module": "@jupyter-widgets/controls",
      "model_module_version": "1.5.0",
      "model_name": "HTMLModel",
      "state": {
       "layout": "IPY_MODEL_431c56736ed4459ba1eb28381880110e",
       "style": "IPY_MODEL_128b5ac5d0c9430e9d620312e9bfaa5d",
       "value": " 8272/8272 [2:21:12&lt;00:00,  1.02s/it]"
      }
     },
     "721e98fd99c5448889818572db3d4661": {
      "model_module": "@jupyter-widgets/controls",
      "model_module_version": "1.5.0",
      "model_name": "FloatProgressModel",
      "state": {
       "bar_style": "success",
       "description": "100%",
       "layout": "IPY_MODEL_b3438cf59899460c967a74ca1ff5c387",
       "max": 8272,
       "style": "IPY_MODEL_606ecda40571488a8f322c981ce79508",
       "value": 8272
      }
     },
     "737026a8051d4badaa275af241477146": {
      "model_module": "@jupyter-widgets/controls",
      "model_module_version": "1.5.0",
      "model_name": "ProgressStyleModel",
      "state": {
       "description_width": "initial"
      }
     },
     "7393932b6de4461482bba1cf0a806f28": {
      "model_module": "@jupyter-widgets/base",
      "model_module_version": "1.2.0",
      "model_name": "LayoutModel",
      "state": {}
     },
     "74d22c1534de42e0878eac9aa07f071e": {
      "model_module": "@jupyter-widgets/controls",
      "model_module_version": "1.5.0",
      "model_name": "FloatProgressModel",
      "state": {
       "bar_style": "success",
       "description": "100%",
       "layout": "IPY_MODEL_0349453d92e54056b77ece6a396c36de",
       "max": 8272,
       "style": "IPY_MODEL_1e9942814f504e21bb23b9d589f63e9c",
       "value": 8272
      }
     },
     "75155abfb2ec47fda8115e8516a3386f": {
      "model_module": "@jupyter-widgets/controls",
      "model_module_version": "1.5.0",
      "model_name": "FloatProgressModel",
      "state": {
       "bar_style": "success",
       "description": "100%",
       "layout": "IPY_MODEL_c2cb592045b24c01aa4d9bab641574e1",
       "max": 15189,
       "style": "IPY_MODEL_57789823126b4a02af76f2aa190d54a7",
       "value": 15189
      }
     },
     "75511d43cf2d4a1d8c4a0da2a5ea7719": {
      "model_module": "@jupyter-widgets/controls",
      "model_module_version": "1.5.0",
      "model_name": "ProgressStyleModel",
      "state": {
       "description_width": "initial"
      }
     },
     "756a89d44a1b40eabb572e5f7eec8b70": {
      "model_module": "@jupyter-widgets/base",
      "model_module_version": "1.2.0",
      "model_name": "LayoutModel",
      "state": {}
     },
     "76140769d5fa4c2b846f8deb2ebe0d7e": {
      "model_module": "@jupyter-widgets/base",
      "model_module_version": "1.2.0",
      "model_name": "LayoutModel",
      "state": {}
     },
     "766f9829a43a4347a334bbcf39fc18e6": {
      "model_module": "@jupyter-widgets/controls",
      "model_module_version": "1.5.0",
      "model_name": "ProgressStyleModel",
      "state": {
       "description_width": "initial"
      }
     },
     "7942ad35213f46799b1197888f2db79e": {
      "model_module": "@jupyter-widgets/controls",
      "model_module_version": "1.5.0",
      "model_name": "HBoxModel",
      "state": {
       "children": [
        "IPY_MODEL_89ac6a38550b4777a99b04681f79b7f7",
        "IPY_MODEL_5924bbac5ccf49038a23006d2a071393"
       ],
       "layout": "IPY_MODEL_9addf0c2ac1844c28a714225e7b5299f"
      }
     },
     "79ae6c53a1a44a4b8606bae4adb1626b": {
      "model_module": "@jupyter-widgets/controls",
      "model_module_version": "1.5.0",
      "model_name": "HTMLModel",
      "state": {
       "layout": "IPY_MODEL_f99b81760ec541e5a31e31c939e69463",
       "style": "IPY_MODEL_d907f7fbe24e465892b14140e42d8284",
       "value": " 8272/8272 [04:35&lt;00:00, 30.00it/s]"
      }
     },
     "79c739382df24357b56c7dd67784b453": {
      "model_module": "@jupyter-widgets/controls",
      "model_module_version": "1.5.0",
      "model_name": "HTMLModel",
      "state": {
       "layout": "IPY_MODEL_810f538f9804496aa2c8e103eb06e740",
       "style": "IPY_MODEL_31fecd5b086140e7878b65879cc7a38f",
       "value": " 8272/8272 [00:03&lt;00:00, 2249.82it/s]"
      }
     },
     "7b4e747ca23e43cfb835b7824340b7b9": {
      "model_module": "@jupyter-widgets/controls",
      "model_module_version": "1.5.0",
      "model_name": "DescriptionStyleModel",
      "state": {
       "description_width": ""
      }
     },
     "7b84090da75e45a5879b9e92e6713777": {
      "model_module": "@jupyter-widgets/controls",
      "model_module_version": "1.5.0",
      "model_name": "DescriptionStyleModel",
      "state": {
       "description_width": ""
      }
     },
     "7c21e0ac750046379aa6d473a4597168": {
      "model_module": "@jupyter-widgets/controls",
      "model_module_version": "1.5.0",
      "model_name": "HTMLModel",
      "state": {
       "layout": "IPY_MODEL_e818fc0bed48452c8531c87f8b813251",
       "style": "IPY_MODEL_e41b8e87fbf546a8936bd9bc124fc917",
       "value": " 8272/8272 [04:41&lt;00:00, 29.38it/s]"
      }
     },
     "7c5318fe02d044c3ae2c6cc44c001662": {
      "model_module": "@jupyter-widgets/controls",
      "model_module_version": "1.5.0",
      "model_name": "HTMLModel",
      "state": {
       "layout": "IPY_MODEL_987149e360874629a59b84dfd88a030e",
       "style": "IPY_MODEL_b0dcf2cfe1a14db5b178e02596f87156",
       "value": " 8272/8272 [06:55&lt;00:00, 19.90it/s]"
      }
     },
     "7cb7c0a743ea476baad141529d3a4011": {
      "model_module": "@jupyter-widgets/base",
      "model_module_version": "1.2.0",
      "model_name": "LayoutModel",
      "state": {}
     },
     "7cc824ba6ddf4f059fc3c0dc4ebf743d": {
      "model_module": "@jupyter-widgets/base",
      "model_module_version": "1.2.0",
      "model_name": "LayoutModel",
      "state": {}
     },
     "7d0971ea2ff54c09a3091c6e2eb02817": {
      "model_module": "@jupyter-widgets/controls",
      "model_module_version": "1.5.0",
      "model_name": "DescriptionStyleModel",
      "state": {
       "description_width": ""
      }
     },
     "7eaccec548fc4357895c46bf748a9cba": {
      "model_module": "@jupyter-widgets/controls",
      "model_module_version": "1.5.0",
      "model_name": "DescriptionStyleModel",
      "state": {
       "description_width": ""
      }
     },
     "7f371a74fdac4b5b9fbe4e6ccfaaeffc": {
      "model_module": "@jupyter-widgets/controls",
      "model_module_version": "1.5.0",
      "model_name": "ProgressStyleModel",
      "state": {
       "description_width": "initial"
      }
     },
     "7f52d18b90f445f7982d9a554b4024bd": {
      "model_module": "@jupyter-widgets/controls",
      "model_module_version": "1.5.0",
      "model_name": "DescriptionStyleModel",
      "state": {
       "description_width": ""
      }
     },
     "7fd577ff363d4c3693162bea09533ab9": {
      "model_module": "@jupyter-widgets/base",
      "model_module_version": "1.2.0",
      "model_name": "LayoutModel",
      "state": {}
     },
     "7ff8b30b717b44d3acd043fc443d5dc6": {
      "model_module": "@jupyter-widgets/controls",
      "model_module_version": "1.5.0",
      "model_name": "ProgressStyleModel",
      "state": {
       "description_width": "initial"
      }
     },
     "8004a31f82b04e1f8787c1e80abfaf39": {
      "model_module": "@jupyter-widgets/base",
      "model_module_version": "1.2.0",
      "model_name": "LayoutModel",
      "state": {}
     },
     "810f538f9804496aa2c8e103eb06e740": {
      "model_module": "@jupyter-widgets/base",
      "model_module_version": "1.2.0",
      "model_name": "LayoutModel",
      "state": {}
     },
     "811979a2db54410ab2ad56199c65dc70": {
      "model_module": "@jupyter-widgets/base",
      "model_module_version": "1.2.0",
      "model_name": "LayoutModel",
      "state": {}
     },
     "81ff353e54b34f08b6397b765e728345": {
      "model_module": "@jupyter-widgets/controls",
      "model_module_version": "1.5.0",
      "model_name": "HTMLModel",
      "state": {
       "layout": "IPY_MODEL_8c50d258644f4e1f8695e5278688f4e4",
       "style": "IPY_MODEL_7b4e747ca23e43cfb835b7824340b7b9",
       "value": " 8272/8272 [00:01&lt;00:00, 5272.10it/s]"
      }
     },
     "822c07513cf448e0b6e2161ca1ef8d6f": {
      "model_module": "@jupyter-widgets/controls",
      "model_module_version": "1.5.0",
      "model_name": "FloatProgressModel",
      "state": {
       "bar_style": "danger",
       "description": "  0%",
       "layout": "IPY_MODEL_017398907c1244fdace0f6618b2d991d",
       "max": 8272,
       "style": "IPY_MODEL_2c9cfa0f12474e6782b9a8425c86f497",
       "value": 2
      }
     },
     "82d394b50a7c4351944f634882555517": {
      "model_module": "@jupyter-widgets/base",
      "model_module_version": "1.2.0",
      "model_name": "LayoutModel",
      "state": {}
     },
     "82d7da3d365c424b940338a7ab918471": {
      "model_module": "@jupyter-widgets/controls",
      "model_module_version": "1.5.0",
      "model_name": "DescriptionStyleModel",
      "state": {
       "description_width": ""
      }
     },
     "834415e8d2dd4d0084c9d4e73a1320b1": {
      "model_module": "@jupyter-widgets/controls",
      "model_module_version": "1.5.0",
      "model_name": "HTMLModel",
      "state": {
       "layout": "IPY_MODEL_1ad0809cc6334efdb69bd724ce8b868d",
       "style": "IPY_MODEL_d1bee6e0be7f4ebda9276008be92e802",
       "value": " 15189/15189 [00:10&lt;00:00, 1427.06it/s]"
      }
     },
     "83a30a36efc447b99eb47256d9420c73": {
      "model_module": "@jupyter-widgets/controls",
      "model_module_version": "1.5.0",
      "model_name": "HBoxModel",
      "state": {
       "children": [
        "IPY_MODEL_546dfbc73a4a48b8a229978d5b178aee",
        "IPY_MODEL_3bc26f33f63f4509bef6b7144dd557ba"
       ],
       "layout": "IPY_MODEL_fa5756b9b8c44645bf67a58ea7077012"
      }
     },
     "83e6198e297f4cfdae3d316eb15ad391": {
      "model_module": "@jupyter-widgets/controls",
      "model_module_version": "1.5.0",
      "model_name": "HTMLModel",
      "state": {
       "layout": "IPY_MODEL_099b6f82fb144976aa13d746a44186a6",
       "style": "IPY_MODEL_90cca1b0e5064c54abe7b37c613f3fd9",
       "value": " 500/500 [00:05&lt;00:00, 83.40it/s]"
      }
     },
     "8582024337af4bf9b8b12568f7a618f1": {
      "model_module": "@jupyter-widgets/controls",
      "model_module_version": "1.5.0",
      "model_name": "DescriptionStyleModel",
      "state": {
       "description_width": ""
      }
     },
     "85a0527ca1b94d3ebd9ed42a51ee0eba": {
      "model_module": "@jupyter-widgets/base",
      "model_module_version": "1.2.0",
      "model_name": "LayoutModel",
      "state": {}
     },
     "86061a2c90a348289348926db70247b2": {
      "model_module": "@jupyter-widgets/controls",
      "model_module_version": "1.5.0",
      "model_name": "HTMLModel",
      "state": {
       "layout": "IPY_MODEL_bef7baf442044011bea157cceaddb029",
       "style": "IPY_MODEL_cb96a8dec72a4413955b67f9eef1a9f2",
       "value": " 8272/8272 [03:25&lt;00:00, 40.34it/s]"
      }
     },
     "887ab641e9cc431a9f1aa6e88e12d2c6": {
      "model_module": "@jupyter-widgets/controls",
      "model_module_version": "1.5.0",
      "model_name": "FloatProgressModel",
      "state": {
       "bar_style": "success",
       "description": "100%",
       "layout": "IPY_MODEL_307447b7e0ab497f8a3f17f59d83756b",
       "max": 8272,
       "style": "IPY_MODEL_d5c39aa043e049ae87f5f89dfe1c8f14",
       "value": 8272
      }
     },
     "88e557fa2ab7414c9863daceb0a857ad": {
      "model_module": "@jupyter-widgets/controls",
      "model_module_version": "1.5.0",
      "model_name": "HTMLModel",
      "state": {
       "layout": "IPY_MODEL_bc1e173c760443cc91c6407f356fe620",
       "style": "IPY_MODEL_094e04190bfe41f8b5e0fd6cc74509af",
       "value": " 8272/8272 [00:00&lt;00:00, 31693.44it/s]"
      }
     },
     "89ac6a38550b4777a99b04681f79b7f7": {
      "model_module": "@jupyter-widgets/controls",
      "model_module_version": "1.5.0",
      "model_name": "FloatProgressModel",
      "state": {
       "bar_style": "success",
       "description": "100%",
       "layout": "IPY_MODEL_0c655219ed62478ab6b41e885f06c351",
       "max": 8272,
       "style": "IPY_MODEL_ece63d4476274af8aa1650df2c3d01e5",
       "value": 8272
      }
     },
     "89e901944a93495d9809d24fe422c88e": {
      "model_module": "@jupyter-widgets/controls",
      "model_module_version": "1.5.0",
      "model_name": "HTMLModel",
      "state": {
       "layout": "IPY_MODEL_c335a0c1e54b461287660a8984587135",
       "style": "IPY_MODEL_159eae77eee646b5ba69d9862ce2fd02",
       "value": " 8272/8272 [00:01&lt;00:00, 7100.66it/s]"
      }
     },
     "8bfe7aa481f04e1e90d62b59b8ac2454": {
      "model_module": "@jupyter-widgets/base",
      "model_module_version": "1.2.0",
      "model_name": "LayoutModel",
      "state": {}
     },
     "8c50a79a9f2143d5a0b60f0c25b484f8": {
      "model_module": "@jupyter-widgets/controls",
      "model_module_version": "1.5.0",
      "model_name": "HBoxModel",
      "state": {
       "children": [
        "IPY_MODEL_e22f553378b042f2bbcf7db636369b19",
        "IPY_MODEL_89e901944a93495d9809d24fe422c88e"
       ],
       "layout": "IPY_MODEL_4c8683d595794bc2ba688610ef8fa9ff"
      }
     },
     "8c50d258644f4e1f8695e5278688f4e4": {
      "model_module": "@jupyter-widgets/base",
      "model_module_version": "1.2.0",
      "model_name": "LayoutModel",
      "state": {}
     },
     "8cdcee9a1b6b4704b141e75240eb67c5": {
      "model_module": "@jupyter-widgets/base",
      "model_module_version": "1.2.0",
      "model_name": "LayoutModel",
      "state": {}
     },
     "8dc80ae31d1649b7b0b255aa278600c7": {
      "model_module": "@jupyter-widgets/controls",
      "model_module_version": "1.5.0",
      "model_name": "DescriptionStyleModel",
      "state": {
       "description_width": ""
      }
     },
     "8f2e71db99804b939557cc14bf14e62e": {
      "model_module": "@jupyter-widgets/controls",
      "model_module_version": "1.5.0",
      "model_name": "ProgressStyleModel",
      "state": {
       "description_width": "initial"
      }
     },
     "8ffb9f21f5b4443bb59f8f778095868c": {
      "model_module": "@jupyter-widgets/controls",
      "model_module_version": "1.5.0",
      "model_name": "ProgressStyleModel",
      "state": {
       "description_width": "initial"
      }
     },
     "90537891e3e34b1798931f1cf349e290": {
      "model_module": "@jupyter-widgets/controls",
      "model_module_version": "1.5.0",
      "model_name": "HTMLModel",
      "state": {
       "layout": "IPY_MODEL_0c314bba6fcb411f9430ae23041812ce",
       "style": "IPY_MODEL_dece39411ae44e0ba9a48fc3e7fa5200",
       "value": " 8272/8272 [00:00&lt;00:00, 8831.49it/s]"
      }
     },
     "90cca1b0e5064c54abe7b37c613f3fd9": {
      "model_module": "@jupyter-widgets/controls",
      "model_module_version": "1.5.0",
      "model_name": "DescriptionStyleModel",
      "state": {
       "description_width": ""
      }
     },
     "9304424e66974f79883e6a06f151f58f": {
      "model_module": "@jupyter-widgets/controls",
      "model_module_version": "1.5.0",
      "model_name": "HBoxModel",
      "state": {
       "children": [
        "IPY_MODEL_c031e94135ad43048efeb0a2fd4ac74d",
        "IPY_MODEL_d30ad1c7db6240ad856ec287721f5567"
       ],
       "layout": "IPY_MODEL_c306c2d77d2d40e6bb267a8edf10432c"
      }
     },
     "937ee1d64333441eb5167accf6204f9f": {
      "model_module": "@jupyter-widgets/controls",
      "model_module_version": "1.5.0",
      "model_name": "FloatProgressModel",
      "state": {
       "bar_style": "success",
       "description": "100%",
       "layout": "IPY_MODEL_c6d6efd79b8642dd9b2d08c48668ce7a",
       "max": 8272,
       "style": "IPY_MODEL_46e969b64f814ef888545f8ef0745864",
       "value": 8272
      }
     },
     "93f29f8a84f544baa4c395742756b0c3": {
      "model_module": "@jupyter-widgets/base",
      "model_module_version": "1.2.0",
      "model_name": "LayoutModel",
      "state": {}
     },
     "9447beba9a254f85b34c534e55c2d32f": {
      "model_module": "@jupyter-widgets/controls",
      "model_module_version": "1.5.0",
      "model_name": "ProgressStyleModel",
      "state": {
       "description_width": "initial"
      }
     },
     "947da542c34f411d9ef7351e3da31f31": {
      "model_module": "@jupyter-widgets/controls",
      "model_module_version": "1.5.0",
      "model_name": "FloatProgressModel",
      "state": {
       "bar_style": "success",
       "description": "100%",
       "layout": "IPY_MODEL_a279867a02024fedb30956c1c163cca4",
       "max": 8272,
       "style": "IPY_MODEL_292b826614ca45d9b621d76a04e358cb",
       "value": 8272
      }
     },
     "95ab66ff2e0d4f2790af7e9c95b1df0d": {
      "model_module": "@jupyter-widgets/base",
      "model_module_version": "1.2.0",
      "model_name": "LayoutModel",
      "state": {}
     },
     "95b5d00621434272b16b301134d49830": {
      "model_module": "@jupyter-widgets/controls",
      "model_module_version": "1.5.0",
      "model_name": "HBoxModel",
      "state": {
       "children": [
        "IPY_MODEL_29c9c6e5df1b46609116d8a11c5f2045",
        "IPY_MODEL_669730b4fd9145f28d5e25488d2ad52a"
       ],
       "layout": "IPY_MODEL_a8fd4317750f40fd8d21e4280e30f40d"
      }
     },
     "96296f271ac04457936c14592651065b": {
      "model_module": "@jupyter-widgets/controls",
      "model_module_version": "1.5.0",
      "model_name": "DescriptionStyleModel",
      "state": {
       "description_width": ""
      }
     },
     "96d9d0e1ee994d8fb03a30e70db79743": {
      "model_module": "@jupyter-widgets/base",
      "model_module_version": "1.2.0",
      "model_name": "LayoutModel",
      "state": {}
     },
     "9718f50eec2747bfa11529dc4044f970": {
      "model_module": "@jupyter-widgets/controls",
      "model_module_version": "1.5.0",
      "model_name": "FloatProgressModel",
      "state": {
       "bar_style": "success",
       "description": "100%",
       "layout": "IPY_MODEL_e0a2ade2ba924cd3883f3fbf9d4fc0e1",
       "max": 8272,
       "style": "IPY_MODEL_dba7f7bf8e8c4abd913e7f560e6c0270",
       "value": 8272
      }
     },
     "9775204bda634be5befd49d59f24984f": {
      "model_module": "@jupyter-widgets/base",
      "model_module_version": "1.2.0",
      "model_name": "LayoutModel",
      "state": {}
     },
     "9821a42c58aa41b6a8893eb2567f1d66": {
      "model_module": "@jupyter-widgets/controls",
      "model_module_version": "1.5.0",
      "model_name": "DescriptionStyleModel",
      "state": {
       "description_width": ""
      }
     },
     "987149e360874629a59b84dfd88a030e": {
      "model_module": "@jupyter-widgets/base",
      "model_module_version": "1.2.0",
      "model_name": "LayoutModel",
      "state": {}
     },
     "991f6499395b490c8320d5e724ca2aaf": {
      "model_module": "@jupyter-widgets/controls",
      "model_module_version": "1.5.0",
      "model_name": "HTMLModel",
      "state": {
       "layout": "IPY_MODEL_2d1c97b1df994a64b37a9e3274bfb2ee",
       "style": "IPY_MODEL_f66c5c8249aa4a64afc5fa3627d45a8e",
       "value": " 15189/15189 [05:57&lt;00:00, 42.49it/s]"
      }
     },
     "99f3dc76862549b6a6ee1b4b0bbbe26d": {
      "model_module": "@jupyter-widgets/controls",
      "model_module_version": "1.5.0",
      "model_name": "FloatProgressModel",
      "state": {
       "bar_style": "success",
       "description": "100%",
       "layout": "IPY_MODEL_c2379dae1e0e4e43b96821197189e2a5",
       "max": 8272,
       "style": "IPY_MODEL_7f371a74fdac4b5b9fbe4e6ccfaaeffc",
       "value": 8272
      }
     },
     "9a4ebc49eefc4d8cafcc6ad315d8d928": {
      "model_module": "@jupyter-widgets/controls",
      "model_module_version": "1.5.0",
      "model_name": "ProgressStyleModel",
      "state": {
       "description_width": "initial"
      }
     },
     "9a8aef5eeb4d45e9b223ef7a17c084c3": {
      "model_module": "@jupyter-widgets/controls",
      "model_module_version": "1.5.0",
      "model_name": "HBoxModel",
      "state": {
       "children": [
        "IPY_MODEL_721e98fd99c5448889818572db3d4661",
        "IPY_MODEL_81ff353e54b34f08b6397b765e728345"
       ],
       "layout": "IPY_MODEL_1223318e55f849d0bbb015f4aeba5173"
      }
     },
     "9adab65423ad4eb0933e35f095fe5c2d": {
      "model_module": "@jupyter-widgets/controls",
      "model_module_version": "1.5.0",
      "model_name": "HBoxModel",
      "state": {
       "children": [
        "IPY_MODEL_05bf0316cb9b424a8a4d5ce4e0f474a9",
        "IPY_MODEL_065fa1fecb9240b7b2cf6b8f9c3c8260"
       ],
       "layout": "IPY_MODEL_4b9729d6d59f43aa94edac333af6923a"
      }
     },
     "9addf0c2ac1844c28a714225e7b5299f": {
      "model_module": "@jupyter-widgets/base",
      "model_module_version": "1.2.0",
      "model_name": "LayoutModel",
      "state": {}
     },
     "9ca08eb3a5d44140a7881cad423aecfb": {
      "model_module": "@jupyter-widgets/base",
      "model_module_version": "1.2.0",
      "model_name": "LayoutModel",
      "state": {}
     },
     "9d800c100d6f4fda993aaebb2c33154a": {
      "model_module": "@jupyter-widgets/base",
      "model_module_version": "1.2.0",
      "model_name": "LayoutModel",
      "state": {}
     },
     "9f68129a90ca4f26a9fe8f76df1f89b5": {
      "model_module": "@jupyter-widgets/controls",
      "model_module_version": "1.5.0",
      "model_name": "ProgressStyleModel",
      "state": {
       "description_width": "initial"
      }
     },
     "9f85160fb5df4935b19339b8d69644c0": {
      "model_module": "@jupyter-widgets/base",
      "model_module_version": "1.2.0",
      "model_name": "LayoutModel",
      "state": {}
     },
     "9f8752473d8d4017a6a4b6c758bbea55": {
      "model_module": "@jupyter-widgets/controls",
      "model_module_version": "1.5.0",
      "model_name": "FloatProgressModel",
      "state": {
       "bar_style": "success",
       "description": "100%",
       "layout": "IPY_MODEL_586dd00a5fa6426093cab54d7623087a",
       "max": 8272,
       "style": "IPY_MODEL_b217e817718d46268348d7dfa04433ae",
       "value": 8272
      }
     },
     "9fd9625a407e4013a0a5bcc56fae7583": {
      "model_module": "@jupyter-widgets/controls",
      "model_module_version": "1.5.0",
      "model_name": "HTMLModel",
      "state": {
       "layout": "IPY_MODEL_ac355d8a3ffc43ba8688fea634d22230",
       "style": "IPY_MODEL_c0a2e722f28540959fd5ca46ee75f4c7",
       "value": " 8272/8272 [00:00&lt;00:00, 11179.91it/s]"
      }
     },
     "9ff5ca0923f14304acd9c7fcc3854423": {
      "model_module": "@jupyter-widgets/controls",
      "model_module_version": "1.5.0",
      "model_name": "ProgressStyleModel",
      "state": {
       "description_width": "initial"
      }
     },
     "a07de381d9cf4e2390dc4e5a8d253997": {
      "model_module": "@jupyter-widgets/base",
      "model_module_version": "1.2.0",
      "model_name": "LayoutModel",
      "state": {}
     },
     "a0dcc05ee42b46eba6f86300ac159e45": {
      "model_module": "@jupyter-widgets/controls",
      "model_module_version": "1.5.0",
      "model_name": "FloatProgressModel",
      "state": {
       "bar_style": "success",
       "description": "100%",
       "layout": "IPY_MODEL_269e510341504dca929a4e699c15d673",
       "max": 8272,
       "style": "IPY_MODEL_035d5b3ea47c41ec94e3556d9187e350",
       "value": 8272
      }
     },
     "a174647e2cc94444927d54e1895838b5": {
      "model_module": "@jupyter-widgets/controls",
      "model_module_version": "1.5.0",
      "model_name": "HBoxModel",
      "state": {
       "children": [
        "IPY_MODEL_52fb56a26c2d42978c1ee7ffa9a77106",
        "IPY_MODEL_9fd9625a407e4013a0a5bcc56fae7583"
       ],
       "layout": "IPY_MODEL_7cc824ba6ddf4f059fc3c0dc4ebf743d"
      }
     },
     "a203ea4f571c4feaa9d35678b72b6e55": {
      "model_module": "@jupyter-widgets/controls",
      "model_module_version": "1.5.0",
      "model_name": "HTMLModel",
      "state": {
       "layout": "IPY_MODEL_ef27e09f5f51490bbda499370a238c18",
       "style": "IPY_MODEL_4ebd026085d44c3dabbc2a543015010f",
       "value": " 2/8272 [2:41:45&lt;11148:08:50, 4852.88s/it]"
      }
     },
     "a24558336c944b1d9af84272a74f5a22": {
      "model_module": "@jupyter-widgets/controls",
      "model_module_version": "1.5.0",
      "model_name": "FloatProgressModel",
      "state": {
       "bar_style": "success",
       "description": "100%",
       "layout": "IPY_MODEL_fc1cea3672064908a310ee04820cd5fa",
       "max": 8272,
       "style": "IPY_MODEL_8ffb9f21f5b4443bb59f8f778095868c",
       "value": 8272
      }
     },
     "a279867a02024fedb30956c1c163cca4": {
      "model_module": "@jupyter-widgets/base",
      "model_module_version": "1.2.0",
      "model_name": "LayoutModel",
      "state": {}
     },
     "a2cfef76fdac487b832ed1e1e3086c0b": {
      "model_module": "@jupyter-widgets/base",
      "model_module_version": "1.2.0",
      "model_name": "LayoutModel",
      "state": {}
     },
     "a3717a8f7c6c477d821e57a32aad8c89": {
      "model_module": "@jupyter-widgets/controls",
      "model_module_version": "1.5.0",
      "model_name": "DescriptionStyleModel",
      "state": {
       "description_width": ""
      }
     },
     "a4b7439d67ff4116a85dfeb17f205d02": {
      "model_module": "@jupyter-widgets/controls",
      "model_module_version": "1.5.0",
      "model_name": "FloatProgressModel",
      "state": {
       "bar_style": "success",
       "description": "100%",
       "layout": "IPY_MODEL_e715702c04184b5785741bfe48544fe2",
       "max": 15189,
       "style": "IPY_MODEL_4eac1e6bc6ca48eb9e252be67a02bf7c",
       "value": 15189
      }
     },
     "a54484e4eac649d7aea41c0c245af48d": {
      "model_module": "@jupyter-widgets/controls",
      "model_module_version": "1.5.0",
      "model_name": "HBoxModel",
      "state": {
       "children": [
        "IPY_MODEL_b58b036063934a289a6af32469493c81",
        "IPY_MODEL_524780fae6394134aca044c1a69f99ee"
       ],
       "layout": "IPY_MODEL_d90aaed397624c4b8dab1584c96b9204"
      }
     },
     "a748d715fd7b48d2ab50ac13053c17ea": {
      "model_module": "@jupyter-widgets/base",
      "model_module_version": "1.2.0",
      "model_name": "LayoutModel",
      "state": {}
     },
     "a756f92132674f8a9eec5d4fd413230f": {
      "model_module": "@jupyter-widgets/controls",
      "model_module_version": "1.5.0",
      "model_name": "HBoxModel",
      "state": {
       "children": [
        "IPY_MODEL_74d22c1534de42e0878eac9aa07f071e",
        "IPY_MODEL_cefe535cabdd4889ae1b236cd21a90f7"
       ],
       "layout": "IPY_MODEL_7393932b6de4461482bba1cf0a806f28"
      }
     },
     "a7ab9b96f41647fc997ecb38b5b138c9": {
      "model_module": "@jupyter-widgets/controls",
      "model_module_version": "1.5.0",
      "model_name": "FloatProgressModel",
      "state": {
       "bar_style": "success",
       "description": "Train NBs: 100%",
       "layout": "IPY_MODEL_e3ba90850c8146318445c32d8dddccc0",
       "max": 500,
       "style": "IPY_MODEL_17bee364b9514286ad5181802645ae84",
       "value": 500
      }
     },
     "a8f9a59c3f5943008820e4cd79d86104": {
      "model_module": "@jupyter-widgets/controls",
      "model_module_version": "1.5.0",
      "model_name": "HBoxModel",
      "state": {
       "children": [
        "IPY_MODEL_d2ca0d6c74a54aee9d43f4b2d43e26f4",
        "IPY_MODEL_71234ac1be544cfa9919a78a0c466df5"
       ],
       "layout": "IPY_MODEL_9d800c100d6f4fda993aaebb2c33154a"
      }
     },
     "a8fd4317750f40fd8d21e4280e30f40d": {
      "model_module": "@jupyter-widgets/base",
      "model_module_version": "1.2.0",
      "model_name": "LayoutModel",
      "state": {}
     },
     "a90c65d82f6c4767a0e8eadaf2cccba1": {
      "model_module": "@jupyter-widgets/controls",
      "model_module_version": "1.5.0",
      "model_name": "FloatProgressModel",
      "state": {
       "bar_style": "success",
       "description": "100%",
       "layout": "IPY_MODEL_e0efa3f551014281b7d9b6ba33e4b389",
       "max": 8272,
       "style": "IPY_MODEL_118e8ece2960435dab25adfbadb64e24",
       "value": 8272
      }
     },
     "a9b9a89b9596442f8959344c7e0ba9ea": {
      "model_module": "@jupyter-widgets/base",
      "model_module_version": "1.2.0",
      "model_name": "LayoutModel",
      "state": {}
     },
     "aa7522ec3dfb437785c69abd2eecc944": {
      "model_module": "@jupyter-widgets/controls",
      "model_module_version": "1.5.0",
      "model_name": "DescriptionStyleModel",
      "state": {
       "description_width": ""
      }
     },
     "aab0fb848f9a4ee89c28a913e90e39f2": {
      "model_module": "@jupyter-widgets/controls",
      "model_module_version": "1.5.0",
      "model_name": "FloatProgressModel",
      "state": {
       "bar_style": "success",
       "description": "100%",
       "layout": "IPY_MODEL_c47baac58c3e461c80af206790ba0707",
       "max": 8272,
       "style": "IPY_MODEL_ce203f62463b4e9587e4d97bb4d80645",
       "value": 8272
      }
     },
     "ab1dba9cb6f2403db9d3a374edd7f503": {
      "model_module": "@jupyter-widgets/controls",
      "model_module_version": "1.5.0",
      "model_name": "FloatProgressModel",
      "state": {
       "bar_style": "success",
       "description": "100%",
       "layout": "IPY_MODEL_8004a31f82b04e1f8787c1e80abfaf39",
       "max": 8272,
       "style": "IPY_MODEL_19952ace92eb449a87ccd856a5d12d66",
       "value": 8272
      }
     },
     "ab79b61374c64ec5a0af06da2c5d1d31": {
      "model_module": "@jupyter-widgets/controls",
      "model_module_version": "1.5.0",
      "model_name": "DescriptionStyleModel",
      "state": {
       "description_width": ""
      }
     },
     "ac355d8a3ffc43ba8688fea634d22230": {
      "model_module": "@jupyter-widgets/base",
      "model_module_version": "1.2.0",
      "model_name": "LayoutModel",
      "state": {}
     },
     "acb97489d8584099b23dc0fdfbd1e9ee": {
      "model_module": "@jupyter-widgets/base",
      "model_module_version": "1.2.0",
      "model_name": "LayoutModel",
      "state": {}
     },
     "b02042b869c3410b8e011c77ed681261": {
      "model_module": "@jupyter-widgets/base",
      "model_module_version": "1.2.0",
      "model_name": "LayoutModel",
      "state": {}
     },
     "b087d353494743acbd3e2dfe3e1f8509": {
      "model_module": "@jupyter-widgets/base",
      "model_module_version": "1.2.0",
      "model_name": "LayoutModel",
      "state": {}
     },
     "b0dcf2cfe1a14db5b178e02596f87156": {
      "model_module": "@jupyter-widgets/controls",
      "model_module_version": "1.5.0",
      "model_name": "DescriptionStyleModel",
      "state": {
       "description_width": ""
      }
     },
     "b0e6524f601b484ab3054548e57af6f3": {
      "model_module": "@jupyter-widgets/base",
      "model_module_version": "1.2.0",
      "model_name": "LayoutModel",
      "state": {}
     },
     "b1a7e0e3a8584fe19faecf26cd8097f3": {
      "model_module": "@jupyter-widgets/controls",
      "model_module_version": "1.5.0",
      "model_name": "DescriptionStyleModel",
      "state": {
       "description_width": ""
      }
     },
     "b217e817718d46268348d7dfa04433ae": {
      "model_module": "@jupyter-widgets/controls",
      "model_module_version": "1.5.0",
      "model_name": "ProgressStyleModel",
      "state": {
       "description_width": "initial"
      }
     },
     "b338dc8e9be040bfba1273bc0f5ff380": {
      "model_module": "@jupyter-widgets/controls",
      "model_module_version": "1.5.0",
      "model_name": "DescriptionStyleModel",
      "state": {
       "description_width": ""
      }
     },
     "b3438cf59899460c967a74ca1ff5c387": {
      "model_module": "@jupyter-widgets/base",
      "model_module_version": "1.2.0",
      "model_name": "LayoutModel",
      "state": {}
     },
     "b379f59d578a43589636993a3677192c": {
      "model_module": "@jupyter-widgets/controls",
      "model_module_version": "1.5.0",
      "model_name": "FloatProgressModel",
      "state": {
       "bar_style": "success",
       "description": "100%",
       "layout": "IPY_MODEL_231a3604296242c7ae13006bfc09d04c",
       "max": 8272,
       "style": "IPY_MODEL_8f2e71db99804b939557cc14bf14e62e",
       "value": 8272
      }
     },
     "b484d17f656f4f15889895a82665214e": {
      "model_module": "@jupyter-widgets/controls",
      "model_module_version": "1.5.0",
      "model_name": "FloatProgressModel",
      "state": {
       "bar_style": "success",
       "description": "100%",
       "layout": "IPY_MODEL_32b609def18a4bd4a0985fb5253c81a8",
       "max": 8272,
       "style": "IPY_MODEL_53e1d2f87524442db62631aaee65ff01",
       "value": 8272
      }
     },
     "b58b036063934a289a6af32469493c81": {
      "model_module": "@jupyter-widgets/controls",
      "model_module_version": "1.5.0",
      "model_name": "FloatProgressModel",
      "state": {
       "bar_style": "success",
       "description": "100%",
       "layout": "IPY_MODEL_9775204bda634be5befd49d59f24984f",
       "max": 8272,
       "style": "IPY_MODEL_598f22af2fa84fe0970b5010de08a5bf",
       "value": 8272
      }
     },
     "b6a30a13d2744fefb3ce82f002fd98a9": {
      "model_module": "@jupyter-widgets/controls",
      "model_module_version": "1.5.0",
      "model_name": "HBoxModel",
      "state": {
       "children": [
        "IPY_MODEL_937ee1d64333441eb5167accf6204f9f",
        "IPY_MODEL_90537891e3e34b1798931f1cf349e290"
       ],
       "layout": "IPY_MODEL_fd3d276a74c74dd89f4a231be34014cb"
      }
     },
     "b6f02a8a151844a5a0b9629a9bac066c": {
      "model_module": "@jupyter-widgets/controls",
      "model_module_version": "1.5.0",
      "model_name": "HBoxModel",
      "state": {
       "children": [
        "IPY_MODEL_2a16a179704a4500a81e487153e1dc5e",
        "IPY_MODEL_79c739382df24357b56c7dd67784b453"
       ],
       "layout": "IPY_MODEL_35b14f3a90864bf385ab5ed1d57e2106"
      }
     },
     "b6fa549b41ef4086a14ee5bc352358cc": {
      "model_module": "@jupyter-widgets/base",
      "model_module_version": "1.2.0",
      "model_name": "LayoutModel",
      "state": {}
     },
     "b701b13ca4b24a0a88d1f83bec1c02ed": {
      "model_module": "@jupyter-widgets/base",
      "model_module_version": "1.2.0",
      "model_name": "LayoutModel",
      "state": {}
     },
     "b71187d0c9fd4519a203f62e4af09663": {
      "model_module": "@jupyter-widgets/base",
      "model_module_version": "1.2.0",
      "model_name": "LayoutModel",
      "state": {}
     },
     "b78bb6a6f76843138ecdf249d55951c6": {
      "model_module": "@jupyter-widgets/controls",
      "model_module_version": "1.5.0",
      "model_name": "HBoxModel",
      "state": {
       "children": [
        "IPY_MODEL_1afcd12cf0e24e21bc946c274c40bfc8",
        "IPY_MODEL_86061a2c90a348289348926db70247b2"
       ],
       "layout": "IPY_MODEL_64f2a8950e6d4080af654cee5cbbbde4"
      }
     },
     "b8578234f6704f5195466d9b3ae34988": {
      "model_module": "@jupyter-widgets/controls",
      "model_module_version": "1.5.0",
      "model_name": "HTMLModel",
      "state": {
       "layout": "IPY_MODEL_8cdcee9a1b6b4704b141e75240eb67c5",
       "style": "IPY_MODEL_b338dc8e9be040bfba1273bc0f5ff380",
       "value": " 8272/8272 [00:02&lt;00:00, 3897.74it/s]"
      }
     },
     "bab6cd9da79f4f4a87997976cbbdbf09": {
      "model_module": "@jupyter-widgets/controls",
      "model_module_version": "1.5.0",
      "model_name": "HBoxModel",
      "state": {
       "children": [
        "IPY_MODEL_1c1c2657cf8f4e5999a106d4b18e60e5",
        "IPY_MODEL_bee72ef946eb4accad1d656a5b8bce31"
       ],
       "layout": "IPY_MODEL_2372437a16b04ea197180895699cc1a5"
      }
     },
     "bb837ddb0994435b99559b44e1a0e621": {
      "model_module": "@jupyter-widgets/controls",
      "model_module_version": "1.5.0",
      "model_name": "HBoxModel",
      "state": {
       "children": [
        "IPY_MODEL_bd87a18656154b208379491215348c1c",
        "IPY_MODEL_7c21e0ac750046379aa6d473a4597168"
       ],
       "layout": "IPY_MODEL_0b189c57efff461881df723e217ba104"
      }
     },
     "bc1e173c760443cc91c6407f356fe620": {
      "model_module": "@jupyter-widgets/base",
      "model_module_version": "1.2.0",
      "model_name": "LayoutModel",
      "state": {}
     },
     "bc293d1388cb478ca1c474cd74332664": {
      "model_module": "@jupyter-widgets/controls",
      "model_module_version": "1.5.0",
      "model_name": "ProgressStyleModel",
      "state": {
       "description_width": "initial"
      }
     },
     "bc736d8ff6564ba5a6b84fe0a4d3eaa3": {
      "model_module": "@jupyter-widgets/controls",
      "model_module_version": "1.5.0",
      "model_name": "HTMLModel",
      "state": {
       "layout": "IPY_MODEL_1bb7902660cb47a69220804a330ab81e",
       "style": "IPY_MODEL_454ae1e198384aa8b1c182161ef7c7ce",
       "value": " 8272/8272 [00:00&lt;00:00, 29548.80it/s]"
      }
     },
     "bc75d92e210041ef877fca5112275d9e": {
      "model_module": "@jupyter-widgets/controls",
      "model_module_version": "1.5.0",
      "model_name": "FloatProgressModel",
      "state": {
       "bar_style": "success",
       "description": "100%",
       "layout": "IPY_MODEL_3e8ae7da31da4ac689967cb57e4e88d6",
       "max": 8272,
       "style": "IPY_MODEL_f918ffc5a07a46c5ab850b1a3ddef939",
       "value": 8272
      }
     },
     "bc7affd1dd784b1093c0babb6fa02e03": {
      "model_module": "@jupyter-widgets/controls",
      "model_module_version": "1.5.0",
      "model_name": "HBoxModel",
      "state": {
       "children": [
        "IPY_MODEL_b379f59d578a43589636993a3677192c",
        "IPY_MODEL_88e557fa2ab7414c9863daceb0a857ad"
       ],
       "layout": "IPY_MODEL_811979a2db54410ab2ad56199c65dc70"
      }
     },
     "bd87a18656154b208379491215348c1c": {
      "model_module": "@jupyter-widgets/controls",
      "model_module_version": "1.5.0",
      "model_name": "FloatProgressModel",
      "state": {
       "bar_style": "success",
       "description": "100%",
       "layout": "IPY_MODEL_6ef0aa7586124a6caa0edb33ee8a5cfe",
       "max": 8272,
       "style": "IPY_MODEL_09eb964a19d54c99a48970bb90c7402e",
       "value": 8272
      }
     },
     "be0441e4cee143de8b23395f6b4eb404": {
      "model_module": "@jupyter-widgets/controls",
      "model_module_version": "1.5.0",
      "model_name": "HTMLModel",
      "state": {
       "layout": "IPY_MODEL_acb97489d8584099b23dc0fdfbd1e9ee",
       "style": "IPY_MODEL_9821a42c58aa41b6a8893eb2567f1d66",
       "value": " 8272/8272 [02:05&lt;00:00, 66.16it/s]"
      }
     },
     "bed5a6c5ba1e40debf0009c2743b898a": {
      "model_module": "@jupyter-widgets/controls",
      "model_module_version": "1.5.0",
      "model_name": "ProgressStyleModel",
      "state": {
       "description_width": "initial"
      }
     },
     "bee72ef946eb4accad1d656a5b8bce31": {
      "model_module": "@jupyter-widgets/controls",
      "model_module_version": "1.5.0",
      "model_name": "HTMLModel",
      "state": {
       "layout": "IPY_MODEL_4742f2b561904558986473c365ac4b80",
       "style": "IPY_MODEL_7eaccec548fc4357895c46bf748a9cba",
       "value": " 8272/8272 [00:04&lt;00:00, 1892.17it/s]"
      }
     },
     "bef7baf442044011bea157cceaddb029": {
      "model_module": "@jupyter-widgets/base",
      "model_module_version": "1.2.0",
      "model_name": "LayoutModel",
      "state": {}
     },
     "bf2072fb4f554768b18a8f427df73b3b": {
      "model_module": "@jupyter-widgets/controls",
      "model_module_version": "1.5.0",
      "model_name": "HBoxModel",
      "state": {
       "children": [
        "IPY_MODEL_a24558336c944b1d9af84272a74f5a22",
        "IPY_MODEL_7c5318fe02d044c3ae2c6cc44c001662"
       ],
       "layout": "IPY_MODEL_d29f68b599ab4968bec77aaba4a7343e"
      }
     },
     "bfd3476cc4924cb1b63d795f38551b1b": {
      "model_module": "@jupyter-widgets/base",
      "model_module_version": "1.2.0",
      "model_name": "LayoutModel",
      "state": {}
     },
     "c031e94135ad43048efeb0a2fd4ac74d": {
      "model_module": "@jupyter-widgets/controls",
      "model_module_version": "1.5.0",
      "model_name": "FloatProgressModel",
      "state": {
       "bar_style": "success",
       "description": "100%",
       "layout": "IPY_MODEL_38d42cde600a4c3ab6fad9641b46713a",
       "max": 8272,
       "style": "IPY_MODEL_9f68129a90ca4f26a9fe8f76df1f89b5",
       "value": 8272
      }
     },
     "c090fa6773314d52ba72265b1cdd063e": {
      "model_module": "@jupyter-widgets/base",
      "model_module_version": "1.2.0",
      "model_name": "LayoutModel",
      "state": {}
     },
     "c09116e7314b413dae1f84a13f75d4fb": {
      "model_module": "@jupyter-widgets/controls",
      "model_module_version": "1.5.0",
      "model_name": "ProgressStyleModel",
      "state": {
       "description_width": "initial"
      }
     },
     "c0a2e722f28540959fd5ca46ee75f4c7": {
      "model_module": "@jupyter-widgets/controls",
      "model_module_version": "1.5.0",
      "model_name": "DescriptionStyleModel",
      "state": {
       "description_width": ""
      }
     },
     "c17f666470d64b59800feda778a3d91c": {
      "model_module": "@jupyter-widgets/controls",
      "model_module_version": "1.5.0",
      "model_name": "HBoxModel",
      "state": {
       "children": [
        "IPY_MODEL_5a8b0890ed31449192a40bb509153dde",
        "IPY_MODEL_cab92901e270403996ab4773cd407dd2"
       ],
       "layout": "IPY_MODEL_c83f0524fa4047d089fc3a63dce3e3a0"
      }
     },
     "c2379dae1e0e4e43b96821197189e2a5": {
      "model_module": "@jupyter-widgets/base",
      "model_module_version": "1.2.0",
      "model_name": "LayoutModel",
      "state": {}
     },
     "c253fd2044bc4f47bfc41b49b1664653": {
      "model_module": "@jupyter-widgets/controls",
      "model_module_version": "1.5.0",
      "model_name": "HBoxModel",
      "state": {
       "children": [
        "IPY_MODEL_63732eb199074cfab0d43b7565bbf6fd",
        "IPY_MODEL_2454bae2fc7d42a684d368cc6ea237df"
       ],
       "layout": "IPY_MODEL_756a89d44a1b40eabb572e5f7eec8b70"
      }
     },
     "c2cb592045b24c01aa4d9bab641574e1": {
      "model_module": "@jupyter-widgets/base",
      "model_module_version": "1.2.0",
      "model_name": "LayoutModel",
      "state": {}
     },
     "c306c2d77d2d40e6bb267a8edf10432c": {
      "model_module": "@jupyter-widgets/base",
      "model_module_version": "1.2.0",
      "model_name": "LayoutModel",
      "state": {}
     },
     "c335a0c1e54b461287660a8984587135": {
      "model_module": "@jupyter-widgets/base",
      "model_module_version": "1.2.0",
      "model_name": "LayoutModel",
      "state": {}
     },
     "c36aa353e0e14e7bb4164767a77dc944": {
      "model_module": "@jupyter-widgets/controls",
      "model_module_version": "1.5.0",
      "model_name": "DescriptionStyleModel",
      "state": {
       "description_width": ""
      }
     },
     "c38bb01d9c6346899e39b04246d444a1": {
      "model_module": "@jupyter-widgets/base",
      "model_module_version": "1.2.0",
      "model_name": "LayoutModel",
      "state": {}
     },
     "c3a00c923f594e27a6e1dab010fd1898": {
      "model_module": "@jupyter-widgets/base",
      "model_module_version": "1.2.0",
      "model_name": "LayoutModel",
      "state": {}
     },
     "c3c981b9f5164d99b805ddeefe877056": {
      "model_module": "@jupyter-widgets/base",
      "model_module_version": "1.2.0",
      "model_name": "LayoutModel",
      "state": {}
     },
     "c47baac58c3e461c80af206790ba0707": {
      "model_module": "@jupyter-widgets/base",
      "model_module_version": "1.2.0",
      "model_name": "LayoutModel",
      "state": {}
     },
     "c556924dfb6b485584e5d40e2154537c": {
      "model_module": "@jupyter-widgets/controls",
      "model_module_version": "1.5.0",
      "model_name": "DescriptionStyleModel",
      "state": {
       "description_width": ""
      }
     },
     "c659a043c08f4af984f503e9b42b3a77": {
      "model_module": "@jupyter-widgets/controls",
      "model_module_version": "1.5.0",
      "model_name": "FloatProgressModel",
      "state": {
       "bar_style": "success",
       "description": "100%",
       "layout": "IPY_MODEL_a2cfef76fdac487b832ed1e1e3086c0b",
       "max": 8272,
       "style": "IPY_MODEL_0251448ce1a44be1ba1aed1596bccddf",
       "value": 8272
      }
     },
     "c6d6efd79b8642dd9b2d08c48668ce7a": {
      "model_module": "@jupyter-widgets/base",
      "model_module_version": "1.2.0",
      "model_name": "LayoutModel",
      "state": {}
     },
     "c83f0524fa4047d089fc3a63dce3e3a0": {
      "model_module": "@jupyter-widgets/base",
      "model_module_version": "1.2.0",
      "model_name": "LayoutModel",
      "state": {}
     },
     "c971a7bd8b3e43d6ae46aa712f628588": {
      "model_module": "@jupyter-widgets/controls",
      "model_module_version": "1.5.0",
      "model_name": "ProgressStyleModel",
      "state": {
       "description_width": "initial"
      }
     },
     "c9c94d29a30a4dbfaaeaa99231dacd51": {
      "model_module": "@jupyter-widgets/base",
      "model_module_version": "1.2.0",
      "model_name": "LayoutModel",
      "state": {}
     },
     "cab92901e270403996ab4773cd407dd2": {
      "model_module": "@jupyter-widgets/controls",
      "model_module_version": "1.5.0",
      "model_name": "HTMLModel",
      "state": {
       "layout": "IPY_MODEL_d7ec53c6ade54bdeb89478985d57406f",
       "style": "IPY_MODEL_7b84090da75e45a5879b9e92e6713777",
       "value": " 15189/15189 [00:00&lt;00:00, 24819.87it/s]"
      }
     },
     "cb3b6041a0e14b1faa8bca51953bac65": {
      "model_module": "@jupyter-widgets/controls",
      "model_module_version": "1.5.0",
      "model_name": "HBoxModel",
      "state": {
       "children": [
        "IPY_MODEL_a90c65d82f6c4767a0e8eadaf2cccba1",
        "IPY_MODEL_458e04c5ec65442b9aa7feac1567c017"
       ],
       "layout": "IPY_MODEL_efdf6cebdd2a4e5a9733ef36cf66cd99"
      }
     },
     "cb96a8dec72a4413955b67f9eef1a9f2": {
      "model_module": "@jupyter-widgets/controls",
      "model_module_version": "1.5.0",
      "model_name": "DescriptionStyleModel",
      "state": {
       "description_width": ""
      }
     },
     "cbdfd215176d4402ab1ed31c00742f3c": {
      "model_module": "@jupyter-widgets/controls",
      "model_module_version": "1.5.0",
      "model_name": "HBoxModel",
      "state": {
       "children": [
        "IPY_MODEL_65adc277ec4341b9a17aefbb4c891491",
        "IPY_MODEL_0a21f5c8359649ac99c52ea8890be3c4"
       ],
       "layout": "IPY_MODEL_22a247d36e5e4a099591c048a1140fd6"
      }
     },
     "cd97b4c0979846e7a4f7a6b977c91bc2": {
      "model_module": "@jupyter-widgets/controls",
      "model_module_version": "1.5.0",
      "model_name": "DescriptionStyleModel",
      "state": {
       "description_width": ""
      }
     },
     "ce203f62463b4e9587e4d97bb4d80645": {
      "model_module": "@jupyter-widgets/controls",
      "model_module_version": "1.5.0",
      "model_name": "ProgressStyleModel",
      "state": {
       "description_width": "initial"
      }
     },
     "ceaa671bd1b344e6a72f85ea5dc99c50": {
      "model_module": "@jupyter-widgets/base",
      "model_module_version": "1.2.0",
      "model_name": "LayoutModel",
      "state": {}
     },
     "cefe535cabdd4889ae1b236cd21a90f7": {
      "model_module": "@jupyter-widgets/controls",
      "model_module_version": "1.5.0",
      "model_name": "HTMLModel",
      "state": {
       "layout": "IPY_MODEL_151c7d5160ae467d839fa56d5f8df25b",
       "style": "IPY_MODEL_606e983adcf04a719cdc2190e6b393a2",
       "value": " 8272/8272 [2:17:59&lt;00:00,  1.00s/it]"
      }
     },
     "d0b9295d769e4adbb7fbda3632685897": {
      "model_module": "@jupyter-widgets/base",
      "model_module_version": "1.2.0",
      "model_name": "LayoutModel",
      "state": {}
     },
     "d16b1436c5364f0686efc6e03fb8a5b5": {
      "model_module": "@jupyter-widgets/base",
      "model_module_version": "1.2.0",
      "model_name": "LayoutModel",
      "state": {}
     },
     "d1bee6e0be7f4ebda9276008be92e802": {
      "model_module": "@jupyter-widgets/controls",
      "model_module_version": "1.5.0",
      "model_name": "DescriptionStyleModel",
      "state": {
       "description_width": ""
      }
     },
     "d29f68b599ab4968bec77aaba4a7343e": {
      "model_module": "@jupyter-widgets/base",
      "model_module_version": "1.2.0",
      "model_name": "LayoutModel",
      "state": {}
     },
     "d2ca0d6c74a54aee9d43f4b2d43e26f4": {
      "model_module": "@jupyter-widgets/controls",
      "model_module_version": "1.5.0",
      "model_name": "FloatProgressModel",
      "state": {
       "bar_style": "success",
       "description": "100%",
       "layout": "IPY_MODEL_ceaa671bd1b344e6a72f85ea5dc99c50",
       "max": 8272,
       "style": "IPY_MODEL_bed5a6c5ba1e40debf0009c2743b898a",
       "value": 8272
      }
     },
     "d30ad1c7db6240ad856ec287721f5567": {
      "model_module": "@jupyter-widgets/controls",
      "model_module_version": "1.5.0",
      "model_name": "HTMLModel",
      "state": {
       "layout": "IPY_MODEL_fc9e198f225342a8aa71453fc5d831a2",
       "style": "IPY_MODEL_f66c693627ea41fd9af04d4bbe3873c2",
       "value": " 8272/8272 [00:01&lt;00:00, 8187.13it/s]"
      }
     },
     "d30b19ae55da41ecb480c673545e2e60": {
      "model_module": "@jupyter-widgets/base",
      "model_module_version": "1.2.0",
      "model_name": "LayoutModel",
      "state": {}
     },
     "d4734404365a4544a690be72aaf3de98": {
      "model_module": "@jupyter-widgets/controls",
      "model_module_version": "1.5.0",
      "model_name": "HTMLModel",
      "state": {
       "layout": "IPY_MODEL_f24e069229e740cb8e927edec5519573",
       "style": "IPY_MODEL_8dc80ae31d1649b7b0b255aa278600c7",
       "value": " 8272/8272 [00:01&lt;00:00, 7879.06it/s]"
      }
     },
     "d4971d4bd52b4b368f26e8e56954a787": {
      "model_module": "@jupyter-widgets/base",
      "model_module_version": "1.2.0",
      "model_name": "LayoutModel",
      "state": {}
     },
     "d5c39aa043e049ae87f5f89dfe1c8f14": {
      "model_module": "@jupyter-widgets/controls",
      "model_module_version": "1.5.0",
      "model_name": "ProgressStyleModel",
      "state": {
       "description_width": "initial"
      }
     },
     "d6a116dea59d4a979ff509b1bdf3a994": {
      "model_module": "@jupyter-widgets/base",
      "model_module_version": "1.2.0",
      "model_name": "LayoutModel",
      "state": {}
     },
     "d6bd7ae5a8984d3292c99c5a912e89b9": {
      "model_module": "@jupyter-widgets/controls",
      "model_module_version": "1.5.0",
      "model_name": "FloatProgressModel",
      "state": {
       "bar_style": "success",
       "description": "100%",
       "layout": "IPY_MODEL_02eed6a3d23146e3b9dad73f5a91c6de",
       "max": 8272,
       "style": "IPY_MODEL_ea94d2d136274c9489706ec46b44eeb1",
       "value": 8272
      }
     },
     "d755818817f24aceb0c283534943d45d": {
      "model_module": "@jupyter-widgets/controls",
      "model_module_version": "1.5.0",
      "model_name": "ProgressStyleModel",
      "state": {
       "description_width": "initial"
      }
     },
     "d7ec53c6ade54bdeb89478985d57406f": {
      "model_module": "@jupyter-widgets/base",
      "model_module_version": "1.2.0",
      "model_name": "LayoutModel",
      "state": {}
     },
     "d8b1e48cd6f1416b925844f0c161429e": {
      "model_module": "@jupyter-widgets/controls",
      "model_module_version": "1.5.0",
      "model_name": "HBoxModel",
      "state": {
       "children": [
        "IPY_MODEL_947da542c34f411d9ef7351e3da31f31",
        "IPY_MODEL_69fdbda7933a4e8087d732f8c35f06c2"
       ],
       "layout": "IPY_MODEL_06a795d3609f4e1496a56002c9da6d2c"
      }
     },
     "d907f7fbe24e465892b14140e42d8284": {
      "model_module": "@jupyter-widgets/controls",
      "model_module_version": "1.5.0",
      "model_name": "DescriptionStyleModel",
      "state": {
       "description_width": ""
      }
     },
     "d90aaed397624c4b8dab1584c96b9204": {
      "model_module": "@jupyter-widgets/base",
      "model_module_version": "1.2.0",
      "model_name": "LayoutModel",
      "state": {}
     },
     "d947098e39374ec1b3bc28873f92c693": {
      "model_module": "@jupyter-widgets/controls",
      "model_module_version": "1.5.0",
      "model_name": "HBoxModel",
      "state": {
       "children": [
        "IPY_MODEL_f6a3126966524052aa32c5097bc04ef7",
        "IPY_MODEL_be0441e4cee143de8b23395f6b4eb404"
       ],
       "layout": "IPY_MODEL_2455936cb9474fb6956f21649b8c5c72"
      }
     },
     "da78c861933c4174afe1e6279d5af93c": {
      "model_module": "@jupyter-widgets/base",
      "model_module_version": "1.2.0",
      "model_name": "LayoutModel",
      "state": {}
     },
     "dad5ee72b0ef4bf4b67cda0f679e662a": {
      "model_module": "@jupyter-widgets/base",
      "model_module_version": "1.2.0",
      "model_name": "LayoutModel",
      "state": {}
     },
     "db7670dc4f9e435ca7cec5ef286ff06f": {
      "model_module": "@jupyter-widgets/controls",
      "model_module_version": "1.5.0",
      "model_name": "HTMLModel",
      "state": {
       "layout": "IPY_MODEL_5e8f7dae2118412dad30268d1ff5b52b",
       "style": "IPY_MODEL_24d61e2b4a9d4371a600ad20e1c0553f",
       "value": " 8272/8272 [00:03&lt;00:00, 2140.92it/s]"
      }
     },
     "dba7f7bf8e8c4abd913e7f560e6c0270": {
      "model_module": "@jupyter-widgets/controls",
      "model_module_version": "1.5.0",
      "model_name": "ProgressStyleModel",
      "state": {
       "description_width": "initial"
      }
     },
     "dd9a8a80f6fc491fa7d8309009e53af4": {
      "model_module": "@jupyter-widgets/base",
      "model_module_version": "1.2.0",
      "model_name": "LayoutModel",
      "state": {}
     },
     "de42bf731acb4997b310d496197d9101": {
      "model_module": "@jupyter-widgets/controls",
      "model_module_version": "1.5.0",
      "model_name": "HBoxModel",
      "state": {
       "children": [
        "IPY_MODEL_a4b7439d67ff4116a85dfeb17f205d02",
        "IPY_MODEL_08c985040b4547df9b162fbe51e383cd"
       ],
       "layout": "IPY_MODEL_1bc5067245674829bcae82a2b0b14928"
      }
     },
     "deb11c670282491c9774ce78cd353dc3": {
      "model_module": "@jupyter-widgets/base",
      "model_module_version": "1.2.0",
      "model_name": "LayoutModel",
      "state": {}
     },
     "dece39411ae44e0ba9a48fc3e7fa5200": {
      "model_module": "@jupyter-widgets/controls",
      "model_module_version": "1.5.0",
      "model_name": "DescriptionStyleModel",
      "state": {
       "description_width": ""
      }
     },
     "e0651c9431cd4d638262532956d5ece9": {
      "model_module": "@jupyter-widgets/base",
      "model_module_version": "1.2.0",
      "model_name": "LayoutModel",
      "state": {}
     },
     "e0a2ade2ba924cd3883f3fbf9d4fc0e1": {
      "model_module": "@jupyter-widgets/base",
      "model_module_version": "1.2.0",
      "model_name": "LayoutModel",
      "state": {}
     },
     "e0efa3f551014281b7d9b6ba33e4b389": {
      "model_module": "@jupyter-widgets/base",
      "model_module_version": "1.2.0",
      "model_name": "LayoutModel",
      "state": {}
     },
     "e22f553378b042f2bbcf7db636369b19": {
      "model_module": "@jupyter-widgets/controls",
      "model_module_version": "1.5.0",
      "model_name": "FloatProgressModel",
      "state": {
       "bar_style": "success",
       "description": "100%",
       "layout": "IPY_MODEL_6ccc5f2561cc4142993aaa68ba31c6a5",
       "max": 8272,
       "style": "IPY_MODEL_1c26faf55385431a9c03cceb36b95542",
       "value": 8272
      }
     },
     "e32d8ab94f6e499c9a3c2daa10278ad1": {
      "model_module": "@jupyter-widgets/base",
      "model_module_version": "1.2.0",
      "model_name": "LayoutModel",
      "state": {}
     },
     "e3ba90850c8146318445c32d8dddccc0": {
      "model_module": "@jupyter-widgets/base",
      "model_module_version": "1.2.0",
      "model_name": "LayoutModel",
      "state": {}
     },
     "e3c4b608abf746d7a7fe03b1ec51a1c5": {
      "model_module": "@jupyter-widgets/base",
      "model_module_version": "1.2.0",
      "model_name": "LayoutModel",
      "state": {}
     },
     "e41b8e87fbf546a8936bd9bc124fc917": {
      "model_module": "@jupyter-widgets/controls",
      "model_module_version": "1.5.0",
      "model_name": "DescriptionStyleModel",
      "state": {
       "description_width": ""
      }
     },
     "e5e7102af1784b16b5acae067f40eec0": {
      "model_module": "@jupyter-widgets/base",
      "model_module_version": "1.2.0",
      "model_name": "LayoutModel",
      "state": {}
     },
     "e66f381a4eb54b5b894d041769f23575": {
      "model_module": "@jupyter-widgets/controls",
      "model_module_version": "1.5.0",
      "model_name": "HTMLModel",
      "state": {
       "layout": "IPY_MODEL_a9b9a89b9596442f8959344c7e0ba9ea",
       "style": "IPY_MODEL_e8d753a3c0d64e5a8f9f9ed75434a8e5",
       "value": " 15189/15189 [05:57&lt;00:00, 42.46it/s]"
      }
     },
     "e715702c04184b5785741bfe48544fe2": {
      "model_module": "@jupyter-widgets/base",
      "model_module_version": "1.2.0",
      "model_name": "LayoutModel",
      "state": {}
     },
     "e818fc0bed48452c8531c87f8b813251": {
      "model_module": "@jupyter-widgets/base",
      "model_module_version": "1.2.0",
      "model_name": "LayoutModel",
      "state": {}
     },
     "e8d753a3c0d64e5a8f9f9ed75434a8e5": {
      "model_module": "@jupyter-widgets/controls",
      "model_module_version": "1.5.0",
      "model_name": "DescriptionStyleModel",
      "state": {
       "description_width": ""
      }
     },
     "e92b28cbda2a442b899dd387a432a2ff": {
      "model_module": "@jupyter-widgets/controls",
      "model_module_version": "1.5.0",
      "model_name": "FloatProgressModel",
      "state": {
       "bar_style": "success",
       "description": "100%",
       "layout": "IPY_MODEL_311710ceb43b45f08b9b095d34094744",
       "max": 15189,
       "style": "IPY_MODEL_306f8a149787444096776ab8baff8a7a",
       "value": 15189
      }
     },
     "e9bcf0b8377f4dceb3875611ecea0084": {
      "model_module": "@jupyter-widgets/base",
      "model_module_version": "1.2.0",
      "model_name": "LayoutModel",
      "state": {}
     },
     "ea94d2d136274c9489706ec46b44eeb1": {
      "model_module": "@jupyter-widgets/controls",
      "model_module_version": "1.5.0",
      "model_name": "ProgressStyleModel",
      "state": {
       "description_width": "initial"
      }
     },
     "eb13b0dd95f9498f9bf9b1fc6ceb1639": {
      "model_module": "@jupyter-widgets/base",
      "model_module_version": "1.2.0",
      "model_name": "LayoutModel",
      "state": {}
     },
     "eb3164225d474ae58696f1375ae865aa": {
      "model_module": "@jupyter-widgets/controls",
      "model_module_version": "1.5.0",
      "model_name": "ProgressStyleModel",
      "state": {
       "description_width": "initial"
      }
     },
     "ec9ed50196d6489fbba0c87ed856612b": {
      "model_module": "@jupyter-widgets/controls",
      "model_module_version": "1.5.0",
      "model_name": "HBoxModel",
      "state": {
       "children": [
        "IPY_MODEL_0f519ccf1e9649c9a2bc7d1935a17b51",
        "IPY_MODEL_418f00f3770d4a55ab6e26fc7c615ef2"
       ],
       "layout": "IPY_MODEL_45c0e777d73d4cbbbcc00f724b993d98"
      }
     },
     "ece63d4476274af8aa1650df2c3d01e5": {
      "model_module": "@jupyter-widgets/controls",
      "model_module_version": "1.5.0",
      "model_name": "ProgressStyleModel",
      "state": {
       "description_width": "initial"
      }
     },
     "ee6be2ee375c4e29baec6e4ce0ce414a": {
      "model_module": "@jupyter-widgets/controls",
      "model_module_version": "1.5.0",
      "model_name": "FloatProgressModel",
      "state": {
       "bar_style": "success",
       "description": "100%",
       "layout": "IPY_MODEL_a07de381d9cf4e2390dc4e5a8d253997",
       "max": 8272,
       "style": "IPY_MODEL_217b68e37cb64ac0bd4981721dc68844",
       "value": 8272
      }
     },
     "eeaad89b36c945b8af2c07bb25493e84": {
      "model_module": "@jupyter-widgets/controls",
      "model_module_version": "1.5.0",
      "model_name": "HTMLModel",
      "state": {
       "layout": "IPY_MODEL_555651b02b2e46d38f2dd1485ee9e81c",
       "style": "IPY_MODEL_4cb131de36a74c9b92775b6063eec4aa",
       "value": " 8272/8272 [00:00&lt;00:00, 10074.67it/s]"
      }
     },
     "ef27e09f5f51490bbda499370a238c18": {
      "model_module": "@jupyter-widgets/base",
      "model_module_version": "1.2.0",
      "model_name": "LayoutModel",
      "state": {}
     },
     "efdf6cebdd2a4e5a9733ef36cf66cd99": {
      "model_module": "@jupyter-widgets/base",
      "model_module_version": "1.2.0",
      "model_name": "LayoutModel",
      "state": {}
     },
     "f00a99bf0e354ac9869ece5bd51a360b": {
      "model_module": "@jupyter-widgets/base",
      "model_module_version": "1.2.0",
      "model_name": "LayoutModel",
      "state": {}
     },
     "f24e069229e740cb8e927edec5519573": {
      "model_module": "@jupyter-widgets/base",
      "model_module_version": "1.2.0",
      "model_name": "LayoutModel",
      "state": {}
     },
     "f39541b651bb427f8925abf5476caa92": {
      "model_module": "@jupyter-widgets/controls",
      "model_module_version": "1.5.0",
      "model_name": "FloatProgressModel",
      "state": {
       "bar_style": "success",
       "description": "100%",
       "layout": "IPY_MODEL_b6fa549b41ef4086a14ee5bc352358cc",
       "max": 15189,
       "style": "IPY_MODEL_7ff8b30b717b44d3acd043fc443d5dc6",
       "value": 15189
      }
     },
     "f3db737ff8924da7ad1bded35e7547ad": {
      "model_module": "@jupyter-widgets/controls",
      "model_module_version": "1.5.0",
      "model_name": "HBoxModel",
      "state": {
       "children": [
        "IPY_MODEL_99f3dc76862549b6a6ee1b4b0bbbe26d",
        "IPY_MODEL_4ae5f4bc622747858eaa70c8286ff829"
       ],
       "layout": "IPY_MODEL_0945bf5c181a482ca186c714c9c758b9"
      }
     },
     "f4d6d503d6c14d4898234e949cdfe395": {
      "model_module": "@jupyter-widgets/controls",
      "model_module_version": "1.5.0",
      "model_name": "HTMLModel",
      "state": {
       "layout": "IPY_MODEL_dd9a8a80f6fc491fa7d8309009e53af4",
       "style": "IPY_MODEL_a3717a8f7c6c477d821e57a32aad8c89",
       "value": " 8272/8272 [00:11&lt;00:00, 736.54it/s]"
      }
     },
     "f5f5321309af4d5cbec30def4d363618": {
      "model_module": "@jupyter-widgets/controls",
      "model_module_version": "1.5.0",
      "model_name": "HBoxModel",
      "state": {
       "children": [
        "IPY_MODEL_c659a043c08f4af984f503e9b42b3a77",
        "IPY_MODEL_5e0adba63c344d87b8418864dd3aa55d"
       ],
       "layout": "IPY_MODEL_b02042b869c3410b8e011c77ed681261"
      }
     },
     "f66c5c8249aa4a64afc5fa3627d45a8e": {
      "model_module": "@jupyter-widgets/controls",
      "model_module_version": "1.5.0",
      "model_name": "DescriptionStyleModel",
      "state": {
       "description_width": ""
      }
     },
     "f66c693627ea41fd9af04d4bbe3873c2": {
      "model_module": "@jupyter-widgets/controls",
      "model_module_version": "1.5.0",
      "model_name": "DescriptionStyleModel",
      "state": {
       "description_width": ""
      }
     },
     "f6a3126966524052aa32c5097bc04ef7": {
      "model_module": "@jupyter-widgets/controls",
      "model_module_version": "1.5.0",
      "model_name": "FloatProgressModel",
      "state": {
       "bar_style": "success",
       "description": "100%",
       "layout": "IPY_MODEL_dad5ee72b0ef4bf4b67cda0f679e662a",
       "max": 8272,
       "style": "IPY_MODEL_3669fba1e5224d4b93c5b80e2f765619",
       "value": 8272
      }
     },
     "f6cce616f6c442cfbab4408d3a60d81e": {
      "model_module": "@jupyter-widgets/base",
      "model_module_version": "1.2.0",
      "model_name": "LayoutModel",
      "state": {}
     },
     "f7c936cc47e74b4dae7b7c8a2bf8d128": {
      "model_module": "@jupyter-widgets/base",
      "model_module_version": "1.2.0",
      "model_name": "LayoutModel",
      "state": {}
     },
     "f803fbaf35b84aa499510160b82363b7": {
      "model_module": "@jupyter-widgets/controls",
      "model_module_version": "1.5.0",
      "model_name": "FloatProgressModel",
      "state": {
       "bar_style": "success",
       "description": "100%",
       "layout": "IPY_MODEL_3809290a10214dac87b15fa88d1f1310",
       "max": 8272,
       "style": "IPY_MODEL_35da572c7e624fa48f287aa0cb3861c5",
       "value": 8272
      }
     },
     "f8a99f0a824d4223948b3ddd91afbf64": {
      "model_module": "@jupyter-widgets/base",
      "model_module_version": "1.2.0",
      "model_name": "LayoutModel",
      "state": {}
     },
     "f918ffc5a07a46c5ab850b1a3ddef939": {
      "model_module": "@jupyter-widgets/controls",
      "model_module_version": "1.5.0",
      "model_name": "ProgressStyleModel",
      "state": {
       "description_width": "initial"
      }
     },
     "f99b81760ec541e5a31e31c939e69463": {
      "model_module": "@jupyter-widgets/base",
      "model_module_version": "1.2.0",
      "model_name": "LayoutModel",
      "state": {}
     },
     "fa5756b9b8c44645bf67a58ea7077012": {
      "model_module": "@jupyter-widgets/base",
      "model_module_version": "1.2.0",
      "model_name": "LayoutModel",
      "state": {}
     },
     "fa7e284a994043b788c5d3a2e1a7d5e8": {
      "model_module": "@jupyter-widgets/controls",
      "model_module_version": "1.5.0",
      "model_name": "HBoxModel",
      "state": {
       "children": [
        "IPY_MODEL_a0dcc05ee42b46eba6f86300ac159e45",
        "IPY_MODEL_d4734404365a4544a690be72aaf3de98"
       ],
       "layout": "IPY_MODEL_c3c981b9f5164d99b805ddeefe877056"
      }
     },
     "fc1cea3672064908a310ee04820cd5fa": {
      "model_module": "@jupyter-widgets/base",
      "model_module_version": "1.2.0",
      "model_name": "LayoutModel",
      "state": {}
     },
     "fc9e198f225342a8aa71453fc5d831a2": {
      "model_module": "@jupyter-widgets/base",
      "model_module_version": "1.2.0",
      "model_name": "LayoutModel",
      "state": {}
     },
     "fd2ead7245704cb1a4539cf4f849d786": {
      "model_module": "@jupyter-widgets/controls",
      "model_module_version": "1.5.0",
      "model_name": "DescriptionStyleModel",
      "state": {
       "description_width": ""
      }
     },
     "fd3d276a74c74dd89f4a231be34014cb": {
      "model_module": "@jupyter-widgets/base",
      "model_module_version": "1.2.0",
      "model_name": "LayoutModel",
      "state": {}
     },
     "ff211cc18ce84ec6a35451993455c013": {
      "model_module": "@jupyter-widgets/base",
      "model_module_version": "1.2.0",
      "model_name": "LayoutModel",
      "state": {}
     },
     "ff6a0b5123394ca9a4f924ff9e19c11f": {
      "model_module": "@jupyter-widgets/base",
      "model_module_version": "1.2.0",
      "model_name": "LayoutModel",
      "state": {}
     },
     "ffb79d085d8b4490b0a99c7e85925478": {
      "model_module": "@jupyter-widgets/controls",
      "model_module_version": "1.5.0",
      "model_name": "ProgressStyleModel",
      "state": {
       "description_width": "initial"
      }
     }
    },
    "version_major": 2,
    "version_minor": 0
   }
  }
 },
 "nbformat": 4,
 "nbformat_minor": 4
}
