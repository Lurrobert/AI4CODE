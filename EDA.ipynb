{
 "cells": [
  {
   "cell_type": "code",
   "execution_count": 13,
   "id": "9c029aca-0a59-4b10-8462-a3e8a0a77925",
   "metadata": {},
   "outputs": [
    {
     "name": "stderr",
     "output_type": "stream",
     "text": [
      "Matplotlib is building the font cache; this may take a moment.\n"
     ]
    }
   ],
   "source": [
    "import numpy as np\n",
    "from scipy import spatial\n",
    "import matplotlib.pyplot as plt\n",
    "from sklearn.manifold import TSNE"
   ]
  },
  {
   "cell_type": "code",
   "execution_count": 14,
   "id": "2f26b2e8-c9ff-4e5f-a67a-5b452140a057",
   "metadata": {},
   "outputs": [],
   "source": [
    "embeddings_dict = {}\n",
    "with open(\"data/glove/glove.6B.100d.txt\", 'r', encoding='utf-8') as f:\n",
    "    for line in f:\n",
    "        values = line.split()\n",
    "        token = values[0]\n",
    "        vector = np.asarray(values[1:], \"float32\")\n",
    "        embeddings_dict[token] = vector"
   ]
  },
  {
   "cell_type": "code",
   "execution_count": 15,
   "id": "9266fe63-9e8a-4b18-8945-fc24a0055ad4",
   "metadata": {},
   "outputs": [],
   "source": [
    "def find_closest_embeddings(embedding, cutoff=25):\n",
    "    return sorted(embeddings_dict.keys(), key=lambda token: spatial.distance.euclidean(embeddings_dict[token], embedding))"
   ]
  },
  {
   "cell_type": "code",
   "execution_count": 16,
   "id": "7c5ca0e4-72e0-4ac6-8525-d5d211f343fe",
   "metadata": {},
   "outputs": [
    {
     "name": "stdout",
     "output_type": "stream",
     "text": [
      "['flashlight', 'twig', 'clipboard', 'shove', 'hand']\n"
     ]
    }
   ],
   "source": [
    "print(find_closest_embeddings(\n",
    "    embeddings_dict[\"twig\"] - embeddings_dict[\"branch\"] + embeddings_dict[\"hand\"]\n",
    ")[:5])"
   ]
  },
  {
   "cell_type": "code",
   "execution_count": 46,
   "id": "90189727-a693-4671-a43c-c2068271a14c",
   "metadata": {},
   "outputs": [],
   "source": [
    "sentence_a = \"Here we perform 5-fold cross validation of a KNN model after using a standard scaler\"\n",
    "sentence_b = \"In this kernel I present a very simple K-nearest neighbors model based on the quantiles of the distribution\"\n",
    "sentence_c = \"And so it begins but you can't have them all. Your heart has to settle down somewhere\""
   ]
  },
  {
   "cell_type": "code",
   "execution_count": 47,
   "id": "974da328-caeb-4e3e-9612-2489fb50cbdc",
   "metadata": {},
   "outputs": [],
   "source": [
    "embedding_a = np.zeros_like(embeddings_dict[\"branch\"])\n",
    "embedding_b = np.zeros_like(embeddings_dict[\"branch\"])\n",
    "embedding_c = np.zeros_like(embeddings_dict[\"branch\"])"
   ]
  },
  {
   "cell_type": "code",
   "execution_count": 48,
   "id": "e41d21ad-afab-48ac-b4cb-9f8630ea50a1",
   "metadata": {},
   "outputs": [],
   "source": [
    "for w in sentence_a.split():\n",
    "    if w not in embeddings_dict:\n",
    "        continue\n",
    "    embedding_a += embeddings_dict[w]\n",
    "\n",
    "for w in sentence_b.split():\n",
    "    if w not in embeddings_dict:\n",
    "        continue\n",
    "    embedding_b += embeddings_dict[w]\n",
    "\n",
    "for w in sentence_c.split():\n",
    "    if w not in embeddings_dict:\n",
    "        continue\n",
    "    embedding_c += embeddings_dict[w]"
   ]
  },
  {
   "cell_type": "code",
   "execution_count": 50,
   "id": "978f38ce-15d7-46d9-8505-65288976c0e6",
   "metadata": {},
   "outputs": [
    {
     "name": "stdout",
     "output_type": "stream",
     "text": [
      "['a', 'an', 'this', 'be', 'for']\n"
     ]
    }
   ],
   "source": [
    "print(find_closest_embeddings(\n",
    "    embedding_a\n",
    ")[:5])"
   ]
  },
  {
   "cell_type": "code",
   "execution_count": 54,
   "id": "71ed5c0b-293f-4535-8e75-5545b27dc012",
   "metadata": {},
   "outputs": [
    {
     "data": {
      "text/plain": [
       "23.454050064086914"
      ]
     },
     "execution_count": 54,
     "metadata": {},
     "output_type": "execute_result"
    }
   ],
   "source": [
    "spatial.distance.euclidean(embedding_a, embedding_b)"
   ]
  },
  {
   "cell_type": "code",
   "execution_count": 52,
   "id": "de61e1ab-19ec-433d-8c12-9e71203feb54",
   "metadata": {},
   "outputs": [
    {
     "data": {
      "text/plain": [
       "32.27524185180664"
      ]
     },
     "execution_count": 52,
     "metadata": {},
     "output_type": "execute_result"
    }
   ],
   "source": [
    "spatial.distance.euclidean(embedding_a, embedding_c)"
   ]
  },
  {
   "cell_type": "code",
   "execution_count": 53,
   "id": "dc70ebaf-3ab3-4c10-b4ac-967aae41047c",
   "metadata": {},
   "outputs": [
    {
     "data": {
      "text/plain": [
       "30.673566818237305"
      ]
     },
     "execution_count": 53,
     "metadata": {},
     "output_type": "execute_result"
    }
   ],
   "source": [
    "spatial.distance.euclidean(embedding_b, embedding_c)"
   ]
  },
  {
   "cell_type": "code",
   "execution_count": null,
   "id": "aa96ced0-72d5-45a4-9a69-dd7776c989b4",
   "metadata": {},
   "outputs": [],
   "source": [
    "spatial.distance.euclidean(embeddings_dict[token], embedding))"
   ]
  },
  {
   "cell_type": "code",
   "execution_count": null,
   "id": "b3ce4169-5f91-453c-bb8a-34d4c729f846",
   "metadata": {},
   "outputs": [],
   "source": [
    "return sorted(embeddings_dict.keys(), key=lambda token: spatial.distance.euclidean(embeddings_dict[token], embedding))"
   ]
  }
 ],
 "metadata": {
  "kernelspec": {
   "display_name": "conda_tensorflow2_p38",
   "language": "python",
   "name": "conda_tensorflow2_p38"
  },
  "language_info": {
   "codemirror_mode": {
    "name": "ipython",
    "version": 3
   },
   "file_extension": ".py",
   "mimetype": "text/x-python",
   "name": "python",
   "nbconvert_exporter": "python",
   "pygments_lexer": "ipython3",
   "version": "3.8.12"
  }
 },
 "nbformat": 4,
 "nbformat_minor": 5
}
