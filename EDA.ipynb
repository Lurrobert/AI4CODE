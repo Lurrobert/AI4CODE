{
 "cells": [
  {
   "cell_type": "code",
   "execution_count": 13,
   "id": "9c029aca-0a59-4b10-8462-a3e8a0a77925",
   "metadata": {},
   "outputs": [
    {
     "name": "stderr",
     "output_type": "stream",
     "text": [
      "Matplotlib is building the font cache; this may take a moment.\n"
     ]
    }
   ],
   "source": [
    "import numpy as np\n",
    "from scipy import spatial\n",
    "import matplotlib.pyplot as plt\n",
    "from sklearn.manifold import TSNE"
   ]
  },
  {
   "cell_type": "code",
   "execution_count": 14,
   "id": "2f26b2e8-c9ff-4e5f-a67a-5b452140a057",
   "metadata": {},
   "outputs": [],
   "source": [
    "embeddings_dict = {}\n",
    "with open(\"data/glove/glove.6B.100d.txt\", 'r', encoding='utf-8') as f:\n",
    "    for line in f:\n",
    "        values = line.split()\n",
    "        token = values[0]\n",
    "        vector = np.asarray(values[1:], \"float32\")\n",
    "        embeddings_dict[token] = vector"
   ]
  },
  {
   "cell_type": "code",
   "execution_count": 15,
   "id": "9266fe63-9e8a-4b18-8945-fc24a0055ad4",
   "metadata": {},
   "outputs": [],
   "source": [
    "def find_closest_embeddings(embedding, cutoff=25):\n",
    "    return sorted(embeddings_dict.keys(), key=lambda token: spatial.distance.euclidean(embeddings_dict[token], embedding))"
   ]
  },
  {
   "cell_type": "code",
   "execution_count": 16,
   "id": "7c5ca0e4-72e0-4ac6-8525-d5d211f343fe",
   "metadata": {},
   "outputs": [
    {
     "name": "stdout",
     "output_type": "stream",
     "text": [
      "['flashlight', 'twig', 'clipboard', 'shove', 'hand']\n"
     ]
    }
   ],
   "source": [
    "print(find_closest_embeddings(\n",
    "    embeddings_dict[\"twig\"] - embeddings_dict[\"branch\"] + embeddings_dict[\"hand\"]\n",
    ")[:5])"
   ]
  },
  {
   "cell_type": "code",
   "execution_count": 46,
   "id": "90189727-a693-4671-a43c-c2068271a14c",
   "metadata": {},
   "outputs": [],
   "source": [
    "sentence_a = \"Here we perform 5-fold cross validation of a KNN model after using a standard scaler\"\n",
    "sentence_b = \"In this kernel I present a very simple K-nearest neighbors model based on the quantiles of the distribution\"\n",
    "sentence_c = \"And so it begins but you can't have them all. Your heart has to settle down somewhere\""
   ]
  },
  {
   "cell_type": "code",
   "execution_count": 47,
   "id": "974da328-caeb-4e3e-9612-2489fb50cbdc",
   "metadata": {},
   "outputs": [],
   "source": [
    "embedding_a = np.zeros_like(embeddings_dict[\"branch\"])\n",
    "embedding_b = np.zeros_like(embeddings_dict[\"branch\"])\n",
    "embedding_c = np.zeros_like(embeddings_dict[\"branch\"])"
   ]
  },
  {
   "cell_type": "code",
   "execution_count": 48,
   "id": "e41d21ad-afab-48ac-b4cb-9f8630ea50a1",
   "metadata": {},
   "outputs": [],
   "source": [
    "for w in sentence_a.split():\n",
    "    if w not in embeddings_dict:\n",
    "        continue\n",
    "    embedding_a += embeddings_dict[w]\n",
    "\n",
    "for w in sentence_b.split():\n",
    "    if w not in embeddings_dict:\n",
    "        continue\n",
    "    embedding_b += embeddings_dict[w]\n",
    "\n",
    "for w in sentence_c.split():\n",
    "    if w not in embeddings_dict:\n",
    "        continue\n",
    "    embedding_c += embeddings_dict[w]"
   ]
  },
  {
   "cell_type": "code",
   "execution_count": 50,
   "id": "978f38ce-15d7-46d9-8505-65288976c0e6",
   "metadata": {},
   "outputs": [
    {
     "name": "stdout",
     "output_type": "stream",
     "text": [
      "['a', 'an', 'this', 'be', 'for']\n"
     ]
    }
   ],
   "source": [
    "print(find_closest_embeddings(\n",
    "    embedding_a\n",
    ")[:5])"
   ]
  },
  {
   "cell_type": "code",
   "execution_count": 54,
   "id": "71ed5c0b-293f-4535-8e75-5545b27dc012",
   "metadata": {},
   "outputs": [
    {
     "data": {
      "text/plain": [
       "23.454050064086914"
      ]
     },
     "execution_count": 54,
     "metadata": {},
     "output_type": "execute_result"
    }
   ],
   "source": [
    "spatial.distance.euclidean(embedding_a, embedding_b)"
   ]
  },
  {
   "cell_type": "code",
   "execution_count": 52,
   "id": "de61e1ab-19ec-433d-8c12-9e71203feb54",
   "metadata": {},
   "outputs": [
    {
     "data": {
      "text/plain": [
       "32.27524185180664"
      ]
     },
     "execution_count": 52,
     "metadata": {},
     "output_type": "execute_result"
    }
   ],
   "source": [
    "spatial.distance.euclidean(embedding_a, embedding_c)"
   ]
  },
  {
   "cell_type": "code",
   "execution_count": 53,
   "id": "dc70ebaf-3ab3-4c10-b4ac-967aae41047c",
   "metadata": {},
   "outputs": [
    {
     "data": {
      "text/plain": [
       "30.673566818237305"
      ]
     },
     "execution_count": 53,
     "metadata": {},
     "output_type": "execute_result"
    }
   ],
   "source": [
    "spatial.distance.euclidean(embedding_b, embedding_c)"
   ]
  },
  {
   "cell_type": "code",
   "execution_count": null,
   "id": "aa96ced0-72d5-45a4-9a69-dd7776c989b4",
   "metadata": {},
   "outputs": [],
   "source": [
    "spatial.distance.euclidean(embeddings_dict[token], embedding))"
   ]
  },
  {
   "cell_type": "code",
   "execution_count": null,
   "id": "b3ce4169-5f91-453c-bb8a-34d4c729f846",
   "metadata": {},
   "outputs": [],
   "source": [
    "return sorted(embeddings_dict.keys(), key=lambda token: spatial.distance.euclidean(embeddings_dict[token], embedding))"
   ]
  },
  {
   "cell_type": "markdown",
   "id": "cfda7ec2-8148-4398-8f62-72c85479be3c",
   "metadata": {},
   "source": [
    "# bert"
   ]
  },
  {
   "cell_type": "code",
   "execution_count": 1,
   "id": "20419cb0-c55e-4276-9ead-9c3fa0d4be65",
   "metadata": {
    "tags": []
   },
   "outputs": [
    {
     "name": "stdout",
     "output_type": "stream",
     "text": [
      "Collecting sentence-transformers\n",
      "  Using cached sentence-transformers-2.2.1.tar.gz (84 kB)\n",
      "  Preparing metadata (setup.py) ... \u001b[?25ldone\n",
      "\u001b[?25hCollecting transformers<5.0.0,>=4.6.0\n",
      "  Using cached transformers-4.20.1-py3-none-any.whl (4.4 MB)\n",
      "Requirement already satisfied: tqdm in /opt/conda/lib/python3.7/site-packages (from sentence-transformers) (4.42.1)\n",
      "Collecting torch>=1.6.0\n"
     ]
    }
   ],
   "source": [
    "! pip install -U sentence-transformers\n",
    "# https://www.sbert.net/"
   ]
  },
  {
   "cell_type": "code",
   "execution_count": 4,
   "id": "8571db54-8a82-4efd-a53b-a165980510f1",
   "metadata": {
    "collapsed": true,
    "jupyter": {
     "outputs_hidden": true
    },
    "tags": []
   },
   "outputs": [
    {
     "name": "stdout",
     "output_type": "stream",
     "text": [
      "Looking in indexes: https://pypi.org/simple, https://download.pytorch.org/whl/cpu\n",
      "Collecting torch\n",
      "  Using cached https://download.pytorch.org/whl/cpu/torch-1.11.0%2Bcpu-cp37-cp37m-linux_x86_64.whl (169.1 MB)\n",
      "Collecting torchvision\n",
      "  Using cached https://download.pytorch.org/whl/cpu/torchvision-0.12.0%2Bcpu-cp37-cp37m-linux_x86_64.whl (14.7 MB)\n",
      "Collecting torchaudio\n",
      "  Using cached https://download.pytorch.org/whl/cpu/torchaudio-0.11.0%2Bcpu-cp37-cp37m-linux_x86_64.whl (2.7 MB)\n",
      "Requirement already satisfied: typing-extensions in /opt/conda/lib/python3.7/site-packages (from torch) (4.2.0)\n",
      "Requirement already satisfied: requests in /opt/conda/lib/python3.7/site-packages (from torchvision) (2.28.0)\n",
      "Requirement already satisfied: numpy in /opt/conda/lib/python3.7/site-packages (from torchvision) (1.21.6)\n",
      "Requirement already satisfied: pillow!=8.3.*,>=5.3.0 in /opt/conda/lib/python3.7/site-packages (from torchvision) (9.1.1)\n",
      "Requirement already satisfied: idna<4,>=2.5 in /opt/conda/lib/python3.7/site-packages (from requests->torchvision) (2.8)\n",
      "Requirement already satisfied: charset-normalizer~=2.0.0 in /opt/conda/lib/python3.7/site-packages (from requests->torchvision) (2.0.4)\n",
      "Requirement already satisfied: certifi>=2017.4.17 in /opt/conda/lib/python3.7/site-packages (from requests->torchvision) (2022.5.18.1)\n",
      "Requirement already satisfied: urllib3<1.27,>=1.21.1 in /opt/conda/lib/python3.7/site-packages (from requests->torchvision) (1.26.9)\n",
      "Installing collected packages: torch, torchvision, torchaudio\n",
      "Successfully installed torch-1.11.0+cpu torchaudio-0.11.0+cpu torchvision-0.12.0+cpu\n",
      "\u001b[33mWARNING: Running pip as the 'root' user can result in broken permissions and conflicting behaviour with the system package manager. It is recommended to use a virtual environment instead: https://pip.pypa.io/warnings/venv\u001b[0m\u001b[33m\n",
      "\u001b[0m"
     ]
    }
   ],
   "source": [
    "! pip install torch torchvision torchaudio --extra-index-url https://download.pytorch.org/whl/cpu"
   ]
  },
  {
   "cell_type": "code",
   "execution_count": 10,
   "id": "46e8479a-ede1-4d7a-b224-6fd652156d18",
   "metadata": {
    "collapsed": true,
    "jupyter": {
     "outputs_hidden": true
    },
    "tags": []
   },
   "outputs": [
    {
     "name": "stdout",
     "output_type": "stream",
     "text": [
      "Collecting lexrank\n",
      "  Downloading lexrank-0.1.0-py3-none-any.whl (69 kB)\n",
      "\u001b[2K     \u001b[90m━━━━━━━━━━━━━━━━━━━━━━━━━━━━━━━━━━━━━━━\u001b[0m \u001b[32m69.8/69.8 kB\u001b[0m \u001b[31m933.0 kB/s\u001b[0m eta \u001b[36m0:00:00\u001b[0ma \u001b[36m0:00:01\u001b[0m\n",
      "\u001b[?25hCollecting urlextract>=0.7\n",
      "  Downloading urlextract-1.6.0-py3-none-any.whl (20 kB)\n",
      "Requirement already satisfied: numpy>=1.13.3 in /opt/conda/lib/python3.7/site-packages (from lexrank) (1.21.6)\n",
      "Collecting path.py>=10.5\n",
      "  Downloading path.py-12.5.0-py3-none-any.whl (2.3 kB)\n",
      "Requirement already satisfied: scipy>=0.19.0 in /opt/conda/lib/python3.7/site-packages (from lexrank) (1.4.1)\n",
      "Requirement already satisfied: pyrsistent>=0.14.0 in /opt/conda/lib/python3.7/site-packages (from lexrank) (0.15.7)\n",
      "Requirement already satisfied: regex>=2017.11.9 in /opt/conda/lib/python3.7/site-packages (from lexrank) (2022.6.2)\n",
      "Requirement already satisfied: path in /opt/conda/lib/python3.7/site-packages (from path.py>=10.5->lexrank) (13.1.0)\n",
      "Requirement already satisfied: six in /opt/conda/lib/python3.7/site-packages (from pyrsistent>=0.14.0->lexrank) (1.14.0)\n",
      "Requirement already satisfied: idna in /opt/conda/lib/python3.7/site-packages (from urlextract>=0.7->lexrank) (2.8)\n",
      "Requirement already satisfied: platformdirs in /opt/conda/lib/python3.7/site-packages (from urlextract>=0.7->lexrank) (2.5.2)\n",
      "Collecting uritools\n",
      "  Downloading uritools-4.0.0-py3-none-any.whl (10 kB)\n",
      "Requirement already satisfied: filelock in /opt/conda/lib/python3.7/site-packages (from urlextract>=0.7->lexrank) (3.0.12)\n",
      "Requirement already satisfied: importlib-metadata>=0.5 in /opt/conda/lib/python3.7/site-packages (from path->path.py>=10.5->lexrank) (1.5.0)\n",
      "Requirement already satisfied: zipp>=0.5 in /opt/conda/lib/python3.7/site-packages (from importlib-metadata>=0.5->path->path.py>=10.5->lexrank) (2.2.0)\n",
      "Installing collected packages: uritools, urlextract, path.py, lexrank\n",
      "Successfully installed lexrank-0.1.0 path.py-12.5.0 uritools-4.0.0 urlextract-1.6.0\n",
      "\u001b[33mWARNING: Running pip as the 'root' user can result in broken permissions and conflicting behaviour with the system package manager. It is recommended to use a virtual environment instead: https://pip.pypa.io/warnings/venv\u001b[0m\u001b[33m\n",
      "\u001b[0mNote: you may need to restart the kernel to use updated packages.\n"
     ]
    }
   ],
   "source": [
    "! pip install lexrank"
   ]
  },
  {
   "cell_type": "code",
   "execution_count": 2,
   "id": "d59b4d78-bc4f-455e-9ba2-ebeb4aa7fdc1",
   "metadata": {},
   "outputs": [],
   "source": [
    "import json\n",
    "import inspect\n",
    "from pathlib import Path\n",
    "import pylev\n",
    "import pandas as pd\n",
    "from tqdm import tqdm\n",
    "import numpy as np\n",
    "from scipy import spatial\n",
    "import matplotlib.pyplot as plt\n",
    "from sklearn.manifold import TSNE\n",
    "from sentence_transformers import SentenceTransformer, util\n",
    "import torch"
   ]
  },
  {
   "cell_type": "code",
   "execution_count": 4,
   "id": "bc022c6c-a6b7-426f-b42c-f8a1ccd90ce2",
   "metadata": {},
   "outputs": [],
   "source": [
    "\"\"\"\n",
    "LexRank implementation\n",
    "Source: https://github.com/crabcamp/lexrank/tree/dev\n",
    "\"\"\"\n",
    "\n",
    "import numpy as np\n",
    "from scipy.sparse.csgraph import connected_components\n",
    "from scipy.special import softmax\n",
    "import logging\n",
    "\n",
    "logger = logging.getLogger(__name__)\n",
    "\n",
    "def degree_centrality_scores(\n",
    "    similarity_matrix,\n",
    "    threshold=None,\n",
    "    increase_power=True,\n",
    "):\n",
    "    if not (\n",
    "        threshold is None\n",
    "        or isinstance(threshold, float)\n",
    "        and 0 <= threshold < 1\n",
    "    ):\n",
    "        raise ValueError(\n",
    "            '\\'threshold\\' should be a floating-point number '\n",
    "            'from the interval [0, 1) or None',\n",
    "        )\n",
    "\n",
    "    if threshold is None:\n",
    "        markov_matrix = create_markov_matrix(similarity_matrix)\n",
    "\n",
    "    else:\n",
    "        markov_matrix = create_markov_matrix_discrete(\n",
    "            similarity_matrix,\n",
    "            threshold,\n",
    "        )\n",
    "\n",
    "    scores = stationary_distribution(\n",
    "        markov_matrix,\n",
    "        increase_power=increase_power,\n",
    "        normalized=False,\n",
    "    )\n",
    "\n",
    "    return scores\n",
    "\n",
    "\n",
    "def _power_method(transition_matrix, increase_power=True, max_iter=10000):\n",
    "    eigenvector = np.ones(len(transition_matrix))\n",
    "\n",
    "    if len(eigenvector) == 1:\n",
    "        return eigenvector\n",
    "\n",
    "    transition = transition_matrix.transpose()\n",
    "\n",
    "    for _ in range(max_iter):\n",
    "        eigenvector_next = np.dot(transition, eigenvector)\n",
    "\n",
    "        if np.allclose(eigenvector_next, eigenvector):\n",
    "            return eigenvector_next\n",
    "\n",
    "        eigenvector = eigenvector_next\n",
    "\n",
    "        if increase_power:\n",
    "            transition = np.dot(transition, transition)\n",
    "\n",
    "    logger.warning(\"Maximum number of iterations for power method exceeded without convergence!\")\n",
    "    return eigenvector_next\n",
    "\n",
    "\n",
    "def connected_nodes(matrix):\n",
    "    _, labels = connected_components(matrix)\n",
    "\n",
    "    groups = []\n",
    "\n",
    "    for tag in np.unique(labels):\n",
    "        group = np.where(labels == tag)[0]\n",
    "        groups.append(group)\n",
    "\n",
    "    return groups\n",
    "\n",
    "\n",
    "def create_markov_matrix(weights_matrix):\n",
    "    n_1, n_2 = weights_matrix.shape\n",
    "    if n_1 != n_2:\n",
    "        raise ValueError('\\'weights_matrix\\' should be square')\n",
    "\n",
    "    row_sum = weights_matrix.sum(axis=1, keepdims=True)\n",
    "\n",
    "    # normalize probability distribution differently if we have negative transition values\n",
    "    if np.min(weights_matrix) <= 0:\n",
    "        return softmax(weights_matrix, axis=1)\n",
    "\n",
    "    return weights_matrix / row_sum\n",
    "\n",
    "\n",
    "def create_markov_matrix_discrete(weights_matrix, threshold):\n",
    "    discrete_weights_matrix = np.zeros(weights_matrix.shape)\n",
    "    ixs = np.where(weights_matrix >= threshold)\n",
    "    discrete_weights_matrix[ixs] = 1\n",
    "\n",
    "    return create_markov_matrix(discrete_weights_matrix)\n",
    "\n",
    "\n",
    "def stationary_distribution(\n",
    "    transition_matrix,\n",
    "    increase_power=True,\n",
    "    normalized=True,\n",
    "):\n",
    "    n_1, n_2 = transition_matrix.shape\n",
    "    if n_1 != n_2:\n",
    "        raise ValueError('\\'transition_matrix\\' should be square')\n",
    "\n",
    "    distribution = np.zeros(n_1)\n",
    "\n",
    "    grouped_indices = connected_nodes(transition_matrix)\n",
    "\n",
    "    for group in grouped_indices:\n",
    "        t_matrix = transition_matrix[np.ix_(group, group)]\n",
    "        eigenvector = _power_method(t_matrix, increase_power=increase_power)\n",
    "        distribution[group] = eigenvector\n",
    "\n",
    "    if normalized:\n",
    "        distribution /= n_1\n",
    "\n",
    "    return distribution"
   ]
  },
  {
   "cell_type": "code",
   "execution_count": 7,
   "id": "3dcb98de-5c39-45ad-ab6f-d50ee4fc4672",
   "metadata": {},
   "outputs": [
    {
     "name": "stdout",
     "output_type": "stream",
     "text": [
      "Num sentences: 29\n",
      "\n",
      "\n",
      "Summary:\n",
      "New York City (NYC), often called simply New York, is the most populous city in the United States.\n",
      "In 2019, New York was voted the greatest city in the world per a survey of over 30,000 people from 48 cities worldwide, citing its cultural diversity.\n",
      "Located at the southern tip of the U.S. state of New York, the city is the center of the New York metropolitan area, the largest metropolitan area in the world by urban landmass.\n",
      "With an estimated 2019 population of 8,336,817 distributed over about 302.6 square miles (784 km2), New York City is also the most densely populated major city in the United States.\n",
      "New York City was the capital of the United States from 1785 until 1790, and has been the largest U.S. city since 1790.\n"
     ]
    }
   ],
   "source": [
    "import nltk\n",
    "# nltk.download('punkt')\n",
    "from sentence_transformers import SentenceTransformer, util\n",
    "import numpy as np\n",
    "\n",
    "\n",
    "\n",
    "model = SentenceTransformer('all-MiniLM-L6-v2')\n",
    "\n",
    "# Our input document we want to summarize\n",
    "# As example, we take the first section from Wikipedia\n",
    "document = \"\"\"\n",
    "New York City (NYC), often called simply New York, is the most populous city in the United States. With an estimated 2019 population of 8,336,817 distributed over about 302.6 square miles (784 km2), New York City is also the most densely populated major city in the United States. Located at the southern tip of the U.S. state of New York, the city is the center of the New York metropolitan area, the largest metropolitan area in the world by urban landmass. With almost 20 million people in its metropolitan statistical area and approximately 23 million in its combined statistical area, it is one of the world's most populous megacities. New York City has been described as the cultural, financial, and media capital of the world, significantly influencing commerce, entertainment, research, technology, education, politics, tourism, art, fashion, and sports. Home to the headquarters of the United Nations, New York is an important center for international diplomacy.\n",
    "Situated on one of the world's largest natural harbors, New York City is composed of five boroughs, each of which is a county of the State of New York. The five boroughs—Brooklyn, Queens, Manhattan, the Bronx, and Staten Island—were consolidated into a single city in 1898. The city and its metropolitan area constitute the premier gateway for legal immigration to the United States. As many as 800 languages are spoken in New York, making it the most linguistically diverse city in the world. New York is home to more than 3.2 million residents born outside the United States, the largest foreign-born population of any city in the world as of 2016. As of 2019, the New York metropolitan area is estimated to produce a gross metropolitan product (GMP) of $2.0 trillion. If the New York metropolitan area were a sovereign state, it would have the eighth-largest economy in the world. New York is home to the highest number of billionaires of any city in the world.\n",
    "New York City traces its origins to a trading post founded by colonists from the Dutch Republic in 1624 on Lower Manhattan; the post was named New Amsterdam in 1626. The city and its surroundings came under English control in 1664 and were renamed New York after King Charles II of England granted the lands to his brother, the Duke of York. The city was regained by the Dutch in July 1673 and was subsequently renamed New Orange for one year and three months; the city has been continuously named New York since November 1674. New York City was the capital of the United States from 1785 until 1790, and has been the largest U.S. city since 1790. The Statue of Liberty greeted millions of immigrants as they came to the U.S. by ship in the late 19th and early 20th centuries, and is a symbol of the U.S. and its ideals of liberty and peace. In the 21st century, New York has emerged as a global node of creativity, entrepreneurship, and environmental sustainability, and as a symbol of freedom and cultural diversity. In 2019, New York was voted the greatest city in the world per a survey of over 30,000 people from 48 cities worldwide, citing its cultural diversity.\n",
    "Many districts and landmarks in New York City are well known, including three of the world's ten most visited tourist attractions in 2013. A record 62.8 million tourists visited New York City in 2017. Times Square is the brightly illuminated hub of the Broadway Theater District, one of the world's busiest pedestrian intersections, and a major center of the world's entertainment industry. Many of the city's landmarks, skyscrapers, and parks are known around the world. Manhattan's real estate market is among the most expensive in the world. Providing continuous 24/7 service and contributing to the nickname The City that Never Sleeps, the New York City Subway is the largest single-operator rapid transit system worldwide, with 472 rail stations. The city has over 120 colleges and universities, including Columbia University, New York University, Rockefeller University, and the City University of New York system, which is the largest urban public university system in the United States. Anchored by Wall Street in the Financial District of Lower Manhattan, New York City has been called both the world's leading financial center and the most financially powerful city in the world, and is home to the world's two largest stock exchanges by total market capitalization, the New York Stock Exchange and NASDAQ.\n",
    "\"\"\"\n",
    "\n",
    "#Split the document into sentences\n",
    "sentences = nltk.sent_tokenize(document)\n",
    "print(\"Num sentences:\", len(sentences))\n",
    "\n",
    "#Compute the sentence embeddings\n",
    "embeddings = model.encode(sentences, convert_to_tensor=True)\n",
    "\n",
    "#Compute the pair-wise cosine similarities\n",
    "cos_scores = util.cos_sim(embeddings, embeddings).numpy()\n",
    "\n",
    "#Compute the centrality for each sentence\n",
    "centrality_scores = degree_centrality_scores(cos_scores, threshold=None)\n",
    "\n",
    "#We argsort so that the first element is the sentence with the highest score\n",
    "most_central_sentence_indices = np.argsort(-centrality_scores)\n",
    "\n",
    "\n",
    "#Print the 5 sentences with the highest scores\n",
    "print(\"\\n\\nSummary:\")\n",
    "for idx in most_central_sentence_indices[0:5]:\n",
    "    print(sentences[idx].strip())"
   ]
  },
  {
   "cell_type": "code",
   "execution_count": 9,
   "id": "d356f2de-4575-4fc6-aa84-532591583a53",
   "metadata": {},
   "outputs": [],
   "source": [
    "def read_train_data(data_dir, NUM_TRAIN = 10000):\n",
    "    def read_notebook(path):\n",
    "        return (\n",
    "            pd.read_json(\n",
    "                path,\n",
    "                dtype={'cell_type': 'category', 'source': 'str'})\n",
    "            .assign(id=path.stem)  # final path component\n",
    "            .rename_axis('cell_id')\n",
    "        )\n",
    "\n",
    "    paths_train = list((data_dir / 'train').glob('*.json'))[:NUM_TRAIN]\n",
    "    notebooks_train = [\n",
    "      read_notebook(path) for path in tqdm(paths_train, desc='Train NBs')\n",
    "    ]\n",
    "    df = (\n",
    "      pd.concat(notebooks_train)\n",
    "      .set_index('id', append=True)\n",
    "      .swaplevel()\n",
    "      .sort_index(level='id', sort_remaining=False)\n",
    "    )\n",
    "    return df"
   ]
  },
  {
   "cell_type": "code",
   "execution_count": 11,
   "id": "3a7ec400-0db4-4873-b6c8-5064f4539c4e",
   "metadata": {},
   "outputs": [],
   "source": [
    "data_dir = Path('data/')"
   ]
  },
  {
   "cell_type": "code",
   "execution_count": 12,
   "id": "145f5592-f54a-400f-b69a-a51df3533604",
   "metadata": {},
   "outputs": [
    {
     "name": "stderr",
     "output_type": "stream",
     "text": [
      "Train NBs: 100%|██████████| 10000/10000 [02:35<00:00, 64.31it/s]\n"
     ]
    }
   ],
   "source": [
    "df = read_train_data(data_dir, NUM_TRAIN=10000)"
   ]
  },
  {
   "cell_type": "code",
   "execution_count": null,
   "id": "8e226537-6720-4c09-b92d-234d10db4e60",
   "metadata": {},
   "outputs": [],
   "source": [
    "df.reset_index()."
   ]
  },
  {
   "cell_type": "code",
   "execution_count": null,
   "id": "5fbc5765-d51e-425f-940c-9a30d6dccf20",
   "metadata": {},
   "outputs": [],
   "source": []
  },
  {
   "cell_type": "code",
   "execution_count": null,
   "id": "f62338ed-efa1-4f90-87b6-c2cee38222c0",
   "metadata": {},
   "outputs": [],
   "source": []
  },
  {
   "cell_type": "raw",
   "id": "e4b93a47-fb71-489a-9df5-f953a34d81a7",
   "metadata": {
    "tags": []
   },
   "source": [
    "def get_json_data(ID):\n",
    "    '''\n",
    "    Returns a df containing the .json information.\n",
    "    ID: name of file\n",
    "    return :: a df comtaining cols \"cell_id\", \"cell_type\", \"source\"\n",
    "    '''\n",
    "\n",
    "    # Read in the .json file\n",
    "    file = json.load(open(data_dir / f\"train/{ID}.json\"))\n",
    "\n",
    "    # Create an empty dataframe of size n\n",
    "    # where n = numver of cell ids in the notebook\n",
    "    n = len(file[\"cell_type\"].keys())\n",
    "    df = pd.DataFrame(index=range(n), columns=[\"cell_id\", \"cell_type\", \"source\"])\n",
    "\n",
    "    # Get all sources in order\n",
    "    all_sources = list(file[\"source\"].values())\n",
    "\n",
    "    # Add cell id and type to dataframe\n",
    "    for k, (cell_id, cell_type) in enumerate(file[\"cell_type\"].items()):\n",
    "        df.loc[k, \"cell_id\"] = cell_id\n",
    "        df.loc[k, \"cell_type\"] = cell_type\n",
    "        # as cell_id is in the same order for both \"cell_type\" and \"source\"\n",
    "        df.loc[k, \"source\"] = all_sources[k]\n",
    "        \n",
    "    return df"
   ]
  },
  {
   "cell_type": "raw",
   "id": "ac319564-35d5-4c31-906e-5bc0c11f5b4a",
   "metadata": {
    "tags": []
   },
   "source": [
    "def get_document_language(ID):\n",
    "    '''\n",
    "    Returns the language of the document.\n",
    "    ID: name of file\n",
    "    return :: dictionary containing the language and score (probability)\n",
    "    '''\n",
    "    # Retrieve .json df\n",
    "    df = get_json_data(ID)\n",
    "\n",
    "    # Get a string of all doc text\n",
    "    # Keep only first 200 chars to not overload memory\n",
    "    all_doc_text = \" \".join(df[df[\"cell_type\"]==\"markdown\"][\"source\"].tolist())[:200]\n",
    "\n",
    "    # Get document language\n",
    "    doc = nlp_model(all_doc_text)\n",
    "    language = doc._.language\n",
    "    \n",
    "    return language"
   ]
  },
  {
   "cell_type": "raw",
   "id": "6c46b53d-09c9-44ab-8833-e262b0febab3",
   "metadata": {},
   "source": [
    "! pip install spacy_language_detection"
   ]
  },
  {
   "cell_type": "raw",
   "id": "a7d585ea-b33d-4189-9b0c-c25de58d8b85",
   "metadata": {},
   "source": [
    "from spacy.language import Language\n",
    "from spacy_language_detection import LanguageDetector"
   ]
  },
  {
   "cell_type": "raw",
   "id": "e7c415e6-fc21-4cfb-81d2-845d620ed56d",
   "metadata": {},
   "source": [
    "def get_lang_detector(nlp, name):\n",
    "    return LanguageDetector(seed=42)\n",
    "\n",
    "# Load spacy model\n",
    "nlp_model = spacy.load(\"en_core_web_sm\")\n",
    "\n",
    "# Create instance for language detection\n",
    "Language.factory(\"language_detector\", func=get_lang_detector)\n",
    "nlp_model.add_pipe('language_detector', last=True)"
   ]
  },
  {
   "cell_type": "raw",
   "id": "65148479-c57b-4d3b-8429-4220483aa8d3",
   "metadata": {},
   "source": [
    "all_languages = []\n",
    "\n",
    "# This takes ~ 1hr 15 mins\n",
    "for k, ID in tqdm(enumerate(df_orders.reset_index()[\"id\"])):\n",
    "    all_languages.append(get_document_language(ID))\n",
    "    \n",
    "# Convert to dataframe\n",
    "all_lang_df = pd.DataFrame(all_languages)\n",
    "all_lang_df[\"id\"] = df_orders.reset_index()[\"id\"]\n",
    "\n",
    "# Save file\n",
    "# .parquet is smaller than .csv\n",
    "all_lang_df.to_parquet(\"data/all_languages.parquet\", index=False)"
   ]
  },
  {
   "cell_type": "code",
   "execution_count": null,
   "id": "bcb258a9-cb18-4f2b-9827-a5baeda6d059",
   "metadata": {},
   "outputs": [],
   "source": []
  },
  {
   "cell_type": "code",
   "execution_count": 4,
   "id": "70a13ff1-5261-4018-bdcf-919bce46387e",
   "metadata": {
    "collapsed": true,
    "jupyter": {
     "outputs_hidden": true
    },
    "tags": []
   },
   "outputs": [
    {
     "name": "stdout",
     "output_type": "stream",
     "text": [
      "Collecting texthero\n",
      "  Using cached texthero-1.1.0-py3-none-any.whl (24 kB)\n",
      "Requirement already satisfied: tqdm>=4.3 in /opt/conda/lib/python3.7/site-packages (from texthero) (4.42.1)\n",
      "Collecting spacy<3.0.0\n",
      "  Using cached spacy-2.3.7-cp37-cp37m-manylinux_2_17_x86_64.manylinux2014_x86_64.whl (10.4 MB)\n",
      "Collecting pandas>=1.0.2\n",
      "  Using cached pandas-1.3.5-cp37-cp37m-manylinux_2_17_x86_64.manylinux2014_x86_64.whl (11.3 MB)\n",
      "Requirement already satisfied: matplotlib>=3.1.0 in /opt/conda/lib/python3.7/site-packages (from texthero) (3.1.3)\n",
      "Collecting wordcloud>=1.5.0\n",
      "  Downloading wordcloud-1.8.2.2-cp37-cp37m-manylinux_2_17_x86_64.manylinux2014_x86_64.whl (435 kB)\n",
      "\u001b[2K     \u001b[90m━━━━━━━━━━━━━━━━━━━━━━━━━━━━━━━━━━━━━━━\u001b[0m \u001b[32m435.2/435.2 kB\u001b[0m \u001b[31m5.6 MB/s\u001b[0m eta \u001b[36m0:00:00\u001b[0m00:01\u001b[0m\n",
      "\u001b[?25hRequirement already satisfied: numpy>=1.17 in /opt/conda/lib/python3.7/site-packages (from texthero) (1.21.6)\n",
      "Collecting gensim<4.0,>=3.6.0\n",
      "  Using cached gensim-3.8.3-cp37-cp37m-manylinux1_x86_64.whl (24.2 MB)\n",
      "Collecting unidecode>=1.1.1\n",
      "  Using cached Unidecode-1.3.4-py3-none-any.whl (235 kB)\n",
      "Requirement already satisfied: scikit-learn>=0.22 in /opt/conda/lib/python3.7/site-packages (from texthero) (0.22.1)\n",
      "Requirement already satisfied: nltk>=3.3 in /opt/conda/lib/python3.7/site-packages (from texthero) (3.7)\n",
      "Requirement already satisfied: plotly>=4.2.0 in /opt/conda/lib/python3.7/site-packages (from texthero) (5.8.2)\n",
      "Collecting smart-open>=1.8.1\n",
      "  Using cached smart_open-6.0.0-py3-none-any.whl (58 kB)\n",
      "Requirement already satisfied: scipy>=0.18.1 in /opt/conda/lib/python3.7/site-packages (from gensim<4.0,>=3.6.0->texthero) (1.4.1)\n",
      "Requirement already satisfied: six>=1.5.0 in /opt/conda/lib/python3.7/site-packages (from gensim<4.0,>=3.6.0->texthero) (1.14.0)\n",
      "Requirement already satisfied: pyparsing!=2.0.4,!=2.1.2,!=2.1.6,>=2.0.1 in /opt/conda/lib/python3.7/site-packages (from matplotlib>=3.1.0->texthero) (2.4.6)\n",
      "Requirement already satisfied: python-dateutil>=2.1 in /opt/conda/lib/python3.7/site-packages (from matplotlib>=3.1.0->texthero) (2.8.1)\n",
      "Requirement already satisfied: cycler>=0.10 in /opt/conda/lib/python3.7/site-packages (from matplotlib>=3.1.0->texthero) (0.10.0)\n",
      "Requirement already satisfied: kiwisolver>=1.0.1 in /opt/conda/lib/python3.7/site-packages (from matplotlib>=3.1.0->texthero) (1.1.0)\n",
      "Requirement already satisfied: regex>=2021.8.3 in /opt/conda/lib/python3.7/site-packages (from nltk>=3.3->texthero) (2022.6.2)\n",
      "Requirement already satisfied: joblib in /opt/conda/lib/python3.7/site-packages (from nltk>=3.3->texthero) (0.14.1)\n",
      "Requirement already satisfied: click in /opt/conda/lib/python3.7/site-packages (from nltk>=3.3->texthero) (7.0)\n",
      "Requirement already satisfied: pytz>=2017.3 in /opt/conda/lib/python3.7/site-packages (from pandas>=1.0.2->texthero) (2019.3)\n",
      "Requirement already satisfied: tenacity>=6.2.0 in /opt/conda/lib/python3.7/site-packages (from plotly>=4.2.0->texthero) (8.0.1)\n",
      "Collecting preshed<3.1.0,>=3.0.2\n",
      "  Using cached preshed-3.0.6-cp37-cp37m-manylinux_2_5_x86_64.manylinux1_x86_64.manylinux_2_17_x86_64.manylinux2014_x86_64.whl (125 kB)\n",
      "Collecting catalogue<1.1.0,>=0.0.7\n",
      "  Using cached catalogue-1.0.0-py2.py3-none-any.whl (7.7 kB)\n",
      "Collecting srsly<1.1.0,>=1.0.2\n",
      "  Using cached srsly-1.0.5-cp37-cp37m-manylinux2014_x86_64.whl (184 kB)\n",
      "Collecting blis<0.8.0,>=0.4.0\n",
      "  Using cached blis-0.7.8-cp37-cp37m-manylinux_2_17_x86_64.manylinux2014_x86_64.whl (10.2 MB)\n",
      "Requirement already satisfied: requests<3.0.0,>=2.13.0 in /opt/conda/lib/python3.7/site-packages (from spacy<3.0.0->texthero) (2.28.0)\n",
      "Requirement already satisfied: setuptools in /opt/conda/lib/python3.7/site-packages (from spacy<3.0.0->texthero) (59.3.0)\n",
      "Collecting murmurhash<1.1.0,>=0.28.0\n",
      "  Using cached murmurhash-1.0.7-cp37-cp37m-manylinux_2_5_x86_64.manylinux1_x86_64.manylinux_2_17_x86_64.manylinux2014_x86_64.whl (21 kB)\n",
      "Collecting plac<1.2.0,>=0.9.6\n",
      "  Using cached plac-1.1.3-py2.py3-none-any.whl (20 kB)\n",
      "Collecting thinc<7.5.0,>=7.4.1\n",
      "  Using cached thinc-7.4.5-cp37-cp37m-manylinux2014_x86_64.whl (1.0 MB)\n",
      "Collecting wasabi<1.1.0,>=0.4.0\n",
      "  Using cached wasabi-0.9.1-py3-none-any.whl (26 kB)\n",
      "Collecting cymem<2.1.0,>=2.0.2\n",
      "  Using cached cymem-2.0.6-cp37-cp37m-manylinux_2_17_x86_64.manylinux2014_x86_64.whl (35 kB)\n",
      "Requirement already satisfied: pillow in /opt/conda/lib/python3.7/site-packages (from wordcloud>=1.5.0->texthero) (9.1.1)\n",
      "Requirement already satisfied: importlib-metadata>=0.20 in /opt/conda/lib/python3.7/site-packages (from catalogue<1.1.0,>=0.0.7->spacy<3.0.0->texthero) (1.5.0)\n",
      "Requirement already satisfied: charset-normalizer~=2.0.0 in /opt/conda/lib/python3.7/site-packages (from requests<3.0.0,>=2.13.0->spacy<3.0.0->texthero) (2.0.4)\n",
      "Requirement already satisfied: urllib3<1.27,>=1.21.1 in /opt/conda/lib/python3.7/site-packages (from requests<3.0.0,>=2.13.0->spacy<3.0.0->texthero) (1.26.9)\n",
      "Requirement already satisfied: certifi>=2017.4.17 in /opt/conda/lib/python3.7/site-packages (from requests<3.0.0,>=2.13.0->spacy<3.0.0->texthero) (2022.5.18.1)\n",
      "Requirement already satisfied: idna<4,>=2.5 in /opt/conda/lib/python3.7/site-packages (from requests<3.0.0,>=2.13.0->spacy<3.0.0->texthero) (2.8)\n",
      "Requirement already satisfied: zipp>=0.5 in /opt/conda/lib/python3.7/site-packages (from importlib-metadata>=0.20->catalogue<1.1.0,>=0.0.7->spacy<3.0.0->texthero) (2.2.0)\n",
      "Installing collected packages: wasabi, srsly, plac, murmurhash, cymem, unidecode, smart-open, preshed, blis, pandas, gensim, catalogue, wordcloud, thinc, spacy, texthero\n",
      "  Attempting uninstall: pandas\n",
      "    Found existing installation: pandas 1.0.1\n",
      "    Uninstalling pandas-1.0.1:\n",
      "      Successfully uninstalled pandas-1.0.1\n",
      "Successfully installed blis-0.7.8 catalogue-1.0.0 cymem-2.0.6 gensim-3.8.3 murmurhash-1.0.7 pandas-1.3.5 plac-1.1.3 preshed-3.0.6 smart-open-6.0.0 spacy-2.3.7 srsly-1.0.5 texthero-1.1.0 thinc-7.4.5 unidecode-1.3.4 wasabi-0.9.1 wordcloud-1.8.2.2\n",
      "\u001b[33mWARNING: Running pip as the 'root' user can result in broken permissions and conflicting behaviour with the system package manager. It is recommended to use a virtual environment instead: https://pip.pypa.io/warnings/venv\u001b[0m\u001b[33m\n",
      "\u001b[0mNote: you may need to restart the kernel to use updated packages.\n"
     ]
    }
   ],
   "source": [
    "pip install texthero"
   ]
  },
  {
   "cell_type": "code",
   "execution_count": 16,
   "id": "ba4cb2a3-8f60-45e3-b5e6-513983e39d9e",
   "metadata": {},
   "outputs": [],
   "source": [
    "import plotly"
   ]
  },
  {
   "cell_type": "code",
   "execution_count": 17,
   "id": "781f4653-b438-4893-99a3-a385bfe74ffd",
   "metadata": {},
   "outputs": [],
   "source": [
    "import texthero as hero\n",
    "import pandas as pd\n",
    "\n",
    "\n",
    "df = pd.read_csv(\n",
    "    \"https://github.com/jbesomi/texthero/raw/master/dataset/bbcsport.csv\"\n",
    ")\n",
    "\n",
    "df['tfidf'] = (\n",
    "    df['text']\n",
    "    .pipe(hero.clean)\n",
    "    .pipe(hero.tfidf)\n",
    ")\n",
    "\n",
    "df['kmeans_labels'] = (\n",
    "    df['tfidf']\n",
    "    .pipe(hero.kmeans, n_clusters=5)\n",
    "    .astype(str)\n",
    ")\n",
    "\n",
    "df['pca'] = df['tfidf'].pipe(hero.pca)"
   ]
  },
  {
   "cell_type": "code",
   "execution_count": 40,
   "id": "f18590fa-8ff9-4280-8fca-03b9e8aabf6f",
   "metadata": {
    "collapsed": true,
    "jupyter": {
     "outputs_hidden": true
    },
    "tags": []
   },
   "outputs": [
    {
     "data": {
      "application/vnd.plotly.v1+json": {
       "config": {
        "plotlyServerURL": "https://plot.ly"
       },
       "data": [
        {
         "hovertemplate": "kmeans_labels=4<br>x=%{x}<br>y=%{y}<extra></extra>",
         "legendgroup": "4",
         "marker": {
          "color": "#636efa",
          "symbol": "circle"
         },
         "mode": "markers",
         "name": "4",
         "orientation": "v",
         "showlegend": true,
         "type": "scatter",
         "x": [
          -0.09100947927955842,
          -0.11761578738228744,
          -0.091267638597148,
          -0.11032991455579132,
          -0.029021007456175155,
          -0.042960579549675276,
          -0.12888671475650101,
          -0.15749304365625563,
          -0.09595031079570551,
          -0.10782462455669792,
          -0.08983019474232509,
          -0.08054203569202538,
          -0.07798080773243961,
          -0.10523620636345582,
          -0.11148627831928193,
          -0.10782462455669792,
          -0.0971014077945744,
          -0.1071221538607088,
          -0.07479757098974087,
          -0.10890925443238163,
          -0.09925815331363393,
          -0.11472207181238474,
          -0.10911551151170273,
          -0.07438177355817532,
          -0.049767571216718334,
          -0.13231567478291975,
          -0.1317472904934344,
          -0.10212052065515008,
          -0.10211261497653328,
          -0.0795398710501184,
          -0.06949683100908492,
          -0.09041937138615926,
          -0.06174674673978587,
          -0.08179658997422738,
          -0.09392897452937919,
          -0.09632788157234842,
          -0.0968445958669859,
          -0.10451315525575354,
          -0.12822807973666042,
          -0.13838447740999887,
          -0.11370224196345972,
          -0.10010812492441527,
          -0.11208084981291583,
          -0.06177717892401035,
          -0.12157713436534442,
          -0.06477301329306773,
          -0.11027224793111189,
          -0.16011336014374525,
          -0.11220881396085038,
          -0.030195429023632203,
          -0.17670579671819966,
          -0.10721421731822013,
          -0.10577381038017346,
          -0.10767435087951506,
          -0.10511087644079306,
          -0.10481561529165648,
          -0.06419009011954517,
          -0.014981881596172439,
          -0.0810477746539599,
          -0.06375799368906925,
          -0.09392897452937919,
          -0.07472603035215122,
          -0.08021096338392616,
          -0.08368571573412854,
          -0.09231874117382102,
          -0.07757691564030429,
          -0.08825983543717036,
          -0.1526442195589639,
          -0.11289520022377073,
          -0.04432231573253091,
          -0.10711396396884812,
          -0.13790319737179518,
          -0.058475920080175665,
          0.022108356654493806,
          -0.01413106375219173,
          -0.06025141419288406,
          -0.0427048879836165,
          -0.054944547228750654,
          -0.055738747294387575,
          -0.0692182801447417,
          -0.038071254261339935,
          -0.05439769694121953,
          -0.05974104546615466,
          -0.048869684467337395,
          -0.0556597416260817,
          -0.05140330699853086,
          -0.027454579441847725,
          -0.07352630285042451,
          -0.038190152328177386,
          -0.040139370599519233,
          -0.046763208108319805,
          -0.05140330699853086,
          -0.0641416117082743,
          -0.07352630285042451,
          -0.04065315664125632,
          -0.04658295917841012,
          -0.06792678407326654,
          -0.06041960601013421,
          -0.05572295739628572,
          -0.07343142937188206,
          -0.044840163814629026,
          -0.04187386255092426,
          -0.022449541956419947,
          -0.060636388246635094,
          -0.05792610236502636,
          -0.06102359648061147,
          -0.04143248880976708,
          -0.05623988462459668,
          -0.062300251739325914,
          -0.04824390862559706,
          -0.03351833769931175,
          -0.025903458031248786,
          -0.06885815289602418,
          -0.07577057680645313,
          -0.05150876698336151,
          -0.05581363879776198,
          -0.051466444741176114,
          -0.04328262164609914,
          -0.06590711901291693,
          -0.048228566987035426,
          -0.07035226122249076,
          -0.054688703996371595,
          -0.05664371452748657,
          -0.07570112939440027,
          -0.07570112939440027,
          -0.05829112736276658,
          -0.056154923184871655,
          -0.048341117858770405,
          -0.031929147411631005,
          -0.04935431676903757,
          -0.08159902889711729,
          -0.06958025025246117,
          -0.04108655541666252,
          -0.04001480672547852,
          -0.06207830780406469,
          -0.0627071680949708,
          -0.03868440249682974,
          -0.046182725225170855,
          -0.10004036659523162,
          -0.05398705016666369,
          -0.06486816293824921,
          -0.05460350208926404,
          -0.025380932239138936,
          -0.08052342235029994,
          -0.08061069969633484,
          -0.05116535825499758,
          -0.07718223703459251,
          -0.057871160474470607,
          -0.04823986849980927,
          -0.1031421463604987,
          -0.035940955272870355,
          -0.029678006821777982,
          -0.04722059708692046,
          -0.07996797189004888,
          -0.0720428091621178,
          -0.04186928028083099,
          -0.07214201503946246,
          -0.06632906251037474,
          -0.032340235363714324,
          -0.05100219038348024,
          -0.0276230935757977,
          -0.060934182215828386,
          -0.020833533365131284,
          -0.062122100471654396,
          -0.03779193041133872,
          -0.07889405333447227,
          0.017133813991442894,
          -0.0317865979627336,
          -0.06333171520898721,
          -0.04156156215530654,
          -0.06663111084367401,
          -0.048117220385466834,
          -0.04980357618941653,
          -0.029131303627509923
         ],
         "xaxis": "x",
         "y": [
          0.10355783040190109,
          0.12855969712450788,
          0.13498096419711417,
          0.15751507688375754,
          0.07053450100588249,
          0.03478123290060038,
          0.17066528357797053,
          0.24020658892388605,
          0.11541810894869209,
          0.10872534653563158,
          0.11736816016763355,
          0.04879922796751102,
          0.1301246754447731,
          0.17692880936182417,
          0.13531944240496832,
          0.10872534653563158,
          0.15775072934421866,
          0.13101244114630964,
          0.11148996198280468,
          0.1529968596938687,
          0.15872637035150455,
          0.13619531607997448,
          0.16112587929955685,
          0.10385969472880448,
          0.07719817451010265,
          0.20821085765585765,
          0.15878952420727832,
          0.1360888524822674,
          0.08943871086164824,
          0.0838564975976414,
          0.0967998135815414,
          0.12565034702015435,
          0.12038160501732129,
          0.11331367716467708,
          0.15311210360726282,
          0.11294619586231941,
          0.13850038746613605,
          0.13364964169207272,
          0.1506726075828085,
          0.16403125148616932,
          0.08911314751499982,
          0.13702314310020594,
          0.15016414969796613,
          0.0860037630192382,
          0.15609633585467556,
          0.101490789660417,
          0.1317569569141398,
          0.29481175191110787,
          0.15611195725963284,
          0.08157037330459431,
          0.24981679643861077,
          0.08371411620767061,
          0.11826953095372594,
          0.08483589510987777,
          0.12860533525766776,
          0.1854462887976213,
          0.10184468458722419,
          0.05048402205482179,
          0.11179186528765057,
          0.10787572069039046,
          0.15311210360726282,
          0.10400488556565812,
          0.09756505506147642,
          0.12031548122949583,
          0.0975826297774941,
          0.10333510451231044,
          0.11295070178472214,
          0.22073510056560802,
          0.12436871426719434,
          0.056530126525410375,
          0.1519618069175954,
          0.1797465397580984,
          0.11550876328468776,
          0.0381418027402276,
          0.0017408170256260583,
          0.05186210174099636,
          0.07802697725906427,
          0.10541204305402792,
          0.048289614251965575,
          0.06949283007890594,
          0.08913242266303298,
          0.08608606738285692,
          0.07896501099671673,
          0.09592892357756413,
          0.07993109036896513,
          0.11608461599543558,
          0.033243547613245605,
          0.05496216380574793,
          0.0871435227193702,
          0.09606112466643348,
          0.0878408298740466,
          0.11608461599543558,
          0.0514756247121263,
          0.05496216380574793,
          0.08937428037102874,
          0.10617763011646267,
          0.14258987828873562,
          0.059910232233938716,
          0.06580775522310683,
          0.11748199933842784,
          0.03119940097428665,
          0.0966675013257018,
          0.0749542447315851,
          0.11579735712757253,
          0.03888318409448135,
          0.10767967290346765,
          0.059448412318149076,
          0.07152619082418704,
          0.0926345137193543,
          0.07232355856726409,
          0.03599469341652979,
          0.041982859542469324,
          0.1358288455072358,
          0.11946837151490526,
          0.10176290937236449,
          0.0486863174237793,
          0.06794390994360357,
          0.06687118382841938,
          0.09693041627009193,
          0.1057844470976722,
          0.059019667553487296,
          0.1393891876278291,
          0.07902952793895276,
          0.02211321429101425,
          0.02211321429101425,
          0.14591500410000224,
          0.03355433604931478,
          0.052741638940835035,
          0.0428970666490256,
          0.08014226446490322,
          0.15134151599402035,
          0.11062048435254428,
          0.07604136081068301,
          0.07385807295708381,
          0.09710071576295286,
          0.0630912107344735,
          0.012569684183802969,
          0.0935001974380862,
          0.14927814110749715,
          0.11403041323154435,
          0.08122486521279516,
          0.07489439966166961,
          0.036560513273824556,
          0.04478999607537252,
          0.044978543596836125,
          0.054211810841409504,
          0.11021260679210619,
          0.027093559325960328,
          0.08270753081983782,
          0.134736032181922,
          0.04516709809811499,
          0.03838449750161888,
          0.0783447294210865,
          0.036060805961034684,
          0.04727239346120478,
          0.06921907188240341,
          0.0640305767719559,
          0.04587704812520083,
          0.028586406909580454,
          0.0675593694127223,
          0.10613465727283708,
          0.07061770401160321,
          0.06841031074587572,
          0.07747963256135282,
          0.07596039798992904,
          0.07602251928911904,
          0.046998432664934454,
          0.06736077148289676,
          0.07948760093551828,
          0.10510495855317409,
          0.10873124858018345,
          0.052936435580701144,
          0.060185427404270485,
          0.07149339023011625
         ],
         "yaxis": "y"
        },
        {
         "hovertemplate": "kmeans_labels=1<br>x=%{x}<br>y=%{y}<extra></extra>",
         "legendgroup": "1",
         "marker": {
          "color": "#EF553B",
          "symbol": "circle"
         },
         "mode": "markers",
         "name": "1",
         "orientation": "v",
         "showlegend": true,
         "type": "scatter",
         "x": [
          -0.00039145102964479954,
          0.11020931999568481,
          0.003042113843394756,
          0.014983815637732054,
          0.131475074567374,
          0.19127779474692896,
          0.13719035423630221,
          0.05714968469744382,
          0.06656297269473777,
          0.15144212508041416,
          0.1351037954673209,
          0.1286726481169689,
          0.10032073507013878,
          0.06058101109571569,
          0.08261301953507474,
          0.03042884433403558,
          0.03818689431167199,
          0.1578215197420641,
          0.19669250254883877,
          0.08507463247688206,
          0.15905990158559213,
          0.15235869006960145,
          0.16229012736453055,
          0.09144060562234553,
          0.062345207189616086,
          0.09352419426060132,
          0.1488352830383126,
          0.13542022687924635,
          0.18706126450291846,
          0.22286817235834458,
          0.10956437792822343,
          0.15621146588659154,
          0.21104487994167503,
          0.061962233820929066,
          0.040536494654199375,
          0.21172999496443876,
          0.03479820754862049,
          0.18256045730627743,
          0.27894415642041515,
          0.13890027669321678,
          0.04423974179434711,
          0.12274247729326723,
          0.12142224417495896,
          0.13723314893402042,
          0.23978392178677435,
          0.10407963631655258,
          0.13266962160789905,
          0.18318802136320558,
          0.09519479349539377,
          0.12650724110089287,
          0.11118798153574908,
          0.13410374845860176,
          0.2689377549228532,
          0.12772404946030466,
          0.07003246164680457,
          0.20726271270216595,
          0.10938373343493465,
          0.10407963631655258,
          0.14103438538079843,
          0.06399476820422402,
          0.10090892212168542,
          0.10405823828290153,
          0.15166025192298338,
          0.04719966343434084,
          0.2119222733867406,
          0.10306852927236908,
          0.04511191998542029,
          0.03886320389447281,
          0.119398098008698,
          0.14630759768399437,
          0.06719972927659659,
          0.08640151799823026,
          0.058795199311829735,
          0.057303260319780065,
          0.053344875019331287,
          0.09023803675499417,
          0.057684990642172904,
          0.1729980502157596,
          0.09533623876177177,
          0.11906118442504797,
          0.17185850209814899,
          0.20445864936013936,
          0.11878756514938862,
          0.051304687788089054,
          0.1764491138570646,
          0.10939819768477609,
          0.05793796832588609,
          0.06601974000618423,
          0.09399430517204078,
          0.16273566538229295,
          0.13223232678857164,
          0.13190270099877732,
          0.1298110557842754,
          0.11253682146269614,
          0.035601131202893224,
          0.04507152106087423,
          0.08219485175533064,
          0.18420933998206532,
          0.063807885474294,
          0.0523712218079623,
          0.13016345423611267,
          0.13855908779220585,
          0.09668634511562213,
          0.1103452768252037,
          0.11742744297712837,
          0.14386443105621577,
          0.18068695116166084,
          0.15126130121099496,
          0.26276523179816236,
          0.1515021258381943,
          0.1519036011496519,
          0.09519479349539377,
          0.11912374521061195,
          0.11920277755171535,
          0.03629793019749243,
          0.12711210894603028,
          0.06978675111314708,
          0.22525417520240468,
          0.14051587669552038,
          0.22355932865510894,
          0.1245100437883549,
          0.13734287912204723,
          0.08029632261550976,
          0.046102089275265004
         ],
         "xaxis": "x",
         "y": [
          0.024815220951883224,
          -0.04193760664692027,
          -0.02024546555393015,
          -0.11222535903994044,
          -0.18052341903297134,
          -0.20489235563076522,
          -0.16539564050518937,
          -0.04929562255569677,
          -0.1032950298006959,
          -0.20132358341681703,
          -0.17710441369533567,
          -0.14552105319163092,
          -0.1294529925387794,
          -0.03393158735162557,
          -0.10268096940974449,
          -0.08582615842747156,
          -0.04005276070150087,
          -0.1596996413942021,
          -0.16117281560024832,
          -0.10723539351808915,
          -0.11346632913867835,
          -0.1580100876571296,
          -0.14665254487248205,
          -0.09957152259177773,
          -0.04831058825818574,
          -0.08050066380129085,
          -0.15831867023811,
          -0.09736422834331916,
          -0.12541101999137724,
          -0.11756778886840882,
          -0.1479236286815164,
          -0.11109399601561298,
          -0.1610909559430734,
          -0.12511563637333095,
          -0.06475094283451485,
          -0.1241193201889283,
          -0.05430413621184454,
          -0.08255797115507223,
          -0.21972782455681986,
          -0.17839170578272065,
          -0.11679578558310102,
          -0.07790776973617675,
          -0.0768522126946035,
          -0.14962273937246884,
          -0.13989810404560946,
          -0.0842836495528754,
          -0.08977201360500142,
          -0.15513132204725877,
          -0.08959800792862352,
          -0.15017436289095815,
          -0.09168091391425258,
          -0.1671072142180712,
          -0.09773280866559038,
          -0.12899007472452045,
          -0.06782972601718806,
          -0.18686192417323805,
          -0.10805420128929871,
          -0.0842836495528754,
          -0.11674483238053504,
          -0.10166178835455816,
          -0.11745156714545867,
          -0.12701429608485817,
          -0.15495032169303832,
          -0.024743927999752634,
          -0.1600710297239548,
          -0.11447339585306883,
          -0.01825947033484189,
          -0.08746171222944783,
          -0.09963494493031186,
          -0.14482429430530983,
          -0.11399113431482127,
          -0.14192941925868974,
          -0.09313866599364395,
          -0.12657777541077472,
          -0.042294448250000526,
          -0.1070569540365034,
          -0.05708533866743673,
          -0.09349292475852426,
          -0.017877007722578768,
          -0.08243185749481474,
          -0.06785302652756556,
          -0.15926035302159533,
          -0.07645044681132171,
          -0.09767725194451411,
          -0.0973098316154398,
          -0.05576610881375489,
          -0.021594898726544853,
          -0.06774456793132703,
          -0.03848754060771921,
          -0.14082933903618292,
          -0.09179538204220329,
          -0.09143799812290535,
          -0.08027325760971545,
          -0.06307218907902223,
          -0.08639738934301591,
          -0.09441677054881165,
          -0.003992772836288034,
          -0.18809901480421015,
          -0.013031425599646066,
          -0.08349284633706167,
          -0.11652161727623504,
          -0.12161526625264656,
          -0.1094651319136601,
          -0.04778288422680089,
          -0.1114758008712988,
          0.004809615017349871,
          -0.15755300665075683,
          -0.18870752353029566,
          -0.21718667580365403,
          -0.20108630311156228,
          -0.07613319972266049,
          -0.08959800792862352,
          -0.1425797418843153,
          -0.04853006246585778,
          -0.061187959423119505,
          -0.1333730630895269,
          -0.10616106293636507,
          -0.15930927951732132,
          -0.16181613330664105,
          -0.11747280477010107,
          -0.08312187818913441,
          -0.0741703425924131,
          -0.043561427961923034,
          -0.04335504168078157
         ],
         "yaxis": "y"
        },
        {
         "hovertemplate": "kmeans_labels=0<br>x=%{x}<br>y=%{y}<extra></extra>",
         "legendgroup": "0",
         "marker": {
          "color": "#00cc96",
          "symbol": "circle"
         },
         "mode": "markers",
         "name": "0",
         "orientation": "v",
         "showlegend": true,
         "type": "scatter",
         "x": [
          -0.09139504578279448,
          -0.12047068167398324,
          -0.14084664673481398,
          -0.14567226383371254,
          -0.08599394060091299,
          -0.1510134447705534,
          -0.08938004542303572,
          -0.0548652799375764,
          -0.05805124562679322,
          -0.056509886728220556,
          -0.09430369060263116,
          -0.1125705710138825,
          -0.12700335343922467,
          -0.05493623726047212,
          -0.12117059450986555,
          -0.12806394565019177,
          -0.14342868036449394,
          -0.13531807561315068,
          -0.13042389147970046,
          -0.14639515613477702,
          -0.1278278273910538,
          -0.05493623726047212,
          -0.13197308853007308,
          -0.07008430772194288
         ],
         "xaxis": "x",
         "y": [
          0.15397270693695825,
          0.3316891399911307,
          0.334125534487842,
          0.33467313713007873,
          0.1799180259415241,
          0.3369423839334114,
          0.16908156710125394,
          0.12895985659633505,
          0.12274365209749939,
          0.079310656118487,
          0.15979032961225959,
          0.2589112493325765,
          0.3036269350976524,
          0.1344231043983309,
          0.32261677227183266,
          0.34414701782805635,
          0.31479688127968175,
          0.3271639723943676,
          0.27814293523127603,
          0.343112841865049,
          0.3381921394945007,
          0.1344231043983309,
          0.30849891928968354,
          0.1340856944868776
         ],
         "yaxis": "y"
        },
        {
         "hovertemplate": "kmeans_labels=3<br>x=%{x}<br>y=%{y}<extra></extra>",
         "legendgroup": "3",
         "marker": {
          "color": "#ab63fa",
          "symbol": "circle"
         },
         "mode": "markers",
         "name": "3",
         "orientation": "v",
         "showlegend": true,
         "type": "scatter",
         "x": [
          -0.05930998594372629,
          -0.022670870162294268,
          -0.06300019572861501,
          0.03105212204284629,
          -0.026194220408709775,
          -0.033546395128314956,
          0.02843909176043663,
          -0.046936971508149926,
          -0.1134818988910851,
          -0.08366626819071117,
          -0.09680081100567567,
          0.073034510140353,
          -0.03374646405559554,
          -0.07624347857323442,
          -0.19870633102784743,
          -0.10033946335823728,
          -0.12689200199363035,
          -0.006176609390365763,
          -0.01646850635741581,
          -0.011347178643143413,
          -0.002004036433164633,
          -0.0051110546695687376,
          -0.05500661524689772,
          -0.123305247280738,
          -0.17117830936816783,
          -0.004622991215718748,
          -0.04148393940171121,
          -0.03792566738907344,
          -0.04711237599859757,
          -0.05171212586904131,
          -0.13819459565938405,
          -0.023972485427461467,
          -0.011138376591050506,
          -0.171300133720428,
          -0.10724020287235121,
          0.004921909138939389,
          -0.06748838817907608,
          -0.13754353901526212,
          -0.06451312649516423,
          -0.017081081937962407,
          0.01651454532774413,
          0.006887924645887415,
          -0.05992278268852532,
          -0.043189471931851096,
          0.021775449640561537,
          -0.0313170873436166,
          -0.05997306133558436,
          -0.07743078911631436,
          -0.06601005441043092,
          -0.06388182632007104,
          -0.10998387449386082,
          -0.14857822358034126,
          -0.04874487910727248,
          -0.0564128138434259,
          -0.08698091050004242,
          -0.02429094277851028,
          -0.026942256480378596,
          -0.04027983225205448,
          -0.053977444808820954,
          -0.047621481083658344,
          -0.047506431220495506,
          -0.05528225143535099,
          -0.10665636572391402,
          -0.060672375628531755,
          -0.12694321969674913,
          -0.08860419289887918,
          -0.07398154580978118,
          -0.1131161042217996,
          -0.0966679839672566,
          -0.18491702407733848,
          -0.055129119833756846,
          -0.08306104310445679,
          -0.050146623329720086,
          -0.0708053722387724,
          -0.05943267699995712,
          -0.08767850733195304,
          -0.06603218341851597,
          -0.11003474887166668,
          -0.1324929838090965,
          -0.20222437173488875,
          -0.08615204805180768,
          -0.033323176523363855,
          -0.0756940722446804,
          -0.008566884505198874,
          -0.12734826690845213,
          -0.07638604905770377,
          -0.07531552227136928,
          -0.18262938167406534,
          -0.08676303142348717,
          -0.05183111913753052,
          -0.07300031240937858,
          -0.13047188551045769,
          -0.13047188551045769,
          -0.14947860081740572,
          -0.11766760650629213,
          -0.03602935241706097,
          -0.07998136220354088,
          -0.07813395814068065,
          -0.10667317297771374,
          -0.07570144896038268,
          -0.03837550439521936,
          -0.09001403185868785,
          -0.10604202208850724,
          -0.05026344386738184,
          -0.07607467229868096,
          -0.11798773406630107,
          -0.0997245282712613,
          -0.11959185067823352,
          -0.14088274596014982,
          -0.06868290507560083,
          -0.12776655427061342,
          -0.051199788363289124,
          -0.07089619049151451,
          -0.04927482994016026,
          -0.05948275612017486,
          -0.11685833189969347,
          -0.04541464381365868,
          -0.054462458239908376,
          -0.1630371300295089,
          -0.04033454873766072,
          -0.11224896549260314,
          -0.03180871241633599,
          -0.025520203448779113,
          -8.553616284039881e-05,
          -0.03244580716968527,
          -0.021962525267424676,
          -0.17504647108361285,
          0.017013930527340078,
          -0.06173166281997493,
          -0.05153848963666199,
          -0.046396145431612384,
          -0.09490803429554041,
          -0.020912160641922195,
          0.005095745688351663,
          -0.038920680560021646,
          -0.11313206880841892,
          -0.11357792603459842,
          -0.060506910029396156,
          -0.05452748262756235,
          -0.1323684030820354,
          -0.032557054422125184,
          -0.05761382225326754,
          -0.06948652577086543,
          -0.13099523433434448,
          -0.10568202918538774,
          -0.11639377625541365,
          -0.09555496577281512,
          -0.13094771049830675,
          -0.01800743630297754,
          -0.06382626279952876,
          -0.10084517403131832,
          -0.19356396335165274,
          -0.06320834524145912,
          -0.05288677014541991,
          -0.11614125229806044,
          -0.05114223055493978,
          -0.09787215786210532,
          -0.07203705293313524,
          -0.05690581368513105,
          -0.07889835704271486,
          -0.14643177941127367,
          -0.044533290014179924,
          -0.11365582502437423,
          -0.14643177941127367,
          -0.06708913422175371,
          -0.06848685250586484,
          -0.06848685250586484,
          -0.09293093550379967,
          -0.06937478396780775,
          -0.06026250142831042,
          -0.05177137505640221,
          -0.036201333578302596,
          -0.0601731783935055,
          -0.08722805958662647,
          -0.1333971838149537,
          -0.07239958264070871,
          -0.04074060282858088,
          -0.04014323592656477,
          -0.0603110489553801,
          -0.07182556394693294,
          -0.15653935061870264,
          -0.07457380382927797,
          -0.16986679600146842,
          -0.09026774140208321,
          -0.05517929575455469,
          -0.04013522176037668,
          -0.061868665379254784,
          -0.08170045407965836,
          -0.1283904160109591,
          -0.08670352730375396,
          -0.09575499670609662,
          -0.07991570205925459,
          -0.16116363318612914,
          -0.15688009516423987,
          -0.11921131221031689,
          -0.07901466310291812,
          -0.07268244382519398,
          -0.05907294489334734,
          0.0051444351904794475,
          -0.03685611656188509,
          -0.10091519633251536,
          -0.07665601709340572,
          -0.06761856818871312,
          -0.0536136350237638,
          -0.1956858801857143,
          -0.055158608808970465,
          -0.06537106380555865,
          -0.07698316440582419,
          -0.04279022803273027,
          -0.20006148475592456,
          -0.052049154201261515,
          -0.14455996806183985,
          -0.08366626819071117,
          -0.06643350986884684,
          -0.07778099606038176,
          -0.035400800184991324,
          -0.04748054965662321,
          -0.12161235746470447,
          -0.07008254365565156,
          -0.03019801133384586,
          -0.05994499366595678,
          -0.02294342929613528,
          0.002474458591410576,
          -0.13373014740650568,
          -0.005735212030225909,
          -0.1006074649958295,
          -0.03261765781762857,
          -0.042245262466918995,
          -0.09710513523589005,
          -0.032396720779176054,
          -0.08204575723475542,
          -0.1814017965811099,
          -0.12597646435206244,
          -0.0868382532141331,
          -0.09162860775315036,
          -0.060315213736480564,
          -0.04871814786995992,
          -0.024591997868123217,
          -0.0893101824253656,
          -0.06683077210921518,
          -0.18563307078759186,
          -0.11396194018343501,
          -0.12269780994787861,
          -0.06403024108923741,
          -0.17258829119348051,
          -0.0805057077295794,
          -0.1301016711315564,
          -0.0758332241939622,
          -0.025440082930185588,
          -0.045443236340325814,
          -0.05801300149575221,
          -0.14919574076003905,
          -0.07927712013077341,
          -0.12632349552600136,
          -0.07920222523360367,
          -0.04088639701302524,
          -0.039936465868262654,
          -0.05491981128688209,
          -0.10138141453022531,
          -0.00946847868575473,
          -0.051745718503800775,
          -0.08301450171738602,
          -0.02172874341800927,
          -0.09828780455232565,
          -0.06481319822149717,
          -0.03564905283373864,
          -0.0028968959427430646,
          0.03999374787626774,
          0.009767979568687031,
          0.027287305151366983,
          -0.008923193103819232,
          -0.007448906806566845,
          0.025353435931992494,
          0.03653369383873341,
          -0.024852143027838777,
          0.0041791828076594454,
          -0.0020418472682457956,
          0.02501089052700151,
          -0.016509128711296128,
          0.021180067502830222,
          0.06374498991640737,
          0.015162978691126915,
          0.044649067616582876,
          0.02236602142843677,
          0.0021053379054295925,
          -0.055063780790188546,
          -0.053881558537548294,
          0.028898258511591984,
          0.027150353403534902,
          -0.04070157238402672,
          -0.0021702408596213055,
          -0.031238958670776924,
          -0.021912573634975386,
          -0.04799596490504401,
          -0.06652292539570474,
          -0.04874415775887379
         ],
         "xaxis": "x",
         "y": [
          0.06557396995855162,
          0.01322751699214613,
          0.01760311321506983,
          0.008229255272680163,
          0.06434789157775923,
          0.06280981454434557,
          -0.004373474063244481,
          -0.08551296278793237,
          -0.11568379971469583,
          -0.06952158593062774,
          -0.06790957030680822,
          -0.06198284670402227,
          -0.009071734131948485,
          -0.09484380198316905,
          -0.21802868804332975,
          -0.11989267357636477,
          -0.16648389218401421,
          -0.05622435765143781,
          -0.04596425357650631,
          -0.042952371168616575,
          -0.027140950773001483,
          -0.018046302428718835,
          -0.058294878399935815,
          -0.1992545574860398,
          -0.1704953877738713,
          -0.04519567677657358,
          -0.04319823053847838,
          -0.10391009323969337,
          -0.033454044985218645,
          -0.015489951615568296,
          -0.12697576297654542,
          -0.12860556962973138,
          -0.07941274488658592,
          -0.1702211174563985,
          -0.1219055308273995,
          -0.07062178984635858,
          -0.03290698027391808,
          -0.142248505646227,
          -0.07848688334220714,
          -0.014349775837608113,
          -0.04274156343909186,
          -0.04918894347070541,
          -0.009007450302783089,
          0.014860714907405839,
          -0.00984796292297207,
          -0.020355025975307143,
          0.036751910238281185,
          -0.07442694318022691,
          -0.057951383032299256,
          -0.08271212618517819,
          -0.1012143696934369,
          -0.17332165139294145,
          -0.1425282453598953,
          -0.03396169447070094,
          -0.08137594537846413,
          -0.05161176555401002,
          -0.018765997101292165,
          -0.031620343445926555,
          -0.007451538982755773,
          0.00633730989630463,
          -0.08585947954739996,
          -0.11045985801683596,
          -0.11049232304399018,
          -0.013254405528279537,
          -0.08878192275639557,
          -0.11317019397705651,
          -0.07758290143844934,
          -0.11376556167533367,
          -0.0693810047249151,
          -0.24139330607043344,
          -0.11241063941123586,
          -0.057184679426658475,
          -0.05818028645531073,
          -0.07283685465630259,
          -0.028316511599799508,
          -0.07377933225121165,
          -0.035025918804417334,
          -0.09052507541506577,
          -0.08538964577616394,
          -0.1826724408330619,
          -0.005964237872724075,
          -0.005041861916525625,
          -0.06802275368558854,
          0.013662872458656817,
          -0.081493074993861,
          -0.01886632376155514,
          -0.07476499314313195,
          -0.16534757390989027,
          -0.06488958252123422,
          -0.062443613428285916,
          -0.10417874083964837,
          -0.14150997950027266,
          -0.14150997950027266,
          -0.15587558228052326,
          -0.12272553521661682,
          -0.03895847143174263,
          -0.06127402159971903,
          -0.04755578302483316,
          -0.08020314959148687,
          -0.05997450301025445,
          -0.005958563009011373,
          -0.09574607908472364,
          -0.05598712216760656,
          -0.013178424445163607,
          -0.06938600884403436,
          -0.10494660679372238,
          -0.06982131037972804,
          -0.09717782813823367,
          -0.001036901795204401,
          -0.0890398776199844,
          -0.050646127749255775,
          -0.021005842615478786,
          -0.01683814362571866,
          0.0045817655740982,
          -0.06729015889596039,
          -0.08671017881974427,
          -0.02564918376741836,
          -0.07619547242816012,
          -0.17245620272860046,
          -0.00554239296803048,
          -0.06932813871796926,
          -0.04696202354942035,
          -0.007780791673774537,
          0.010138681101166573,
          -0.07639221876059868,
          -0.08135273091604418,
          -0.20005063847668603,
          -0.006456842139205527,
          -0.03002826337923714,
          -0.041743595753351626,
          -0.06739983311570809,
          -0.13560444928184714,
          0.011178461078785262,
          0.0003436147438848153,
          -0.05571805795010122,
          -0.12257633310227171,
          -0.14444949869945814,
          -0.06903064026933568,
          -0.02633295540736344,
          -0.14894860844034008,
          -0.05581406973722933,
          -0.03387541459833411,
          -0.0040434845264583005,
          -0.1498840515397462,
          -0.15931505754335407,
          -0.09420808430520118,
          -0.11976064628349987,
          -0.13229123209143012,
          -0.05337714518873217,
          0.04308284220426992,
          -0.0889381188058788,
          -0.1976667571013628,
          -0.050539482838272864,
          -0.037203568223009666,
          -0.13660662235020787,
          -0.06686706090629108,
          -0.11089074751359658,
          -0.035219390126097115,
          -0.06452760681445868,
          -0.0397966044819862,
          -0.1669523537462399,
          0.0017241453947380648,
          -0.09190112710358654,
          -0.1669523537462399,
          -0.05491860148363801,
          -0.014334130277690415,
          -0.014334130277690415,
          -0.09686564911635746,
          -0.0650053658287308,
          -0.03259883909857878,
          -0.001260938729177508,
          -0.05198960279331453,
          -0.03350304182731865,
          -0.028967567814344435,
          -0.10600975390811113,
          -0.0922733201224254,
          -0.08677343266645518,
          -0.06583887164945255,
          -0.0717196252155851,
          0.01817048762093952,
          -0.0942109259721309,
          -0.04772727641839622,
          -0.19751306665208754,
          -0.06681845773437778,
          -0.030777514045505237,
          -0.02039766921556978,
          -0.09007577641441421,
          -0.06357878366524414,
          -0.13702599626913417,
          -0.12923347367912855,
          -0.1113421474493027,
          -0.11864588116704418,
          -0.13172034513308706,
          -0.19396378571922124,
          -0.16890399905931788,
          -0.09029403611354712,
          -0.0926206944035752,
          -0.033798955978126995,
          -0.037634869332800074,
          0.005363347187792286,
          -0.14928735665030496,
          -0.17759384121522775,
          -0.1498743232829077,
          -0.0621184222220189,
          -0.2482281766567328,
          -0.07302652293590121,
          -0.06577468763618544,
          -0.11706023444071711,
          -0.027001807344811262,
          -0.21810306014301625,
          -0.04311823064219976,
          -0.17250594236704767,
          -0.06952158593062774,
          -0.12626952917532328,
          -0.12806958133865026,
          -0.02955379229802401,
          -0.05579947781787098,
          -0.13718519517717565,
          -0.0914480660308077,
          -0.010889228399294392,
          -0.06186722351741423,
          -0.010165946511418856,
          0.009024738383152495,
          -0.18641676084567077,
          -0.05294477578377015,
          -0.06314879836731704,
          -0.0004001892433204686,
          -0.00838450239766155,
          -0.11883015138077177,
          -0.012840042745842793,
          -0.058186065550606264,
          -0.18853714184413495,
          -0.10153028731673855,
          -0.05741160442425647,
          -0.06475854435778046,
          -0.038679960530523604,
          -0.014862794071784681,
          -0.08414941144776462,
          -0.0927031733788278,
          -0.08477775734571222,
          -0.16906033069437723,
          -0.13195484134929963,
          -0.10797556063327846,
          -0.024345908569766685,
          -0.20342337243873185,
          -0.03522063948849653,
          -0.11490502408761583,
          -0.06437068289455868,
          -0.07014510050661145,
          0.023444057163558706,
          -0.09682451552434382,
          -0.1524969926845121,
          -0.09445017918465863,
          -0.12246228812772468,
          -0.0948312844618947,
          -0.053483360836748255,
          -0.010862681377124983,
          0.023122090595136726,
          -0.00677195981972973,
          0.030860798517174628,
          -0.04363495504903328,
          -0.11120805046632791,
          -0.02296761513315359,
          -0.10854712840147532,
          -0.028429497644853148,
          -0.02234297366029052,
          -0.021075023694921854,
          -0.04243749359563399,
          -0.05586413852741895,
          -0.0981672608197283,
          -0.01260542623018824,
          0.01927367978975388,
          0.00664823040407386,
          0.007964637099231505,
          -0.026539601805375623,
          -0.026001964418906634,
          -0.05028722276537761,
          -0.027291666795214282,
          -0.02497464037921604,
          -0.008124098205327139,
          -0.0187831980200511,
          -0.016244197019612907,
          0.0084130621392449,
          -0.08099431893567767,
          -0.07236647119344278,
          -0.03058622700653493,
          -0.03162194965188317,
          -0.025763974861123584,
          -0.019626064476480784,
          -0.05773753376045618,
          -0.06513530271662005,
          -0.055032998371906144,
          -0.07852100680167501,
          -0.04066741128345934,
          0.011550734383203651,
          0.013671634999867564
         ],
         "yaxis": "y"
        },
        {
         "hovertemplate": "kmeans_labels=2<br>x=%{x}<br>y=%{y}<extra></extra>",
         "legendgroup": "2",
         "marker": {
          "color": "#FFA15A",
          "symbol": "circle"
         },
         "mode": "markers",
         "name": "2",
         "orientation": "v",
         "showlegend": true,
         "type": "scatter",
         "x": [
          0.2533584824452883,
          0.2141544170660787,
          0.22600274460322273,
          0.21753010066315148,
          0.11985503211475769,
          0.13985354029265684,
          0.12124980214007011,
          0.1064500032385332,
          0.149495653017514,
          0.1016492319253593,
          0.12017893014243411,
          0.05250966592115203,
          0.3133509656774881,
          0.06330921486502797,
          0.20980645359132286,
          0.03219976264606484,
          0.06163280033912787,
          0.1488761428378602,
          0.22548999334534317,
          0.17597637927395382,
          0.06163280033912787,
          0.18919808574118563,
          0.13952342216547695,
          0.16208869618764898,
          0.0727186801568212,
          0.2149176294039015,
          0.23013896383320456,
          0.21141161871988962,
          0.139698013339386,
          0.10522251327242857,
          0.25219227835181124,
          0.16208869618764898,
          0.0727186801568212,
          0.19228392291450044,
          0.0928454635892723,
          0.11191587269762164,
          0.08187754677651035,
          0.16462773400908218,
          0.11107513942774529,
          0.18270475190735588,
          0.1294610914192982,
          0.24583287565794382,
          0.25079640192008484,
          0.2143571528660982,
          0.2628589765249923,
          0.16637231537392339,
          0.06130876248786615,
          0.19766923319054164,
          0.13304662479986282,
          0.18824591765824086,
          0.26574350429250254,
          0.26625520068784286,
          0.23025336227726814,
          0.12788622467473906,
          0.22397701075673038,
          0.11949923750367644,
          0.05634318946775099,
          0.20610744821603494,
          0.16754413292297826,
          0.16741983769459362,
          0.2296786942078331,
          0.29789849218679737,
          0.2087590603065333,
          0.1575824465540135,
          0.12858032590038024,
          0.19265278489384133,
          0.3710506393343063,
          0.1307724701569198,
          0.2574426147852465,
          0.34176760889418567,
          0.15525574224703206,
          0.3049732180218549,
          0.24928504595877085,
          0.351347133741568,
          0.1959497636156322,
          0.16893248878208764,
          0.06191236878357947,
          0.18958723169310993,
          0.2468630328890604,
          0.17387114612874457,
          0.27551331481968966,
          0.3269014475347868,
          0.32741051679925276,
          0.10468687413218838,
          0.2663974121947744,
          0.27973990380700403,
          0.2830297496505458,
          0.2770024773508976,
          0.13888098283706155,
          0.08980254537662422,
          0.20735194950202718,
          0.031061208800060615,
          0.14530448562272724,
          0.1769495546384141,
          0.11099701553537918,
          0.17793118194490398,
          0.10026137512001285,
          0.16851139490928954,
          0.08756373751834548,
          0.01733360954152713,
          0.08967133023672844,
          0.09370682013325508,
          0.06739996196198816,
          0.0471118562824118,
          0.20530567979591421,
          0.03893711176630156,
          0.2861522843810289,
          0.20410379666438933,
          0.1137172488743238,
          0.1661831011648592,
          0.12964029111486927,
          0.10114677571277782,
          0.2086333946317444,
          0.11362910056296179,
          0.23114150835183989,
          0.10358725509732389,
          0.134805790615984,
          0.08431100704384067,
          0.11963264463064371
         ],
         "xaxis": "x",
         "y": [
          0.11963346402676996,
          0.057182296851713124,
          0.09685635000113609,
          0.17723539991082085,
          0.008898574500735088,
          0.028652222458676612,
          0.10666050667942151,
          0.07342231869473641,
          0.14629625748463052,
          0.059799364842103284,
          0.10358461352452843,
          -0.006126135862102964,
          0.0716296591780033,
          0.028369497962385574,
          0.07593747822167468,
          0.0019058341244698955,
          0.06390570061002919,
          0.04699102725119988,
          0.06507084409120124,
          0.03184665105110591,
          0.06390570061002919,
          0.17102693162661006,
          0.10988582125525896,
          0.13983351808355085,
          0.11235858903284619,
          0.17286139440137296,
          0.09085483375667723,
          0.13345843721236106,
          0.10960898186399348,
          0.03177588096399166,
          0.0744548489482986,
          0.13983351808355085,
          0.11235858903284619,
          0.17591554079210828,
          0.07623827311605653,
          0.04333180440941813,
          0.09403647678639372,
          0.09449066552027521,
          0.06083775311365116,
          0.0413002794309064,
          0.12281940538617908,
          0.030862626119303484,
          0.05991413481342704,
          0.1626531259892196,
          0.17566730469462757,
          0.09036251487667582,
          0.07768748881191415,
          0.034922122626660945,
          0.07007783457643252,
          0.05030157148225909,
          0.11447497955509708,
          0.11555230440349985,
          0.15633311044945888,
          0.11097910089399726,
          0.1113331045928393,
          0.10164228783795598,
          0.08025354038408201,
          0.11298174729026482,
          0.16173802751149596,
          0.16123616555349496,
          0.16612022967720894,
          0.017334005109886006,
          0.05453573822064756,
          0.15459409611831615,
          0.07720722980006937,
          0.026939874079826537,
          0.06905570309893669,
          0.028451683280557395,
          0.20651320776226775,
          0.016527943302366087,
          0.09844847153153054,
          0.07110235208237474,
          0.20316434357190288,
          0.06683871489584593,
          -0.000245198224807594,
          0.13858968645247316,
          0.059516681966941314,
          0.03880044081198954,
          0.060243366377797904,
          0.12929652679202613,
          0.1788480557054719,
          0.06348703918500027,
          0.06610915722002547,
          0.0967125603847014,
          0.21439640361548326,
          0.20454039212777403,
          0.20613799943422945,
          0.01889698546548279,
          0.11328418466365694,
          0.050480015555899274,
          0.06025560767589768,
          0.0701262499035653,
          0.015834018941349576,
          0.028754251751611115,
          -0.01920933956389037,
          0.1278434829917727,
          0.0541365970510638,
          0.13649356867672163,
          0.07625235428420082,
          0.06484265858621703,
          0.06621247097414443,
          0.12289996963031109,
          0.06437895591204074,
          0.05711362882087851,
          0.031409917706551084,
          0.011833859552140369,
          0.02229286130658727,
          0.12200836934537394,
          0.10730792068908801,
          0.11738904633010305,
          0.12315722895553603,
          0.07398068443225865,
          0.02744181030338417,
          0.04957813203997981,
          0.021561349702934305,
          0.07468675221934108,
          0.1033261869108703,
          -0.002153623968749724,
          0.08178005923035563
         ],
         "yaxis": "y"
        }
       ],
       "layout": {
        "legend": {
         "title": {
          "text": "kmeans_labels"
         },
         "tracegroupgap": 0
        },
        "template": {
         "data": {
          "bar": [
           {
            "error_x": {
             "color": "#2a3f5f"
            },
            "error_y": {
             "color": "#2a3f5f"
            },
            "marker": {
             "line": {
              "color": "#E5ECF6",
              "width": 0.5
             },
             "pattern": {
              "fillmode": "overlay",
              "size": 10,
              "solidity": 0.2
             }
            },
            "type": "bar"
           }
          ],
          "barpolar": [
           {
            "marker": {
             "line": {
              "color": "#E5ECF6",
              "width": 0.5
             },
             "pattern": {
              "fillmode": "overlay",
              "size": 10,
              "solidity": 0.2
             }
            },
            "type": "barpolar"
           }
          ],
          "carpet": [
           {
            "aaxis": {
             "endlinecolor": "#2a3f5f",
             "gridcolor": "white",
             "linecolor": "white",
             "minorgridcolor": "white",
             "startlinecolor": "#2a3f5f"
            },
            "baxis": {
             "endlinecolor": "#2a3f5f",
             "gridcolor": "white",
             "linecolor": "white",
             "minorgridcolor": "white",
             "startlinecolor": "#2a3f5f"
            },
            "type": "carpet"
           }
          ],
          "choropleth": [
           {
            "colorbar": {
             "outlinewidth": 0,
             "ticks": ""
            },
            "type": "choropleth"
           }
          ],
          "contour": [
           {
            "colorbar": {
             "outlinewidth": 0,
             "ticks": ""
            },
            "colorscale": [
             [
              0,
              "#0d0887"
             ],
             [
              0.1111111111111111,
              "#46039f"
             ],
             [
              0.2222222222222222,
              "#7201a8"
             ],
             [
              0.3333333333333333,
              "#9c179e"
             ],
             [
              0.4444444444444444,
              "#bd3786"
             ],
             [
              0.5555555555555556,
              "#d8576b"
             ],
             [
              0.6666666666666666,
              "#ed7953"
             ],
             [
              0.7777777777777778,
              "#fb9f3a"
             ],
             [
              0.8888888888888888,
              "#fdca26"
             ],
             [
              1,
              "#f0f921"
             ]
            ],
            "type": "contour"
           }
          ],
          "contourcarpet": [
           {
            "colorbar": {
             "outlinewidth": 0,
             "ticks": ""
            },
            "type": "contourcarpet"
           }
          ],
          "heatmap": [
           {
            "colorbar": {
             "outlinewidth": 0,
             "ticks": ""
            },
            "colorscale": [
             [
              0,
              "#0d0887"
             ],
             [
              0.1111111111111111,
              "#46039f"
             ],
             [
              0.2222222222222222,
              "#7201a8"
             ],
             [
              0.3333333333333333,
              "#9c179e"
             ],
             [
              0.4444444444444444,
              "#bd3786"
             ],
             [
              0.5555555555555556,
              "#d8576b"
             ],
             [
              0.6666666666666666,
              "#ed7953"
             ],
             [
              0.7777777777777778,
              "#fb9f3a"
             ],
             [
              0.8888888888888888,
              "#fdca26"
             ],
             [
              1,
              "#f0f921"
             ]
            ],
            "type": "heatmap"
           }
          ],
          "heatmapgl": [
           {
            "colorbar": {
             "outlinewidth": 0,
             "ticks": ""
            },
            "colorscale": [
             [
              0,
              "#0d0887"
             ],
             [
              0.1111111111111111,
              "#46039f"
             ],
             [
              0.2222222222222222,
              "#7201a8"
             ],
             [
              0.3333333333333333,
              "#9c179e"
             ],
             [
              0.4444444444444444,
              "#bd3786"
             ],
             [
              0.5555555555555556,
              "#d8576b"
             ],
             [
              0.6666666666666666,
              "#ed7953"
             ],
             [
              0.7777777777777778,
              "#fb9f3a"
             ],
             [
              0.8888888888888888,
              "#fdca26"
             ],
             [
              1,
              "#f0f921"
             ]
            ],
            "type": "heatmapgl"
           }
          ],
          "histogram": [
           {
            "marker": {
             "pattern": {
              "fillmode": "overlay",
              "size": 10,
              "solidity": 0.2
             }
            },
            "type": "histogram"
           }
          ],
          "histogram2d": [
           {
            "colorbar": {
             "outlinewidth": 0,
             "ticks": ""
            },
            "colorscale": [
             [
              0,
              "#0d0887"
             ],
             [
              0.1111111111111111,
              "#46039f"
             ],
             [
              0.2222222222222222,
              "#7201a8"
             ],
             [
              0.3333333333333333,
              "#9c179e"
             ],
             [
              0.4444444444444444,
              "#bd3786"
             ],
             [
              0.5555555555555556,
              "#d8576b"
             ],
             [
              0.6666666666666666,
              "#ed7953"
             ],
             [
              0.7777777777777778,
              "#fb9f3a"
             ],
             [
              0.8888888888888888,
              "#fdca26"
             ],
             [
              1,
              "#f0f921"
             ]
            ],
            "type": "histogram2d"
           }
          ],
          "histogram2dcontour": [
           {
            "colorbar": {
             "outlinewidth": 0,
             "ticks": ""
            },
            "colorscale": [
             [
              0,
              "#0d0887"
             ],
             [
              0.1111111111111111,
              "#46039f"
             ],
             [
              0.2222222222222222,
              "#7201a8"
             ],
             [
              0.3333333333333333,
              "#9c179e"
             ],
             [
              0.4444444444444444,
              "#bd3786"
             ],
             [
              0.5555555555555556,
              "#d8576b"
             ],
             [
              0.6666666666666666,
              "#ed7953"
             ],
             [
              0.7777777777777778,
              "#fb9f3a"
             ],
             [
              0.8888888888888888,
              "#fdca26"
             ],
             [
              1,
              "#f0f921"
             ]
            ],
            "type": "histogram2dcontour"
           }
          ],
          "mesh3d": [
           {
            "colorbar": {
             "outlinewidth": 0,
             "ticks": ""
            },
            "type": "mesh3d"
           }
          ],
          "parcoords": [
           {
            "line": {
             "colorbar": {
              "outlinewidth": 0,
              "ticks": ""
             }
            },
            "type": "parcoords"
           }
          ],
          "pie": [
           {
            "automargin": true,
            "type": "pie"
           }
          ],
          "scatter": [
           {
            "fillpattern": {
             "fillmode": "overlay",
             "size": 10,
             "solidity": 0.2
            },
            "type": "scatter"
           }
          ],
          "scatter3d": [
           {
            "line": {
             "colorbar": {
              "outlinewidth": 0,
              "ticks": ""
             }
            },
            "marker": {
             "colorbar": {
              "outlinewidth": 0,
              "ticks": ""
             }
            },
            "type": "scatter3d"
           }
          ],
          "scattercarpet": [
           {
            "marker": {
             "colorbar": {
              "outlinewidth": 0,
              "ticks": ""
             }
            },
            "type": "scattercarpet"
           }
          ],
          "scattergeo": [
           {
            "marker": {
             "colorbar": {
              "outlinewidth": 0,
              "ticks": ""
             }
            },
            "type": "scattergeo"
           }
          ],
          "scattergl": [
           {
            "marker": {
             "colorbar": {
              "outlinewidth": 0,
              "ticks": ""
             }
            },
            "type": "scattergl"
           }
          ],
          "scattermapbox": [
           {
            "marker": {
             "colorbar": {
              "outlinewidth": 0,
              "ticks": ""
             }
            },
            "type": "scattermapbox"
           }
          ],
          "scatterpolar": [
           {
            "marker": {
             "colorbar": {
              "outlinewidth": 0,
              "ticks": ""
             }
            },
            "type": "scatterpolar"
           }
          ],
          "scatterpolargl": [
           {
            "marker": {
             "colorbar": {
              "outlinewidth": 0,
              "ticks": ""
             }
            },
            "type": "scatterpolargl"
           }
          ],
          "scatterternary": [
           {
            "marker": {
             "colorbar": {
              "outlinewidth": 0,
              "ticks": ""
             }
            },
            "type": "scatterternary"
           }
          ],
          "surface": [
           {
            "colorbar": {
             "outlinewidth": 0,
             "ticks": ""
            },
            "colorscale": [
             [
              0,
              "#0d0887"
             ],
             [
              0.1111111111111111,
              "#46039f"
             ],
             [
              0.2222222222222222,
              "#7201a8"
             ],
             [
              0.3333333333333333,
              "#9c179e"
             ],
             [
              0.4444444444444444,
              "#bd3786"
             ],
             [
              0.5555555555555556,
              "#d8576b"
             ],
             [
              0.6666666666666666,
              "#ed7953"
             ],
             [
              0.7777777777777778,
              "#fb9f3a"
             ],
             [
              0.8888888888888888,
              "#fdca26"
             ],
             [
              1,
              "#f0f921"
             ]
            ],
            "type": "surface"
           }
          ],
          "table": [
           {
            "cells": {
             "fill": {
              "color": "#EBF0F8"
             },
             "line": {
              "color": "white"
             }
            },
            "header": {
             "fill": {
              "color": "#C8D4E3"
             },
             "line": {
              "color": "white"
             }
            },
            "type": "table"
           }
          ]
         },
         "layout": {
          "annotationdefaults": {
           "arrowcolor": "#2a3f5f",
           "arrowhead": 0,
           "arrowwidth": 1
          },
          "autotypenumbers": "strict",
          "coloraxis": {
           "colorbar": {
            "outlinewidth": 0,
            "ticks": ""
           }
          },
          "colorscale": {
           "diverging": [
            [
             0,
             "#8e0152"
            ],
            [
             0.1,
             "#c51b7d"
            ],
            [
             0.2,
             "#de77ae"
            ],
            [
             0.3,
             "#f1b6da"
            ],
            [
             0.4,
             "#fde0ef"
            ],
            [
             0.5,
             "#f7f7f7"
            ],
            [
             0.6,
             "#e6f5d0"
            ],
            [
             0.7,
             "#b8e186"
            ],
            [
             0.8,
             "#7fbc41"
            ],
            [
             0.9,
             "#4d9221"
            ],
            [
             1,
             "#276419"
            ]
           ],
           "sequential": [
            [
             0,
             "#0d0887"
            ],
            [
             0.1111111111111111,
             "#46039f"
            ],
            [
             0.2222222222222222,
             "#7201a8"
            ],
            [
             0.3333333333333333,
             "#9c179e"
            ],
            [
             0.4444444444444444,
             "#bd3786"
            ],
            [
             0.5555555555555556,
             "#d8576b"
            ],
            [
             0.6666666666666666,
             "#ed7953"
            ],
            [
             0.7777777777777778,
             "#fb9f3a"
            ],
            [
             0.8888888888888888,
             "#fdca26"
            ],
            [
             1,
             "#f0f921"
            ]
           ],
           "sequentialminus": [
            [
             0,
             "#0d0887"
            ],
            [
             0.1111111111111111,
             "#46039f"
            ],
            [
             0.2222222222222222,
             "#7201a8"
            ],
            [
             0.3333333333333333,
             "#9c179e"
            ],
            [
             0.4444444444444444,
             "#bd3786"
            ],
            [
             0.5555555555555556,
             "#d8576b"
            ],
            [
             0.6666666666666666,
             "#ed7953"
            ],
            [
             0.7777777777777778,
             "#fb9f3a"
            ],
            [
             0.8888888888888888,
             "#fdca26"
            ],
            [
             1,
             "#f0f921"
            ]
           ]
          },
          "colorway": [
           "#636efa",
           "#EF553B",
           "#00cc96",
           "#ab63fa",
           "#FFA15A",
           "#19d3f3",
           "#FF6692",
           "#B6E880",
           "#FF97FF",
           "#FECB52"
          ],
          "font": {
           "color": "#2a3f5f"
          },
          "geo": {
           "bgcolor": "white",
           "lakecolor": "white",
           "landcolor": "#E5ECF6",
           "showlakes": true,
           "showland": true,
           "subunitcolor": "white"
          },
          "hoverlabel": {
           "align": "left"
          },
          "hovermode": "closest",
          "mapbox": {
           "style": "light"
          },
          "paper_bgcolor": "white",
          "plot_bgcolor": "#E5ECF6",
          "polar": {
           "angularaxis": {
            "gridcolor": "white",
            "linecolor": "white",
            "ticks": ""
           },
           "bgcolor": "#E5ECF6",
           "radialaxis": {
            "gridcolor": "white",
            "linecolor": "white",
            "ticks": ""
           }
          },
          "scene": {
           "xaxis": {
            "backgroundcolor": "#E5ECF6",
            "gridcolor": "white",
            "gridwidth": 2,
            "linecolor": "white",
            "showbackground": true,
            "ticks": "",
            "zerolinecolor": "white"
           },
           "yaxis": {
            "backgroundcolor": "#E5ECF6",
            "gridcolor": "white",
            "gridwidth": 2,
            "linecolor": "white",
            "showbackground": true,
            "ticks": "",
            "zerolinecolor": "white"
           },
           "zaxis": {
            "backgroundcolor": "#E5ECF6",
            "gridcolor": "white",
            "gridwidth": 2,
            "linecolor": "white",
            "showbackground": true,
            "ticks": "",
            "zerolinecolor": "white"
           }
          },
          "shapedefaults": {
           "line": {
            "color": "#2a3f5f"
           }
          },
          "ternary": {
           "aaxis": {
            "gridcolor": "white",
            "linecolor": "white",
            "ticks": ""
           },
           "baxis": {
            "gridcolor": "white",
            "linecolor": "white",
            "ticks": ""
           },
           "bgcolor": "#E5ECF6",
           "caxis": {
            "gridcolor": "white",
            "linecolor": "white",
            "ticks": ""
           }
          },
          "title": {
           "x": 0.05
          },
          "xaxis": {
           "automargin": true,
           "gridcolor": "white",
           "linecolor": "white",
           "ticks": "",
           "title": {
            "standoff": 15
           },
           "zerolinecolor": "white",
           "zerolinewidth": 2
          },
          "yaxis": {
           "automargin": true,
           "gridcolor": "white",
           "linecolor": "white",
           "ticks": "",
           "title": {
            "standoff": 15
           },
           "zerolinecolor": "white",
           "zerolinewidth": 2
          }
         }
        },
        "title": {
         "text": "K-means BBC Sport news"
        },
        "xaxis": {
         "anchor": "y",
         "domain": [
          0,
          1
         ],
         "title": {
          "text": "x"
         }
        },
        "yaxis": {
         "anchor": "x",
         "domain": [
          0,
          1
         ],
         "title": {
          "text": "y"
         }
        }
       }
      },
      "text/html": [
       "<div>                            <div id=\"2f4c4e4e-6b4f-4a6e-a6ae-fa2327c54dea\" class=\"plotly-graph-div\" style=\"height:525px; width:100%;\"></div>            <script type=\"text/javascript\">                require([\"plotly\"], function(Plotly) {                    window.PLOTLYENV=window.PLOTLYENV || {};                                    if (document.getElementById(\"2f4c4e4e-6b4f-4a6e-a6ae-fa2327c54dea\")) {                    Plotly.newPlot(                        \"2f4c4e4e-6b4f-4a6e-a6ae-fa2327c54dea\",                        [{\"hovertemplate\":\"kmeans_labels=4<br>x=%{x}<br>y=%{y}<extra></extra>\",\"legendgroup\":\"4\",\"marker\":{\"color\":\"#636efa\",\"symbol\":\"circle\"},\"mode\":\"markers\",\"name\":\"4\",\"orientation\":\"v\",\"showlegend\":true,\"x\":[-0.09100947927955842,-0.11761578738228744,-0.091267638597148,-0.11032991455579132,-0.029021007456175155,-0.042960579549675276,-0.12888671475650101,-0.15749304365625563,-0.09595031079570551,-0.10782462455669792,-0.08983019474232509,-0.08054203569202538,-0.07798080773243961,-0.10523620636345582,-0.11148627831928193,-0.10782462455669792,-0.0971014077945744,-0.1071221538607088,-0.07479757098974087,-0.10890925443238163,-0.09925815331363393,-0.11472207181238474,-0.10911551151170273,-0.07438177355817532,-0.049767571216718334,-0.13231567478291975,-0.1317472904934344,-0.10212052065515008,-0.10211261497653328,-0.0795398710501184,-0.06949683100908492,-0.09041937138615926,-0.06174674673978587,-0.08179658997422738,-0.09392897452937919,-0.09632788157234842,-0.0968445958669859,-0.10451315525575354,-0.12822807973666042,-0.13838447740999887,-0.11370224196345972,-0.10010812492441527,-0.11208084981291583,-0.06177717892401035,-0.12157713436534442,-0.06477301329306773,-0.11027224793111189,-0.16011336014374525,-0.11220881396085038,-0.030195429023632203,-0.17670579671819966,-0.10721421731822013,-0.10577381038017346,-0.10767435087951506,-0.10511087644079306,-0.10481561529165648,-0.06419009011954517,-0.014981881596172439,-0.0810477746539599,-0.06375799368906925,-0.09392897452937919,-0.07472603035215122,-0.08021096338392616,-0.08368571573412854,-0.09231874117382102,-0.07757691564030429,-0.08825983543717036,-0.1526442195589639,-0.11289520022377073,-0.04432231573253091,-0.10711396396884812,-0.13790319737179518,-0.058475920080175665,0.022108356654493806,-0.01413106375219173,-0.06025141419288406,-0.0427048879836165,-0.054944547228750654,-0.055738747294387575,-0.0692182801447417,-0.038071254261339935,-0.05439769694121953,-0.05974104546615466,-0.048869684467337395,-0.0556597416260817,-0.05140330699853086,-0.027454579441847725,-0.07352630285042451,-0.038190152328177386,-0.040139370599519233,-0.046763208108319805,-0.05140330699853086,-0.0641416117082743,-0.07352630285042451,-0.04065315664125632,-0.04658295917841012,-0.06792678407326654,-0.06041960601013421,-0.05572295739628572,-0.07343142937188206,-0.044840163814629026,-0.04187386255092426,-0.022449541956419947,-0.060636388246635094,-0.05792610236502636,-0.06102359648061147,-0.04143248880976708,-0.05623988462459668,-0.062300251739325914,-0.04824390862559706,-0.03351833769931175,-0.025903458031248786,-0.06885815289602418,-0.07577057680645313,-0.05150876698336151,-0.05581363879776198,-0.051466444741176114,-0.04328262164609914,-0.06590711901291693,-0.048228566987035426,-0.07035226122249076,-0.054688703996371595,-0.05664371452748657,-0.07570112939440027,-0.07570112939440027,-0.05829112736276658,-0.056154923184871655,-0.048341117858770405,-0.031929147411631005,-0.04935431676903757,-0.08159902889711729,-0.06958025025246117,-0.04108655541666252,-0.04001480672547852,-0.06207830780406469,-0.0627071680949708,-0.03868440249682974,-0.046182725225170855,-0.10004036659523162,-0.05398705016666369,-0.06486816293824921,-0.05460350208926404,-0.025380932239138936,-0.08052342235029994,-0.08061069969633484,-0.05116535825499758,-0.07718223703459251,-0.057871160474470607,-0.04823986849980927,-0.1031421463604987,-0.035940955272870355,-0.029678006821777982,-0.04722059708692046,-0.07996797189004888,-0.0720428091621178,-0.04186928028083099,-0.07214201503946246,-0.06632906251037474,-0.032340235363714324,-0.05100219038348024,-0.0276230935757977,-0.060934182215828386,-0.020833533365131284,-0.062122100471654396,-0.03779193041133872,-0.07889405333447227,0.017133813991442894,-0.0317865979627336,-0.06333171520898721,-0.04156156215530654,-0.06663111084367401,-0.048117220385466834,-0.04980357618941653,-0.029131303627509923],\"xaxis\":\"x\",\"y\":[0.10355783040190109,0.12855969712450788,0.13498096419711417,0.15751507688375754,0.07053450100588249,0.03478123290060038,0.17066528357797053,0.24020658892388605,0.11541810894869209,0.10872534653563158,0.11736816016763355,0.04879922796751102,0.1301246754447731,0.17692880936182417,0.13531944240496832,0.10872534653563158,0.15775072934421866,0.13101244114630964,0.11148996198280468,0.1529968596938687,0.15872637035150455,0.13619531607997448,0.16112587929955685,0.10385969472880448,0.07719817451010265,0.20821085765585765,0.15878952420727832,0.1360888524822674,0.08943871086164824,0.0838564975976414,0.0967998135815414,0.12565034702015435,0.12038160501732129,0.11331367716467708,0.15311210360726282,0.11294619586231941,0.13850038746613605,0.13364964169207272,0.1506726075828085,0.16403125148616932,0.08911314751499982,0.13702314310020594,0.15016414969796613,0.0860037630192382,0.15609633585467556,0.101490789660417,0.1317569569141398,0.29481175191110787,0.15611195725963284,0.08157037330459431,0.24981679643861077,0.08371411620767061,0.11826953095372594,0.08483589510987777,0.12860533525766776,0.1854462887976213,0.10184468458722419,0.05048402205482179,0.11179186528765057,0.10787572069039046,0.15311210360726282,0.10400488556565812,0.09756505506147642,0.12031548122949583,0.0975826297774941,0.10333510451231044,0.11295070178472214,0.22073510056560802,0.12436871426719434,0.056530126525410375,0.1519618069175954,0.1797465397580984,0.11550876328468776,0.0381418027402276,0.0017408170256260583,0.05186210174099636,0.07802697725906427,0.10541204305402792,0.048289614251965575,0.06949283007890594,0.08913242266303298,0.08608606738285692,0.07896501099671673,0.09592892357756413,0.07993109036896513,0.11608461599543558,0.033243547613245605,0.05496216380574793,0.0871435227193702,0.09606112466643348,0.0878408298740466,0.11608461599543558,0.0514756247121263,0.05496216380574793,0.08937428037102874,0.10617763011646267,0.14258987828873562,0.059910232233938716,0.06580775522310683,0.11748199933842784,0.03119940097428665,0.0966675013257018,0.0749542447315851,0.11579735712757253,0.03888318409448135,0.10767967290346765,0.059448412318149076,0.07152619082418704,0.0926345137193543,0.07232355856726409,0.03599469341652979,0.041982859542469324,0.1358288455072358,0.11946837151490526,0.10176290937236449,0.0486863174237793,0.06794390994360357,0.06687118382841938,0.09693041627009193,0.1057844470976722,0.059019667553487296,0.1393891876278291,0.07902952793895276,0.02211321429101425,0.02211321429101425,0.14591500410000224,0.03355433604931478,0.052741638940835035,0.0428970666490256,0.08014226446490322,0.15134151599402035,0.11062048435254428,0.07604136081068301,0.07385807295708381,0.09710071576295286,0.0630912107344735,0.012569684183802969,0.0935001974380862,0.14927814110749715,0.11403041323154435,0.08122486521279516,0.07489439966166961,0.036560513273824556,0.04478999607537252,0.044978543596836125,0.054211810841409504,0.11021260679210619,0.027093559325960328,0.08270753081983782,0.134736032181922,0.04516709809811499,0.03838449750161888,0.0783447294210865,0.036060805961034684,0.04727239346120478,0.06921907188240341,0.0640305767719559,0.04587704812520083,0.028586406909580454,0.0675593694127223,0.10613465727283708,0.07061770401160321,0.06841031074587572,0.07747963256135282,0.07596039798992904,0.07602251928911904,0.046998432664934454,0.06736077148289676,0.07948760093551828,0.10510495855317409,0.10873124858018345,0.052936435580701144,0.060185427404270485,0.07149339023011625],\"yaxis\":\"y\",\"type\":\"scatter\"},{\"hovertemplate\":\"kmeans_labels=1<br>x=%{x}<br>y=%{y}<extra></extra>\",\"legendgroup\":\"1\",\"marker\":{\"color\":\"#EF553B\",\"symbol\":\"circle\"},\"mode\":\"markers\",\"name\":\"1\",\"orientation\":\"v\",\"showlegend\":true,\"x\":[-0.00039145102964479954,0.11020931999568481,0.003042113843394756,0.014983815637732054,0.131475074567374,0.19127779474692896,0.13719035423630221,0.05714968469744382,0.06656297269473777,0.15144212508041416,0.1351037954673209,0.1286726481169689,0.10032073507013878,0.06058101109571569,0.08261301953507474,0.03042884433403558,0.03818689431167199,0.1578215197420641,0.19669250254883877,0.08507463247688206,0.15905990158559213,0.15235869006960145,0.16229012736453055,0.09144060562234553,0.062345207189616086,0.09352419426060132,0.1488352830383126,0.13542022687924635,0.18706126450291846,0.22286817235834458,0.10956437792822343,0.15621146588659154,0.21104487994167503,0.061962233820929066,0.040536494654199375,0.21172999496443876,0.03479820754862049,0.18256045730627743,0.27894415642041515,0.13890027669321678,0.04423974179434711,0.12274247729326723,0.12142224417495896,0.13723314893402042,0.23978392178677435,0.10407963631655258,0.13266962160789905,0.18318802136320558,0.09519479349539377,0.12650724110089287,0.11118798153574908,0.13410374845860176,0.2689377549228532,0.12772404946030466,0.07003246164680457,0.20726271270216595,0.10938373343493465,0.10407963631655258,0.14103438538079843,0.06399476820422402,0.10090892212168542,0.10405823828290153,0.15166025192298338,0.04719966343434084,0.2119222733867406,0.10306852927236908,0.04511191998542029,0.03886320389447281,0.119398098008698,0.14630759768399437,0.06719972927659659,0.08640151799823026,0.058795199311829735,0.057303260319780065,0.053344875019331287,0.09023803675499417,0.057684990642172904,0.1729980502157596,0.09533623876177177,0.11906118442504797,0.17185850209814899,0.20445864936013936,0.11878756514938862,0.051304687788089054,0.1764491138570646,0.10939819768477609,0.05793796832588609,0.06601974000618423,0.09399430517204078,0.16273566538229295,0.13223232678857164,0.13190270099877732,0.1298110557842754,0.11253682146269614,0.035601131202893224,0.04507152106087423,0.08219485175533064,0.18420933998206532,0.063807885474294,0.0523712218079623,0.13016345423611267,0.13855908779220585,0.09668634511562213,0.1103452768252037,0.11742744297712837,0.14386443105621577,0.18068695116166084,0.15126130121099496,0.26276523179816236,0.1515021258381943,0.1519036011496519,0.09519479349539377,0.11912374521061195,0.11920277755171535,0.03629793019749243,0.12711210894603028,0.06978675111314708,0.22525417520240468,0.14051587669552038,0.22355932865510894,0.1245100437883549,0.13734287912204723,0.08029632261550976,0.046102089275265004],\"xaxis\":\"x\",\"y\":[0.024815220951883224,-0.04193760664692027,-0.02024546555393015,-0.11222535903994044,-0.18052341903297134,-0.20489235563076522,-0.16539564050518937,-0.04929562255569677,-0.1032950298006959,-0.20132358341681703,-0.17710441369533567,-0.14552105319163092,-0.1294529925387794,-0.03393158735162557,-0.10268096940974449,-0.08582615842747156,-0.04005276070150087,-0.1596996413942021,-0.16117281560024832,-0.10723539351808915,-0.11346632913867835,-0.1580100876571296,-0.14665254487248205,-0.09957152259177773,-0.04831058825818574,-0.08050066380129085,-0.15831867023811,-0.09736422834331916,-0.12541101999137724,-0.11756778886840882,-0.1479236286815164,-0.11109399601561298,-0.1610909559430734,-0.12511563637333095,-0.06475094283451485,-0.1241193201889283,-0.05430413621184454,-0.08255797115507223,-0.21972782455681986,-0.17839170578272065,-0.11679578558310102,-0.07790776973617675,-0.0768522126946035,-0.14962273937246884,-0.13989810404560946,-0.0842836495528754,-0.08977201360500142,-0.15513132204725877,-0.08959800792862352,-0.15017436289095815,-0.09168091391425258,-0.1671072142180712,-0.09773280866559038,-0.12899007472452045,-0.06782972601718806,-0.18686192417323805,-0.10805420128929871,-0.0842836495528754,-0.11674483238053504,-0.10166178835455816,-0.11745156714545867,-0.12701429608485817,-0.15495032169303832,-0.024743927999752634,-0.1600710297239548,-0.11447339585306883,-0.01825947033484189,-0.08746171222944783,-0.09963494493031186,-0.14482429430530983,-0.11399113431482127,-0.14192941925868974,-0.09313866599364395,-0.12657777541077472,-0.042294448250000526,-0.1070569540365034,-0.05708533866743673,-0.09349292475852426,-0.017877007722578768,-0.08243185749481474,-0.06785302652756556,-0.15926035302159533,-0.07645044681132171,-0.09767725194451411,-0.0973098316154398,-0.05576610881375489,-0.021594898726544853,-0.06774456793132703,-0.03848754060771921,-0.14082933903618292,-0.09179538204220329,-0.09143799812290535,-0.08027325760971545,-0.06307218907902223,-0.08639738934301591,-0.09441677054881165,-0.003992772836288034,-0.18809901480421015,-0.013031425599646066,-0.08349284633706167,-0.11652161727623504,-0.12161526625264656,-0.1094651319136601,-0.04778288422680089,-0.1114758008712988,0.004809615017349871,-0.15755300665075683,-0.18870752353029566,-0.21718667580365403,-0.20108630311156228,-0.07613319972266049,-0.08959800792862352,-0.1425797418843153,-0.04853006246585778,-0.061187959423119505,-0.1333730630895269,-0.10616106293636507,-0.15930927951732132,-0.16181613330664105,-0.11747280477010107,-0.08312187818913441,-0.0741703425924131,-0.043561427961923034,-0.04335504168078157],\"yaxis\":\"y\",\"type\":\"scatter\"},{\"hovertemplate\":\"kmeans_labels=0<br>x=%{x}<br>y=%{y}<extra></extra>\",\"legendgroup\":\"0\",\"marker\":{\"color\":\"#00cc96\",\"symbol\":\"circle\"},\"mode\":\"markers\",\"name\":\"0\",\"orientation\":\"v\",\"showlegend\":true,\"x\":[-0.09139504578279448,-0.12047068167398324,-0.14084664673481398,-0.14567226383371254,-0.08599394060091299,-0.1510134447705534,-0.08938004542303572,-0.0548652799375764,-0.05805124562679322,-0.056509886728220556,-0.09430369060263116,-0.1125705710138825,-0.12700335343922467,-0.05493623726047212,-0.12117059450986555,-0.12806394565019177,-0.14342868036449394,-0.13531807561315068,-0.13042389147970046,-0.14639515613477702,-0.1278278273910538,-0.05493623726047212,-0.13197308853007308,-0.07008430772194288],\"xaxis\":\"x\",\"y\":[0.15397270693695825,0.3316891399911307,0.334125534487842,0.33467313713007873,0.1799180259415241,0.3369423839334114,0.16908156710125394,0.12895985659633505,0.12274365209749939,0.079310656118487,0.15979032961225959,0.2589112493325765,0.3036269350976524,0.1344231043983309,0.32261677227183266,0.34414701782805635,0.31479688127968175,0.3271639723943676,0.27814293523127603,0.343112841865049,0.3381921394945007,0.1344231043983309,0.30849891928968354,0.1340856944868776],\"yaxis\":\"y\",\"type\":\"scatter\"},{\"hovertemplate\":\"kmeans_labels=3<br>x=%{x}<br>y=%{y}<extra></extra>\",\"legendgroup\":\"3\",\"marker\":{\"color\":\"#ab63fa\",\"symbol\":\"circle\"},\"mode\":\"markers\",\"name\":\"3\",\"orientation\":\"v\",\"showlegend\":true,\"x\":[-0.05930998594372629,-0.022670870162294268,-0.06300019572861501,0.03105212204284629,-0.026194220408709775,-0.033546395128314956,0.02843909176043663,-0.046936971508149926,-0.1134818988910851,-0.08366626819071117,-0.09680081100567567,0.073034510140353,-0.03374646405559554,-0.07624347857323442,-0.19870633102784743,-0.10033946335823728,-0.12689200199363035,-0.006176609390365763,-0.01646850635741581,-0.011347178643143413,-0.002004036433164633,-0.0051110546695687376,-0.05500661524689772,-0.123305247280738,-0.17117830936816783,-0.004622991215718748,-0.04148393940171121,-0.03792566738907344,-0.04711237599859757,-0.05171212586904131,-0.13819459565938405,-0.023972485427461467,-0.011138376591050506,-0.171300133720428,-0.10724020287235121,0.004921909138939389,-0.06748838817907608,-0.13754353901526212,-0.06451312649516423,-0.017081081937962407,0.01651454532774413,0.006887924645887415,-0.05992278268852532,-0.043189471931851096,0.021775449640561537,-0.0313170873436166,-0.05997306133558436,-0.07743078911631436,-0.06601005441043092,-0.06388182632007104,-0.10998387449386082,-0.14857822358034126,-0.04874487910727248,-0.0564128138434259,-0.08698091050004242,-0.02429094277851028,-0.026942256480378596,-0.04027983225205448,-0.053977444808820954,-0.047621481083658344,-0.047506431220495506,-0.05528225143535099,-0.10665636572391402,-0.060672375628531755,-0.12694321969674913,-0.08860419289887918,-0.07398154580978118,-0.1131161042217996,-0.0966679839672566,-0.18491702407733848,-0.055129119833756846,-0.08306104310445679,-0.050146623329720086,-0.0708053722387724,-0.05943267699995712,-0.08767850733195304,-0.06603218341851597,-0.11003474887166668,-0.1324929838090965,-0.20222437173488875,-0.08615204805180768,-0.033323176523363855,-0.0756940722446804,-0.008566884505198874,-0.12734826690845213,-0.07638604905770377,-0.07531552227136928,-0.18262938167406534,-0.08676303142348717,-0.05183111913753052,-0.07300031240937858,-0.13047188551045769,-0.13047188551045769,-0.14947860081740572,-0.11766760650629213,-0.03602935241706097,-0.07998136220354088,-0.07813395814068065,-0.10667317297771374,-0.07570144896038268,-0.03837550439521936,-0.09001403185868785,-0.10604202208850724,-0.05026344386738184,-0.07607467229868096,-0.11798773406630107,-0.0997245282712613,-0.11959185067823352,-0.14088274596014982,-0.06868290507560083,-0.12776655427061342,-0.051199788363289124,-0.07089619049151451,-0.04927482994016026,-0.05948275612017486,-0.11685833189969347,-0.04541464381365868,-0.054462458239908376,-0.1630371300295089,-0.04033454873766072,-0.11224896549260314,-0.03180871241633599,-0.025520203448779113,-8.553616284039881e-05,-0.03244580716968527,-0.021962525267424676,-0.17504647108361285,0.017013930527340078,-0.06173166281997493,-0.05153848963666199,-0.046396145431612384,-0.09490803429554041,-0.020912160641922195,0.005095745688351663,-0.038920680560021646,-0.11313206880841892,-0.11357792603459842,-0.060506910029396156,-0.05452748262756235,-0.1323684030820354,-0.032557054422125184,-0.05761382225326754,-0.06948652577086543,-0.13099523433434448,-0.10568202918538774,-0.11639377625541365,-0.09555496577281512,-0.13094771049830675,-0.01800743630297754,-0.06382626279952876,-0.10084517403131832,-0.19356396335165274,-0.06320834524145912,-0.05288677014541991,-0.11614125229806044,-0.05114223055493978,-0.09787215786210532,-0.07203705293313524,-0.05690581368513105,-0.07889835704271486,-0.14643177941127367,-0.044533290014179924,-0.11365582502437423,-0.14643177941127367,-0.06708913422175371,-0.06848685250586484,-0.06848685250586484,-0.09293093550379967,-0.06937478396780775,-0.06026250142831042,-0.05177137505640221,-0.036201333578302596,-0.0601731783935055,-0.08722805958662647,-0.1333971838149537,-0.07239958264070871,-0.04074060282858088,-0.04014323592656477,-0.0603110489553801,-0.07182556394693294,-0.15653935061870264,-0.07457380382927797,-0.16986679600146842,-0.09026774140208321,-0.05517929575455469,-0.04013522176037668,-0.061868665379254784,-0.08170045407965836,-0.1283904160109591,-0.08670352730375396,-0.09575499670609662,-0.07991570205925459,-0.16116363318612914,-0.15688009516423987,-0.11921131221031689,-0.07901466310291812,-0.07268244382519398,-0.05907294489334734,0.0051444351904794475,-0.03685611656188509,-0.10091519633251536,-0.07665601709340572,-0.06761856818871312,-0.0536136350237638,-0.1956858801857143,-0.055158608808970465,-0.06537106380555865,-0.07698316440582419,-0.04279022803273027,-0.20006148475592456,-0.052049154201261515,-0.14455996806183985,-0.08366626819071117,-0.06643350986884684,-0.07778099606038176,-0.035400800184991324,-0.04748054965662321,-0.12161235746470447,-0.07008254365565156,-0.03019801133384586,-0.05994499366595678,-0.02294342929613528,0.002474458591410576,-0.13373014740650568,-0.005735212030225909,-0.1006074649958295,-0.03261765781762857,-0.042245262466918995,-0.09710513523589005,-0.032396720779176054,-0.08204575723475542,-0.1814017965811099,-0.12597646435206244,-0.0868382532141331,-0.09162860775315036,-0.060315213736480564,-0.04871814786995992,-0.024591997868123217,-0.0893101824253656,-0.06683077210921518,-0.18563307078759186,-0.11396194018343501,-0.12269780994787861,-0.06403024108923741,-0.17258829119348051,-0.0805057077295794,-0.1301016711315564,-0.0758332241939622,-0.025440082930185588,-0.045443236340325814,-0.05801300149575221,-0.14919574076003905,-0.07927712013077341,-0.12632349552600136,-0.07920222523360367,-0.04088639701302524,-0.039936465868262654,-0.05491981128688209,-0.10138141453022531,-0.00946847868575473,-0.051745718503800775,-0.08301450171738602,-0.02172874341800927,-0.09828780455232565,-0.06481319822149717,-0.03564905283373864,-0.0028968959427430646,0.03999374787626774,0.009767979568687031,0.027287305151366983,-0.008923193103819232,-0.007448906806566845,0.025353435931992494,0.03653369383873341,-0.024852143027838777,0.0041791828076594454,-0.0020418472682457956,0.02501089052700151,-0.016509128711296128,0.021180067502830222,0.06374498991640737,0.015162978691126915,0.044649067616582876,0.02236602142843677,0.0021053379054295925,-0.055063780790188546,-0.053881558537548294,0.028898258511591984,0.027150353403534902,-0.04070157238402672,-0.0021702408596213055,-0.031238958670776924,-0.021912573634975386,-0.04799596490504401,-0.06652292539570474,-0.04874415775887379],\"xaxis\":\"x\",\"y\":[0.06557396995855162,0.01322751699214613,0.01760311321506983,0.008229255272680163,0.06434789157775923,0.06280981454434557,-0.004373474063244481,-0.08551296278793237,-0.11568379971469583,-0.06952158593062774,-0.06790957030680822,-0.06198284670402227,-0.009071734131948485,-0.09484380198316905,-0.21802868804332975,-0.11989267357636477,-0.16648389218401421,-0.05622435765143781,-0.04596425357650631,-0.042952371168616575,-0.027140950773001483,-0.018046302428718835,-0.058294878399935815,-0.1992545574860398,-0.1704953877738713,-0.04519567677657358,-0.04319823053847838,-0.10391009323969337,-0.033454044985218645,-0.015489951615568296,-0.12697576297654542,-0.12860556962973138,-0.07941274488658592,-0.1702211174563985,-0.1219055308273995,-0.07062178984635858,-0.03290698027391808,-0.142248505646227,-0.07848688334220714,-0.014349775837608113,-0.04274156343909186,-0.04918894347070541,-0.009007450302783089,0.014860714907405839,-0.00984796292297207,-0.020355025975307143,0.036751910238281185,-0.07442694318022691,-0.057951383032299256,-0.08271212618517819,-0.1012143696934369,-0.17332165139294145,-0.1425282453598953,-0.03396169447070094,-0.08137594537846413,-0.05161176555401002,-0.018765997101292165,-0.031620343445926555,-0.007451538982755773,0.00633730989630463,-0.08585947954739996,-0.11045985801683596,-0.11049232304399018,-0.013254405528279537,-0.08878192275639557,-0.11317019397705651,-0.07758290143844934,-0.11376556167533367,-0.0693810047249151,-0.24139330607043344,-0.11241063941123586,-0.057184679426658475,-0.05818028645531073,-0.07283685465630259,-0.028316511599799508,-0.07377933225121165,-0.035025918804417334,-0.09052507541506577,-0.08538964577616394,-0.1826724408330619,-0.005964237872724075,-0.005041861916525625,-0.06802275368558854,0.013662872458656817,-0.081493074993861,-0.01886632376155514,-0.07476499314313195,-0.16534757390989027,-0.06488958252123422,-0.062443613428285916,-0.10417874083964837,-0.14150997950027266,-0.14150997950027266,-0.15587558228052326,-0.12272553521661682,-0.03895847143174263,-0.06127402159971903,-0.04755578302483316,-0.08020314959148687,-0.05997450301025445,-0.005958563009011373,-0.09574607908472364,-0.05598712216760656,-0.013178424445163607,-0.06938600884403436,-0.10494660679372238,-0.06982131037972804,-0.09717782813823367,-0.001036901795204401,-0.0890398776199844,-0.050646127749255775,-0.021005842615478786,-0.01683814362571866,0.0045817655740982,-0.06729015889596039,-0.08671017881974427,-0.02564918376741836,-0.07619547242816012,-0.17245620272860046,-0.00554239296803048,-0.06932813871796926,-0.04696202354942035,-0.007780791673774537,0.010138681101166573,-0.07639221876059868,-0.08135273091604418,-0.20005063847668603,-0.006456842139205527,-0.03002826337923714,-0.041743595753351626,-0.06739983311570809,-0.13560444928184714,0.011178461078785262,0.0003436147438848153,-0.05571805795010122,-0.12257633310227171,-0.14444949869945814,-0.06903064026933568,-0.02633295540736344,-0.14894860844034008,-0.05581406973722933,-0.03387541459833411,-0.0040434845264583005,-0.1498840515397462,-0.15931505754335407,-0.09420808430520118,-0.11976064628349987,-0.13229123209143012,-0.05337714518873217,0.04308284220426992,-0.0889381188058788,-0.1976667571013628,-0.050539482838272864,-0.037203568223009666,-0.13660662235020787,-0.06686706090629108,-0.11089074751359658,-0.035219390126097115,-0.06452760681445868,-0.0397966044819862,-0.1669523537462399,0.0017241453947380648,-0.09190112710358654,-0.1669523537462399,-0.05491860148363801,-0.014334130277690415,-0.014334130277690415,-0.09686564911635746,-0.0650053658287308,-0.03259883909857878,-0.001260938729177508,-0.05198960279331453,-0.03350304182731865,-0.028967567814344435,-0.10600975390811113,-0.0922733201224254,-0.08677343266645518,-0.06583887164945255,-0.0717196252155851,0.01817048762093952,-0.0942109259721309,-0.04772727641839622,-0.19751306665208754,-0.06681845773437778,-0.030777514045505237,-0.02039766921556978,-0.09007577641441421,-0.06357878366524414,-0.13702599626913417,-0.12923347367912855,-0.1113421474493027,-0.11864588116704418,-0.13172034513308706,-0.19396378571922124,-0.16890399905931788,-0.09029403611354712,-0.0926206944035752,-0.033798955978126995,-0.037634869332800074,0.005363347187792286,-0.14928735665030496,-0.17759384121522775,-0.1498743232829077,-0.0621184222220189,-0.2482281766567328,-0.07302652293590121,-0.06577468763618544,-0.11706023444071711,-0.027001807344811262,-0.21810306014301625,-0.04311823064219976,-0.17250594236704767,-0.06952158593062774,-0.12626952917532328,-0.12806958133865026,-0.02955379229802401,-0.05579947781787098,-0.13718519517717565,-0.0914480660308077,-0.010889228399294392,-0.06186722351741423,-0.010165946511418856,0.009024738383152495,-0.18641676084567077,-0.05294477578377015,-0.06314879836731704,-0.0004001892433204686,-0.00838450239766155,-0.11883015138077177,-0.012840042745842793,-0.058186065550606264,-0.18853714184413495,-0.10153028731673855,-0.05741160442425647,-0.06475854435778046,-0.038679960530523604,-0.014862794071784681,-0.08414941144776462,-0.0927031733788278,-0.08477775734571222,-0.16906033069437723,-0.13195484134929963,-0.10797556063327846,-0.024345908569766685,-0.20342337243873185,-0.03522063948849653,-0.11490502408761583,-0.06437068289455868,-0.07014510050661145,0.023444057163558706,-0.09682451552434382,-0.1524969926845121,-0.09445017918465863,-0.12246228812772468,-0.0948312844618947,-0.053483360836748255,-0.010862681377124983,0.023122090595136726,-0.00677195981972973,0.030860798517174628,-0.04363495504903328,-0.11120805046632791,-0.02296761513315359,-0.10854712840147532,-0.028429497644853148,-0.02234297366029052,-0.021075023694921854,-0.04243749359563399,-0.05586413852741895,-0.0981672608197283,-0.01260542623018824,0.01927367978975388,0.00664823040407386,0.007964637099231505,-0.026539601805375623,-0.026001964418906634,-0.05028722276537761,-0.027291666795214282,-0.02497464037921604,-0.008124098205327139,-0.0187831980200511,-0.016244197019612907,0.0084130621392449,-0.08099431893567767,-0.07236647119344278,-0.03058622700653493,-0.03162194965188317,-0.025763974861123584,-0.019626064476480784,-0.05773753376045618,-0.06513530271662005,-0.055032998371906144,-0.07852100680167501,-0.04066741128345934,0.011550734383203651,0.013671634999867564],\"yaxis\":\"y\",\"type\":\"scatter\"},{\"hovertemplate\":\"kmeans_labels=2<br>x=%{x}<br>y=%{y}<extra></extra>\",\"legendgroup\":\"2\",\"marker\":{\"color\":\"#FFA15A\",\"symbol\":\"circle\"},\"mode\":\"markers\",\"name\":\"2\",\"orientation\":\"v\",\"showlegend\":true,\"x\":[0.2533584824452883,0.2141544170660787,0.22600274460322273,0.21753010066315148,0.11985503211475769,0.13985354029265684,0.12124980214007011,0.1064500032385332,0.149495653017514,0.1016492319253593,0.12017893014243411,0.05250966592115203,0.3133509656774881,0.06330921486502797,0.20980645359132286,0.03219976264606484,0.06163280033912787,0.1488761428378602,0.22548999334534317,0.17597637927395382,0.06163280033912787,0.18919808574118563,0.13952342216547695,0.16208869618764898,0.0727186801568212,0.2149176294039015,0.23013896383320456,0.21141161871988962,0.139698013339386,0.10522251327242857,0.25219227835181124,0.16208869618764898,0.0727186801568212,0.19228392291450044,0.0928454635892723,0.11191587269762164,0.08187754677651035,0.16462773400908218,0.11107513942774529,0.18270475190735588,0.1294610914192982,0.24583287565794382,0.25079640192008484,0.2143571528660982,0.2628589765249923,0.16637231537392339,0.06130876248786615,0.19766923319054164,0.13304662479986282,0.18824591765824086,0.26574350429250254,0.26625520068784286,0.23025336227726814,0.12788622467473906,0.22397701075673038,0.11949923750367644,0.05634318946775099,0.20610744821603494,0.16754413292297826,0.16741983769459362,0.2296786942078331,0.29789849218679737,0.2087590603065333,0.1575824465540135,0.12858032590038024,0.19265278489384133,0.3710506393343063,0.1307724701569198,0.2574426147852465,0.34176760889418567,0.15525574224703206,0.3049732180218549,0.24928504595877085,0.351347133741568,0.1959497636156322,0.16893248878208764,0.06191236878357947,0.18958723169310993,0.2468630328890604,0.17387114612874457,0.27551331481968966,0.3269014475347868,0.32741051679925276,0.10468687413218838,0.2663974121947744,0.27973990380700403,0.2830297496505458,0.2770024773508976,0.13888098283706155,0.08980254537662422,0.20735194950202718,0.031061208800060615,0.14530448562272724,0.1769495546384141,0.11099701553537918,0.17793118194490398,0.10026137512001285,0.16851139490928954,0.08756373751834548,0.01733360954152713,0.08967133023672844,0.09370682013325508,0.06739996196198816,0.0471118562824118,0.20530567979591421,0.03893711176630156,0.2861522843810289,0.20410379666438933,0.1137172488743238,0.1661831011648592,0.12964029111486927,0.10114677571277782,0.2086333946317444,0.11362910056296179,0.23114150835183989,0.10358725509732389,0.134805790615984,0.08431100704384067,0.11963264463064371],\"xaxis\":\"x\",\"y\":[0.11963346402676996,0.057182296851713124,0.09685635000113609,0.17723539991082085,0.008898574500735088,0.028652222458676612,0.10666050667942151,0.07342231869473641,0.14629625748463052,0.059799364842103284,0.10358461352452843,-0.006126135862102964,0.0716296591780033,0.028369497962385574,0.07593747822167468,0.0019058341244698955,0.06390570061002919,0.04699102725119988,0.06507084409120124,0.03184665105110591,0.06390570061002919,0.17102693162661006,0.10988582125525896,0.13983351808355085,0.11235858903284619,0.17286139440137296,0.09085483375667723,0.13345843721236106,0.10960898186399348,0.03177588096399166,0.0744548489482986,0.13983351808355085,0.11235858903284619,0.17591554079210828,0.07623827311605653,0.04333180440941813,0.09403647678639372,0.09449066552027521,0.06083775311365116,0.0413002794309064,0.12281940538617908,0.030862626119303484,0.05991413481342704,0.1626531259892196,0.17566730469462757,0.09036251487667582,0.07768748881191415,0.034922122626660945,0.07007783457643252,0.05030157148225909,0.11447497955509708,0.11555230440349985,0.15633311044945888,0.11097910089399726,0.1113331045928393,0.10164228783795598,0.08025354038408201,0.11298174729026482,0.16173802751149596,0.16123616555349496,0.16612022967720894,0.017334005109886006,0.05453573822064756,0.15459409611831615,0.07720722980006937,0.026939874079826537,0.06905570309893669,0.028451683280557395,0.20651320776226775,0.016527943302366087,0.09844847153153054,0.07110235208237474,0.20316434357190288,0.06683871489584593,-0.000245198224807594,0.13858968645247316,0.059516681966941314,0.03880044081198954,0.060243366377797904,0.12929652679202613,0.1788480557054719,0.06348703918500027,0.06610915722002547,0.0967125603847014,0.21439640361548326,0.20454039212777403,0.20613799943422945,0.01889698546548279,0.11328418466365694,0.050480015555899274,0.06025560767589768,0.0701262499035653,0.015834018941349576,0.028754251751611115,-0.01920933956389037,0.1278434829917727,0.0541365970510638,0.13649356867672163,0.07625235428420082,0.06484265858621703,0.06621247097414443,0.12289996963031109,0.06437895591204074,0.05711362882087851,0.031409917706551084,0.011833859552140369,0.02229286130658727,0.12200836934537394,0.10730792068908801,0.11738904633010305,0.12315722895553603,0.07398068443225865,0.02744181030338417,0.04957813203997981,0.021561349702934305,0.07468675221934108,0.1033261869108703,-0.002153623968749724,0.08178005923035563],\"yaxis\":\"y\",\"type\":\"scatter\"}],                        {\"template\":{\"data\":{\"histogram2dcontour\":[{\"type\":\"histogram2dcontour\",\"colorbar\":{\"outlinewidth\":0,\"ticks\":\"\"},\"colorscale\":[[0.0,\"#0d0887\"],[0.1111111111111111,\"#46039f\"],[0.2222222222222222,\"#7201a8\"],[0.3333333333333333,\"#9c179e\"],[0.4444444444444444,\"#bd3786\"],[0.5555555555555556,\"#d8576b\"],[0.6666666666666666,\"#ed7953\"],[0.7777777777777778,\"#fb9f3a\"],[0.8888888888888888,\"#fdca26\"],[1.0,\"#f0f921\"]]}],\"choropleth\":[{\"type\":\"choropleth\",\"colorbar\":{\"outlinewidth\":0,\"ticks\":\"\"}}],\"histogram2d\":[{\"type\":\"histogram2d\",\"colorbar\":{\"outlinewidth\":0,\"ticks\":\"\"},\"colorscale\":[[0.0,\"#0d0887\"],[0.1111111111111111,\"#46039f\"],[0.2222222222222222,\"#7201a8\"],[0.3333333333333333,\"#9c179e\"],[0.4444444444444444,\"#bd3786\"],[0.5555555555555556,\"#d8576b\"],[0.6666666666666666,\"#ed7953\"],[0.7777777777777778,\"#fb9f3a\"],[0.8888888888888888,\"#fdca26\"],[1.0,\"#f0f921\"]]}],\"heatmap\":[{\"type\":\"heatmap\",\"colorbar\":{\"outlinewidth\":0,\"ticks\":\"\"},\"colorscale\":[[0.0,\"#0d0887\"],[0.1111111111111111,\"#46039f\"],[0.2222222222222222,\"#7201a8\"],[0.3333333333333333,\"#9c179e\"],[0.4444444444444444,\"#bd3786\"],[0.5555555555555556,\"#d8576b\"],[0.6666666666666666,\"#ed7953\"],[0.7777777777777778,\"#fb9f3a\"],[0.8888888888888888,\"#fdca26\"],[1.0,\"#f0f921\"]]}],\"heatmapgl\":[{\"type\":\"heatmapgl\",\"colorbar\":{\"outlinewidth\":0,\"ticks\":\"\"},\"colorscale\":[[0.0,\"#0d0887\"],[0.1111111111111111,\"#46039f\"],[0.2222222222222222,\"#7201a8\"],[0.3333333333333333,\"#9c179e\"],[0.4444444444444444,\"#bd3786\"],[0.5555555555555556,\"#d8576b\"],[0.6666666666666666,\"#ed7953\"],[0.7777777777777778,\"#fb9f3a\"],[0.8888888888888888,\"#fdca26\"],[1.0,\"#f0f921\"]]}],\"contourcarpet\":[{\"type\":\"contourcarpet\",\"colorbar\":{\"outlinewidth\":0,\"ticks\":\"\"}}],\"contour\":[{\"type\":\"contour\",\"colorbar\":{\"outlinewidth\":0,\"ticks\":\"\"},\"colorscale\":[[0.0,\"#0d0887\"],[0.1111111111111111,\"#46039f\"],[0.2222222222222222,\"#7201a8\"],[0.3333333333333333,\"#9c179e\"],[0.4444444444444444,\"#bd3786\"],[0.5555555555555556,\"#d8576b\"],[0.6666666666666666,\"#ed7953\"],[0.7777777777777778,\"#fb9f3a\"],[0.8888888888888888,\"#fdca26\"],[1.0,\"#f0f921\"]]}],\"surface\":[{\"type\":\"surface\",\"colorbar\":{\"outlinewidth\":0,\"ticks\":\"\"},\"colorscale\":[[0.0,\"#0d0887\"],[0.1111111111111111,\"#46039f\"],[0.2222222222222222,\"#7201a8\"],[0.3333333333333333,\"#9c179e\"],[0.4444444444444444,\"#bd3786\"],[0.5555555555555556,\"#d8576b\"],[0.6666666666666666,\"#ed7953\"],[0.7777777777777778,\"#fb9f3a\"],[0.8888888888888888,\"#fdca26\"],[1.0,\"#f0f921\"]]}],\"mesh3d\":[{\"type\":\"mesh3d\",\"colorbar\":{\"outlinewidth\":0,\"ticks\":\"\"}}],\"scatter\":[{\"fillpattern\":{\"fillmode\":\"overlay\",\"size\":10,\"solidity\":0.2},\"type\":\"scatter\"}],\"parcoords\":[{\"type\":\"parcoords\",\"line\":{\"colorbar\":{\"outlinewidth\":0,\"ticks\":\"\"}}}],\"scatterpolargl\":[{\"type\":\"scatterpolargl\",\"marker\":{\"colorbar\":{\"outlinewidth\":0,\"ticks\":\"\"}}}],\"bar\":[{\"error_x\":{\"color\":\"#2a3f5f\"},\"error_y\":{\"color\":\"#2a3f5f\"},\"marker\":{\"line\":{\"color\":\"#E5ECF6\",\"width\":0.5},\"pattern\":{\"fillmode\":\"overlay\",\"size\":10,\"solidity\":0.2}},\"type\":\"bar\"}],\"scattergeo\":[{\"type\":\"scattergeo\",\"marker\":{\"colorbar\":{\"outlinewidth\":0,\"ticks\":\"\"}}}],\"scatterpolar\":[{\"type\":\"scatterpolar\",\"marker\":{\"colorbar\":{\"outlinewidth\":0,\"ticks\":\"\"}}}],\"histogram\":[{\"marker\":{\"pattern\":{\"fillmode\":\"overlay\",\"size\":10,\"solidity\":0.2}},\"type\":\"histogram\"}],\"scattergl\":[{\"type\":\"scattergl\",\"marker\":{\"colorbar\":{\"outlinewidth\":0,\"ticks\":\"\"}}}],\"scatter3d\":[{\"type\":\"scatter3d\",\"line\":{\"colorbar\":{\"outlinewidth\":0,\"ticks\":\"\"}},\"marker\":{\"colorbar\":{\"outlinewidth\":0,\"ticks\":\"\"}}}],\"scattermapbox\":[{\"type\":\"scattermapbox\",\"marker\":{\"colorbar\":{\"outlinewidth\":0,\"ticks\":\"\"}}}],\"scatterternary\":[{\"type\":\"scatterternary\",\"marker\":{\"colorbar\":{\"outlinewidth\":0,\"ticks\":\"\"}}}],\"scattercarpet\":[{\"type\":\"scattercarpet\",\"marker\":{\"colorbar\":{\"outlinewidth\":0,\"ticks\":\"\"}}}],\"carpet\":[{\"aaxis\":{\"endlinecolor\":\"#2a3f5f\",\"gridcolor\":\"white\",\"linecolor\":\"white\",\"minorgridcolor\":\"white\",\"startlinecolor\":\"#2a3f5f\"},\"baxis\":{\"endlinecolor\":\"#2a3f5f\",\"gridcolor\":\"white\",\"linecolor\":\"white\",\"minorgridcolor\":\"white\",\"startlinecolor\":\"#2a3f5f\"},\"type\":\"carpet\"}],\"table\":[{\"cells\":{\"fill\":{\"color\":\"#EBF0F8\"},\"line\":{\"color\":\"white\"}},\"header\":{\"fill\":{\"color\":\"#C8D4E3\"},\"line\":{\"color\":\"white\"}},\"type\":\"table\"}],\"barpolar\":[{\"marker\":{\"line\":{\"color\":\"#E5ECF6\",\"width\":0.5},\"pattern\":{\"fillmode\":\"overlay\",\"size\":10,\"solidity\":0.2}},\"type\":\"barpolar\"}],\"pie\":[{\"automargin\":true,\"type\":\"pie\"}]},\"layout\":{\"autotypenumbers\":\"strict\",\"colorway\":[\"#636efa\",\"#EF553B\",\"#00cc96\",\"#ab63fa\",\"#FFA15A\",\"#19d3f3\",\"#FF6692\",\"#B6E880\",\"#FF97FF\",\"#FECB52\"],\"font\":{\"color\":\"#2a3f5f\"},\"hovermode\":\"closest\",\"hoverlabel\":{\"align\":\"left\"},\"paper_bgcolor\":\"white\",\"plot_bgcolor\":\"#E5ECF6\",\"polar\":{\"bgcolor\":\"#E5ECF6\",\"angularaxis\":{\"gridcolor\":\"white\",\"linecolor\":\"white\",\"ticks\":\"\"},\"radialaxis\":{\"gridcolor\":\"white\",\"linecolor\":\"white\",\"ticks\":\"\"}},\"ternary\":{\"bgcolor\":\"#E5ECF6\",\"aaxis\":{\"gridcolor\":\"white\",\"linecolor\":\"white\",\"ticks\":\"\"},\"baxis\":{\"gridcolor\":\"white\",\"linecolor\":\"white\",\"ticks\":\"\"},\"caxis\":{\"gridcolor\":\"white\",\"linecolor\":\"white\",\"ticks\":\"\"}},\"coloraxis\":{\"colorbar\":{\"outlinewidth\":0,\"ticks\":\"\"}},\"colorscale\":{\"sequential\":[[0.0,\"#0d0887\"],[0.1111111111111111,\"#46039f\"],[0.2222222222222222,\"#7201a8\"],[0.3333333333333333,\"#9c179e\"],[0.4444444444444444,\"#bd3786\"],[0.5555555555555556,\"#d8576b\"],[0.6666666666666666,\"#ed7953\"],[0.7777777777777778,\"#fb9f3a\"],[0.8888888888888888,\"#fdca26\"],[1.0,\"#f0f921\"]],\"sequentialminus\":[[0.0,\"#0d0887\"],[0.1111111111111111,\"#46039f\"],[0.2222222222222222,\"#7201a8\"],[0.3333333333333333,\"#9c179e\"],[0.4444444444444444,\"#bd3786\"],[0.5555555555555556,\"#d8576b\"],[0.6666666666666666,\"#ed7953\"],[0.7777777777777778,\"#fb9f3a\"],[0.8888888888888888,\"#fdca26\"],[1.0,\"#f0f921\"]],\"diverging\":[[0,\"#8e0152\"],[0.1,\"#c51b7d\"],[0.2,\"#de77ae\"],[0.3,\"#f1b6da\"],[0.4,\"#fde0ef\"],[0.5,\"#f7f7f7\"],[0.6,\"#e6f5d0\"],[0.7,\"#b8e186\"],[0.8,\"#7fbc41\"],[0.9,\"#4d9221\"],[1,\"#276419\"]]},\"xaxis\":{\"gridcolor\":\"white\",\"linecolor\":\"white\",\"ticks\":\"\",\"title\":{\"standoff\":15},\"zerolinecolor\":\"white\",\"automargin\":true,\"zerolinewidth\":2},\"yaxis\":{\"gridcolor\":\"white\",\"linecolor\":\"white\",\"ticks\":\"\",\"title\":{\"standoff\":15},\"zerolinecolor\":\"white\",\"automargin\":true,\"zerolinewidth\":2},\"scene\":{\"xaxis\":{\"backgroundcolor\":\"#E5ECF6\",\"gridcolor\":\"white\",\"linecolor\":\"white\",\"showbackground\":true,\"ticks\":\"\",\"zerolinecolor\":\"white\",\"gridwidth\":2},\"yaxis\":{\"backgroundcolor\":\"#E5ECF6\",\"gridcolor\":\"white\",\"linecolor\":\"white\",\"showbackground\":true,\"ticks\":\"\",\"zerolinecolor\":\"white\",\"gridwidth\":2},\"zaxis\":{\"backgroundcolor\":\"#E5ECF6\",\"gridcolor\":\"white\",\"linecolor\":\"white\",\"showbackground\":true,\"ticks\":\"\",\"zerolinecolor\":\"white\",\"gridwidth\":2}},\"shapedefaults\":{\"line\":{\"color\":\"#2a3f5f\"}},\"annotationdefaults\":{\"arrowcolor\":\"#2a3f5f\",\"arrowhead\":0,\"arrowwidth\":1},\"geo\":{\"bgcolor\":\"white\",\"landcolor\":\"#E5ECF6\",\"subunitcolor\":\"white\",\"showland\":true,\"showlakes\":true,\"lakecolor\":\"white\"},\"title\":{\"x\":0.05},\"mapbox\":{\"style\":\"light\"}}},\"xaxis\":{\"anchor\":\"y\",\"domain\":[0.0,1.0],\"title\":{\"text\":\"x\"}},\"yaxis\":{\"anchor\":\"x\",\"domain\":[0.0,1.0],\"title\":{\"text\":\"y\"}},\"legend\":{\"title\":{\"text\":\"kmeans_labels\"},\"tracegroupgap\":0},\"title\":{\"text\":\"K-means BBC Sport news\"}},                        {\"responsive\": true}                    ).then(function(){\n",
       "                            \n",
       "var gd = document.getElementById('2f4c4e4e-6b4f-4a6e-a6ae-fa2327c54dea');\n",
       "var x = new MutationObserver(function (mutations, observer) {{\n",
       "        var display = window.getComputedStyle(gd).display;\n",
       "        if (!display || display === 'none') {{\n",
       "            console.log([gd, 'removed!']);\n",
       "            Plotly.purge(gd);\n",
       "            observer.disconnect();\n",
       "        }}\n",
       "}});\n",
       "\n",
       "// Listen for the removal of the full notebook cells\n",
       "var notebookContainer = gd.closest('#notebook-container');\n",
       "if (notebookContainer) {{\n",
       "    x.observe(notebookContainer, {childList: true});\n",
       "}}\n",
       "\n",
       "// Listen for the clearing of the current output cell\n",
       "var outputEl = gd.closest('.output');\n",
       "if (outputEl) {{\n",
       "    x.observe(outputEl, {childList: true});\n",
       "}}\n",
       "\n",
       "                        })                };                });            </script>        </div>"
      ]
     },
     "metadata": {},
     "output_type": "display_data"
    },
    {
     "data": {
      "application/vnd.plotly.v1+json": {
       "config": {
        "plotlyServerURL": "https://plot.ly"
       },
       "data": [
        {
         "hovertemplate": "kmeans_labels=4<br>x=%{x}<br>y=%{y}<extra></extra>",
         "legendgroup": "4",
         "marker": {
          "color": "#636efa",
          "symbol": "circle"
         },
         "mode": "markers",
         "name": "4",
         "orientation": "v",
         "showlegend": true,
         "type": "scatter",
         "x": [
          -0.09100947927955842,
          -0.11761578738228744,
          -0.091267638597148,
          -0.11032991455579132,
          -0.029021007456175155,
          -0.042960579549675276,
          -0.12888671475650101,
          -0.15749304365625563,
          -0.09595031079570551,
          -0.10782462455669792,
          -0.08983019474232509,
          -0.08054203569202538,
          -0.07798080773243961,
          -0.10523620636345582,
          -0.11148627831928193,
          -0.10782462455669792,
          -0.0971014077945744,
          -0.1071221538607088,
          -0.07479757098974087,
          -0.10890925443238163,
          -0.09925815331363393,
          -0.11472207181238474,
          -0.10911551151170273,
          -0.07438177355817532,
          -0.049767571216718334,
          -0.13231567478291975,
          -0.1317472904934344,
          -0.10212052065515008,
          -0.10211261497653328,
          -0.0795398710501184,
          -0.06949683100908492,
          -0.09041937138615926,
          -0.06174674673978587,
          -0.08179658997422738,
          -0.09392897452937919,
          -0.09632788157234842,
          -0.0968445958669859,
          -0.10451315525575354,
          -0.12822807973666042,
          -0.13838447740999887,
          -0.11370224196345972,
          -0.10010812492441527,
          -0.11208084981291583,
          -0.06177717892401035,
          -0.12157713436534442,
          -0.06477301329306773,
          -0.11027224793111189,
          -0.16011336014374525,
          -0.11220881396085038,
          -0.030195429023632203,
          -0.17670579671819966,
          -0.10721421731822013,
          -0.10577381038017346,
          -0.10767435087951506,
          -0.10511087644079306,
          -0.10481561529165648,
          -0.06419009011954517,
          -0.014981881596172439,
          -0.0810477746539599,
          -0.06375799368906925,
          -0.09392897452937919,
          -0.07472603035215122,
          -0.08021096338392616,
          -0.08368571573412854,
          -0.09231874117382102,
          -0.07757691564030429,
          -0.08825983543717036,
          -0.1526442195589639,
          -0.11289520022377073,
          -0.04432231573253091,
          -0.10711396396884812,
          -0.13790319737179518,
          -0.058475920080175665,
          0.022108356654493806,
          -0.01413106375219173,
          -0.06025141419288406,
          -0.0427048879836165,
          -0.054944547228750654,
          -0.055738747294387575,
          -0.0692182801447417,
          -0.038071254261339935,
          -0.05439769694121953,
          -0.05974104546615466,
          -0.048869684467337395,
          -0.0556597416260817,
          -0.05140330699853086,
          -0.027454579441847725,
          -0.07352630285042451,
          -0.038190152328177386,
          -0.040139370599519233,
          -0.046763208108319805,
          -0.05140330699853086,
          -0.0641416117082743,
          -0.07352630285042451,
          -0.04065315664125632,
          -0.04658295917841012,
          -0.06792678407326654,
          -0.06041960601013421,
          -0.05572295739628572,
          -0.07343142937188206,
          -0.044840163814629026,
          -0.04187386255092426,
          -0.022449541956419947,
          -0.060636388246635094,
          -0.05792610236502636,
          -0.06102359648061147,
          -0.04143248880976708,
          -0.05623988462459668,
          -0.062300251739325914,
          -0.04824390862559706,
          -0.03351833769931175,
          -0.025903458031248786,
          -0.06885815289602418,
          -0.07577057680645313,
          -0.05150876698336151,
          -0.05581363879776198,
          -0.051466444741176114,
          -0.04328262164609914,
          -0.06590711901291693,
          -0.048228566987035426,
          -0.07035226122249076,
          -0.054688703996371595,
          -0.05664371452748657,
          -0.07570112939440027,
          -0.07570112939440027,
          -0.05829112736276658,
          -0.056154923184871655,
          -0.048341117858770405,
          -0.031929147411631005,
          -0.04935431676903757,
          -0.08159902889711729,
          -0.06958025025246117,
          -0.04108655541666252,
          -0.04001480672547852,
          -0.06207830780406469,
          -0.0627071680949708,
          -0.03868440249682974,
          -0.046182725225170855,
          -0.10004036659523162,
          -0.05398705016666369,
          -0.06486816293824921,
          -0.05460350208926404,
          -0.025380932239138936,
          -0.08052342235029994,
          -0.08061069969633484,
          -0.05116535825499758,
          -0.07718223703459251,
          -0.057871160474470607,
          -0.04823986849980927,
          -0.1031421463604987,
          -0.035940955272870355,
          -0.029678006821777982,
          -0.04722059708692046,
          -0.07996797189004888,
          -0.0720428091621178,
          -0.04186928028083099,
          -0.07214201503946246,
          -0.06632906251037474,
          -0.032340235363714324,
          -0.05100219038348024,
          -0.0276230935757977,
          -0.060934182215828386,
          -0.020833533365131284,
          -0.062122100471654396,
          -0.03779193041133872,
          -0.07889405333447227,
          0.017133813991442894,
          -0.0317865979627336,
          -0.06333171520898721,
          -0.04156156215530654,
          -0.06663111084367401,
          -0.048117220385466834,
          -0.04980357618941653,
          -0.029131303627509923
         ],
         "xaxis": "x",
         "y": [
          0.10355783040190109,
          0.12855969712450788,
          0.13498096419711417,
          0.15751507688375754,
          0.07053450100588249,
          0.03478123290060038,
          0.17066528357797053,
          0.24020658892388605,
          0.11541810894869209,
          0.10872534653563158,
          0.11736816016763355,
          0.04879922796751102,
          0.1301246754447731,
          0.17692880936182417,
          0.13531944240496832,
          0.10872534653563158,
          0.15775072934421866,
          0.13101244114630964,
          0.11148996198280468,
          0.1529968596938687,
          0.15872637035150455,
          0.13619531607997448,
          0.16112587929955685,
          0.10385969472880448,
          0.07719817451010265,
          0.20821085765585765,
          0.15878952420727832,
          0.1360888524822674,
          0.08943871086164824,
          0.0838564975976414,
          0.0967998135815414,
          0.12565034702015435,
          0.12038160501732129,
          0.11331367716467708,
          0.15311210360726282,
          0.11294619586231941,
          0.13850038746613605,
          0.13364964169207272,
          0.1506726075828085,
          0.16403125148616932,
          0.08911314751499982,
          0.13702314310020594,
          0.15016414969796613,
          0.0860037630192382,
          0.15609633585467556,
          0.101490789660417,
          0.1317569569141398,
          0.29481175191110787,
          0.15611195725963284,
          0.08157037330459431,
          0.24981679643861077,
          0.08371411620767061,
          0.11826953095372594,
          0.08483589510987777,
          0.12860533525766776,
          0.1854462887976213,
          0.10184468458722419,
          0.05048402205482179,
          0.11179186528765057,
          0.10787572069039046,
          0.15311210360726282,
          0.10400488556565812,
          0.09756505506147642,
          0.12031548122949583,
          0.0975826297774941,
          0.10333510451231044,
          0.11295070178472214,
          0.22073510056560802,
          0.12436871426719434,
          0.056530126525410375,
          0.1519618069175954,
          0.1797465397580984,
          0.11550876328468776,
          0.0381418027402276,
          0.0017408170256260583,
          0.05186210174099636,
          0.07802697725906427,
          0.10541204305402792,
          0.048289614251965575,
          0.06949283007890594,
          0.08913242266303298,
          0.08608606738285692,
          0.07896501099671673,
          0.09592892357756413,
          0.07993109036896513,
          0.11608461599543558,
          0.033243547613245605,
          0.05496216380574793,
          0.0871435227193702,
          0.09606112466643348,
          0.0878408298740466,
          0.11608461599543558,
          0.0514756247121263,
          0.05496216380574793,
          0.08937428037102874,
          0.10617763011646267,
          0.14258987828873562,
          0.059910232233938716,
          0.06580775522310683,
          0.11748199933842784,
          0.03119940097428665,
          0.0966675013257018,
          0.0749542447315851,
          0.11579735712757253,
          0.03888318409448135,
          0.10767967290346765,
          0.059448412318149076,
          0.07152619082418704,
          0.0926345137193543,
          0.07232355856726409,
          0.03599469341652979,
          0.041982859542469324,
          0.1358288455072358,
          0.11946837151490526,
          0.10176290937236449,
          0.0486863174237793,
          0.06794390994360357,
          0.06687118382841938,
          0.09693041627009193,
          0.1057844470976722,
          0.059019667553487296,
          0.1393891876278291,
          0.07902952793895276,
          0.02211321429101425,
          0.02211321429101425,
          0.14591500410000224,
          0.03355433604931478,
          0.052741638940835035,
          0.0428970666490256,
          0.08014226446490322,
          0.15134151599402035,
          0.11062048435254428,
          0.07604136081068301,
          0.07385807295708381,
          0.09710071576295286,
          0.0630912107344735,
          0.012569684183802969,
          0.0935001974380862,
          0.14927814110749715,
          0.11403041323154435,
          0.08122486521279516,
          0.07489439966166961,
          0.036560513273824556,
          0.04478999607537252,
          0.044978543596836125,
          0.054211810841409504,
          0.11021260679210619,
          0.027093559325960328,
          0.08270753081983782,
          0.134736032181922,
          0.04516709809811499,
          0.03838449750161888,
          0.0783447294210865,
          0.036060805961034684,
          0.04727239346120478,
          0.06921907188240341,
          0.0640305767719559,
          0.04587704812520083,
          0.028586406909580454,
          0.0675593694127223,
          0.10613465727283708,
          0.07061770401160321,
          0.06841031074587572,
          0.07747963256135282,
          0.07596039798992904,
          0.07602251928911904,
          0.046998432664934454,
          0.06736077148289676,
          0.07948760093551828,
          0.10510495855317409,
          0.10873124858018345,
          0.052936435580701144,
          0.060185427404270485,
          0.07149339023011625
         ],
         "yaxis": "y"
        },
        {
         "hovertemplate": "kmeans_labels=1<br>x=%{x}<br>y=%{y}<extra></extra>",
         "legendgroup": "1",
         "marker": {
          "color": "#EF553B",
          "symbol": "circle"
         },
         "mode": "markers",
         "name": "1",
         "orientation": "v",
         "showlegend": true,
         "type": "scatter",
         "x": [
          -0.00039145102964479954,
          0.11020931999568481,
          0.003042113843394756,
          0.014983815637732054,
          0.131475074567374,
          0.19127779474692896,
          0.13719035423630221,
          0.05714968469744382,
          0.06656297269473777,
          0.15144212508041416,
          0.1351037954673209,
          0.1286726481169689,
          0.10032073507013878,
          0.06058101109571569,
          0.08261301953507474,
          0.03042884433403558,
          0.03818689431167199,
          0.1578215197420641,
          0.19669250254883877,
          0.08507463247688206,
          0.15905990158559213,
          0.15235869006960145,
          0.16229012736453055,
          0.09144060562234553,
          0.062345207189616086,
          0.09352419426060132,
          0.1488352830383126,
          0.13542022687924635,
          0.18706126450291846,
          0.22286817235834458,
          0.10956437792822343,
          0.15621146588659154,
          0.21104487994167503,
          0.061962233820929066,
          0.040536494654199375,
          0.21172999496443876,
          0.03479820754862049,
          0.18256045730627743,
          0.27894415642041515,
          0.13890027669321678,
          0.04423974179434711,
          0.12274247729326723,
          0.12142224417495896,
          0.13723314893402042,
          0.23978392178677435,
          0.10407963631655258,
          0.13266962160789905,
          0.18318802136320558,
          0.09519479349539377,
          0.12650724110089287,
          0.11118798153574908,
          0.13410374845860176,
          0.2689377549228532,
          0.12772404946030466,
          0.07003246164680457,
          0.20726271270216595,
          0.10938373343493465,
          0.10407963631655258,
          0.14103438538079843,
          0.06399476820422402,
          0.10090892212168542,
          0.10405823828290153,
          0.15166025192298338,
          0.04719966343434084,
          0.2119222733867406,
          0.10306852927236908,
          0.04511191998542029,
          0.03886320389447281,
          0.119398098008698,
          0.14630759768399437,
          0.06719972927659659,
          0.08640151799823026,
          0.058795199311829735,
          0.057303260319780065,
          0.053344875019331287,
          0.09023803675499417,
          0.057684990642172904,
          0.1729980502157596,
          0.09533623876177177,
          0.11906118442504797,
          0.17185850209814899,
          0.20445864936013936,
          0.11878756514938862,
          0.051304687788089054,
          0.1764491138570646,
          0.10939819768477609,
          0.05793796832588609,
          0.06601974000618423,
          0.09399430517204078,
          0.16273566538229295,
          0.13223232678857164,
          0.13190270099877732,
          0.1298110557842754,
          0.11253682146269614,
          0.035601131202893224,
          0.04507152106087423,
          0.08219485175533064,
          0.18420933998206532,
          0.063807885474294,
          0.0523712218079623,
          0.13016345423611267,
          0.13855908779220585,
          0.09668634511562213,
          0.1103452768252037,
          0.11742744297712837,
          0.14386443105621577,
          0.18068695116166084,
          0.15126130121099496,
          0.26276523179816236,
          0.1515021258381943,
          0.1519036011496519,
          0.09519479349539377,
          0.11912374521061195,
          0.11920277755171535,
          0.03629793019749243,
          0.12711210894603028,
          0.06978675111314708,
          0.22525417520240468,
          0.14051587669552038,
          0.22355932865510894,
          0.1245100437883549,
          0.13734287912204723,
          0.08029632261550976,
          0.046102089275265004
         ],
         "xaxis": "x",
         "y": [
          0.024815220951883224,
          -0.04193760664692027,
          -0.02024546555393015,
          -0.11222535903994044,
          -0.18052341903297134,
          -0.20489235563076522,
          -0.16539564050518937,
          -0.04929562255569677,
          -0.1032950298006959,
          -0.20132358341681703,
          -0.17710441369533567,
          -0.14552105319163092,
          -0.1294529925387794,
          -0.03393158735162557,
          -0.10268096940974449,
          -0.08582615842747156,
          -0.04005276070150087,
          -0.1596996413942021,
          -0.16117281560024832,
          -0.10723539351808915,
          -0.11346632913867835,
          -0.1580100876571296,
          -0.14665254487248205,
          -0.09957152259177773,
          -0.04831058825818574,
          -0.08050066380129085,
          -0.15831867023811,
          -0.09736422834331916,
          -0.12541101999137724,
          -0.11756778886840882,
          -0.1479236286815164,
          -0.11109399601561298,
          -0.1610909559430734,
          -0.12511563637333095,
          -0.06475094283451485,
          -0.1241193201889283,
          -0.05430413621184454,
          -0.08255797115507223,
          -0.21972782455681986,
          -0.17839170578272065,
          -0.11679578558310102,
          -0.07790776973617675,
          -0.0768522126946035,
          -0.14962273937246884,
          -0.13989810404560946,
          -0.0842836495528754,
          -0.08977201360500142,
          -0.15513132204725877,
          -0.08959800792862352,
          -0.15017436289095815,
          -0.09168091391425258,
          -0.1671072142180712,
          -0.09773280866559038,
          -0.12899007472452045,
          -0.06782972601718806,
          -0.18686192417323805,
          -0.10805420128929871,
          -0.0842836495528754,
          -0.11674483238053504,
          -0.10166178835455816,
          -0.11745156714545867,
          -0.12701429608485817,
          -0.15495032169303832,
          -0.024743927999752634,
          -0.1600710297239548,
          -0.11447339585306883,
          -0.01825947033484189,
          -0.08746171222944783,
          -0.09963494493031186,
          -0.14482429430530983,
          -0.11399113431482127,
          -0.14192941925868974,
          -0.09313866599364395,
          -0.12657777541077472,
          -0.042294448250000526,
          -0.1070569540365034,
          -0.05708533866743673,
          -0.09349292475852426,
          -0.017877007722578768,
          -0.08243185749481474,
          -0.06785302652756556,
          -0.15926035302159533,
          -0.07645044681132171,
          -0.09767725194451411,
          -0.0973098316154398,
          -0.05576610881375489,
          -0.021594898726544853,
          -0.06774456793132703,
          -0.03848754060771921,
          -0.14082933903618292,
          -0.09179538204220329,
          -0.09143799812290535,
          -0.08027325760971545,
          -0.06307218907902223,
          -0.08639738934301591,
          -0.09441677054881165,
          -0.003992772836288034,
          -0.18809901480421015,
          -0.013031425599646066,
          -0.08349284633706167,
          -0.11652161727623504,
          -0.12161526625264656,
          -0.1094651319136601,
          -0.04778288422680089,
          -0.1114758008712988,
          0.004809615017349871,
          -0.15755300665075683,
          -0.18870752353029566,
          -0.21718667580365403,
          -0.20108630311156228,
          -0.07613319972266049,
          -0.08959800792862352,
          -0.1425797418843153,
          -0.04853006246585778,
          -0.061187959423119505,
          -0.1333730630895269,
          -0.10616106293636507,
          -0.15930927951732132,
          -0.16181613330664105,
          -0.11747280477010107,
          -0.08312187818913441,
          -0.0741703425924131,
          -0.043561427961923034,
          -0.04335504168078157
         ],
         "yaxis": "y"
        },
        {
         "hovertemplate": "kmeans_labels=0<br>x=%{x}<br>y=%{y}<extra></extra>",
         "legendgroup": "0",
         "marker": {
          "color": "#00cc96",
          "symbol": "circle"
         },
         "mode": "markers",
         "name": "0",
         "orientation": "v",
         "showlegend": true,
         "type": "scatter",
         "x": [
          -0.09139504578279448,
          -0.12047068167398324,
          -0.14084664673481398,
          -0.14567226383371254,
          -0.08599394060091299,
          -0.1510134447705534,
          -0.08938004542303572,
          -0.0548652799375764,
          -0.05805124562679322,
          -0.056509886728220556,
          -0.09430369060263116,
          -0.1125705710138825,
          -0.12700335343922467,
          -0.05493623726047212,
          -0.12117059450986555,
          -0.12806394565019177,
          -0.14342868036449394,
          -0.13531807561315068,
          -0.13042389147970046,
          -0.14639515613477702,
          -0.1278278273910538,
          -0.05493623726047212,
          -0.13197308853007308,
          -0.07008430772194288
         ],
         "xaxis": "x",
         "y": [
          0.15397270693695825,
          0.3316891399911307,
          0.334125534487842,
          0.33467313713007873,
          0.1799180259415241,
          0.3369423839334114,
          0.16908156710125394,
          0.12895985659633505,
          0.12274365209749939,
          0.079310656118487,
          0.15979032961225959,
          0.2589112493325765,
          0.3036269350976524,
          0.1344231043983309,
          0.32261677227183266,
          0.34414701782805635,
          0.31479688127968175,
          0.3271639723943676,
          0.27814293523127603,
          0.343112841865049,
          0.3381921394945007,
          0.1344231043983309,
          0.30849891928968354,
          0.1340856944868776
         ],
         "yaxis": "y"
        },
        {
         "hovertemplate": "kmeans_labels=3<br>x=%{x}<br>y=%{y}<extra></extra>",
         "legendgroup": "3",
         "marker": {
          "color": "#ab63fa",
          "symbol": "circle"
         },
         "mode": "markers",
         "name": "3",
         "orientation": "v",
         "showlegend": true,
         "type": "scatter",
         "x": [
          -0.05930998594372629,
          -0.022670870162294268,
          -0.06300019572861501,
          0.03105212204284629,
          -0.026194220408709775,
          -0.033546395128314956,
          0.02843909176043663,
          -0.046936971508149926,
          -0.1134818988910851,
          -0.08366626819071117,
          -0.09680081100567567,
          0.073034510140353,
          -0.03374646405559554,
          -0.07624347857323442,
          -0.19870633102784743,
          -0.10033946335823728,
          -0.12689200199363035,
          -0.006176609390365763,
          -0.01646850635741581,
          -0.011347178643143413,
          -0.002004036433164633,
          -0.0051110546695687376,
          -0.05500661524689772,
          -0.123305247280738,
          -0.17117830936816783,
          -0.004622991215718748,
          -0.04148393940171121,
          -0.03792566738907344,
          -0.04711237599859757,
          -0.05171212586904131,
          -0.13819459565938405,
          -0.023972485427461467,
          -0.011138376591050506,
          -0.171300133720428,
          -0.10724020287235121,
          0.004921909138939389,
          -0.06748838817907608,
          -0.13754353901526212,
          -0.06451312649516423,
          -0.017081081937962407,
          0.01651454532774413,
          0.006887924645887415,
          -0.05992278268852532,
          -0.043189471931851096,
          0.021775449640561537,
          -0.0313170873436166,
          -0.05997306133558436,
          -0.07743078911631436,
          -0.06601005441043092,
          -0.06388182632007104,
          -0.10998387449386082,
          -0.14857822358034126,
          -0.04874487910727248,
          -0.0564128138434259,
          -0.08698091050004242,
          -0.02429094277851028,
          -0.026942256480378596,
          -0.04027983225205448,
          -0.053977444808820954,
          -0.047621481083658344,
          -0.047506431220495506,
          -0.05528225143535099,
          -0.10665636572391402,
          -0.060672375628531755,
          -0.12694321969674913,
          -0.08860419289887918,
          -0.07398154580978118,
          -0.1131161042217996,
          -0.0966679839672566,
          -0.18491702407733848,
          -0.055129119833756846,
          -0.08306104310445679,
          -0.050146623329720086,
          -0.0708053722387724,
          -0.05943267699995712,
          -0.08767850733195304,
          -0.06603218341851597,
          -0.11003474887166668,
          -0.1324929838090965,
          -0.20222437173488875,
          -0.08615204805180768,
          -0.033323176523363855,
          -0.0756940722446804,
          -0.008566884505198874,
          -0.12734826690845213,
          -0.07638604905770377,
          -0.07531552227136928,
          -0.18262938167406534,
          -0.08676303142348717,
          -0.05183111913753052,
          -0.07300031240937858,
          -0.13047188551045769,
          -0.13047188551045769,
          -0.14947860081740572,
          -0.11766760650629213,
          -0.03602935241706097,
          -0.07998136220354088,
          -0.07813395814068065,
          -0.10667317297771374,
          -0.07570144896038268,
          -0.03837550439521936,
          -0.09001403185868785,
          -0.10604202208850724,
          -0.05026344386738184,
          -0.07607467229868096,
          -0.11798773406630107,
          -0.0997245282712613,
          -0.11959185067823352,
          -0.14088274596014982,
          -0.06868290507560083,
          -0.12776655427061342,
          -0.051199788363289124,
          -0.07089619049151451,
          -0.04927482994016026,
          -0.05948275612017486,
          -0.11685833189969347,
          -0.04541464381365868,
          -0.054462458239908376,
          -0.1630371300295089,
          -0.04033454873766072,
          -0.11224896549260314,
          -0.03180871241633599,
          -0.025520203448779113,
          -8.553616284039881e-05,
          -0.03244580716968527,
          -0.021962525267424676,
          -0.17504647108361285,
          0.017013930527340078,
          -0.06173166281997493,
          -0.05153848963666199,
          -0.046396145431612384,
          -0.09490803429554041,
          -0.020912160641922195,
          0.005095745688351663,
          -0.038920680560021646,
          -0.11313206880841892,
          -0.11357792603459842,
          -0.060506910029396156,
          -0.05452748262756235,
          -0.1323684030820354,
          -0.032557054422125184,
          -0.05761382225326754,
          -0.06948652577086543,
          -0.13099523433434448,
          -0.10568202918538774,
          -0.11639377625541365,
          -0.09555496577281512,
          -0.13094771049830675,
          -0.01800743630297754,
          -0.06382626279952876,
          -0.10084517403131832,
          -0.19356396335165274,
          -0.06320834524145912,
          -0.05288677014541991,
          -0.11614125229806044,
          -0.05114223055493978,
          -0.09787215786210532,
          -0.07203705293313524,
          -0.05690581368513105,
          -0.07889835704271486,
          -0.14643177941127367,
          -0.044533290014179924,
          -0.11365582502437423,
          -0.14643177941127367,
          -0.06708913422175371,
          -0.06848685250586484,
          -0.06848685250586484,
          -0.09293093550379967,
          -0.06937478396780775,
          -0.06026250142831042,
          -0.05177137505640221,
          -0.036201333578302596,
          -0.0601731783935055,
          -0.08722805958662647,
          -0.1333971838149537,
          -0.07239958264070871,
          -0.04074060282858088,
          -0.04014323592656477,
          -0.0603110489553801,
          -0.07182556394693294,
          -0.15653935061870264,
          -0.07457380382927797,
          -0.16986679600146842,
          -0.09026774140208321,
          -0.05517929575455469,
          -0.04013522176037668,
          -0.061868665379254784,
          -0.08170045407965836,
          -0.1283904160109591,
          -0.08670352730375396,
          -0.09575499670609662,
          -0.07991570205925459,
          -0.16116363318612914,
          -0.15688009516423987,
          -0.11921131221031689,
          -0.07901466310291812,
          -0.07268244382519398,
          -0.05907294489334734,
          0.0051444351904794475,
          -0.03685611656188509,
          -0.10091519633251536,
          -0.07665601709340572,
          -0.06761856818871312,
          -0.0536136350237638,
          -0.1956858801857143,
          -0.055158608808970465,
          -0.06537106380555865,
          -0.07698316440582419,
          -0.04279022803273027,
          -0.20006148475592456,
          -0.052049154201261515,
          -0.14455996806183985,
          -0.08366626819071117,
          -0.06643350986884684,
          -0.07778099606038176,
          -0.035400800184991324,
          -0.04748054965662321,
          -0.12161235746470447,
          -0.07008254365565156,
          -0.03019801133384586,
          -0.05994499366595678,
          -0.02294342929613528,
          0.002474458591410576,
          -0.13373014740650568,
          -0.005735212030225909,
          -0.1006074649958295,
          -0.03261765781762857,
          -0.042245262466918995,
          -0.09710513523589005,
          -0.032396720779176054,
          -0.08204575723475542,
          -0.1814017965811099,
          -0.12597646435206244,
          -0.0868382532141331,
          -0.09162860775315036,
          -0.060315213736480564,
          -0.04871814786995992,
          -0.024591997868123217,
          -0.0893101824253656,
          -0.06683077210921518,
          -0.18563307078759186,
          -0.11396194018343501,
          -0.12269780994787861,
          -0.06403024108923741,
          -0.17258829119348051,
          -0.0805057077295794,
          -0.1301016711315564,
          -0.0758332241939622,
          -0.025440082930185588,
          -0.045443236340325814,
          -0.05801300149575221,
          -0.14919574076003905,
          -0.07927712013077341,
          -0.12632349552600136,
          -0.07920222523360367,
          -0.04088639701302524,
          -0.039936465868262654,
          -0.05491981128688209,
          -0.10138141453022531,
          -0.00946847868575473,
          -0.051745718503800775,
          -0.08301450171738602,
          -0.02172874341800927,
          -0.09828780455232565,
          -0.06481319822149717,
          -0.03564905283373864,
          -0.0028968959427430646,
          0.03999374787626774,
          0.009767979568687031,
          0.027287305151366983,
          -0.008923193103819232,
          -0.007448906806566845,
          0.025353435931992494,
          0.03653369383873341,
          -0.024852143027838777,
          0.0041791828076594454,
          -0.0020418472682457956,
          0.02501089052700151,
          -0.016509128711296128,
          0.021180067502830222,
          0.06374498991640737,
          0.015162978691126915,
          0.044649067616582876,
          0.02236602142843677,
          0.0021053379054295925,
          -0.055063780790188546,
          -0.053881558537548294,
          0.028898258511591984,
          0.027150353403534902,
          -0.04070157238402672,
          -0.0021702408596213055,
          -0.031238958670776924,
          -0.021912573634975386,
          -0.04799596490504401,
          -0.06652292539570474,
          -0.04874415775887379
         ],
         "xaxis": "x",
         "y": [
          0.06557396995855162,
          0.01322751699214613,
          0.01760311321506983,
          0.008229255272680163,
          0.06434789157775923,
          0.06280981454434557,
          -0.004373474063244481,
          -0.08551296278793237,
          -0.11568379971469583,
          -0.06952158593062774,
          -0.06790957030680822,
          -0.06198284670402227,
          -0.009071734131948485,
          -0.09484380198316905,
          -0.21802868804332975,
          -0.11989267357636477,
          -0.16648389218401421,
          -0.05622435765143781,
          -0.04596425357650631,
          -0.042952371168616575,
          -0.027140950773001483,
          -0.018046302428718835,
          -0.058294878399935815,
          -0.1992545574860398,
          -0.1704953877738713,
          -0.04519567677657358,
          -0.04319823053847838,
          -0.10391009323969337,
          -0.033454044985218645,
          -0.015489951615568296,
          -0.12697576297654542,
          -0.12860556962973138,
          -0.07941274488658592,
          -0.1702211174563985,
          -0.1219055308273995,
          -0.07062178984635858,
          -0.03290698027391808,
          -0.142248505646227,
          -0.07848688334220714,
          -0.014349775837608113,
          -0.04274156343909186,
          -0.04918894347070541,
          -0.009007450302783089,
          0.014860714907405839,
          -0.00984796292297207,
          -0.020355025975307143,
          0.036751910238281185,
          -0.07442694318022691,
          -0.057951383032299256,
          -0.08271212618517819,
          -0.1012143696934369,
          -0.17332165139294145,
          -0.1425282453598953,
          -0.03396169447070094,
          -0.08137594537846413,
          -0.05161176555401002,
          -0.018765997101292165,
          -0.031620343445926555,
          -0.007451538982755773,
          0.00633730989630463,
          -0.08585947954739996,
          -0.11045985801683596,
          -0.11049232304399018,
          -0.013254405528279537,
          -0.08878192275639557,
          -0.11317019397705651,
          -0.07758290143844934,
          -0.11376556167533367,
          -0.0693810047249151,
          -0.24139330607043344,
          -0.11241063941123586,
          -0.057184679426658475,
          -0.05818028645531073,
          -0.07283685465630259,
          -0.028316511599799508,
          -0.07377933225121165,
          -0.035025918804417334,
          -0.09052507541506577,
          -0.08538964577616394,
          -0.1826724408330619,
          -0.005964237872724075,
          -0.005041861916525625,
          -0.06802275368558854,
          0.013662872458656817,
          -0.081493074993861,
          -0.01886632376155514,
          -0.07476499314313195,
          -0.16534757390989027,
          -0.06488958252123422,
          -0.062443613428285916,
          -0.10417874083964837,
          -0.14150997950027266,
          -0.14150997950027266,
          -0.15587558228052326,
          -0.12272553521661682,
          -0.03895847143174263,
          -0.06127402159971903,
          -0.04755578302483316,
          -0.08020314959148687,
          -0.05997450301025445,
          -0.005958563009011373,
          -0.09574607908472364,
          -0.05598712216760656,
          -0.013178424445163607,
          -0.06938600884403436,
          -0.10494660679372238,
          -0.06982131037972804,
          -0.09717782813823367,
          -0.001036901795204401,
          -0.0890398776199844,
          -0.050646127749255775,
          -0.021005842615478786,
          -0.01683814362571866,
          0.0045817655740982,
          -0.06729015889596039,
          -0.08671017881974427,
          -0.02564918376741836,
          -0.07619547242816012,
          -0.17245620272860046,
          -0.00554239296803048,
          -0.06932813871796926,
          -0.04696202354942035,
          -0.007780791673774537,
          0.010138681101166573,
          -0.07639221876059868,
          -0.08135273091604418,
          -0.20005063847668603,
          -0.006456842139205527,
          -0.03002826337923714,
          -0.041743595753351626,
          -0.06739983311570809,
          -0.13560444928184714,
          0.011178461078785262,
          0.0003436147438848153,
          -0.05571805795010122,
          -0.12257633310227171,
          -0.14444949869945814,
          -0.06903064026933568,
          -0.02633295540736344,
          -0.14894860844034008,
          -0.05581406973722933,
          -0.03387541459833411,
          -0.0040434845264583005,
          -0.1498840515397462,
          -0.15931505754335407,
          -0.09420808430520118,
          -0.11976064628349987,
          -0.13229123209143012,
          -0.05337714518873217,
          0.04308284220426992,
          -0.0889381188058788,
          -0.1976667571013628,
          -0.050539482838272864,
          -0.037203568223009666,
          -0.13660662235020787,
          -0.06686706090629108,
          -0.11089074751359658,
          -0.035219390126097115,
          -0.06452760681445868,
          -0.0397966044819862,
          -0.1669523537462399,
          0.0017241453947380648,
          -0.09190112710358654,
          -0.1669523537462399,
          -0.05491860148363801,
          -0.014334130277690415,
          -0.014334130277690415,
          -0.09686564911635746,
          -0.0650053658287308,
          -0.03259883909857878,
          -0.001260938729177508,
          -0.05198960279331453,
          -0.03350304182731865,
          -0.028967567814344435,
          -0.10600975390811113,
          -0.0922733201224254,
          -0.08677343266645518,
          -0.06583887164945255,
          -0.0717196252155851,
          0.01817048762093952,
          -0.0942109259721309,
          -0.04772727641839622,
          -0.19751306665208754,
          -0.06681845773437778,
          -0.030777514045505237,
          -0.02039766921556978,
          -0.09007577641441421,
          -0.06357878366524414,
          -0.13702599626913417,
          -0.12923347367912855,
          -0.1113421474493027,
          -0.11864588116704418,
          -0.13172034513308706,
          -0.19396378571922124,
          -0.16890399905931788,
          -0.09029403611354712,
          -0.0926206944035752,
          -0.033798955978126995,
          -0.037634869332800074,
          0.005363347187792286,
          -0.14928735665030496,
          -0.17759384121522775,
          -0.1498743232829077,
          -0.0621184222220189,
          -0.2482281766567328,
          -0.07302652293590121,
          -0.06577468763618544,
          -0.11706023444071711,
          -0.027001807344811262,
          -0.21810306014301625,
          -0.04311823064219976,
          -0.17250594236704767,
          -0.06952158593062774,
          -0.12626952917532328,
          -0.12806958133865026,
          -0.02955379229802401,
          -0.05579947781787098,
          -0.13718519517717565,
          -0.0914480660308077,
          -0.010889228399294392,
          -0.06186722351741423,
          -0.010165946511418856,
          0.009024738383152495,
          -0.18641676084567077,
          -0.05294477578377015,
          -0.06314879836731704,
          -0.0004001892433204686,
          -0.00838450239766155,
          -0.11883015138077177,
          -0.012840042745842793,
          -0.058186065550606264,
          -0.18853714184413495,
          -0.10153028731673855,
          -0.05741160442425647,
          -0.06475854435778046,
          -0.038679960530523604,
          -0.014862794071784681,
          -0.08414941144776462,
          -0.0927031733788278,
          -0.08477775734571222,
          -0.16906033069437723,
          -0.13195484134929963,
          -0.10797556063327846,
          -0.024345908569766685,
          -0.20342337243873185,
          -0.03522063948849653,
          -0.11490502408761583,
          -0.06437068289455868,
          -0.07014510050661145,
          0.023444057163558706,
          -0.09682451552434382,
          -0.1524969926845121,
          -0.09445017918465863,
          -0.12246228812772468,
          -0.0948312844618947,
          -0.053483360836748255,
          -0.010862681377124983,
          0.023122090595136726,
          -0.00677195981972973,
          0.030860798517174628,
          -0.04363495504903328,
          -0.11120805046632791,
          -0.02296761513315359,
          -0.10854712840147532,
          -0.028429497644853148,
          -0.02234297366029052,
          -0.021075023694921854,
          -0.04243749359563399,
          -0.05586413852741895,
          -0.0981672608197283,
          -0.01260542623018824,
          0.01927367978975388,
          0.00664823040407386,
          0.007964637099231505,
          -0.026539601805375623,
          -0.026001964418906634,
          -0.05028722276537761,
          -0.027291666795214282,
          -0.02497464037921604,
          -0.008124098205327139,
          -0.0187831980200511,
          -0.016244197019612907,
          0.0084130621392449,
          -0.08099431893567767,
          -0.07236647119344278,
          -0.03058622700653493,
          -0.03162194965188317,
          -0.025763974861123584,
          -0.019626064476480784,
          -0.05773753376045618,
          -0.06513530271662005,
          -0.055032998371906144,
          -0.07852100680167501,
          -0.04066741128345934,
          0.011550734383203651,
          0.013671634999867564
         ],
         "yaxis": "y"
        },
        {
         "hovertemplate": "kmeans_labels=2<br>x=%{x}<br>y=%{y}<extra></extra>",
         "legendgroup": "2",
         "marker": {
          "color": "#FFA15A",
          "symbol": "circle"
         },
         "mode": "markers",
         "name": "2",
         "orientation": "v",
         "showlegend": true,
         "type": "scatter",
         "x": [
          0.2533584824452883,
          0.2141544170660787,
          0.22600274460322273,
          0.21753010066315148,
          0.11985503211475769,
          0.13985354029265684,
          0.12124980214007011,
          0.1064500032385332,
          0.149495653017514,
          0.1016492319253593,
          0.12017893014243411,
          0.05250966592115203,
          0.3133509656774881,
          0.06330921486502797,
          0.20980645359132286,
          0.03219976264606484,
          0.06163280033912787,
          0.1488761428378602,
          0.22548999334534317,
          0.17597637927395382,
          0.06163280033912787,
          0.18919808574118563,
          0.13952342216547695,
          0.16208869618764898,
          0.0727186801568212,
          0.2149176294039015,
          0.23013896383320456,
          0.21141161871988962,
          0.139698013339386,
          0.10522251327242857,
          0.25219227835181124,
          0.16208869618764898,
          0.0727186801568212,
          0.19228392291450044,
          0.0928454635892723,
          0.11191587269762164,
          0.08187754677651035,
          0.16462773400908218,
          0.11107513942774529,
          0.18270475190735588,
          0.1294610914192982,
          0.24583287565794382,
          0.25079640192008484,
          0.2143571528660982,
          0.2628589765249923,
          0.16637231537392339,
          0.06130876248786615,
          0.19766923319054164,
          0.13304662479986282,
          0.18824591765824086,
          0.26574350429250254,
          0.26625520068784286,
          0.23025336227726814,
          0.12788622467473906,
          0.22397701075673038,
          0.11949923750367644,
          0.05634318946775099,
          0.20610744821603494,
          0.16754413292297826,
          0.16741983769459362,
          0.2296786942078331,
          0.29789849218679737,
          0.2087590603065333,
          0.1575824465540135,
          0.12858032590038024,
          0.19265278489384133,
          0.3710506393343063,
          0.1307724701569198,
          0.2574426147852465,
          0.34176760889418567,
          0.15525574224703206,
          0.3049732180218549,
          0.24928504595877085,
          0.351347133741568,
          0.1959497636156322,
          0.16893248878208764,
          0.06191236878357947,
          0.18958723169310993,
          0.2468630328890604,
          0.17387114612874457,
          0.27551331481968966,
          0.3269014475347868,
          0.32741051679925276,
          0.10468687413218838,
          0.2663974121947744,
          0.27973990380700403,
          0.2830297496505458,
          0.2770024773508976,
          0.13888098283706155,
          0.08980254537662422,
          0.20735194950202718,
          0.031061208800060615,
          0.14530448562272724,
          0.1769495546384141,
          0.11099701553537918,
          0.17793118194490398,
          0.10026137512001285,
          0.16851139490928954,
          0.08756373751834548,
          0.01733360954152713,
          0.08967133023672844,
          0.09370682013325508,
          0.06739996196198816,
          0.0471118562824118,
          0.20530567979591421,
          0.03893711176630156,
          0.2861522843810289,
          0.20410379666438933,
          0.1137172488743238,
          0.1661831011648592,
          0.12964029111486927,
          0.10114677571277782,
          0.2086333946317444,
          0.11362910056296179,
          0.23114150835183989,
          0.10358725509732389,
          0.134805790615984,
          0.08431100704384067,
          0.11963264463064371
         ],
         "xaxis": "x",
         "y": [
          0.11963346402676996,
          0.057182296851713124,
          0.09685635000113609,
          0.17723539991082085,
          0.008898574500735088,
          0.028652222458676612,
          0.10666050667942151,
          0.07342231869473641,
          0.14629625748463052,
          0.059799364842103284,
          0.10358461352452843,
          -0.006126135862102964,
          0.0716296591780033,
          0.028369497962385574,
          0.07593747822167468,
          0.0019058341244698955,
          0.06390570061002919,
          0.04699102725119988,
          0.06507084409120124,
          0.03184665105110591,
          0.06390570061002919,
          0.17102693162661006,
          0.10988582125525896,
          0.13983351808355085,
          0.11235858903284619,
          0.17286139440137296,
          0.09085483375667723,
          0.13345843721236106,
          0.10960898186399348,
          0.03177588096399166,
          0.0744548489482986,
          0.13983351808355085,
          0.11235858903284619,
          0.17591554079210828,
          0.07623827311605653,
          0.04333180440941813,
          0.09403647678639372,
          0.09449066552027521,
          0.06083775311365116,
          0.0413002794309064,
          0.12281940538617908,
          0.030862626119303484,
          0.05991413481342704,
          0.1626531259892196,
          0.17566730469462757,
          0.09036251487667582,
          0.07768748881191415,
          0.034922122626660945,
          0.07007783457643252,
          0.05030157148225909,
          0.11447497955509708,
          0.11555230440349985,
          0.15633311044945888,
          0.11097910089399726,
          0.1113331045928393,
          0.10164228783795598,
          0.08025354038408201,
          0.11298174729026482,
          0.16173802751149596,
          0.16123616555349496,
          0.16612022967720894,
          0.017334005109886006,
          0.05453573822064756,
          0.15459409611831615,
          0.07720722980006937,
          0.026939874079826537,
          0.06905570309893669,
          0.028451683280557395,
          0.20651320776226775,
          0.016527943302366087,
          0.09844847153153054,
          0.07110235208237474,
          0.20316434357190288,
          0.06683871489584593,
          -0.000245198224807594,
          0.13858968645247316,
          0.059516681966941314,
          0.03880044081198954,
          0.060243366377797904,
          0.12929652679202613,
          0.1788480557054719,
          0.06348703918500027,
          0.06610915722002547,
          0.0967125603847014,
          0.21439640361548326,
          0.20454039212777403,
          0.20613799943422945,
          0.01889698546548279,
          0.11328418466365694,
          0.050480015555899274,
          0.06025560767589768,
          0.0701262499035653,
          0.015834018941349576,
          0.028754251751611115,
          -0.01920933956389037,
          0.1278434829917727,
          0.0541365970510638,
          0.13649356867672163,
          0.07625235428420082,
          0.06484265858621703,
          0.06621247097414443,
          0.12289996963031109,
          0.06437895591204074,
          0.05711362882087851,
          0.031409917706551084,
          0.011833859552140369,
          0.02229286130658727,
          0.12200836934537394,
          0.10730792068908801,
          0.11738904633010305,
          0.12315722895553603,
          0.07398068443225865,
          0.02744181030338417,
          0.04957813203997981,
          0.021561349702934305,
          0.07468675221934108,
          0.1033261869108703,
          -0.002153623968749724,
          0.08178005923035563
         ],
         "yaxis": "y"
        }
       ],
       "layout": {
        "legend": {
         "title": {
          "text": "kmeans_labels"
         },
         "tracegroupgap": 0
        },
        "template": {
         "data": {
          "bar": [
           {
            "error_x": {
             "color": "#2a3f5f"
            },
            "error_y": {
             "color": "#2a3f5f"
            },
            "marker": {
             "line": {
              "color": "#E5ECF6",
              "width": 0.5
             },
             "pattern": {
              "fillmode": "overlay",
              "size": 10,
              "solidity": 0.2
             }
            },
            "type": "bar"
           }
          ],
          "barpolar": [
           {
            "marker": {
             "line": {
              "color": "#E5ECF6",
              "width": 0.5
             },
             "pattern": {
              "fillmode": "overlay",
              "size": 10,
              "solidity": 0.2
             }
            },
            "type": "barpolar"
           }
          ],
          "carpet": [
           {
            "aaxis": {
             "endlinecolor": "#2a3f5f",
             "gridcolor": "white",
             "linecolor": "white",
             "minorgridcolor": "white",
             "startlinecolor": "#2a3f5f"
            },
            "baxis": {
             "endlinecolor": "#2a3f5f",
             "gridcolor": "white",
             "linecolor": "white",
             "minorgridcolor": "white",
             "startlinecolor": "#2a3f5f"
            },
            "type": "carpet"
           }
          ],
          "choropleth": [
           {
            "colorbar": {
             "outlinewidth": 0,
             "ticks": ""
            },
            "type": "choropleth"
           }
          ],
          "contour": [
           {
            "colorbar": {
             "outlinewidth": 0,
             "ticks": ""
            },
            "colorscale": [
             [
              0,
              "#0d0887"
             ],
             [
              0.1111111111111111,
              "#46039f"
             ],
             [
              0.2222222222222222,
              "#7201a8"
             ],
             [
              0.3333333333333333,
              "#9c179e"
             ],
             [
              0.4444444444444444,
              "#bd3786"
             ],
             [
              0.5555555555555556,
              "#d8576b"
             ],
             [
              0.6666666666666666,
              "#ed7953"
             ],
             [
              0.7777777777777778,
              "#fb9f3a"
             ],
             [
              0.8888888888888888,
              "#fdca26"
             ],
             [
              1,
              "#f0f921"
             ]
            ],
            "type": "contour"
           }
          ],
          "contourcarpet": [
           {
            "colorbar": {
             "outlinewidth": 0,
             "ticks": ""
            },
            "type": "contourcarpet"
           }
          ],
          "heatmap": [
           {
            "colorbar": {
             "outlinewidth": 0,
             "ticks": ""
            },
            "colorscale": [
             [
              0,
              "#0d0887"
             ],
             [
              0.1111111111111111,
              "#46039f"
             ],
             [
              0.2222222222222222,
              "#7201a8"
             ],
             [
              0.3333333333333333,
              "#9c179e"
             ],
             [
              0.4444444444444444,
              "#bd3786"
             ],
             [
              0.5555555555555556,
              "#d8576b"
             ],
             [
              0.6666666666666666,
              "#ed7953"
             ],
             [
              0.7777777777777778,
              "#fb9f3a"
             ],
             [
              0.8888888888888888,
              "#fdca26"
             ],
             [
              1,
              "#f0f921"
             ]
            ],
            "type": "heatmap"
           }
          ],
          "heatmapgl": [
           {
            "colorbar": {
             "outlinewidth": 0,
             "ticks": ""
            },
            "colorscale": [
             [
              0,
              "#0d0887"
             ],
             [
              0.1111111111111111,
              "#46039f"
             ],
             [
              0.2222222222222222,
              "#7201a8"
             ],
             [
              0.3333333333333333,
              "#9c179e"
             ],
             [
              0.4444444444444444,
              "#bd3786"
             ],
             [
              0.5555555555555556,
              "#d8576b"
             ],
             [
              0.6666666666666666,
              "#ed7953"
             ],
             [
              0.7777777777777778,
              "#fb9f3a"
             ],
             [
              0.8888888888888888,
              "#fdca26"
             ],
             [
              1,
              "#f0f921"
             ]
            ],
            "type": "heatmapgl"
           }
          ],
          "histogram": [
           {
            "marker": {
             "pattern": {
              "fillmode": "overlay",
              "size": 10,
              "solidity": 0.2
             }
            },
            "type": "histogram"
           }
          ],
          "histogram2d": [
           {
            "colorbar": {
             "outlinewidth": 0,
             "ticks": ""
            },
            "colorscale": [
             [
              0,
              "#0d0887"
             ],
             [
              0.1111111111111111,
              "#46039f"
             ],
             [
              0.2222222222222222,
              "#7201a8"
             ],
             [
              0.3333333333333333,
              "#9c179e"
             ],
             [
              0.4444444444444444,
              "#bd3786"
             ],
             [
              0.5555555555555556,
              "#d8576b"
             ],
             [
              0.6666666666666666,
              "#ed7953"
             ],
             [
              0.7777777777777778,
              "#fb9f3a"
             ],
             [
              0.8888888888888888,
              "#fdca26"
             ],
             [
              1,
              "#f0f921"
             ]
            ],
            "type": "histogram2d"
           }
          ],
          "histogram2dcontour": [
           {
            "colorbar": {
             "outlinewidth": 0,
             "ticks": ""
            },
            "colorscale": [
             [
              0,
              "#0d0887"
             ],
             [
              0.1111111111111111,
              "#46039f"
             ],
             [
              0.2222222222222222,
              "#7201a8"
             ],
             [
              0.3333333333333333,
              "#9c179e"
             ],
             [
              0.4444444444444444,
              "#bd3786"
             ],
             [
              0.5555555555555556,
              "#d8576b"
             ],
             [
              0.6666666666666666,
              "#ed7953"
             ],
             [
              0.7777777777777778,
              "#fb9f3a"
             ],
             [
              0.8888888888888888,
              "#fdca26"
             ],
             [
              1,
              "#f0f921"
             ]
            ],
            "type": "histogram2dcontour"
           }
          ],
          "mesh3d": [
           {
            "colorbar": {
             "outlinewidth": 0,
             "ticks": ""
            },
            "type": "mesh3d"
           }
          ],
          "parcoords": [
           {
            "line": {
             "colorbar": {
              "outlinewidth": 0,
              "ticks": ""
             }
            },
            "type": "parcoords"
           }
          ],
          "pie": [
           {
            "automargin": true,
            "type": "pie"
           }
          ],
          "scatter": [
           {
            "fillpattern": {
             "fillmode": "overlay",
             "size": 10,
             "solidity": 0.2
            },
            "type": "scatter"
           }
          ],
          "scatter3d": [
           {
            "line": {
             "colorbar": {
              "outlinewidth": 0,
              "ticks": ""
             }
            },
            "marker": {
             "colorbar": {
              "outlinewidth": 0,
              "ticks": ""
             }
            },
            "type": "scatter3d"
           }
          ],
          "scattercarpet": [
           {
            "marker": {
             "colorbar": {
              "outlinewidth": 0,
              "ticks": ""
             }
            },
            "type": "scattercarpet"
           }
          ],
          "scattergeo": [
           {
            "marker": {
             "colorbar": {
              "outlinewidth": 0,
              "ticks": ""
             }
            },
            "type": "scattergeo"
           }
          ],
          "scattergl": [
           {
            "marker": {
             "colorbar": {
              "outlinewidth": 0,
              "ticks": ""
             }
            },
            "type": "scattergl"
           }
          ],
          "scattermapbox": [
           {
            "marker": {
             "colorbar": {
              "outlinewidth": 0,
              "ticks": ""
             }
            },
            "type": "scattermapbox"
           }
          ],
          "scatterpolar": [
           {
            "marker": {
             "colorbar": {
              "outlinewidth": 0,
              "ticks": ""
             }
            },
            "type": "scatterpolar"
           }
          ],
          "scatterpolargl": [
           {
            "marker": {
             "colorbar": {
              "outlinewidth": 0,
              "ticks": ""
             }
            },
            "type": "scatterpolargl"
           }
          ],
          "scatterternary": [
           {
            "marker": {
             "colorbar": {
              "outlinewidth": 0,
              "ticks": ""
             }
            },
            "type": "scatterternary"
           }
          ],
          "surface": [
           {
            "colorbar": {
             "outlinewidth": 0,
             "ticks": ""
            },
            "colorscale": [
             [
              0,
              "#0d0887"
             ],
             [
              0.1111111111111111,
              "#46039f"
             ],
             [
              0.2222222222222222,
              "#7201a8"
             ],
             [
              0.3333333333333333,
              "#9c179e"
             ],
             [
              0.4444444444444444,
              "#bd3786"
             ],
             [
              0.5555555555555556,
              "#d8576b"
             ],
             [
              0.6666666666666666,
              "#ed7953"
             ],
             [
              0.7777777777777778,
              "#fb9f3a"
             ],
             [
              0.8888888888888888,
              "#fdca26"
             ],
             [
              1,
              "#f0f921"
             ]
            ],
            "type": "surface"
           }
          ],
          "table": [
           {
            "cells": {
             "fill": {
              "color": "#EBF0F8"
             },
             "line": {
              "color": "white"
             }
            },
            "header": {
             "fill": {
              "color": "#C8D4E3"
             },
             "line": {
              "color": "white"
             }
            },
            "type": "table"
           }
          ]
         },
         "layout": {
          "annotationdefaults": {
           "arrowcolor": "#2a3f5f",
           "arrowhead": 0,
           "arrowwidth": 1
          },
          "autotypenumbers": "strict",
          "coloraxis": {
           "colorbar": {
            "outlinewidth": 0,
            "ticks": ""
           }
          },
          "colorscale": {
           "diverging": [
            [
             0,
             "#8e0152"
            ],
            [
             0.1,
             "#c51b7d"
            ],
            [
             0.2,
             "#de77ae"
            ],
            [
             0.3,
             "#f1b6da"
            ],
            [
             0.4,
             "#fde0ef"
            ],
            [
             0.5,
             "#f7f7f7"
            ],
            [
             0.6,
             "#e6f5d0"
            ],
            [
             0.7,
             "#b8e186"
            ],
            [
             0.8,
             "#7fbc41"
            ],
            [
             0.9,
             "#4d9221"
            ],
            [
             1,
             "#276419"
            ]
           ],
           "sequential": [
            [
             0,
             "#0d0887"
            ],
            [
             0.1111111111111111,
             "#46039f"
            ],
            [
             0.2222222222222222,
             "#7201a8"
            ],
            [
             0.3333333333333333,
             "#9c179e"
            ],
            [
             0.4444444444444444,
             "#bd3786"
            ],
            [
             0.5555555555555556,
             "#d8576b"
            ],
            [
             0.6666666666666666,
             "#ed7953"
            ],
            [
             0.7777777777777778,
             "#fb9f3a"
            ],
            [
             0.8888888888888888,
             "#fdca26"
            ],
            [
             1,
             "#f0f921"
            ]
           ],
           "sequentialminus": [
            [
             0,
             "#0d0887"
            ],
            [
             0.1111111111111111,
             "#46039f"
            ],
            [
             0.2222222222222222,
             "#7201a8"
            ],
            [
             0.3333333333333333,
             "#9c179e"
            ],
            [
             0.4444444444444444,
             "#bd3786"
            ],
            [
             0.5555555555555556,
             "#d8576b"
            ],
            [
             0.6666666666666666,
             "#ed7953"
            ],
            [
             0.7777777777777778,
             "#fb9f3a"
            ],
            [
             0.8888888888888888,
             "#fdca26"
            ],
            [
             1,
             "#f0f921"
            ]
           ]
          },
          "colorway": [
           "#636efa",
           "#EF553B",
           "#00cc96",
           "#ab63fa",
           "#FFA15A",
           "#19d3f3",
           "#FF6692",
           "#B6E880",
           "#FF97FF",
           "#FECB52"
          ],
          "font": {
           "color": "#2a3f5f"
          },
          "geo": {
           "bgcolor": "white",
           "lakecolor": "white",
           "landcolor": "#E5ECF6",
           "showlakes": true,
           "showland": true,
           "subunitcolor": "white"
          },
          "hoverlabel": {
           "align": "left"
          },
          "hovermode": "closest",
          "mapbox": {
           "style": "light"
          },
          "paper_bgcolor": "white",
          "plot_bgcolor": "#E5ECF6",
          "polar": {
           "angularaxis": {
            "gridcolor": "white",
            "linecolor": "white",
            "ticks": ""
           },
           "bgcolor": "#E5ECF6",
           "radialaxis": {
            "gridcolor": "white",
            "linecolor": "white",
            "ticks": ""
           }
          },
          "scene": {
           "xaxis": {
            "backgroundcolor": "#E5ECF6",
            "gridcolor": "white",
            "gridwidth": 2,
            "linecolor": "white",
            "showbackground": true,
            "ticks": "",
            "zerolinecolor": "white"
           },
           "yaxis": {
            "backgroundcolor": "#E5ECF6",
            "gridcolor": "white",
            "gridwidth": 2,
            "linecolor": "white",
            "showbackground": true,
            "ticks": "",
            "zerolinecolor": "white"
           },
           "zaxis": {
            "backgroundcolor": "#E5ECF6",
            "gridcolor": "white",
            "gridwidth": 2,
            "linecolor": "white",
            "showbackground": true,
            "ticks": "",
            "zerolinecolor": "white"
           }
          },
          "shapedefaults": {
           "line": {
            "color": "#2a3f5f"
           }
          },
          "ternary": {
           "aaxis": {
            "gridcolor": "white",
            "linecolor": "white",
            "ticks": ""
           },
           "baxis": {
            "gridcolor": "white",
            "linecolor": "white",
            "ticks": ""
           },
           "bgcolor": "#E5ECF6",
           "caxis": {
            "gridcolor": "white",
            "linecolor": "white",
            "ticks": ""
           }
          },
          "title": {
           "x": 0.05
          },
          "xaxis": {
           "automargin": true,
           "gridcolor": "white",
           "linecolor": "white",
           "ticks": "",
           "title": {
            "standoff": 15
           },
           "zerolinecolor": "white",
           "zerolinewidth": 2
          },
          "yaxis": {
           "automargin": true,
           "gridcolor": "white",
           "linecolor": "white",
           "ticks": "",
           "title": {
            "standoff": 15
           },
           "zerolinecolor": "white",
           "zerolinewidth": 2
          }
         }
        },
        "title": {
         "text": "K-means BBC Sport news"
        },
        "xaxis": {
         "anchor": "y",
         "domain": [
          0,
          1
         ],
         "title": {
          "text": "x"
         }
        },
        "yaxis": {
         "anchor": "x",
         "domain": [
          0,
          1
         ],
         "title": {
          "text": "y"
         }
        }
       }
      },
      "text/html": [
       "<div>                            <div id=\"73860872-ceda-45f4-af78-edb22cb2c851\" class=\"plotly-graph-div\" style=\"height:525px; width:100%;\"></div>            <script type=\"text/javascript\">                require([\"plotly\"], function(Plotly) {                    window.PLOTLYENV=window.PLOTLYENV || {};                                    if (document.getElementById(\"73860872-ceda-45f4-af78-edb22cb2c851\")) {                    Plotly.newPlot(                        \"73860872-ceda-45f4-af78-edb22cb2c851\",                        [{\"hovertemplate\":\"kmeans_labels=4<br>x=%{x}<br>y=%{y}<extra></extra>\",\"legendgroup\":\"4\",\"marker\":{\"color\":\"#636efa\",\"symbol\":\"circle\"},\"mode\":\"markers\",\"name\":\"4\",\"orientation\":\"v\",\"showlegend\":true,\"x\":[-0.09100947927955842,-0.11761578738228744,-0.091267638597148,-0.11032991455579132,-0.029021007456175155,-0.042960579549675276,-0.12888671475650101,-0.15749304365625563,-0.09595031079570551,-0.10782462455669792,-0.08983019474232509,-0.08054203569202538,-0.07798080773243961,-0.10523620636345582,-0.11148627831928193,-0.10782462455669792,-0.0971014077945744,-0.1071221538607088,-0.07479757098974087,-0.10890925443238163,-0.09925815331363393,-0.11472207181238474,-0.10911551151170273,-0.07438177355817532,-0.049767571216718334,-0.13231567478291975,-0.1317472904934344,-0.10212052065515008,-0.10211261497653328,-0.0795398710501184,-0.06949683100908492,-0.09041937138615926,-0.06174674673978587,-0.08179658997422738,-0.09392897452937919,-0.09632788157234842,-0.0968445958669859,-0.10451315525575354,-0.12822807973666042,-0.13838447740999887,-0.11370224196345972,-0.10010812492441527,-0.11208084981291583,-0.06177717892401035,-0.12157713436534442,-0.06477301329306773,-0.11027224793111189,-0.16011336014374525,-0.11220881396085038,-0.030195429023632203,-0.17670579671819966,-0.10721421731822013,-0.10577381038017346,-0.10767435087951506,-0.10511087644079306,-0.10481561529165648,-0.06419009011954517,-0.014981881596172439,-0.0810477746539599,-0.06375799368906925,-0.09392897452937919,-0.07472603035215122,-0.08021096338392616,-0.08368571573412854,-0.09231874117382102,-0.07757691564030429,-0.08825983543717036,-0.1526442195589639,-0.11289520022377073,-0.04432231573253091,-0.10711396396884812,-0.13790319737179518,-0.058475920080175665,0.022108356654493806,-0.01413106375219173,-0.06025141419288406,-0.0427048879836165,-0.054944547228750654,-0.055738747294387575,-0.0692182801447417,-0.038071254261339935,-0.05439769694121953,-0.05974104546615466,-0.048869684467337395,-0.0556597416260817,-0.05140330699853086,-0.027454579441847725,-0.07352630285042451,-0.038190152328177386,-0.040139370599519233,-0.046763208108319805,-0.05140330699853086,-0.0641416117082743,-0.07352630285042451,-0.04065315664125632,-0.04658295917841012,-0.06792678407326654,-0.06041960601013421,-0.05572295739628572,-0.07343142937188206,-0.044840163814629026,-0.04187386255092426,-0.022449541956419947,-0.060636388246635094,-0.05792610236502636,-0.06102359648061147,-0.04143248880976708,-0.05623988462459668,-0.062300251739325914,-0.04824390862559706,-0.03351833769931175,-0.025903458031248786,-0.06885815289602418,-0.07577057680645313,-0.05150876698336151,-0.05581363879776198,-0.051466444741176114,-0.04328262164609914,-0.06590711901291693,-0.048228566987035426,-0.07035226122249076,-0.054688703996371595,-0.05664371452748657,-0.07570112939440027,-0.07570112939440027,-0.05829112736276658,-0.056154923184871655,-0.048341117858770405,-0.031929147411631005,-0.04935431676903757,-0.08159902889711729,-0.06958025025246117,-0.04108655541666252,-0.04001480672547852,-0.06207830780406469,-0.0627071680949708,-0.03868440249682974,-0.046182725225170855,-0.10004036659523162,-0.05398705016666369,-0.06486816293824921,-0.05460350208926404,-0.025380932239138936,-0.08052342235029994,-0.08061069969633484,-0.05116535825499758,-0.07718223703459251,-0.057871160474470607,-0.04823986849980927,-0.1031421463604987,-0.035940955272870355,-0.029678006821777982,-0.04722059708692046,-0.07996797189004888,-0.0720428091621178,-0.04186928028083099,-0.07214201503946246,-0.06632906251037474,-0.032340235363714324,-0.05100219038348024,-0.0276230935757977,-0.060934182215828386,-0.020833533365131284,-0.062122100471654396,-0.03779193041133872,-0.07889405333447227,0.017133813991442894,-0.0317865979627336,-0.06333171520898721,-0.04156156215530654,-0.06663111084367401,-0.048117220385466834,-0.04980357618941653,-0.029131303627509923],\"xaxis\":\"x\",\"y\":[0.10355783040190109,0.12855969712450788,0.13498096419711417,0.15751507688375754,0.07053450100588249,0.03478123290060038,0.17066528357797053,0.24020658892388605,0.11541810894869209,0.10872534653563158,0.11736816016763355,0.04879922796751102,0.1301246754447731,0.17692880936182417,0.13531944240496832,0.10872534653563158,0.15775072934421866,0.13101244114630964,0.11148996198280468,0.1529968596938687,0.15872637035150455,0.13619531607997448,0.16112587929955685,0.10385969472880448,0.07719817451010265,0.20821085765585765,0.15878952420727832,0.1360888524822674,0.08943871086164824,0.0838564975976414,0.0967998135815414,0.12565034702015435,0.12038160501732129,0.11331367716467708,0.15311210360726282,0.11294619586231941,0.13850038746613605,0.13364964169207272,0.1506726075828085,0.16403125148616932,0.08911314751499982,0.13702314310020594,0.15016414969796613,0.0860037630192382,0.15609633585467556,0.101490789660417,0.1317569569141398,0.29481175191110787,0.15611195725963284,0.08157037330459431,0.24981679643861077,0.08371411620767061,0.11826953095372594,0.08483589510987777,0.12860533525766776,0.1854462887976213,0.10184468458722419,0.05048402205482179,0.11179186528765057,0.10787572069039046,0.15311210360726282,0.10400488556565812,0.09756505506147642,0.12031548122949583,0.0975826297774941,0.10333510451231044,0.11295070178472214,0.22073510056560802,0.12436871426719434,0.056530126525410375,0.1519618069175954,0.1797465397580984,0.11550876328468776,0.0381418027402276,0.0017408170256260583,0.05186210174099636,0.07802697725906427,0.10541204305402792,0.048289614251965575,0.06949283007890594,0.08913242266303298,0.08608606738285692,0.07896501099671673,0.09592892357756413,0.07993109036896513,0.11608461599543558,0.033243547613245605,0.05496216380574793,0.0871435227193702,0.09606112466643348,0.0878408298740466,0.11608461599543558,0.0514756247121263,0.05496216380574793,0.08937428037102874,0.10617763011646267,0.14258987828873562,0.059910232233938716,0.06580775522310683,0.11748199933842784,0.03119940097428665,0.0966675013257018,0.0749542447315851,0.11579735712757253,0.03888318409448135,0.10767967290346765,0.059448412318149076,0.07152619082418704,0.0926345137193543,0.07232355856726409,0.03599469341652979,0.041982859542469324,0.1358288455072358,0.11946837151490526,0.10176290937236449,0.0486863174237793,0.06794390994360357,0.06687118382841938,0.09693041627009193,0.1057844470976722,0.059019667553487296,0.1393891876278291,0.07902952793895276,0.02211321429101425,0.02211321429101425,0.14591500410000224,0.03355433604931478,0.052741638940835035,0.0428970666490256,0.08014226446490322,0.15134151599402035,0.11062048435254428,0.07604136081068301,0.07385807295708381,0.09710071576295286,0.0630912107344735,0.012569684183802969,0.0935001974380862,0.14927814110749715,0.11403041323154435,0.08122486521279516,0.07489439966166961,0.036560513273824556,0.04478999607537252,0.044978543596836125,0.054211810841409504,0.11021260679210619,0.027093559325960328,0.08270753081983782,0.134736032181922,0.04516709809811499,0.03838449750161888,0.0783447294210865,0.036060805961034684,0.04727239346120478,0.06921907188240341,0.0640305767719559,0.04587704812520083,0.028586406909580454,0.0675593694127223,0.10613465727283708,0.07061770401160321,0.06841031074587572,0.07747963256135282,0.07596039798992904,0.07602251928911904,0.046998432664934454,0.06736077148289676,0.07948760093551828,0.10510495855317409,0.10873124858018345,0.052936435580701144,0.060185427404270485,0.07149339023011625],\"yaxis\":\"y\",\"type\":\"scatter\"},{\"hovertemplate\":\"kmeans_labels=1<br>x=%{x}<br>y=%{y}<extra></extra>\",\"legendgroup\":\"1\",\"marker\":{\"color\":\"#EF553B\",\"symbol\":\"circle\"},\"mode\":\"markers\",\"name\":\"1\",\"orientation\":\"v\",\"showlegend\":true,\"x\":[-0.00039145102964479954,0.11020931999568481,0.003042113843394756,0.014983815637732054,0.131475074567374,0.19127779474692896,0.13719035423630221,0.05714968469744382,0.06656297269473777,0.15144212508041416,0.1351037954673209,0.1286726481169689,0.10032073507013878,0.06058101109571569,0.08261301953507474,0.03042884433403558,0.03818689431167199,0.1578215197420641,0.19669250254883877,0.08507463247688206,0.15905990158559213,0.15235869006960145,0.16229012736453055,0.09144060562234553,0.062345207189616086,0.09352419426060132,0.1488352830383126,0.13542022687924635,0.18706126450291846,0.22286817235834458,0.10956437792822343,0.15621146588659154,0.21104487994167503,0.061962233820929066,0.040536494654199375,0.21172999496443876,0.03479820754862049,0.18256045730627743,0.27894415642041515,0.13890027669321678,0.04423974179434711,0.12274247729326723,0.12142224417495896,0.13723314893402042,0.23978392178677435,0.10407963631655258,0.13266962160789905,0.18318802136320558,0.09519479349539377,0.12650724110089287,0.11118798153574908,0.13410374845860176,0.2689377549228532,0.12772404946030466,0.07003246164680457,0.20726271270216595,0.10938373343493465,0.10407963631655258,0.14103438538079843,0.06399476820422402,0.10090892212168542,0.10405823828290153,0.15166025192298338,0.04719966343434084,0.2119222733867406,0.10306852927236908,0.04511191998542029,0.03886320389447281,0.119398098008698,0.14630759768399437,0.06719972927659659,0.08640151799823026,0.058795199311829735,0.057303260319780065,0.053344875019331287,0.09023803675499417,0.057684990642172904,0.1729980502157596,0.09533623876177177,0.11906118442504797,0.17185850209814899,0.20445864936013936,0.11878756514938862,0.051304687788089054,0.1764491138570646,0.10939819768477609,0.05793796832588609,0.06601974000618423,0.09399430517204078,0.16273566538229295,0.13223232678857164,0.13190270099877732,0.1298110557842754,0.11253682146269614,0.035601131202893224,0.04507152106087423,0.08219485175533064,0.18420933998206532,0.063807885474294,0.0523712218079623,0.13016345423611267,0.13855908779220585,0.09668634511562213,0.1103452768252037,0.11742744297712837,0.14386443105621577,0.18068695116166084,0.15126130121099496,0.26276523179816236,0.1515021258381943,0.1519036011496519,0.09519479349539377,0.11912374521061195,0.11920277755171535,0.03629793019749243,0.12711210894603028,0.06978675111314708,0.22525417520240468,0.14051587669552038,0.22355932865510894,0.1245100437883549,0.13734287912204723,0.08029632261550976,0.046102089275265004],\"xaxis\":\"x\",\"y\":[0.024815220951883224,-0.04193760664692027,-0.02024546555393015,-0.11222535903994044,-0.18052341903297134,-0.20489235563076522,-0.16539564050518937,-0.04929562255569677,-0.1032950298006959,-0.20132358341681703,-0.17710441369533567,-0.14552105319163092,-0.1294529925387794,-0.03393158735162557,-0.10268096940974449,-0.08582615842747156,-0.04005276070150087,-0.1596996413942021,-0.16117281560024832,-0.10723539351808915,-0.11346632913867835,-0.1580100876571296,-0.14665254487248205,-0.09957152259177773,-0.04831058825818574,-0.08050066380129085,-0.15831867023811,-0.09736422834331916,-0.12541101999137724,-0.11756778886840882,-0.1479236286815164,-0.11109399601561298,-0.1610909559430734,-0.12511563637333095,-0.06475094283451485,-0.1241193201889283,-0.05430413621184454,-0.08255797115507223,-0.21972782455681986,-0.17839170578272065,-0.11679578558310102,-0.07790776973617675,-0.0768522126946035,-0.14962273937246884,-0.13989810404560946,-0.0842836495528754,-0.08977201360500142,-0.15513132204725877,-0.08959800792862352,-0.15017436289095815,-0.09168091391425258,-0.1671072142180712,-0.09773280866559038,-0.12899007472452045,-0.06782972601718806,-0.18686192417323805,-0.10805420128929871,-0.0842836495528754,-0.11674483238053504,-0.10166178835455816,-0.11745156714545867,-0.12701429608485817,-0.15495032169303832,-0.024743927999752634,-0.1600710297239548,-0.11447339585306883,-0.01825947033484189,-0.08746171222944783,-0.09963494493031186,-0.14482429430530983,-0.11399113431482127,-0.14192941925868974,-0.09313866599364395,-0.12657777541077472,-0.042294448250000526,-0.1070569540365034,-0.05708533866743673,-0.09349292475852426,-0.017877007722578768,-0.08243185749481474,-0.06785302652756556,-0.15926035302159533,-0.07645044681132171,-0.09767725194451411,-0.0973098316154398,-0.05576610881375489,-0.021594898726544853,-0.06774456793132703,-0.03848754060771921,-0.14082933903618292,-0.09179538204220329,-0.09143799812290535,-0.08027325760971545,-0.06307218907902223,-0.08639738934301591,-0.09441677054881165,-0.003992772836288034,-0.18809901480421015,-0.013031425599646066,-0.08349284633706167,-0.11652161727623504,-0.12161526625264656,-0.1094651319136601,-0.04778288422680089,-0.1114758008712988,0.004809615017349871,-0.15755300665075683,-0.18870752353029566,-0.21718667580365403,-0.20108630311156228,-0.07613319972266049,-0.08959800792862352,-0.1425797418843153,-0.04853006246585778,-0.061187959423119505,-0.1333730630895269,-0.10616106293636507,-0.15930927951732132,-0.16181613330664105,-0.11747280477010107,-0.08312187818913441,-0.0741703425924131,-0.043561427961923034,-0.04335504168078157],\"yaxis\":\"y\",\"type\":\"scatter\"},{\"hovertemplate\":\"kmeans_labels=0<br>x=%{x}<br>y=%{y}<extra></extra>\",\"legendgroup\":\"0\",\"marker\":{\"color\":\"#00cc96\",\"symbol\":\"circle\"},\"mode\":\"markers\",\"name\":\"0\",\"orientation\":\"v\",\"showlegend\":true,\"x\":[-0.09139504578279448,-0.12047068167398324,-0.14084664673481398,-0.14567226383371254,-0.08599394060091299,-0.1510134447705534,-0.08938004542303572,-0.0548652799375764,-0.05805124562679322,-0.056509886728220556,-0.09430369060263116,-0.1125705710138825,-0.12700335343922467,-0.05493623726047212,-0.12117059450986555,-0.12806394565019177,-0.14342868036449394,-0.13531807561315068,-0.13042389147970046,-0.14639515613477702,-0.1278278273910538,-0.05493623726047212,-0.13197308853007308,-0.07008430772194288],\"xaxis\":\"x\",\"y\":[0.15397270693695825,0.3316891399911307,0.334125534487842,0.33467313713007873,0.1799180259415241,0.3369423839334114,0.16908156710125394,0.12895985659633505,0.12274365209749939,0.079310656118487,0.15979032961225959,0.2589112493325765,0.3036269350976524,0.1344231043983309,0.32261677227183266,0.34414701782805635,0.31479688127968175,0.3271639723943676,0.27814293523127603,0.343112841865049,0.3381921394945007,0.1344231043983309,0.30849891928968354,0.1340856944868776],\"yaxis\":\"y\",\"type\":\"scatter\"},{\"hovertemplate\":\"kmeans_labels=3<br>x=%{x}<br>y=%{y}<extra></extra>\",\"legendgroup\":\"3\",\"marker\":{\"color\":\"#ab63fa\",\"symbol\":\"circle\"},\"mode\":\"markers\",\"name\":\"3\",\"orientation\":\"v\",\"showlegend\":true,\"x\":[-0.05930998594372629,-0.022670870162294268,-0.06300019572861501,0.03105212204284629,-0.026194220408709775,-0.033546395128314956,0.02843909176043663,-0.046936971508149926,-0.1134818988910851,-0.08366626819071117,-0.09680081100567567,0.073034510140353,-0.03374646405559554,-0.07624347857323442,-0.19870633102784743,-0.10033946335823728,-0.12689200199363035,-0.006176609390365763,-0.01646850635741581,-0.011347178643143413,-0.002004036433164633,-0.0051110546695687376,-0.05500661524689772,-0.123305247280738,-0.17117830936816783,-0.004622991215718748,-0.04148393940171121,-0.03792566738907344,-0.04711237599859757,-0.05171212586904131,-0.13819459565938405,-0.023972485427461467,-0.011138376591050506,-0.171300133720428,-0.10724020287235121,0.004921909138939389,-0.06748838817907608,-0.13754353901526212,-0.06451312649516423,-0.017081081937962407,0.01651454532774413,0.006887924645887415,-0.05992278268852532,-0.043189471931851096,0.021775449640561537,-0.0313170873436166,-0.05997306133558436,-0.07743078911631436,-0.06601005441043092,-0.06388182632007104,-0.10998387449386082,-0.14857822358034126,-0.04874487910727248,-0.0564128138434259,-0.08698091050004242,-0.02429094277851028,-0.026942256480378596,-0.04027983225205448,-0.053977444808820954,-0.047621481083658344,-0.047506431220495506,-0.05528225143535099,-0.10665636572391402,-0.060672375628531755,-0.12694321969674913,-0.08860419289887918,-0.07398154580978118,-0.1131161042217996,-0.0966679839672566,-0.18491702407733848,-0.055129119833756846,-0.08306104310445679,-0.050146623329720086,-0.0708053722387724,-0.05943267699995712,-0.08767850733195304,-0.06603218341851597,-0.11003474887166668,-0.1324929838090965,-0.20222437173488875,-0.08615204805180768,-0.033323176523363855,-0.0756940722446804,-0.008566884505198874,-0.12734826690845213,-0.07638604905770377,-0.07531552227136928,-0.18262938167406534,-0.08676303142348717,-0.05183111913753052,-0.07300031240937858,-0.13047188551045769,-0.13047188551045769,-0.14947860081740572,-0.11766760650629213,-0.03602935241706097,-0.07998136220354088,-0.07813395814068065,-0.10667317297771374,-0.07570144896038268,-0.03837550439521936,-0.09001403185868785,-0.10604202208850724,-0.05026344386738184,-0.07607467229868096,-0.11798773406630107,-0.0997245282712613,-0.11959185067823352,-0.14088274596014982,-0.06868290507560083,-0.12776655427061342,-0.051199788363289124,-0.07089619049151451,-0.04927482994016026,-0.05948275612017486,-0.11685833189969347,-0.04541464381365868,-0.054462458239908376,-0.1630371300295089,-0.04033454873766072,-0.11224896549260314,-0.03180871241633599,-0.025520203448779113,-8.553616284039881e-05,-0.03244580716968527,-0.021962525267424676,-0.17504647108361285,0.017013930527340078,-0.06173166281997493,-0.05153848963666199,-0.046396145431612384,-0.09490803429554041,-0.020912160641922195,0.005095745688351663,-0.038920680560021646,-0.11313206880841892,-0.11357792603459842,-0.060506910029396156,-0.05452748262756235,-0.1323684030820354,-0.032557054422125184,-0.05761382225326754,-0.06948652577086543,-0.13099523433434448,-0.10568202918538774,-0.11639377625541365,-0.09555496577281512,-0.13094771049830675,-0.01800743630297754,-0.06382626279952876,-0.10084517403131832,-0.19356396335165274,-0.06320834524145912,-0.05288677014541991,-0.11614125229806044,-0.05114223055493978,-0.09787215786210532,-0.07203705293313524,-0.05690581368513105,-0.07889835704271486,-0.14643177941127367,-0.044533290014179924,-0.11365582502437423,-0.14643177941127367,-0.06708913422175371,-0.06848685250586484,-0.06848685250586484,-0.09293093550379967,-0.06937478396780775,-0.06026250142831042,-0.05177137505640221,-0.036201333578302596,-0.0601731783935055,-0.08722805958662647,-0.1333971838149537,-0.07239958264070871,-0.04074060282858088,-0.04014323592656477,-0.0603110489553801,-0.07182556394693294,-0.15653935061870264,-0.07457380382927797,-0.16986679600146842,-0.09026774140208321,-0.05517929575455469,-0.04013522176037668,-0.061868665379254784,-0.08170045407965836,-0.1283904160109591,-0.08670352730375396,-0.09575499670609662,-0.07991570205925459,-0.16116363318612914,-0.15688009516423987,-0.11921131221031689,-0.07901466310291812,-0.07268244382519398,-0.05907294489334734,0.0051444351904794475,-0.03685611656188509,-0.10091519633251536,-0.07665601709340572,-0.06761856818871312,-0.0536136350237638,-0.1956858801857143,-0.055158608808970465,-0.06537106380555865,-0.07698316440582419,-0.04279022803273027,-0.20006148475592456,-0.052049154201261515,-0.14455996806183985,-0.08366626819071117,-0.06643350986884684,-0.07778099606038176,-0.035400800184991324,-0.04748054965662321,-0.12161235746470447,-0.07008254365565156,-0.03019801133384586,-0.05994499366595678,-0.02294342929613528,0.002474458591410576,-0.13373014740650568,-0.005735212030225909,-0.1006074649958295,-0.03261765781762857,-0.042245262466918995,-0.09710513523589005,-0.032396720779176054,-0.08204575723475542,-0.1814017965811099,-0.12597646435206244,-0.0868382532141331,-0.09162860775315036,-0.060315213736480564,-0.04871814786995992,-0.024591997868123217,-0.0893101824253656,-0.06683077210921518,-0.18563307078759186,-0.11396194018343501,-0.12269780994787861,-0.06403024108923741,-0.17258829119348051,-0.0805057077295794,-0.1301016711315564,-0.0758332241939622,-0.025440082930185588,-0.045443236340325814,-0.05801300149575221,-0.14919574076003905,-0.07927712013077341,-0.12632349552600136,-0.07920222523360367,-0.04088639701302524,-0.039936465868262654,-0.05491981128688209,-0.10138141453022531,-0.00946847868575473,-0.051745718503800775,-0.08301450171738602,-0.02172874341800927,-0.09828780455232565,-0.06481319822149717,-0.03564905283373864,-0.0028968959427430646,0.03999374787626774,0.009767979568687031,0.027287305151366983,-0.008923193103819232,-0.007448906806566845,0.025353435931992494,0.03653369383873341,-0.024852143027838777,0.0041791828076594454,-0.0020418472682457956,0.02501089052700151,-0.016509128711296128,0.021180067502830222,0.06374498991640737,0.015162978691126915,0.044649067616582876,0.02236602142843677,0.0021053379054295925,-0.055063780790188546,-0.053881558537548294,0.028898258511591984,0.027150353403534902,-0.04070157238402672,-0.0021702408596213055,-0.031238958670776924,-0.021912573634975386,-0.04799596490504401,-0.06652292539570474,-0.04874415775887379],\"xaxis\":\"x\",\"y\":[0.06557396995855162,0.01322751699214613,0.01760311321506983,0.008229255272680163,0.06434789157775923,0.06280981454434557,-0.004373474063244481,-0.08551296278793237,-0.11568379971469583,-0.06952158593062774,-0.06790957030680822,-0.06198284670402227,-0.009071734131948485,-0.09484380198316905,-0.21802868804332975,-0.11989267357636477,-0.16648389218401421,-0.05622435765143781,-0.04596425357650631,-0.042952371168616575,-0.027140950773001483,-0.018046302428718835,-0.058294878399935815,-0.1992545574860398,-0.1704953877738713,-0.04519567677657358,-0.04319823053847838,-0.10391009323969337,-0.033454044985218645,-0.015489951615568296,-0.12697576297654542,-0.12860556962973138,-0.07941274488658592,-0.1702211174563985,-0.1219055308273995,-0.07062178984635858,-0.03290698027391808,-0.142248505646227,-0.07848688334220714,-0.014349775837608113,-0.04274156343909186,-0.04918894347070541,-0.009007450302783089,0.014860714907405839,-0.00984796292297207,-0.020355025975307143,0.036751910238281185,-0.07442694318022691,-0.057951383032299256,-0.08271212618517819,-0.1012143696934369,-0.17332165139294145,-0.1425282453598953,-0.03396169447070094,-0.08137594537846413,-0.05161176555401002,-0.018765997101292165,-0.031620343445926555,-0.007451538982755773,0.00633730989630463,-0.08585947954739996,-0.11045985801683596,-0.11049232304399018,-0.013254405528279537,-0.08878192275639557,-0.11317019397705651,-0.07758290143844934,-0.11376556167533367,-0.0693810047249151,-0.24139330607043344,-0.11241063941123586,-0.057184679426658475,-0.05818028645531073,-0.07283685465630259,-0.028316511599799508,-0.07377933225121165,-0.035025918804417334,-0.09052507541506577,-0.08538964577616394,-0.1826724408330619,-0.005964237872724075,-0.005041861916525625,-0.06802275368558854,0.013662872458656817,-0.081493074993861,-0.01886632376155514,-0.07476499314313195,-0.16534757390989027,-0.06488958252123422,-0.062443613428285916,-0.10417874083964837,-0.14150997950027266,-0.14150997950027266,-0.15587558228052326,-0.12272553521661682,-0.03895847143174263,-0.06127402159971903,-0.04755578302483316,-0.08020314959148687,-0.05997450301025445,-0.005958563009011373,-0.09574607908472364,-0.05598712216760656,-0.013178424445163607,-0.06938600884403436,-0.10494660679372238,-0.06982131037972804,-0.09717782813823367,-0.001036901795204401,-0.0890398776199844,-0.050646127749255775,-0.021005842615478786,-0.01683814362571866,0.0045817655740982,-0.06729015889596039,-0.08671017881974427,-0.02564918376741836,-0.07619547242816012,-0.17245620272860046,-0.00554239296803048,-0.06932813871796926,-0.04696202354942035,-0.007780791673774537,0.010138681101166573,-0.07639221876059868,-0.08135273091604418,-0.20005063847668603,-0.006456842139205527,-0.03002826337923714,-0.041743595753351626,-0.06739983311570809,-0.13560444928184714,0.011178461078785262,0.0003436147438848153,-0.05571805795010122,-0.12257633310227171,-0.14444949869945814,-0.06903064026933568,-0.02633295540736344,-0.14894860844034008,-0.05581406973722933,-0.03387541459833411,-0.0040434845264583005,-0.1498840515397462,-0.15931505754335407,-0.09420808430520118,-0.11976064628349987,-0.13229123209143012,-0.05337714518873217,0.04308284220426992,-0.0889381188058788,-0.1976667571013628,-0.050539482838272864,-0.037203568223009666,-0.13660662235020787,-0.06686706090629108,-0.11089074751359658,-0.035219390126097115,-0.06452760681445868,-0.0397966044819862,-0.1669523537462399,0.0017241453947380648,-0.09190112710358654,-0.1669523537462399,-0.05491860148363801,-0.014334130277690415,-0.014334130277690415,-0.09686564911635746,-0.0650053658287308,-0.03259883909857878,-0.001260938729177508,-0.05198960279331453,-0.03350304182731865,-0.028967567814344435,-0.10600975390811113,-0.0922733201224254,-0.08677343266645518,-0.06583887164945255,-0.0717196252155851,0.01817048762093952,-0.0942109259721309,-0.04772727641839622,-0.19751306665208754,-0.06681845773437778,-0.030777514045505237,-0.02039766921556978,-0.09007577641441421,-0.06357878366524414,-0.13702599626913417,-0.12923347367912855,-0.1113421474493027,-0.11864588116704418,-0.13172034513308706,-0.19396378571922124,-0.16890399905931788,-0.09029403611354712,-0.0926206944035752,-0.033798955978126995,-0.037634869332800074,0.005363347187792286,-0.14928735665030496,-0.17759384121522775,-0.1498743232829077,-0.0621184222220189,-0.2482281766567328,-0.07302652293590121,-0.06577468763618544,-0.11706023444071711,-0.027001807344811262,-0.21810306014301625,-0.04311823064219976,-0.17250594236704767,-0.06952158593062774,-0.12626952917532328,-0.12806958133865026,-0.02955379229802401,-0.05579947781787098,-0.13718519517717565,-0.0914480660308077,-0.010889228399294392,-0.06186722351741423,-0.010165946511418856,0.009024738383152495,-0.18641676084567077,-0.05294477578377015,-0.06314879836731704,-0.0004001892433204686,-0.00838450239766155,-0.11883015138077177,-0.012840042745842793,-0.058186065550606264,-0.18853714184413495,-0.10153028731673855,-0.05741160442425647,-0.06475854435778046,-0.038679960530523604,-0.014862794071784681,-0.08414941144776462,-0.0927031733788278,-0.08477775734571222,-0.16906033069437723,-0.13195484134929963,-0.10797556063327846,-0.024345908569766685,-0.20342337243873185,-0.03522063948849653,-0.11490502408761583,-0.06437068289455868,-0.07014510050661145,0.023444057163558706,-0.09682451552434382,-0.1524969926845121,-0.09445017918465863,-0.12246228812772468,-0.0948312844618947,-0.053483360836748255,-0.010862681377124983,0.023122090595136726,-0.00677195981972973,0.030860798517174628,-0.04363495504903328,-0.11120805046632791,-0.02296761513315359,-0.10854712840147532,-0.028429497644853148,-0.02234297366029052,-0.021075023694921854,-0.04243749359563399,-0.05586413852741895,-0.0981672608197283,-0.01260542623018824,0.01927367978975388,0.00664823040407386,0.007964637099231505,-0.026539601805375623,-0.026001964418906634,-0.05028722276537761,-0.027291666795214282,-0.02497464037921604,-0.008124098205327139,-0.0187831980200511,-0.016244197019612907,0.0084130621392449,-0.08099431893567767,-0.07236647119344278,-0.03058622700653493,-0.03162194965188317,-0.025763974861123584,-0.019626064476480784,-0.05773753376045618,-0.06513530271662005,-0.055032998371906144,-0.07852100680167501,-0.04066741128345934,0.011550734383203651,0.013671634999867564],\"yaxis\":\"y\",\"type\":\"scatter\"},{\"hovertemplate\":\"kmeans_labels=2<br>x=%{x}<br>y=%{y}<extra></extra>\",\"legendgroup\":\"2\",\"marker\":{\"color\":\"#FFA15A\",\"symbol\":\"circle\"},\"mode\":\"markers\",\"name\":\"2\",\"orientation\":\"v\",\"showlegend\":true,\"x\":[0.2533584824452883,0.2141544170660787,0.22600274460322273,0.21753010066315148,0.11985503211475769,0.13985354029265684,0.12124980214007011,0.1064500032385332,0.149495653017514,0.1016492319253593,0.12017893014243411,0.05250966592115203,0.3133509656774881,0.06330921486502797,0.20980645359132286,0.03219976264606484,0.06163280033912787,0.1488761428378602,0.22548999334534317,0.17597637927395382,0.06163280033912787,0.18919808574118563,0.13952342216547695,0.16208869618764898,0.0727186801568212,0.2149176294039015,0.23013896383320456,0.21141161871988962,0.139698013339386,0.10522251327242857,0.25219227835181124,0.16208869618764898,0.0727186801568212,0.19228392291450044,0.0928454635892723,0.11191587269762164,0.08187754677651035,0.16462773400908218,0.11107513942774529,0.18270475190735588,0.1294610914192982,0.24583287565794382,0.25079640192008484,0.2143571528660982,0.2628589765249923,0.16637231537392339,0.06130876248786615,0.19766923319054164,0.13304662479986282,0.18824591765824086,0.26574350429250254,0.26625520068784286,0.23025336227726814,0.12788622467473906,0.22397701075673038,0.11949923750367644,0.05634318946775099,0.20610744821603494,0.16754413292297826,0.16741983769459362,0.2296786942078331,0.29789849218679737,0.2087590603065333,0.1575824465540135,0.12858032590038024,0.19265278489384133,0.3710506393343063,0.1307724701569198,0.2574426147852465,0.34176760889418567,0.15525574224703206,0.3049732180218549,0.24928504595877085,0.351347133741568,0.1959497636156322,0.16893248878208764,0.06191236878357947,0.18958723169310993,0.2468630328890604,0.17387114612874457,0.27551331481968966,0.3269014475347868,0.32741051679925276,0.10468687413218838,0.2663974121947744,0.27973990380700403,0.2830297496505458,0.2770024773508976,0.13888098283706155,0.08980254537662422,0.20735194950202718,0.031061208800060615,0.14530448562272724,0.1769495546384141,0.11099701553537918,0.17793118194490398,0.10026137512001285,0.16851139490928954,0.08756373751834548,0.01733360954152713,0.08967133023672844,0.09370682013325508,0.06739996196198816,0.0471118562824118,0.20530567979591421,0.03893711176630156,0.2861522843810289,0.20410379666438933,0.1137172488743238,0.1661831011648592,0.12964029111486927,0.10114677571277782,0.2086333946317444,0.11362910056296179,0.23114150835183989,0.10358725509732389,0.134805790615984,0.08431100704384067,0.11963264463064371],\"xaxis\":\"x\",\"y\":[0.11963346402676996,0.057182296851713124,0.09685635000113609,0.17723539991082085,0.008898574500735088,0.028652222458676612,0.10666050667942151,0.07342231869473641,0.14629625748463052,0.059799364842103284,0.10358461352452843,-0.006126135862102964,0.0716296591780033,0.028369497962385574,0.07593747822167468,0.0019058341244698955,0.06390570061002919,0.04699102725119988,0.06507084409120124,0.03184665105110591,0.06390570061002919,0.17102693162661006,0.10988582125525896,0.13983351808355085,0.11235858903284619,0.17286139440137296,0.09085483375667723,0.13345843721236106,0.10960898186399348,0.03177588096399166,0.0744548489482986,0.13983351808355085,0.11235858903284619,0.17591554079210828,0.07623827311605653,0.04333180440941813,0.09403647678639372,0.09449066552027521,0.06083775311365116,0.0413002794309064,0.12281940538617908,0.030862626119303484,0.05991413481342704,0.1626531259892196,0.17566730469462757,0.09036251487667582,0.07768748881191415,0.034922122626660945,0.07007783457643252,0.05030157148225909,0.11447497955509708,0.11555230440349985,0.15633311044945888,0.11097910089399726,0.1113331045928393,0.10164228783795598,0.08025354038408201,0.11298174729026482,0.16173802751149596,0.16123616555349496,0.16612022967720894,0.017334005109886006,0.05453573822064756,0.15459409611831615,0.07720722980006937,0.026939874079826537,0.06905570309893669,0.028451683280557395,0.20651320776226775,0.016527943302366087,0.09844847153153054,0.07110235208237474,0.20316434357190288,0.06683871489584593,-0.000245198224807594,0.13858968645247316,0.059516681966941314,0.03880044081198954,0.060243366377797904,0.12929652679202613,0.1788480557054719,0.06348703918500027,0.06610915722002547,0.0967125603847014,0.21439640361548326,0.20454039212777403,0.20613799943422945,0.01889698546548279,0.11328418466365694,0.050480015555899274,0.06025560767589768,0.0701262499035653,0.015834018941349576,0.028754251751611115,-0.01920933956389037,0.1278434829917727,0.0541365970510638,0.13649356867672163,0.07625235428420082,0.06484265858621703,0.06621247097414443,0.12289996963031109,0.06437895591204074,0.05711362882087851,0.031409917706551084,0.011833859552140369,0.02229286130658727,0.12200836934537394,0.10730792068908801,0.11738904633010305,0.12315722895553603,0.07398068443225865,0.02744181030338417,0.04957813203997981,0.021561349702934305,0.07468675221934108,0.1033261869108703,-0.002153623968749724,0.08178005923035563],\"yaxis\":\"y\",\"type\":\"scatter\"}],                        {\"template\":{\"data\":{\"histogram2dcontour\":[{\"type\":\"histogram2dcontour\",\"colorbar\":{\"outlinewidth\":0,\"ticks\":\"\"},\"colorscale\":[[0.0,\"#0d0887\"],[0.1111111111111111,\"#46039f\"],[0.2222222222222222,\"#7201a8\"],[0.3333333333333333,\"#9c179e\"],[0.4444444444444444,\"#bd3786\"],[0.5555555555555556,\"#d8576b\"],[0.6666666666666666,\"#ed7953\"],[0.7777777777777778,\"#fb9f3a\"],[0.8888888888888888,\"#fdca26\"],[1.0,\"#f0f921\"]]}],\"choropleth\":[{\"type\":\"choropleth\",\"colorbar\":{\"outlinewidth\":0,\"ticks\":\"\"}}],\"histogram2d\":[{\"type\":\"histogram2d\",\"colorbar\":{\"outlinewidth\":0,\"ticks\":\"\"},\"colorscale\":[[0.0,\"#0d0887\"],[0.1111111111111111,\"#46039f\"],[0.2222222222222222,\"#7201a8\"],[0.3333333333333333,\"#9c179e\"],[0.4444444444444444,\"#bd3786\"],[0.5555555555555556,\"#d8576b\"],[0.6666666666666666,\"#ed7953\"],[0.7777777777777778,\"#fb9f3a\"],[0.8888888888888888,\"#fdca26\"],[1.0,\"#f0f921\"]]}],\"heatmap\":[{\"type\":\"heatmap\",\"colorbar\":{\"outlinewidth\":0,\"ticks\":\"\"},\"colorscale\":[[0.0,\"#0d0887\"],[0.1111111111111111,\"#46039f\"],[0.2222222222222222,\"#7201a8\"],[0.3333333333333333,\"#9c179e\"],[0.4444444444444444,\"#bd3786\"],[0.5555555555555556,\"#d8576b\"],[0.6666666666666666,\"#ed7953\"],[0.7777777777777778,\"#fb9f3a\"],[0.8888888888888888,\"#fdca26\"],[1.0,\"#f0f921\"]]}],\"heatmapgl\":[{\"type\":\"heatmapgl\",\"colorbar\":{\"outlinewidth\":0,\"ticks\":\"\"},\"colorscale\":[[0.0,\"#0d0887\"],[0.1111111111111111,\"#46039f\"],[0.2222222222222222,\"#7201a8\"],[0.3333333333333333,\"#9c179e\"],[0.4444444444444444,\"#bd3786\"],[0.5555555555555556,\"#d8576b\"],[0.6666666666666666,\"#ed7953\"],[0.7777777777777778,\"#fb9f3a\"],[0.8888888888888888,\"#fdca26\"],[1.0,\"#f0f921\"]]}],\"contourcarpet\":[{\"type\":\"contourcarpet\",\"colorbar\":{\"outlinewidth\":0,\"ticks\":\"\"}}],\"contour\":[{\"type\":\"contour\",\"colorbar\":{\"outlinewidth\":0,\"ticks\":\"\"},\"colorscale\":[[0.0,\"#0d0887\"],[0.1111111111111111,\"#46039f\"],[0.2222222222222222,\"#7201a8\"],[0.3333333333333333,\"#9c179e\"],[0.4444444444444444,\"#bd3786\"],[0.5555555555555556,\"#d8576b\"],[0.6666666666666666,\"#ed7953\"],[0.7777777777777778,\"#fb9f3a\"],[0.8888888888888888,\"#fdca26\"],[1.0,\"#f0f921\"]]}],\"surface\":[{\"type\":\"surface\",\"colorbar\":{\"outlinewidth\":0,\"ticks\":\"\"},\"colorscale\":[[0.0,\"#0d0887\"],[0.1111111111111111,\"#46039f\"],[0.2222222222222222,\"#7201a8\"],[0.3333333333333333,\"#9c179e\"],[0.4444444444444444,\"#bd3786\"],[0.5555555555555556,\"#d8576b\"],[0.6666666666666666,\"#ed7953\"],[0.7777777777777778,\"#fb9f3a\"],[0.8888888888888888,\"#fdca26\"],[1.0,\"#f0f921\"]]}],\"mesh3d\":[{\"type\":\"mesh3d\",\"colorbar\":{\"outlinewidth\":0,\"ticks\":\"\"}}],\"scatter\":[{\"fillpattern\":{\"fillmode\":\"overlay\",\"size\":10,\"solidity\":0.2},\"type\":\"scatter\"}],\"parcoords\":[{\"type\":\"parcoords\",\"line\":{\"colorbar\":{\"outlinewidth\":0,\"ticks\":\"\"}}}],\"scatterpolargl\":[{\"type\":\"scatterpolargl\",\"marker\":{\"colorbar\":{\"outlinewidth\":0,\"ticks\":\"\"}}}],\"bar\":[{\"error_x\":{\"color\":\"#2a3f5f\"},\"error_y\":{\"color\":\"#2a3f5f\"},\"marker\":{\"line\":{\"color\":\"#E5ECF6\",\"width\":0.5},\"pattern\":{\"fillmode\":\"overlay\",\"size\":10,\"solidity\":0.2}},\"type\":\"bar\"}],\"scattergeo\":[{\"type\":\"scattergeo\",\"marker\":{\"colorbar\":{\"outlinewidth\":0,\"ticks\":\"\"}}}],\"scatterpolar\":[{\"type\":\"scatterpolar\",\"marker\":{\"colorbar\":{\"outlinewidth\":0,\"ticks\":\"\"}}}],\"histogram\":[{\"marker\":{\"pattern\":{\"fillmode\":\"overlay\",\"size\":10,\"solidity\":0.2}},\"type\":\"histogram\"}],\"scattergl\":[{\"type\":\"scattergl\",\"marker\":{\"colorbar\":{\"outlinewidth\":0,\"ticks\":\"\"}}}],\"scatter3d\":[{\"type\":\"scatter3d\",\"line\":{\"colorbar\":{\"outlinewidth\":0,\"ticks\":\"\"}},\"marker\":{\"colorbar\":{\"outlinewidth\":0,\"ticks\":\"\"}}}],\"scattermapbox\":[{\"type\":\"scattermapbox\",\"marker\":{\"colorbar\":{\"outlinewidth\":0,\"ticks\":\"\"}}}],\"scatterternary\":[{\"type\":\"scatterternary\",\"marker\":{\"colorbar\":{\"outlinewidth\":0,\"ticks\":\"\"}}}],\"scattercarpet\":[{\"type\":\"scattercarpet\",\"marker\":{\"colorbar\":{\"outlinewidth\":0,\"ticks\":\"\"}}}],\"carpet\":[{\"aaxis\":{\"endlinecolor\":\"#2a3f5f\",\"gridcolor\":\"white\",\"linecolor\":\"white\",\"minorgridcolor\":\"white\",\"startlinecolor\":\"#2a3f5f\"},\"baxis\":{\"endlinecolor\":\"#2a3f5f\",\"gridcolor\":\"white\",\"linecolor\":\"white\",\"minorgridcolor\":\"white\",\"startlinecolor\":\"#2a3f5f\"},\"type\":\"carpet\"}],\"table\":[{\"cells\":{\"fill\":{\"color\":\"#EBF0F8\"},\"line\":{\"color\":\"white\"}},\"header\":{\"fill\":{\"color\":\"#C8D4E3\"},\"line\":{\"color\":\"white\"}},\"type\":\"table\"}],\"barpolar\":[{\"marker\":{\"line\":{\"color\":\"#E5ECF6\",\"width\":0.5},\"pattern\":{\"fillmode\":\"overlay\",\"size\":10,\"solidity\":0.2}},\"type\":\"barpolar\"}],\"pie\":[{\"automargin\":true,\"type\":\"pie\"}]},\"layout\":{\"autotypenumbers\":\"strict\",\"colorway\":[\"#636efa\",\"#EF553B\",\"#00cc96\",\"#ab63fa\",\"#FFA15A\",\"#19d3f3\",\"#FF6692\",\"#B6E880\",\"#FF97FF\",\"#FECB52\"],\"font\":{\"color\":\"#2a3f5f\"},\"hovermode\":\"closest\",\"hoverlabel\":{\"align\":\"left\"},\"paper_bgcolor\":\"white\",\"plot_bgcolor\":\"#E5ECF6\",\"polar\":{\"bgcolor\":\"#E5ECF6\",\"angularaxis\":{\"gridcolor\":\"white\",\"linecolor\":\"white\",\"ticks\":\"\"},\"radialaxis\":{\"gridcolor\":\"white\",\"linecolor\":\"white\",\"ticks\":\"\"}},\"ternary\":{\"bgcolor\":\"#E5ECF6\",\"aaxis\":{\"gridcolor\":\"white\",\"linecolor\":\"white\",\"ticks\":\"\"},\"baxis\":{\"gridcolor\":\"white\",\"linecolor\":\"white\",\"ticks\":\"\"},\"caxis\":{\"gridcolor\":\"white\",\"linecolor\":\"white\",\"ticks\":\"\"}},\"coloraxis\":{\"colorbar\":{\"outlinewidth\":0,\"ticks\":\"\"}},\"colorscale\":{\"sequential\":[[0.0,\"#0d0887\"],[0.1111111111111111,\"#46039f\"],[0.2222222222222222,\"#7201a8\"],[0.3333333333333333,\"#9c179e\"],[0.4444444444444444,\"#bd3786\"],[0.5555555555555556,\"#d8576b\"],[0.6666666666666666,\"#ed7953\"],[0.7777777777777778,\"#fb9f3a\"],[0.8888888888888888,\"#fdca26\"],[1.0,\"#f0f921\"]],\"sequentialminus\":[[0.0,\"#0d0887\"],[0.1111111111111111,\"#46039f\"],[0.2222222222222222,\"#7201a8\"],[0.3333333333333333,\"#9c179e\"],[0.4444444444444444,\"#bd3786\"],[0.5555555555555556,\"#d8576b\"],[0.6666666666666666,\"#ed7953\"],[0.7777777777777778,\"#fb9f3a\"],[0.8888888888888888,\"#fdca26\"],[1.0,\"#f0f921\"]],\"diverging\":[[0,\"#8e0152\"],[0.1,\"#c51b7d\"],[0.2,\"#de77ae\"],[0.3,\"#f1b6da\"],[0.4,\"#fde0ef\"],[0.5,\"#f7f7f7\"],[0.6,\"#e6f5d0\"],[0.7,\"#b8e186\"],[0.8,\"#7fbc41\"],[0.9,\"#4d9221\"],[1,\"#276419\"]]},\"xaxis\":{\"gridcolor\":\"white\",\"linecolor\":\"white\",\"ticks\":\"\",\"title\":{\"standoff\":15},\"zerolinecolor\":\"white\",\"automargin\":true,\"zerolinewidth\":2},\"yaxis\":{\"gridcolor\":\"white\",\"linecolor\":\"white\",\"ticks\":\"\",\"title\":{\"standoff\":15},\"zerolinecolor\":\"white\",\"automargin\":true,\"zerolinewidth\":2},\"scene\":{\"xaxis\":{\"backgroundcolor\":\"#E5ECF6\",\"gridcolor\":\"white\",\"linecolor\":\"white\",\"showbackground\":true,\"ticks\":\"\",\"zerolinecolor\":\"white\",\"gridwidth\":2},\"yaxis\":{\"backgroundcolor\":\"#E5ECF6\",\"gridcolor\":\"white\",\"linecolor\":\"white\",\"showbackground\":true,\"ticks\":\"\",\"zerolinecolor\":\"white\",\"gridwidth\":2},\"zaxis\":{\"backgroundcolor\":\"#E5ECF6\",\"gridcolor\":\"white\",\"linecolor\":\"white\",\"showbackground\":true,\"ticks\":\"\",\"zerolinecolor\":\"white\",\"gridwidth\":2}},\"shapedefaults\":{\"line\":{\"color\":\"#2a3f5f\"}},\"annotationdefaults\":{\"arrowcolor\":\"#2a3f5f\",\"arrowhead\":0,\"arrowwidth\":1},\"geo\":{\"bgcolor\":\"white\",\"landcolor\":\"#E5ECF6\",\"subunitcolor\":\"white\",\"showland\":true,\"showlakes\":true,\"lakecolor\":\"white\"},\"title\":{\"x\":0.05},\"mapbox\":{\"style\":\"light\"}}},\"xaxis\":{\"anchor\":\"y\",\"domain\":[0.0,1.0],\"title\":{\"text\":\"x\"}},\"yaxis\":{\"anchor\":\"x\",\"domain\":[0.0,1.0],\"title\":{\"text\":\"y\"}},\"legend\":{\"title\":{\"text\":\"kmeans_labels\"},\"tracegroupgap\":0},\"title\":{\"text\":\"K-means BBC Sport news\"}},                        {\"responsive\": true}                    ).then(function(){\n",
       "                            \n",
       "var gd = document.getElementById('73860872-ceda-45f4-af78-edb22cb2c851');\n",
       "var x = new MutationObserver(function (mutations, observer) {{\n",
       "        var display = window.getComputedStyle(gd).display;\n",
       "        if (!display || display === 'none') {{\n",
       "            console.log([gd, 'removed!']);\n",
       "            Plotly.purge(gd);\n",
       "            observer.disconnect();\n",
       "        }}\n",
       "}});\n",
       "\n",
       "// Listen for the removal of the full notebook cells\n",
       "var notebookContainer = gd.closest('#notebook-container');\n",
       "if (notebookContainer) {{\n",
       "    x.observe(notebookContainer, {childList: true});\n",
       "}}\n",
       "\n",
       "// Listen for the clearing of the current output cell\n",
       "var outputEl = gd.closest('.output');\n",
       "if (outputEl) {{\n",
       "    x.observe(outputEl, {childList: true});\n",
       "}}\n",
       "\n",
       "                        })                };                });            </script>        </div>"
      ]
     },
     "metadata": {},
     "output_type": "display_data"
    }
   ],
   "source": [
    "f = hero.scatterplot(df, 'pca', color='kmeans_labels', title=\"K-means BBC Sport news\", return_figure=True)"
   ]
  },
  {
   "cell_type": "code",
   "execution_count": 4,
   "id": "1e245249-27a4-4fa6-8be6-f56ec8e079ea",
   "metadata": {},
   "outputs": [],
   "source": [
    "text=\"### How many classes do each image have? .## images with defect(contain 3 type label) .* There are similar numbers of images with and without defects.\\n* class is imbalanced .# Let's visualization masks! .## images with defect(label: 4) .### Start Classification Process .## check image data\\n### image size .## images with defect(label: 1) .## images with defect(label: 2) .#### Augmentation functions in one place . Will use later . Not now .#### Images with normal mask and Ben's processing .## images with defect(contain multi label) .#### Multiple Images with Ben's preprocessing . Reference :http://faculty.neu.edu.cn/yunhyan/NEU_surface_defect_database.html\\n \\n In the Northeastern University (NEU) surface defect database, six kinds of typical surface defects of the hot-rolled steel strip are collected, i.e., rolled-in scale (RS), patches (Pa), crazing (Cr), pitted surface (PS), inclusion (In) and scratches (Sc). \\n #### At a first look it seems for our images : \\n1. Class 1 : Inclusion\\n2. Class 2: Pitted\\n3. Class 3 : Scratches \\n4. Class 4 : Patches . \\n\\n\\n\\nHowever I might be wrong :) . \\n![image.png](attachment:image.png)\\n\\n\\n .## Note : This Kernel is a Fork from the amazing Kernel below . So please upvote the original Kernel . I have started adding few information and preprocessing into this on my own . \\nhttps://www.kaggle.com/go1dfish/clear-mask-visualization-and-simple-eda .## images with defect(label: 3) .* All image have same shape, (1600, 256). .#### Start with binary classification here .## About The Competition : Detecting Steel Defect \\n\\nSteel is one of the most important building materials of modern times. Steel buildings are resistant to natural and man-made wear which has made the material ubiquitous around the world. To help make production of steel more efficient, this competition will help identify defects.\\n\\n\\nSeverstal is leading the charge in efficient steel mining and production. They believe the future of metallurgy requires development across the economic, ecological, and social aspects of the industry—and they take corporate responsibility seriously. The company recently created the country’s largest industrial data lake, with petabytes of data that were previously discarded. Severstal is now looking to machine learning to improve automation, increase efficiency, and maintain high quality in their production.\\n\\nThe production process of flat sheet steel is especially delicate. From heating and rolling, to drying and cutting, several machines touch flat steel by the time it’s ready to ship. Today, Severstal uses images from high frequency cameras to power a defect detection algorithm.\\n\\nIn this competition, you’ll help engineers improve the algorithm by localizing and classifying surface defects on a steel sheet.\\n\\nIf successful, you’ll help keep manufacturing standards for steel high and enable Severstal to continue their innovation, leading to a stronger, more efficient world all around us. .## import modules and define models .* almost image have no defect or one kind of defect\""
   ]
  },
  {
   "cell_type": "code",
   "execution_count": 1,
   "id": "84625096-da56-439e-a520-3b3e08179ac2",
   "metadata": {},
   "outputs": [],
   "source": [
    "import pke"
   ]
  },
  {
   "cell_type": "code",
   "execution_count": null,
   "id": "076ae9ff-1938-4a86-8736-2dc4bd746a8c",
   "metadata": {},
   "outputs": [],
   "source": []
  }
 ],
 "metadata": {
  "instance_type": "ml.t3.medium",
  "kernelspec": {
   "display_name": "Python 3 (Data Science)",
   "language": "python",
   "name": "python3__SAGEMAKER_INTERNAL__arn:aws:sagemaker:eu-central-1:936697816551:image/datascience-1.0"
  },
  "language_info": {
   "codemirror_mode": {
    "name": "ipython",
    "version": 3
   },
   "file_extension": ".py",
   "mimetype": "text/x-python",
   "name": "python",
   "nbconvert_exporter": "python",
   "pygments_lexer": "ipython3",
   "version": "3.7.10"
  },
  "widgets": {
   "application/vnd.jupyter.widget-state+json": {
    "state": {},
    "version_major": 2,
    "version_minor": 0
   }
  }
 },
 "nbformat": 4,
 "nbformat_minor": 5
}
